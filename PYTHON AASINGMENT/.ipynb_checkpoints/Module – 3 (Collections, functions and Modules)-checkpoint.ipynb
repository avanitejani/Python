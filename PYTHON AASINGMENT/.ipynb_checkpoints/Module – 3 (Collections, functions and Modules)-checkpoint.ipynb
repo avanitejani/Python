{
 "cells": [
  {
   "cell_type": "code",
   "execution_count": null,
   "id": "9079436c",
   "metadata": {},
   "outputs": [],
   "source": [
    "                             \n",
    "                                        #Module – 3 (Collections, functions and Modules)\n"
   ]
  },
  {
   "cell_type": "code",
   "execution_count": null,
   "id": "93e4c562",
   "metadata": {},
   "outputs": [],
   "source": [
    "#  1.  What is List? How will you reverse a list? \n",
    "ANS\n",
    "\n",
    "# What is List?\n",
    "# Lists are used to store multiple items in a single variable. Lists are one of 4 built-in data types in Python used to \n",
    "# store collections of data, the other 3 are Tuple, Set, and Dictionary, all with different qualities and usage.\n",
    "\n",
    "# How will you reverse a list? \n",
    "# In Python, a built-in function called reverse() is used to reverse the list. \n",
    "# This simple and quick way to reverse a list in Python requires little memory. \n",
    "# Syntax: list_name. reverse() Here, list_name means you have to write the list's name, which has to be reversed.\n"
   ]
  },
  {
   "cell_type": "code",
   "execution_count": 1,
   "id": "1a60f045",
   "metadata": {},
   "outputs": [
    {
     "name": "stdout",
     "output_type": "stream",
     "text": [
      "[2, 33, 222, 14]\n"
     ]
    }
   ],
   "source": [
    "#  2.  How will you remove last object from a list? Suppose list1 is [2, 33, 222, 14, and 25], what is list1 [-1]? \n",
    "\n",
    "#pop ([index]) \n",
    "\n",
    "list1=[2, 33, 222, 14, 25]    #-------pop ([index]) \n",
    "list1.pop()             \n",
    "print(list1)   #-----------------if index is not given then it removes last element\n",
    "\n",
    "# Here negative indexing starts from right end that means the index of 25 is -1"
   ]
  },
  {
   "cell_type": "code",
   "execution_count": null,
   "id": "82d7dfcc",
   "metadata": {},
   "outputs": [],
   "source": [
    "#  3.  Differentiate between append () and extend () methods? \n",
    "ANS      \n",
    "#   The append() method in the Python programming language adds an item to a list that already exists whereas\n",
    "#   The extend() method adds each of the iterable elements which is supplied as a parameter to the end of the original list."
   ]
  },
  {
   "cell_type": "code",
   "execution_count": 1,
   "id": "350facc2",
   "metadata": {},
   "outputs": [
    {
     "name": "stdout",
     "output_type": "stream",
     "text": [
      "how many element enterd in list :12\n",
      "Enter Value: 10\n",
      "Enter Value: 7\n",
      "Enter Value: 20\n",
      "Enter Value: 0\n",
      "Enter Value: 50\n",
      "Enter Value: 100\n",
      "Enter Value: 70\n",
      "Enter Value: 68\n",
      "Enter Value: -100\n",
      "Enter Value: -25\n",
      "Enter Value: -93\n",
      "Enter Value: 93\n",
      "[10, 7, 20, 0, 50, 100, 70, 68, -100, -25, -93, 93]\n",
      "largest number in list is :100 \n",
      "smallest number in list is :-100\n",
      "sum of all number in list is :200\n"
     ]
    }
   ],
   "source": [
    "#  4.  Write a Python function to get the largest number, smallest num and sum of all from a list. \n",
    "\n",
    "# list1=[10,7,20,0,50,100,70,68,-100,-25,-93,93] \n",
    "\n",
    "num=int(input(\"how many element enterd in list :\"))\n",
    "list1=[]     # -----create empty list\n",
    "for i in range(num):\n",
    "    value=int(input(\"Enter Value: \"))\n",
    "    list1.append(value)  #-------------------append method (element)  ----add element at last of list\n",
    "    \n",
    "print(list1)\n",
    "\n",
    "print(f\"largest number in list is :{max(list1)} \")   #-----------------baisi function of max() maths rule\n",
    "print(f\"smallest number in list is :{min(list1)}\")   #-----------------baisi function of max() maths rule\n",
    "print(f\"sum of all number in list is :{sum(list1)}\") #-----------------baisi function of max() maths rule\n"
   ]
  },
  {
   "cell_type": "code",
   "execution_count": null,
   "id": "1def8faa",
   "metadata": {},
   "outputs": [],
   "source": [
    "#  5.  How will you compare two lists? \n",
    "ANS\n",
    "\n",
    "# Python provides multiple ways to compare the two lists. Comparison is the process when the data items of are \n",
    "# checked against another data item of list, whether they are the same or not.\n",
    "\n",
    "# The methods of comparing two lists are given below.\n",
    "\n",
    "# The cmp() function\n",
    "# The set() function and == operator\n",
    "# The sort() function and == operator\n",
    "# The collection.counter() function\n",
    "# The reduce() and map() function\n",
    "\n"
   ]
  },
  {
   "cell_type": "code",
   "execution_count": 1,
   "id": "ffd3333e",
   "metadata": {},
   "outputs": [
    {
     "name": "stdout",
     "output_type": "stream",
     "text": [
      "Enter number :5\n",
      "Enter string : 3\n",
      "Enter string : 6\n",
      "Enter string : 6\n",
      "Enter string : 2\n",
      "Enter string : 1\n",
      "list1 is : ['3', '6', '6', '2', '1'] \n"
     ]
    }
   ],
   "source": [
    "#  6.  Write a Python program to count the number of strings where the string length is 2 or more and the \n",
    "#      first and last character are same from a given list of strings. \n",
    " \n",
    "list1=[]\n",
    "num = int(input(\"Enter number :\"))\n",
    "for i in range(num):\n",
    "    element=input(\"Enter string : \")\n",
    "    list1.append(element)      #------------------ append method (element)  ----add string at last of list\n",
    "print(f\"list1 is : {list1} \")    \n",
    "\n",
    "for i in list1: \n",
    "    if len(i)>=2 and i[0] == i[-1]:  # if length is greater than equal 2 and first and last character are same then the string is print\n",
    "        print(i)    \n",
    "    "
   ]
  },
  {
   "cell_type": "code",
   "execution_count": 2,
   "id": "17d65735",
   "metadata": {},
   "outputs": [
    {
     "name": "stdout",
     "output_type": "stream",
     "text": [
      "how many element enterd in list :8\n",
      "Enter Value: 5\n",
      "Enter Value: 3\n",
      "Enter Value: 6\n",
      "Enter Value: 2\n",
      "Enter Value: 5\n",
      "Enter Value: 4\n",
      "Enter Value: 5\n",
      "Enter Value: 1\n",
      "The list after removing duplicates : ['5', '3', '6', '2', '4', '1']  \n"
     ]
    }
   ],
   "source": [
    "#  7.  Write a Python program to remove duplicates from a list. \n",
    "\n",
    "# initializing list \n",
    "num=int(input(\"how many element enterd in list :\"))\n",
    "\n",
    "list1=[]    # ------------------------------- create empty list1\n",
    "for i in range(num):\n",
    "    value=input(\"Enter Value: \")\n",
    "    list1.append(value)   #------------------ use append method to creat list for user\n",
    "\n",
    "\n",
    "# remove duplicated from list \n",
    "list2 = []  # ------------------------------- create empty list2\n",
    "for i in list1: \n",
    "    if i not in list2: \n",
    "        list2.append(i)   #------------------ use append method to remove duplicated from list\n",
    "\n",
    "# printing list after removal \n",
    "print (f\"The list after removing duplicates : {list2}  \") \n"
   ]
  },
  {
   "cell_type": "code",
   "execution_count": 3,
   "id": "08bd36c1",
   "metadata": {},
   "outputs": [
    {
     "name": "stdout",
     "output_type": "stream",
     "text": [
      "how many element enterd in list :0\n",
      "[] : \t This list is empty\n"
     ]
    }
   ],
   "source": [
    "#  8.  Write a Python program to check a list is empty or not. \n",
    "\n",
    "num=int(input(\"how many element enterd in list :\"))\n",
    "\n",
    "list1=[]\n",
    "for i in range(num):\n",
    "    value=input(\"Enter Value: \")\n",
    "    list1.append(value)                            #-------- use append method to creat list for user\n",
    "\n",
    "if list1 == []:                                    #-------- use conditional statements\n",
    "    print(f\"{list1} : \\t This list is empty\")      #-------- list1 == []\n",
    "else:\n",
    "    print(f\"{list1} : \\t this list is not empty\")  #-------- list1 != [1,2,...,'n']\n"
   ]
  },
  {
   "cell_type": "code",
   "execution_count": null,
   "id": "58593dee",
   "metadata": {},
   "outputs": [],
   "source": [
    "#  9.  Write a Python function that takes two lists and returns true if they have at least one common member. \n"
   ]
  },
  {
   "cell_type": "code",
   "execution_count": null,
   "id": "4b872fe0",
   "metadata": {},
   "outputs": [],
   "source": [
    "#  10.  Write a Python program to generate and print a list of first and last 5 elements where the values are \n",
    "#      square of numbers between 1 and 30. \n"
   ]
  },
  {
   "cell_type": "code",
   "execution_count": 6,
   "id": "50d0993c",
   "metadata": {},
   "outputs": [
    {
     "name": "stdout",
     "output_type": "stream",
     "text": [
      "Enter number : 8\n",
      "Enter value :hii\n",
      "Enter value :hello\n",
      "Enter value :hii\n",
      "Enter value :avani\n",
      "Enter value :410\n",
      "Enter value :410\n",
      "Enter value :tejani\n",
      "Enter value :410\n",
      "['hii', 'hello', 'hii', 'avani', '410', '410', 'tejani', '410']\n",
      "{'tejani', 'avani', 'hello', '410', 'hii'}\n"
     ]
    }
   ],
   "source": [
    "#  11. Write a Python function that takes a list and returns a new list with unique elements of the first list. \n",
    "\n",
    "list1=[]\n",
    "num= int(input(\"Enter number : \"))\n",
    "for i in range(num):\n",
    "    list1.append(input(\"Enter value :\"))  #-------- append method (element)  ----add element at last of list\n",
    "print(list1)\n",
    "list2=set(list1)   # ---- use set function list2 set in list1\n",
    "print(list2)\n"
   ]
  },
  {
   "cell_type": "code",
   "execution_count": 4,
   "id": "d0b69474",
   "metadata": {},
   "outputs": [
    {
     "name": "stdout",
     "output_type": "stream",
     "text": [
      "how many string enterd in list :6\n",
      "Enter sring: Hello \n",
      "Enter sring: I'm \n",
      "Enter sring: a \n",
      "Enter sring: Avani \n",
      "Enter sring: Tejani \n",
      "Enter sring: .\n",
      "Hello I'm a Avani Tejani .\n"
     ]
    }
   ],
   "source": [
    "#  12. Write a Python program to convert a list of characters into a string. \n",
    "\n",
    "num=int(input(\"how many string enterd in list :\"))\n",
    "\n",
    "list1=[]\n",
    "for i in range(num):\n",
    "    value=input(\"Enter sring: \")\n",
    "    list1.append(value)   #------------------ append method (element)  ----add string at last of list\n",
    "    \n",
    "str1 = ''.join(list1)\n",
    "print(str1)\n"
   ]
  },
  {
   "cell_type": "code",
   "execution_count": null,
   "id": "451b31b9",
   "metadata": {},
   "outputs": [],
   "source": [
    "#  13. Write a Python program to select an item randomly from a list. \n"
   ]
  },
  {
   "cell_type": "code",
   "execution_count": 5,
   "id": "dc3c014a",
   "metadata": {},
   "outputs": [
    {
     "name": "stdout",
     "output_type": "stream",
     "text": [
      "how many element enterd in list :12\n",
      "Enter Value: 25\n",
      "Enter Value: 36\n",
      "Enter Value: 14\n",
      "Enter Value: 89\n",
      "Enter Value: 23\n",
      "Enter Value: 57\n",
      "Enter Value: 48\n",
      "Enter Value: 16\n",
      "Enter Value: 94\n",
      "Enter Value: 25\n",
      "Enter Value: 38\n",
      "Enter Value: 79\n",
      "The sorted list: ['14', '16', '23', '25', '25', '36', '38', '48', '57', '79', '89', '94'] \n",
      "The second smallest value of this list: 16 \n"
     ]
    }
   ],
   "source": [
    "#  14. Write a Python program to find the second smallest number in a list.\n",
    "\n",
    "num=int(input(\"how many element enterd in list :\"))\n",
    "\n",
    "list1=[]\n",
    "for i in range(num):\n",
    "    value=input(\"Enter Value: \")\n",
    "    list1.append(value)    #---------use append method to creat list for user\n",
    "list1.sort()               #---------converts list in ascending order\n",
    "\n",
    "print(f\"The sorted list: {list1} \") \n",
    "print(f\"The second smallest value of this list: {list1[1]} \")\n"
   ]
  },
  {
   "cell_type": "code",
   "execution_count": 4,
   "id": "50ad370b",
   "metadata": {},
   "outputs": [
    {
     "name": "stdout",
     "output_type": "stream",
     "text": [
      "how many element enterd in list :8\n",
      "Enter Value: 55\n",
      "Enter Value: avani\n",
      "Enter Value: 55\n",
      "Enter Value: tejani\n",
      "Enter Value: 410\n",
      "Enter Value: 55\n",
      "Enter Value: wow!\n",
      "Enter Value: hii\n",
      "Unique elements of the list : ['55', 'avani', 'tejani', '410', 'wow!', 'hii'] \n"
     ]
    }
   ],
   "source": [
    "#  15. Write a Python program to get unique values from a list \n",
    "\n",
    "\n",
    "# initializing list \n",
    "num=int(input(\"how many element enterd in list :\"))\n",
    "\n",
    "list1=[]    # ------------------------------- create empty list1\n",
    "for i in range(num):\n",
    "    value=input(\"Enter Value: \")\n",
    "    list1.append(value)   #------------------ use append method to creat list for user\n",
    "\n",
    "\n",
    "# remove duplicated from list \n",
    "list2 = []  # ------------------------------- create empty list2\n",
    "for i in list1: \n",
    "    if i not in list2: \n",
    "        list2.append(i)   #------------------ use append method to get unique values from a list\n",
    "\n",
    "# printing list after removal \n",
    "print (f\"Unique elements of the list : {list2} \") \n",
    "\n"
   ]
  },
  {
   "cell_type": "code",
   "execution_count": null,
   "id": "85670c5f",
   "metadata": {},
   "outputs": [],
   "source": [
    "#  16. Write a Python program to check whether a list contains a sub list \n"
   ]
  },
  {
   "cell_type": "code",
   "execution_count": 6,
   "id": "360d8b87",
   "metadata": {},
   "outputs": [
    {
     "name": "stdout",
     "output_type": "stream",
     "text": [
      " Hello World\n",
      " Good Morning \n",
      " I am Doc \n"
     ]
    }
   ],
   "source": [
    "#  17. Write a Python program to split a list into different variables. \n",
    "\n",
    "list1=[\" Hello World\" ,\" Good Morning \",\" I am Doc \" ]\n",
    "#a, b, c = list1.split()\n",
    "var1, var2, var3 = list1  #----------  create three variyable\n",
    "print(var1)\n",
    "print(var2)   #----------------------  print all\n",
    "print(var3)\n"
   ]
  },
  {
   "cell_type": "code",
   "execution_count": null,
   "id": "7b123d4c",
   "metadata": {},
   "outputs": [],
   "source": [
    "#  18. What is tuple? Difference between list and tuple. \n",
    "\n",
    "#  18. What is tuple? Difference between list and tuple. \n",
    "ANS\n",
    "\n",
    "# Tuples are used to store multiple items in a single variable. Tuple is one of 4 built-in data types in Python used to \n",
    "# store collections of data, the other 3 are List, Set, and Dictionary, all with different qualities and usage.\n",
    "# A tuple is a collection which is ordered and unchangeable.\n",
    "\n",
    "# Difference between list and tuple. \n",
    "\n",
    "# tuple:\n",
    "# 1. tuple is also a collection of element of similar or ifferent datatyp\n",
    "# 2. tuple is also a ordrere collection\n",
    "# 3. tuple immutable changes not allowed\n",
    "# 4. tuple data are defined in round braces ex:()\n",
    "# 5. tuple is not changeable in both format means not asingle element or neither a collection\n",
    "\n",
    "# list:\n",
    "# 1. list is a collection of elements of different as well as same datatype\n",
    "# 2. list is ordered collection\n",
    "# 3. list is mutable ----changes allowed\n",
    "# 4. list data are defined in array ex: []\n",
    "# 5. Therefore, it is possible to change a list\n"
   ]
  },
  {
   "cell_type": "code",
   "execution_count": 8,
   "id": "2d280b95",
   "metadata": {},
   "outputs": [
    {
     "name": "stdout",
     "output_type": "stream",
     "text": [
      "(45, 67.78, 'string', [45, 67], (90, 56), 'Hello', {34, 67}, {6: 45}, True)\n"
     ]
    }
   ],
   "source": [
    "#  19. Write a Python program to create a tuple with different data types. \n",
    "\n",
    "tupl=(45,67.78,\"string\",[45,67],(90,56),\"Hello\",{34,67},{6:45},True)  #---- create tuple with different data type\n",
    "print(tupl)   #------------------------------------------------------------- print tuple\n"
   ]
  },
  {
   "cell_type": "code",
   "execution_count": 1,
   "id": "e81f5da1",
   "metadata": {},
   "outputs": [
    {
     "name": "stdout",
     "output_type": "stream",
     "text": [
      "Input some comma seprated numbers : x,4,25,90,d,hello,564,230,wow!,1o0\n",
      "List : ['x', '4', '25', '90', 'd', 'hello', '564', '230', 'wow!', '1o0']\n",
      "Tuple : ('x', '4', '25', '90', 'd', 'hello', '564', '230', 'wow!', '1o0')\n"
     ]
    }
   ],
   "source": [
    "#  20. Write a Python program to create a tuple with numbers.\n",
    "\n",
    "values = input(\"Input some comma seprated numbers : \")  #--- Input some comma seprated numbers\n",
    "list = values.split(\",\")  #--------------------------------- using the split() method and assigns it to the variable 'list'.\n",
    "tuple = tuple(list)    #------------------------------------ using the tuple() function and assigns it to the variable 'tuple'.\n",
    "print(f\"List : {list}\")\n",
    "print(f\"Tuple : {tuple}\")\n",
    "\n",
    "# # Create a tuple with numbers\n",
    "# Tuple = input(\"Input some comma seprated numbers : \")  #---- Input some comma seprated numbers\n",
    "# print(f\"Tuple numbers = ({Tuple})\" )\n"
   ]
  },
  {
   "cell_type": "code",
   "execution_count": 3,
   "id": "1dc75944",
   "metadata": {},
   "outputs": [
    {
     "name": "stdout",
     "output_type": "stream",
     "text": [
      "Hello avani\n"
     ]
    }
   ],
   "source": [
    "#  21. Write a Python program to convert a tuple to a string.\n",
    "\n",
    "tup = ('H','e','l','l','o',' ','a','v','a','n','i')  #--- Create a tuple with numbers\n",
    "str1 =  ''.join(tup)  #---------------------------------- use join method\n",
    "print(str1)  #------------------------------------------- print sring"
   ]
  },
  {
   "cell_type": "code",
   "execution_count": 1,
   "id": "e51a74aa",
   "metadata": {},
   "outputs": [
    {
     "name": "stdout",
     "output_type": "stream",
     "text": [
      "how many element enterd in list :7\n",
      "Enter Value: 90\n",
      "Enter Value: 70\n",
      "Enter Value: hii\n",
      "Enter Value: avani\n",
      "Enter Value: tejani\n",
      "Enter Value: 410\n",
      "Enter Value: 190\n",
      "['90', '70', 'hii', 'avani', 'tejani', '410', '190']\n",
      "Enter Tuple Item to Find = tejani\n",
      "List : ['tejani']\n",
      "Tuple : ('tejani',)\n",
      "  tejani : This is ----> True\n"
     ]
    }
   ],
   "source": [
    "#  22. Write a Python program to check whether an element exists within a tuple.\n",
    "\n",
    "\n",
    "\n",
    "\n",
    "num=int(input(\"how many element enterd in list :\"))\n",
    "\n",
    "list1=[]\n",
    "for i in range(num):\n",
    "    value=input(\"Enter Value: \")\n",
    "    list1.append(value)  #-------- use append method to creat list for user\n",
    "    \n",
    "print(list1)\n",
    "    \n",
    "number =input(\"Enter Tuple Item to Find = \") # Check Element Presnet in list\n",
    "list1 = number.split(\",\")  #---------------------- using the split() method and assigns it to the variable 'list'.\n",
    "tuple = tuple(list1)    #------------------------- using the tuple() function and assigns it to the variable 'tuple'.\n",
    "print(f\"List : {list1}\")\n",
    "print(f\"Tuple : {tuple}\")\n",
    "\n",
    "\n",
    "if number in list1:   #--------------------------- use conditional statements \n",
    "    print(f\"  {number} : This is ----> True\")    \n",
    "else:\n",
    "    print(f\"  {number} : Sorry! We haven't found so, this is ----> False\")  \n"
   ]
  },
  {
   "cell_type": "code",
   "execution_count": 2,
   "id": "84bbfc9a",
   "metadata": {},
   "outputs": [
    {
     "data": {
      "text/plain": [
       "10"
      ]
     },
     "execution_count": 2,
     "metadata": {},
     "output_type": "execute_result"
    }
   ],
   "source": [
    "#  23. Write a Python program to find the length of a tuple.\n",
    "\n",
    "tupl=(45,58.23,True,\"String\",'A',\"hello world\",[45,36],(45,89),{41,20},{1:89})  #----- Create a tuple \n",
    "print(len(tupl) )   #-------------------------------------- #find the length of a tuple using string methods"
   ]
  },
  {
   "cell_type": "code",
   "execution_count": 1,
   "id": "6663e521",
   "metadata": {
    "scrolled": true
   },
   "outputs": [
    {
     "name": "stdout",
     "output_type": "stream",
     "text": [
      "how many element enterd in list :7\n",
      "Enter Value: 52\n",
      "Enter Value: 63\n",
      "Enter Value: 41\n",
      "Enter Value: 96\n",
      "Enter Value: 85\n",
      "Enter Value: 74\n",
      "Enter Value: 45\n",
      "[52, 63, 41, 96, 85, 74, 45]\n",
      "(52, 63, 41, 96, 85, 74, 45)\n"
     ]
    }
   ],
   "source": [
    "#  24. Write a Python program to convert a list to a tuple.\n",
    "\n",
    "#Convert list to tuple\n",
    "num=int(input(\"how many element enterd in list :\"))\n",
    "\n",
    "list1=[]\n",
    "for i in range(num):\n",
    "    value=int(input(\"Enter Value: \"))\n",
    "    list1.append(value)  #-------- use append method to creat list for user\n",
    "print(list1)\n",
    "#use the tuple() function built-in Python, passing as parameter the list\n",
    "tupl = tuple(list1)\n",
    "print(tupl)\n"
   ]
  },
  {
   "cell_type": "code",
   "execution_count": 2,
   "id": "b20868d8",
   "metadata": {},
   "outputs": [
    {
     "name": "stdout",
     "output_type": "stream",
     "text": [
      "(1000, 270, 395, 325, 'pineapple', 'cherry', 'banana', 'apple')\n"
     ]
    }
   ],
   "source": [
    "#  25. Write a Python program to reverse a tuple.\n",
    "tupl = ('apple', 'banana', 'cherry','pineapple',325,395,270,1000)  #--- Create a tuple\n",
    "revers = reversed(tupl)  #---- Reversing a list using reversed()\n",
    "revers = tuple(revers)\n",
    "print(revers)"
   ]
  },
  {
   "cell_type": "code",
   "execution_count": 1,
   "id": "661baf55",
   "metadata": {},
   "outputs": [
    {
     "name": "stdout",
     "output_type": "stream",
     "text": [
      "Enter  elements for the tuple: 3\n",
      "enter number : Wow!\n",
      "enter number : Hello\n",
      "enter number : Avani\n",
      "\n",
      "Original Tuple: ('Wow!', 'Hello', 'Avani')\n",
      "Reversed Tuple: ('Avani', 'Hello', 'Wow!')\n"
     ]
    }
   ],
   "source": [
    "#  26. Write a Python program to replace last value of tuples in a list.\n",
    "\n",
    "num=int(input(\"Enter  elements for the tuple: \")) #initializing the tuple  \n",
    "list1=[]\n",
    "for i in range(num):\n",
    "    n=input(\"enter number : \")\n",
    "    list1.append(n)\n",
    "\n",
    "tupl = tuple(list1)\n",
    "\n",
    "Reversed = tupl[::-1]  #--------------------- Reversing a tuple using slicing technique\n",
    "\n",
    "print(f\"\\nOriginal Tuple: {tupl}\")   #------- displaying the original tuple  \n",
    "print(f\"Reversed Tuple: {Reversed}\")  #------ displaying the Reversing tuple  "
   ]
  },
  {
   "cell_type": "code",
   "execution_count": 5,
   "id": "11bdc998",
   "metadata": {},
   "outputs": [
    {
     "name": "stdout",
     "output_type": "stream",
     "text": [
      "(1, 2, 3, 4, 56, 96, 45, 1, 24, 5, 45, 36, 0, 63, 0, 45)\n",
      "enter num : 0\n",
      "2\n"
     ]
    }
   ],
   "source": [
    "#  27. Write a Python program to find the repeated items of a tuple.\n",
    "\n",
    "tupl = (1,2,3,4,56,96,45,1,24,5,45,36,0,63,0,45)  #--- Create a tuple\n",
    "print(tupl)\n",
    "n=int(input(\"enter num : \"))\n",
    "count = tupl.count(n)  #----- use count mrthod\n",
    "print(count)\n"
   ]
  },
  {
   "cell_type": "code",
   "execution_count": 2,
   "id": "1fcd4a73",
   "metadata": {},
   "outputs": [
    {
     "name": "stdout",
     "output_type": "stream",
     "text": [
      "[('',), ('a', 'b'), ('a', 'b', 'c'), 'd']\n"
     ]
    }
   ],
   "source": [
    "#  28. Write a Python program to remove an empty tuple(s) from a list of tuples.\n",
    "\n",
    "List1 = [(), (), ('',), ('a', 'b'), ('a', 'b', 'c'), ('d')] #------ create a list\n",
    "List1 = [t for t in List1 if t] #--------- for remove an empty tuple(s) from a list of tuples.\n",
    "print(List1)\n"
   ]
  },
  {
   "cell_type": "code",
   "execution_count": null,
   "id": "15f98fbf",
   "metadata": {},
   "outputs": [],
   "source": [
    "#  29. Write a Python program to unzip a list of tuples into individual lists.\n"
   ]
  },
  {
   "cell_type": "code",
   "execution_count": 4,
   "id": "71278ae1",
   "metadata": {},
   "outputs": [
    {
     "name": "stdout",
     "output_type": "stream",
     "text": [
      "{'avani': 410, 410: 'Tejani', 'wow!': 'Hyy', 395: 80}\n"
     ]
    }
   ],
   "source": [
    "#  30. Write a Python program to convert a list of tuples into a dictionary.\n",
    "list1 = [(\"avani\",410),(410,\"Tejani\"),(\"wow!\",\"Hyy\"),(395,80 )]\n",
    "dict1=dict(list1)   # convert list in to dictionary\n",
    "print(dict1)\n"
   ]
  },
  {
   "cell_type": "code",
   "execution_count": 9,
   "id": "2204f199",
   "metadata": {},
   "outputs": [
    {
     "name": "stdout",
     "output_type": "stream",
     "text": [
      "{'avani': 410, 410: 'Tejani', 'wow!': 'Hyy', 395: 80}\n"
     ]
    }
   ],
   "source": [
    "#  31. How will you create a dictionary using tuples in python?\n",
    "\n",
    "tuple1=((\"avani\",410),(410,\"Tejani\"),(\"wow!\",\"Hyy\"),(395,80 )) #--- Create a tuple\n",
    "dict1=dict(tuple1)  #---- convert to tuple in dictionary\n",
    "print(dict1)"
   ]
  },
  {
   "cell_type": "code",
   "execution_count": null,
   "id": "dc48d55c",
   "metadata": {},
   "outputs": [],
   "source": [
    "#  32. Write a Python script to sort (ascending and descending) a dictionary byvalue.\n"
   ]
  },
  {
   "cell_type": "code",
   "execution_count": 3,
   "id": "77d52b68",
   "metadata": {},
   "outputs": [
    {
     "name": "stdout",
     "output_type": "stream",
     "text": [
      "{'Avani': 80, 'Wow': 80, 'Tejani': 180, 'Hyy': 180, 'Good': 410, 'Nice': 410}\n"
     ]
    }
   ],
   "source": [
    "#  33. Write a Python script to concatenate following dictionaries to create a new one\n",
    "\n",
    "dict1={\"Avani\":80,\"Wow\":80}\n",
    "dict2={\"Tejani\":180,\"Hyy\":180}\n",
    "dict3={\"Good\":410,\"Nice\":410}  #--------- create a 3 dictionaries\n",
    "dictionarie={}\n",
    "for i in (dict1,dict2,dict3): #---------- three dict is add to dictionarie\n",
    "    dictionarie.update(i)  #------------- use update\n",
    "print(dictionarie)"
   ]
  },
  {
   "cell_type": "code",
   "execution_count": 8,
   "id": "1df9303b",
   "metadata": {},
   "outputs": [
    {
     "name": "stdout",
     "output_type": "stream",
     "text": [
      "how many element enterd in dictionary :5\n",
      "Enter  keys: avani\n",
      "Enter values: tejani\n",
      "Enter  keys: mobail\n",
      "Enter values: 92655\n",
      "Enter  keys: email\n",
      "Enter values: avanitejani@gmail.com\n",
      "Enter  keys: city\n",
      "Enter values: surat\n",
      "Enter  keys: ***\n",
      "Enter values: ***\n",
      "{'avani': 'tejani', 'mobail': '92655', 'email': 'avanitejani@gmail.com', 'city': 'surat', '***': '***'}\n",
      "Enter A One key :avani\n",
      "----> True , ([avani]) key already exists in a dictionary\n"
     ]
    }
   ],
   "source": [
    "#  34. Write a Python script to check if a given key already exists in adictionary.\n",
    "\n",
    "num=int(input(\"how many element enterd in dictionary :\"))\n",
    "dict1 = {}\n",
    "for i in range(num):\n",
    "    key = input(\"Enter  keys: \")\n",
    "    values = input(\"Enter values: \")\n",
    "\n",
    "    dict1[key] = values\n",
    "print(dict1)     #--------- create a dictionaries\n",
    "\n",
    "key=input(\"Enter A One key :\")\n",
    "dict1.keys()\n",
    "if key in dict1.keys():  # Check key given by user is in dictionary or not\n",
    "    print(f\"----> True , ([{key}]) key already exists in a dictionary\")\n",
    "else:\n",
    "    print(f\"----> False , ([{key}]) Sorry! We haven't found a key  \")"
   ]
  },
  {
   "cell_type": "code",
   "execution_count": 1,
   "id": "63118434",
   "metadata": {},
   "outputs": [
    {
     "name": "stdout",
     "output_type": "stream",
     "text": [
      "\n",
      "1. Using dict.items() Method \n",
      "\n",
      "Novel The Great Gatsby\n",
      "year 1925\n",
      "author F. Scott Fitzgerald\n",
      "City New York City\n",
      "\n",
      "2. Using keys() Method \n",
      " \n",
      "Novel\n",
      "year\n",
      "author\n",
      "City\n",
      "\n",
      "\n",
      "The Great Gatsby\n",
      "1925\n",
      "F. Scott Fitzgerald\n",
      "New York City\n",
      "\n",
      "3.Using Values() Method \n",
      "\n",
      "The Great Gatsby\n",
      "1925\n",
      "F. Scott Fitzgerald\n",
      "New York City\n",
      "\n",
      "4.Iterating with Index \n",
      "\n",
      "Novel The Great Gatsby\n",
      "year 1925\n",
      "author F. Scott Fitzgerald\n",
      "City New York City\n",
      "\n",
      "5.Iterating Over Dictionary In Alphabetical Order /n\n",
      "City New York City\n",
      "Novel The Great Gatsby\n",
      "author F. Scott Fitzgerald\n",
      "year 1925\n",
      "\n",
      "6.Sort Using Dictionary Item Values /n\n",
      "{'year': '1925', 'author': 'F. Scott Fitzgerald', 'City': 'New York City', 'Novel': 'The Great Gatsby'}\n"
     ]
    }
   ],
   "source": [
    "#  35. How Do You Traverse Through A Dictionary Object In Python?\n",
    "# How to iterate through a dictionary in Python?\n",
    "#    1. Using dict. items() Method. ...\n",
    "#    2. Using Keys() Method. ...\n",
    "#    3. Using Values() Method. ...\n",
    "#    4. Iterating with Index. ...\n",
    "#    5. Iterating Over Dictionary In Alphabetical Order. ...\n",
    "#    6. Sort Using Dictionary Item Values.\n",
    "\n",
    "dictionary = { \n",
    "   'Novel': 'The Great Gatsby', \n",
    "   'year': '1925', \n",
    "   'author': 'F. Scott Fitzgerald', \n",
    "   'City': 'New York City' \n",
    "}\n",
    "\n",
    "print(\"\\n1. Using dict.items() Method \\n\")\n",
    "for keys, values in dictionary.items(): #-------------- Using dict.items() Method\n",
    "   print(keys ,values)\n",
    "\n",
    "print(\"\\n2. Using keys() Method \\n \")\n",
    "for keys in dictionary.keys():#------------------------ Using Keys() Method\n",
    "    print(keys)\n",
    "print(\"\\n\")\n",
    "for keys in dictionary.keys():\n",
    "    print(dictionary.get(keys))\n",
    "    \n",
    "print(\"\\n3.Using Values() Method \\n\")\n",
    "for values in dictionary.values():#-------------------- Using Values() Method\n",
    "    print(values)\n",
    "\n",
    "print(\"\\n4.Iterating with Index \\n\")\n",
    "for index in dictionary: #---------------------------- Iterating with Index\n",
    "    print(index, dictionary[index])\n",
    "\n",
    "print(\"\\n5.Iterating Over Dictionary In Alphabetical Order /n\")\n",
    "for keys in sorted(dictionary.keys()): #-------------- Iterating Over Dictionary In Alphabetical Order\n",
    "    print(keys, dictionary[keys])\n",
    "\n",
    "print(\"\\n6.Sort Using Dictionary Item Values /n\")\n",
    "sorted_dictionary = {}  #----------------------------- Sort Using Dictionary Item Values\n",
    "sorted_key = sorted(dictionary, key=dictionary.get)\n",
    "for values in sorted_key:\n",
    "    sorted_dictionary[values] = dictionary[values]\n",
    "print(sorted_dictionary)\n",
    "\n"
   ]
  },
  {
   "cell_type": "code",
   "execution_count": 2,
   "id": "fe34e97b",
   "metadata": {},
   "outputs": [
    {
     "data": {
      "text/plain": [
       "dict_keys([1, 29, 43, 58])"
      ]
     },
     "execution_count": 2,
     "metadata": {},
     "output_type": "execute_result"
    }
   ],
   "source": [
    "#  36. How Do You Check The Presence Of A Key In A Dictionary?\n",
    "# dictionary methods\n",
    "\n",
    "# keys()---gives all key in a list\n",
    "dict1={1:45,29:89,43:48,58:963}\n",
    "dict1.keys()"
   ]
  },
  {
   "cell_type": "code",
   "execution_count": 3,
   "id": "3a46f936",
   "metadata": {},
   "outputs": [
    {
     "name": "stdout",
     "output_type": "stream",
     "text": [
      "{1: 1, 2: 4, 3: 9, 4: 16, 5: 25, 6: 36, 7: 49, 8: 64, 9: 81, 10: 100, 11: 121, 12: 144, 13: 169, 14: 196, 15: 225}\n"
     ]
    }
   ],
   "source": [
    "#  37. Write a Python script to print a dictionary where the keys are numbersbetween 1 and 15.\n",
    "dict1 = dict()\n",
    "for i in range(1,16):\n",
    "    dict1[i]=i**2\n",
    "print(dict1)\n"
   ]
  },
  {
   "cell_type": "code",
   "execution_count": 2,
   "id": "b75277f8",
   "metadata": {},
   "outputs": [
    {
     "name": "stdout",
     "output_type": "stream",
     "text": [
      "how many element enterd in dictionary :8\n",
      "Enter  keys: india\n",
      "Enter values: rupee\n",
      "Enter  keys: usa\n",
      "Enter values: dollar\n",
      "Enter  keys: uk\n",
      "Enter values: pound\n",
      "Enter  keys: europe\n",
      "Enter values: euro\n",
      "Enter  keys: china\n",
      "Enter values: yuan\n",
      "Enter  keys: thailand\n",
      "Enter values: baht\n",
      "Enter  keys: turkey\n",
      "Enter values: lira\n",
      "Enter  keys: japan\n",
      "Enter values: yen\n",
      "{'india': 'rupee', 'usa': 'dollar', 'uk': 'pound', 'europe': 'euro', 'china': 'yuan', 'thailand': 'baht', 'turkey': 'lira', 'japan': 'yen'}\n",
      "Entre input Number to check multiple keys exists in a dictionary :4\n",
      "Enter A key :india\n",
      "Enter A key :australia\n",
      "Enter A key :germany\n",
      "Enter A key :Italy\n",
      "----> True ,  key already exists in a dictionary\n",
      "----> False , Sorry! We haven't found a key  \n",
      "----> False , Sorry! We haven't found a key  \n",
      "----> False , Sorry! We haven't found a key  \n"
     ]
    }
   ],
   "source": [
    "#  38. Write a Python program to check multiple keys exists in a dictionary\n",
    "\n",
    "num=int(input(\"how many element enterd in dictionary :\"))\n",
    "dict1 = {}\n",
    "for i in range(num):\n",
    "    key = input(\"Enter  keys: \")\n",
    "    values = input(\"Enter values: \")\n",
    "\n",
    "    dict1[key] = values\n",
    "print(dict1)               #--------- create a dictionaries\n",
    "\n",
    "n=int(input(\"Entre input Number to check multiple keys exists in a dictionary :\"))\n",
    "list1=[]\n",
    "for i in range(n):\n",
    "    list1.append(input(\"Enter A key :\"))  #use append to user input value\n",
    "dict1.keys()\n",
    "for j in list1: \n",
    "    if j not in dict1.keys():  # Check multiple keys exists in a dictionary\n",
    "        print(f\"----> False , Sorry! We haven't found a key  \")\n",
    "    else:\n",
    "        print(f\"----> True ,  key already exists in a dictionary\")\n",
    "        \n",
    "        \n",
    "  "
   ]
  },
  {
   "cell_type": "code",
   "execution_count": 3,
   "id": "f0be5402",
   "metadata": {},
   "outputs": [
    {
     "name": "stdout",
     "output_type": "stream",
     "text": [
      "how many element enterd in list :3\n",
      "Enter  keys: india\n",
      "Enter values: ₹\n",
      "Enter  keys: europe\n",
      "Enter values: €\n",
      "Enter  keys: USA\n",
      "Enter values: $\n",
      "{'india': '₹', 'europe': '€', 'USA': '$'}\n",
      "how many element enterd in list :3\n",
      "Enter  keys: china\n",
      "Enter values: ¥\n",
      "Enter  keys: uk\n",
      "Enter values: £\n",
      "Enter  keys: Korea\n",
      "Enter values: ₩\n",
      "{'china': '¥', 'uk': '£', 'Korea': '₩'}\n",
      "{'india': '₹', 'europe': '€', 'USA': '$', 'china': '¥', 'uk': '£', 'Korea': '₩'}\n"
     ]
    }
   ],
   "source": [
    "#  39. Write a Python script to merge two Python dictionaries\n",
    "\n",
    "num=int(input(\"how many element enterd in list :\"))\n",
    "dict1 = {}\n",
    "for i in range(num):\n",
    "    name = input(\"Enter  keys: \")\n",
    "    salary = input(\"Enter values: \")\n",
    "\n",
    "    dict1[name] = salary\n",
    "print(dict1)    #--------- create a first dictionarie\n",
    "\n",
    "\n",
    "num=int(input(\"how many element enterd in list :\"))\n",
    "dict2 = {}\n",
    "for i in range(num):\n",
    "    name = input(\"Enter  keys: \")\n",
    "    salary = input(\"Enter values: \")\n",
    "\n",
    "    dict2[name] = salary\n",
    "print(dict2)     #--------- create a second dictionarie\n",
    " \n",
    "dict3={}\n",
    "dict1.update(dict2) # use update to add both dictionarie \n",
    "\n",
    "print(dict1)"
   ]
  },
  {
   "cell_type": "code",
   "execution_count": null,
   "id": "aed87696",
   "metadata": {},
   "outputs": [],
   "source": [
    "#  40. Write a Python program to map two lists into a dictionary\n",
    "\n",
    "\n"
   ]
  },
  {
   "cell_type": "code",
   "execution_count": 1,
   "id": "1d974163",
   "metadata": {},
   "outputs": [
    {
     "name": "stdout",
     "output_type": "stream",
     "text": [
      "{'a': 400, 'b': 400, 'd': 400}\n"
     ]
    }
   ],
   "source": [
    "#  41. Write a Python program to combine two dictionary adding values forcommon keys.\n",
    "#      d1 = {'a': 100, 'b': 200, 'c':300} o d2 = {'a': 300, 'b': 200,’d’:400}\n",
    "#      Sample output: Counter ({'a': 400, 'b': 400,’d’: 400, 'c': 300}).\n",
    "\n",
    "dict1 = {'a': 100, 'b': 200, 'c':300}\n",
    "dict2 = {'a': 300, 'b': 200, 'd':400} \n",
    " \n",
    "for key in dict2:   # adding the values with common key\n",
    "    if key in dict1:\n",
    "        dict2[key] = dict2[key] + dict1[key]\n",
    "print(dict2)\n"
   ]
  },
  {
   "cell_type": "code",
   "execution_count": 7,
   "id": "6e2742f4",
   "metadata": {},
   "outputs": [
    {
     "name": "stdout",
     "output_type": "stream",
     "text": [
      "{'europe', 'bangalore', 'surat', 'australia', 'india', 'ahmedabad', 'USA'}\n"
     ]
    }
   ],
   "source": [
    "#  42. Write a Python program to print all unique values in a dictionary.\n",
    "# initializing list \n",
    "list1 = [{\"country\":\"india\"}, {\"country\": \"USA\"}, {\"country\": \"india\"}, {\"city\": \"surat\"}, {\"city\":\"ahmedabad\"}, {\"village\":\"surat\"},{\"country\":\"europe\"}, {\"city\":\"bangalore\"}, {\"country\":\"australia\"}]\n",
    "set1 = set()   #--------- create a set\n",
    "for i in list1: \n",
    "    for j in i.values(): # get unique values\n",
    "        set1.add(j)   # unique values add in set\n",
    "print(set1)\n"
   ]
  },
  {
   "cell_type": "code",
   "execution_count": 8,
   "id": "d0053ffd",
   "metadata": {},
   "outputs": [
    {
     "name": "stdout",
     "output_type": "stream",
     "text": [
      "[(1, 'a'), (2, 'b'), (3, 'c')]\n"
     ]
    }
   ],
   "source": [
    "#  43. Why Do You Use the Zip () Method in Python?\n",
    "\n",
    "# Python's zip() function creates an iterator that will aggregate elements\n",
    "# from two or more iterables. You can use the resulting iterator to quickly\n",
    "# and consistently solve common programming problems, like creating dictionaries.\n",
    "list1 = [1, 2, 3]\n",
    "list2 = ['a', 'b', 'c']\n",
    "\n",
    "result = zip(list1, list2)\n",
    "\n",
    "print(list(result))\n"
   ]
  },
  {
   "cell_type": "code",
   "execution_count": 2,
   "id": "c54f0164",
   "metadata": {},
   "outputs": [
    {
     "name": "stdout",
     "output_type": "stream",
     "text": [
      "ac\n",
      "ad\n",
      "bc\n",
      "bd\n"
     ]
    }
   ],
   "source": [
    "# 44. Write a Python program to create and display all combinations of letters, \n",
    "#     selecting each letter from a different key in a dictionary. \n",
    "#     Sample data: {'1': ['a','b'], '2': ['c','d']} \n",
    "#     Expected Output: \n",
    "#              ac ad bc bd \n",
    "\n",
    "d={'1': ['a','b'], '2': ['c','d']} \n",
    "for i in d['1']:\n",
    "    for j in d['2']:\n",
    "        print(i + j)"
   ]
  },
  {
   "cell_type": "code",
   "execution_count": 3,
   "id": "4cabc34c",
   "metadata": {},
   "outputs": [],
   "source": [
    "# 45. Write a Python program to find the highest 3 values in a dictionary \n",
    "\n",
    "dict1={2000:400, 990:1000, 100:300, 720:999, 532:410}\n",
    "list1=list(dict1.values())  #dictionary values convert to list\n",
    "list1.sort(reverse=True) #list1 to sort and decending\n",
    "print(list1[:3]) #0 to 3 first element\n"
   ]
  },
  {
   "cell_type": "code",
   "execution_count": 9,
   "id": "ed1d58bb",
   "metadata": {},
   "outputs": [
    {
     "name": "stdout",
     "output_type": "stream",
     "text": [
      "{'item1': 1150, 'item2': 300}\n"
     ]
    }
   ],
   "source": [
    "# 46. Write a Python program to combine values in python list of dictionaries. \n",
    "#     Sample data: [{'item': 'item1', 'amount': 400}, {'item': 'item2', 'amount': \n",
    "#     300}, o {'item': 'item1', 'amount': 750}] \n",
    "#     Expected Output:\n",
    "#           Counter ({'item1': 1150, 'item2': 300})\n",
    "\n",
    "d= [{'item': 'item1', 'amount': 400}, {'item': 'item2', 'amount':300}, {'item': 'item1', 'amount': 750}] \n",
    "dict1={}  # empty dictionaries\n",
    "for i in d:\n",
    "    if i['item'] in dict1:  #check to item dict1\n",
    "        dict1[i['item']] += i['amount']\n",
    "    else:\n",
    "        dict1[i['item']] = i['amount']\n",
    "print(dict1)\n"
   ]
  },
  {
   "cell_type": "code",
   "execution_count": 5,
   "id": "8a0a7891",
   "metadata": {},
   "outputs": [
    {
     "name": "stdout",
     "output_type": "stream",
     "text": [
      "{'w': 1, '3': 1, 'r': 1, 'e': 1, 's': 1, 'o': 1, 'u': 1, 'c': 1}\n"
     ]
    }
   ],
   "source": [
    "# 47.  Write a Python program to create a dictionary from a string.\n",
    "#     Note: Track the count of the letters from the string. \n",
    "#     Sample string: 'w3resource' \n",
    "#     Expected output: \n",
    "#     {'3': 1,’s’: 1, 'r': 2, 'u': 1, 'w': 1, 'c': 1, 'e': 2, 'o': 1} \n",
    "\n",
    "key='w3resource'\n",
    "value=1\n",
    "dict1=dict.fromkeys(key,value)  #------- Assigning values to all elements \n",
    "print(dict1)#remove------ copy elements\n"
   ]
  },
  {
   "cell_type": "code",
   "execution_count": 13,
   "id": "90a84bc0",
   "metadata": {},
   "outputs": [
    {
     "name": "stdout",
     "output_type": "stream",
     "text": [
      "Enter a number: 5\n",
      "120\n"
     ]
    }
   ],
   "source": [
    "# 48. Write a Python function to calculate the factorial of a number (a \n",
    "#     nonnegative integer) \n",
    "\n",
    "# Factorial is a non-negative integer\n",
    "# n! = n* (n-1) * (n-2) *........1  \n",
    "# 5! = 5x4x3x2x1 = 24 \n",
    "\n",
    "# num = int(input(\"Enter a number: \"))    \n",
    "# factorial = 1    \n",
    "# if num < 0:    \n",
    "#     print(\" Factorial does not exist for negative numbers\")    \n",
    "# elif num == 0:    \n",
    "#     print(\"The factorial of 0 is 1\")  #----  The factorial value of 0 is 1 always. (Rule violation)  \n",
    "# else:    \n",
    "#     for i in range(1,num + 1):    \n",
    "#         factorial = factorial*i    \n",
    "#     print(\"The factorial of\",num,\"is\",factorial) \n",
    "    \n",
    "import math \n",
    "num = int(input(\"Enter a number: \"))    \n",
    "x=math.factorial(num)  # using mathfactorial module\n",
    "print(x)"
   ]
  },
  {
   "cell_type": "code",
   "execution_count": 15,
   "id": "eef7104d",
   "metadata": {},
   "outputs": [
    {
     "name": "stdout",
     "output_type": "stream",
     "text": [
      "enter number :8\n",
      "8 :The Number is in the range\n"
     ]
    }
   ],
   "source": [
    "# 49. Write a Python function to check whether a number is in a given range\n",
    "# def test_range(n):\n",
    "n=int(input(\"enter number :\"))\n",
    "if n in range(4,10):# range in 4,5,6,7,8,9,10\n",
    "    print( f\"{n} :The Number is in the range\")\n",
    "else :\n",
    "    print(f\"{n} : The number is outside the given range.\")"
   ]
  },
  {
   "cell_type": "code",
   "execution_count": 22,
   "id": "1e07ea87",
   "metadata": {},
   "outputs": [
    {
     "name": "stdout",
     "output_type": "stream",
     "text": [
      "Enter the number: 6\n",
      "The entered number is a perfect number\n"
     ]
    }
   ],
   "source": [
    "# 50. Write a Python function to check whether a number is perfect or not. \n",
    "\n",
    "num=int(input(\"Enter the number: \"))  \n",
    "sum1=0  \n",
    "for i in range(1,num):  \n",
    "    if (num%i==0):  \n",
    "        sum1=sum1+i  \n",
    "if(sum1==num):  # Check if the sum of proper divisors is equal to the number \n",
    "    print(\"The entered number is a perfect number\")  \n",
    "else:  \n",
    "    print(\"The entered number is not a perfect number\")  "
   ]
  },
  {
   "cell_type": "code",
   "execution_count": 2,
   "id": "ae006e33",
   "metadata": {},
   "outputs": [
    {
     "name": "stdout",
     "output_type": "stream",
     "text": [
      "Enter A stringwow\n",
      "plindrome\n"
     ]
    }
   ],
   "source": [
    "# 51. Write a Python function that checks whether a passed string is \n",
    "#     palindrome or not\n",
    " \n",
    "    \n",
    "def fun1(a):\n",
    "    \n",
    "    if a==a[::-1]:   # Check if the string is equal to its reverse\n",
    "        return \"plindrome\" # condition is true\n",
    "    else:\n",
    "        return \"Not palindrome\"   # condition is false\n",
    "    \n",
    "var=input(\"Enter A string\")\n",
    "ans=fun1(var)\n",
    "print(ans)"
   ]
  },
  {
   "cell_type": "code",
   "execution_count": 5,
   "id": "44f5a851",
   "metadata": {},
   "outputs": [
    {
     "name": "stdout",
     "output_type": "stream",
     "text": [
      "5\n",
      "<class 'list'>\n",
      "7\n"
     ]
    }
   ],
   "source": [
    "# 52. How Many Basic Types Of Functions Are Available In Python? \n",
    "\n",
    "# There are two types of function in Python programming:\n",
    "\n",
    "# 1. Standard library functions - These are Built-in Functions or Pre-defined in Python that are available to use.\n",
    "# In built functions\n",
    "\n",
    "x = [1,2,3,4,5]\n",
    "print(len(x))    #it return length of list\n",
    "print(type(x))   #it return object type\n",
    "\n",
    "# 2. User-defined functions - We can create our own functions based on our requirements.\n",
    "# Example of user defined function\n",
    "\n",
    "x = 3\n",
    "y = 4\n",
    "def add():\n",
    "    print(x+y)\n",
    "    \n",
    "add()\n"
   ]
  },
  {
   "cell_type": "code",
   "execution_count": null,
   "id": "0ab6e02f",
   "metadata": {},
   "outputs": [],
   "source": [
    "# 53. How can you pick a random item from a list or tuple? \n",
    "\n",
    "# Using random.\n",
    "# Create a tuple and add some dummy data to it. Generate a random item from the tuple using random. \n",
    "# choice() method(This function returns a random element from the specified sequence i.e tuple here) \n",
    "# by passing the input tuple as an argument to the choice() function. Print the generated random tuple item.\n",
    "\n",
    "\n",
    "# How to randomly select an item from a list or tuple in Python?\n",
    "\n",
    "# 1. Using random.choice() method\n",
    "\n",
    "# 2. Using random.randrange() method\n",
    "\n",
    "# 3. Using random.randint() method\n",
    "\n",
    "# 4. Using random.random()\n",
    "\n",
    "# 5. Using random.sample() method\n",
    "\n",
    "# 6. Using random.choices() method"
   ]
  },
  {
   "cell_type": "code",
   "execution_count": 17,
   "id": "1a32cb0f",
   "metadata": {},
   "outputs": [
    {
     "name": "stdout",
     "output_type": "stream",
     "text": [
      "82\n"
     ]
    }
   ],
   "source": [
    "# 54. How can you pick a random item from a range? \n",
    "\n",
    "# Use the random. randrange() function(Returns a random number within the specified range) \n",
    "# to generate a random number within the given range by passing minimum, and maximum numbers as arguments.\n",
    "\n",
    "x=random.randrange(0,100)\n",
    "print(x)\n"
   ]
  },
  {
   "cell_type": "code",
   "execution_count": 14,
   "id": "b0897d7f",
   "metadata": {},
   "outputs": [
    {
     "name": "stdout",
     "output_type": "stream",
     "text": [
      "6\n"
     ]
    }
   ],
   "source": [
    "# 55. How can you get a random number in python? \n",
    "\n",
    "# To generate random number in Python, randint() function is used. This function is defined in random module.\n",
    "# Program to generate a random number between 0 and 9\n",
    "\n",
    "# importing the random module\n",
    "import random\n",
    "\n",
    "print(random.randint(0,9))  "
   ]
  },
  {
   "cell_type": "code",
   "execution_count": 11,
   "id": "030a0669",
   "metadata": {},
   "outputs": [
    {
     "name": "stdout",
     "output_type": "stream",
     "text": [
      "0.5714025946899135\n"
     ]
    }
   ],
   "source": [
    "# 56. How will you set the starting value in generating random numbers? \n",
    "\n",
    "# The random number generator needs a number to start with (a seed value), to be able to generate a random number. \n",
    "# By default the random number generator uses the current system time. Use the seed() method to customize the start number \n",
    "# of the random number generator.\n",
    "\n",
    "import random\n",
    "\n",
    "random.seed(10)\n",
    "print(random.random())"
   ]
  },
  {
   "cell_type": "code",
   "execution_count": 24,
   "id": "ebaac7d0",
   "metadata": {},
   "outputs": [
    {
     "name": "stdout",
     "output_type": "stream",
     "text": [
      "[16, 10, 20, 5]\n"
     ]
    }
   ],
   "source": [
    "# 57. How will you randomizes the items of a list in place? \n",
    "\n",
    "# The shuffle() method randomizes the items of a list in place.\n",
    "\n",
    "import random\n",
    "\n",
    "list1 = [20, 16, 10, 5];\n",
    "random.shuffle(list1)  # Use the random module in randomizes to select a shuffle line from the list\n",
    "print (list1)"
   ]
  },
  {
   "cell_type": "code",
   "execution_count": 19,
   "id": "9c57dee1",
   "metadata": {},
   "outputs": [],
   "source": [
    "# 58. Write a Python program to read a random line from a file. \n"
   ]
  },
  {
   "cell_type": "code",
   "execution_count": 21,
   "id": "caee6702",
   "metadata": {},
   "outputs": [
    {
     "name": "stdout",
     "output_type": "stream",
     "text": [
      "Input degrees: 360\n",
      "6.285714285714286\n"
     ]
    }
   ],
   "source": [
    "# 59. Write a Python program to convert degree to radian \n",
    "\n",
    "pi=22/7\n",
    "degree = float(input(\"Input degrees: \"))\n",
    "radian = degree*(pi/180)\n",
    "print(radian)\n"
   ]
  },
  {
   "cell_type": "code",
   "execution_count": 25,
   "id": "cfc22d01",
   "metadata": {},
   "outputs": [
    {
     "name": "stdout",
     "output_type": "stream",
     "text": [
      "Enter the height of the trapezoid: 6\n",
      "Enter the length of the bottom base: 10\n",
      "Enter the length of the top base: 5\n",
      "The area of the trapezoid is: 45.0\n"
     ]
    }
   ],
   "source": [
    "# 60. Write a Python program to calculate the area of a trapezoid\n",
    "\n",
    "# Prompt user to input values for height, base1, and base2\n",
    "height = float(input(\"Enter the height of the trapezoid: \"))\n",
    "base1 = float(input(\"Enter the length of the bottom base: \"))\n",
    "base2 = float(input(\"Enter the length of the top base: \"))\n",
    "\n",
    "area = 0.5 * height * (base1 + base2) # Calculate the area using the formula for the area of a trapezoid\n",
    "\n",
    "print(f\"The area of the trapezoid is: {area}\")  # Display the result\n"
   ]
  },
  {
   "cell_type": "code",
   "execution_count": 26,
   "id": "505861d7",
   "metadata": {},
   "outputs": [
    {
     "name": "stdout",
     "output_type": "stream",
     "text": [
      "Enter the base of the parallelogram: 10\n",
      "Enter the height of the parallelogram: 7\n",
      "The area of the parallelogram is 70.0:\n"
     ]
    }
   ],
   "source": [
    "# 61. Write a Python program to calculate the area of a parallelogram \n",
    "\n",
    "# Prompt the user for the base and height of the parallelogram\n",
    "base = float(input(\"Enter the base of the parallelogram: \"))\n",
    "height = float(input(\"Enter the height of the parallelogram: \"))\n",
    "\n",
    "# Calculate the area of the parallelogram using the formula A = b*h\n",
    "area = base * height\n",
    "\n",
    "print(f\"The area of the parallelogram is {area}:\")  # Display the result"
   ]
  },
  {
   "cell_type": "code",
   "execution_count": 27,
   "id": "c227ea7e",
   "metadata": {
    "scrolled": true
   },
   "outputs": [
    {
     "name": "stdout",
     "output_type": "stream",
     "text": [
      "Enter the radius of the cylinder: 6\n",
      "Enter the height of the cylinder: 4\n",
      "The surface area of the cylinder is:  376.9908\n",
      "The volume of the cylinder is:  452.38896\n"
     ]
    }
   ],
   "source": [
    "# 62. Write a Python program to calculate surface volume and area of a cylinder \n",
    "\n",
    "# Surface area = 2πrh + 2πr^2\n",
    "# Volume = πr^2h\n",
    "\n",
    "# Define the necessary variables\n",
    "radius = float(input(\"Enter the radius of the cylinder: \"))\n",
    "height = float(input(\"Enter the height of the cylinder: \"))\n",
    "\n",
    "# Calculate the surface area and volume of the cylinder\n",
    "pi = 3.14159\n",
    "area = 2 * pi * radius * height + 2 * pi * radius ** 2\n",
    "volume = pi * radius ** 2 * height\n",
    "\n",
    "# Print out the results\n",
    "print(\"The surface area of the cylinder is: \", area)\n",
    "print(\"The volume of the cylinder is: \", volume)"
   ]
  },
  {
   "cell_type": "code",
   "execution_count": 3,
   "id": "5640b3f0",
   "metadata": {},
   "outputs": [
    {
     "name": "stdout",
     "output_type": "stream",
     "text": [
      " enter number  :8\n",
      "1\n",
      "2\n",
      "4\n"
     ]
    }
   ],
   "source": [
    "# 63. Write a Python program to returns sum of all divisors of a number \n",
    "\n",
    "n=int(input(\" enter number  :\"))\n",
    "for i in range(1,n):\n",
    "    if n % i == 0:\n",
    "        print(i)\n",
    "        \n",
    "#         print(f\"sum of all number in list is :{sum(i)}\") #-----------------baisi function of max() maths rule\n",
    "        "
   ]
  },
  {
   "cell_type": "code",
   "execution_count": 35,
   "id": "8d55a2ef",
   "metadata": {},
   "outputs": [
    {
     "name": "stdout",
     "output_type": "stream",
     "text": [
      "how many element enterd in list :6\n",
      "Enter Value: 99\n",
      "Enter Value: 100\n",
      "Enter Value: 208\n",
      "Enter Value: 32\n",
      "Enter Value: 410\n",
      "Enter Value: 562\n",
      "['99', '100', '208', '32', '410', '562']\n",
      "Maximum number:  99\n",
      "Minimum number:  100\n"
     ]
    }
   ],
   "source": [
    "# 64. Write a Python program to find the maximum and minimum numbers from the specified decimal numbers.\n",
    "\n",
    "# # Define a list of decimal numbers\n",
    "num=int(input(\"how many element enterd in list :\"))\n",
    "\n",
    "list1=[]    # ------------------------------- create empty list1\n",
    "for i in range(num):\n",
    "    value=input(\"Enter Value: \")\n",
    "    list1.append(value)\n",
    "print(list1)\n",
    "\n",
    "# Set the initial values for the maximum and minimum numbers\n",
    "maximum = list1[0]\n",
    "minimum = list1[0]\n",
    "\n",
    "# Iterate through the list of numbers\n",
    "for i in list1:\n",
    "    # Update the maximum number if the current number is greater\n",
    "    if i > maximum:\n",
    "        maximum = i\n",
    "    # Update the minimum number if the current number is smaller\n",
    "    if i < minimum:\n",
    "        minimum = i\n",
    "\n",
    "# Print the maximum and minimum numbers\n",
    "print(f\"Maximum number: {maximum} \")\n",
    "print(f\"Minimum number: {minimum} \")\n",
    "\n",
    "\n"
   ]
  }
 ],
 "metadata": {
  "kernelspec": {
   "display_name": "Python 3 (ipykernel)",
   "language": "python",
   "name": "python3"
  },
  "language_info": {
   "codemirror_mode": {
    "name": "ipython",
    "version": 3
   },
   "file_extension": ".py",
   "mimetype": "text/x-python",
   "name": "python",
   "nbconvert_exporter": "python",
   "pygments_lexer": "ipython3",
   "version": "3.10.9"
  }
 },
 "nbformat": 4,
 "nbformat_minor": 5
}
