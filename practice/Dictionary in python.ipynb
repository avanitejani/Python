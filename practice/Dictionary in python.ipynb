{
 "cells": [
  {
   "cell_type": "code",
   "execution_count": null,
   "id": "e18a7483",
   "metadata": {},
   "outputs": [],
   "source": [
    "                                                   \n",
    "                                                          #29-04-2023\n"
   ]
  },
  {
   "cell_type": "code",
   "execution_count": null,
   "id": "bb531436",
   "metadata": {},
   "outputs": [],
   "source": [
    "# dictionary is acollection of elemnts having key and value pair\n",
    "# dictionary is unordered datatype\n",
    "# dictionary is difined in curly braces {}\n"
   ]
  },
  {
   "cell_type": "code",
   "execution_count": null,
   "id": "664341ef",
   "metadata": {},
   "outputs": [],
   "source": [
    "# dict1={key : value, key : value, key : value, key : value,........ }"
   ]
  },
  {
   "cell_type": "code",
   "execution_count": 3,
   "id": "e178d348",
   "metadata": {
    "scrolled": true
   },
   "outputs": [
    {
     "name": "stdout",
     "output_type": "stream",
     "text": [
      "92655\n"
     ]
    }
   ],
   "source": [
    "usr={\"name:\" :\"avani\", \"age\":21, \"email\":\"avanitejani@gmail.com\",\"mobile\":92655}\n",
    "print(usr[\"mobile\"])"
   ]
  },
  {
   "cell_type": "code",
   "execution_count": null,
   "id": "8efc86ff",
   "metadata": {},
   "outputs": [],
   "source": [
    "in value all datatypes is allowed\n",
    "in key only immutable datatypes are allowed"
   ]
  },
  {
   "cell_type": "code",
   "execution_count": 1,
   "id": "15e592c0",
   "metadata": {},
   "outputs": [
    {
     "name": "stdout",
     "output_type": "stream",
     "text": [
      "{45: 69, 453.2: 489.36, True: False, 'string': 'hello', 'list': [45, 6, 9], (4, 5): (4, 5), 'set': {8, 9}, 'dict': {4: 59}}\n"
     ]
    }
   ],
   "source": [
    "dict1={45:69,453.2:489.36,True:False,\"string\":\"hello\",\"list\":[45,6,9],(4,5):(4,5),\"set\":{8,9},\"dict\":{4:59}}\n",
    "print(dict1)"
   ]
  },
  {
   "cell_type": "code",
   "execution_count": 4,
   "id": "75f4cdab",
   "metadata": {},
   "outputs": [
    {
     "name": "stdout",
     "output_type": "stream",
     "text": [
      "{1: 'wow', 2: 'hii', 3: 'hyy'}\n"
     ]
    }
   ],
   "source": [
    "dict1={1:\"hello\",2:\"hii\",3:\"hyy\",1:\"wow\"}\n",
    "print(dict1)"
   ]
  },
  {
   "cell_type": "code",
   "execution_count": null,
   "id": "1732fe7e",
   "metadata": {},
   "outputs": [],
   "source": [
    "dict1={1:\"HEYy\",2:\"wow\",True:\"great\",0:\"some\",False:\"Change\"}\n",
    "print(dict1)"
   ]
  },
  {
   "cell_type": "code",
   "execution_count": null,
   "id": "5e680fff",
   "metadata": {},
   "outputs": [],
   "source": [
    "['clear',\n",
    " 'copy',\n",
    " 'fromkeys',\n",
    " 'get',\n",
    " 'items',\n",
    " 'keys',\n",
    " 'pop',\n",
    " 'popitem',\n",
    " 'setdefault',\n",
    " 'update',\n",
    " 'values']"
   ]
  },
  {
   "cell_type": "code",
   "execution_count": 2,
   "id": "993f2d24",
   "metadata": {},
   "outputs": [
    {
     "data": {
      "text/plain": [
       "dict_keys([1, 29, 43, 58])"
      ]
     },
     "execution_count": 2,
     "metadata": {},
     "output_type": "execute_result"
    }
   ],
   "source": [
    "# dictionary methods\n",
    "\n",
    "# keys()---gives all key in a list\n",
    "dict1={1:45,29:89,43:48,58:963}\n",
    "dict1.keys()"
   ]
  },
  {
   "cell_type": "code",
   "execution_count": 3,
   "id": "1dab1f3f",
   "metadata": {},
   "outputs": [
    {
     "data": {
      "text/plain": [
       "dict_values([45, 89, 48, 963])"
      ]
     },
     "execution_count": 3,
     "metadata": {},
     "output_type": "execute_result"
    }
   ],
   "source": [
    "# values()---gives list of all values\n",
    "dict1={1:45,29:89,43:48,58:963}\n",
    "dict1.values()"
   ]
  },
  {
   "cell_type": "code",
   "execution_count": 4,
   "id": "a5fe71eb",
   "metadata": {},
   "outputs": [
    {
     "data": {
      "text/plain": [
       "dict_items([(1, 45), (29, 89), (43, 48), (58, 963)])"
      ]
     },
     "execution_count": 4,
     "metadata": {},
     "output_type": "execute_result"
    }
   ],
   "source": [
    "# items()--gives list of tuples and one tuple have 2 elements one is key and other is value\n",
    "dict1={1:45,29:89,43:48,58:963}\n",
    "dict1.items()"
   ]
  },
  {
   "cell_type": "code",
   "execution_count": 5,
   "id": "c7f780ff",
   "metadata": {},
   "outputs": [
    {
     "name": "stdout",
     "output_type": "stream",
     "text": [
      "{1: 45, 43: 48, 58: 963}\n"
     ]
    }
   ],
   "source": [
    "# pop()--removes element from given key\n",
    "dict1={1:45,29:89,43:48,58:963}\n",
    "dict1.pop(29)\n",
    "# dict1.pop(458) --gives key error\n",
    "print(dict1)"
   ]
  },
  {
   "cell_type": "code",
   "execution_count": 6,
   "id": "f0aaa6e7",
   "metadata": {},
   "outputs": [
    {
     "name": "stdout",
     "output_type": "stream",
     "text": [
      "{1: 45, 29: 89, 43: 48}\n"
     ]
    }
   ],
   "source": [
    "# popitem()--removes element of last inserted\n",
    "dict1={1:45,29:89,43:48,58:963}\n",
    "dict1.popitem()\n",
    "print(dict1)"
   ]
  },
  {
   "cell_type": "code",
   "execution_count": 7,
   "id": "40f62485",
   "metadata": {},
   "outputs": [
    {
     "name": "stdout",
     "output_type": "stream",
     "text": [
      "ELEMENT NOT NAHI MILA\n",
      "{1: 45, 29: 89, 43: 48, 58: 963}\n"
     ]
    }
   ],
   "source": [
    "dict1={1:45,29:89,43:48,58:963}\n",
    "# print(dict1[458])\n",
    "print(dict1.get(458,\"ELEMENT NOT NAHI MILA\"))\n",
    "print(dict1)"
   ]
  },
  {
   "cell_type": "code",
   "execution_count": 8,
   "id": "3ed5a03f",
   "metadata": {},
   "outputs": [
    {
     "name": "stdout",
     "output_type": "stream",
     "text": [
      "58\n",
      "{1: 45, 29: 89, 43: 48, 58: 963, 458: 58}\n"
     ]
    }
   ],
   "source": [
    "dict1={1:45,29:89,43:48,58:963}\n",
    "# print(dict1[458])\n",
    "print(dict1.setdefault(458,58))\n",
    "print(dict1)"
   ]
  },
  {
   "cell_type": "code",
   "execution_count": 9,
   "id": "0f2b40d6",
   "metadata": {},
   "outputs": [
    {
     "name": "stdout",
     "output_type": "stream",
     "text": [
      "{'w': 'hello', 'e': 'hello', 'q': 'hello', 'f': 'hello', 'r': 'hello', 'b': 'hello', ' ': 'hello', 'k': 'hello', 'j': 'hello', 'h': 'hello'}\n"
     ]
    }
   ],
   "source": [
    "list1=\"weqferb kjhbfker\"\n",
    "value=\"hello\"\n",
    "dict1=dict.fromkeys(list1,value) #converts iterable and values into dictionary\n",
    "print(dict1)"
   ]
  },
  {
   "cell_type": "code",
   "execution_count": 10,
   "id": "85421b96",
   "metadata": {
    "scrolled": true
   },
   "outputs": [
    {
     "name": "stdout",
     "output_type": "stream",
     "text": [
      "{45: 56, 25: 89, 145: 'Hello', 254: 'Wolrd'}\n"
     ]
    }
   ],
   "source": [
    "dict1={45:56,25:89}\n",
    "dict1.update({145:\"Hello\",254:\"Wolrd\"})\n",
    "print(dict1)"
   ]
  },
  {
   "cell_type": "code",
   "execution_count": null,
   "id": "cb9075e3",
   "metadata": {},
   "outputs": [],
   "source": []
  },
  {
   "cell_type": "code",
   "execution_count": null,
   "id": "f966e890",
   "metadata": {},
   "outputs": [],
   "source": []
  },
  {
   "cell_type": "code",
   "execution_count": 1,
   "id": "35411d65",
   "metadata": {},
   "outputs": [
    {
     "name": "stdout",
     "output_type": "stream",
     "text": [
      "{'Name': ['Ram', 'Pooja', 'Sara'], 'Age': [21, 23, 22], 'Gender': ['Male', 'Female', 'Female']}\n"
     ]
    }
   ],
   "source": [
    "l = [(\"Name\", \"Ram\"), (\"Name\", \"Pooja\"), (\"Name\", \"Sara\"), (\"Age\", 21), (\"Gender\", \"Male\"), (\"Age\", 23), (\"Gender\", \"Female\"), (\"Gender\", \"Female\") , (\"Age\", 22)]\n",
    "dic = {}\n",
    "for x, y in l:\n",
    "    dic.setdefault(x, []).append(y)\n",
    "print (dic)"
   ]
  }
 ],
 "metadata": {
  "kernelspec": {
   "display_name": "Python 3 (ipykernel)",
   "language": "python",
   "name": "python3"
  },
  "language_info": {
   "codemirror_mode": {
    "name": "ipython",
    "version": 3
   },
   "file_extension": ".py",
   "mimetype": "text/x-python",
   "name": "python",
   "nbconvert_exporter": "python",
   "pygments_lexer": "ipython3",
   "version": "3.10.9"
  }
 },
 "nbformat": 4,
 "nbformat_minor": 5
}
