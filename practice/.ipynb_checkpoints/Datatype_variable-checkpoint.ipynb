{
 "cells": [
  {
   "cell_type": "code",
   "execution_count": null,
   "id": "0cca0a16",
   "metadata": {},
   "outputs": [],
   "source": [
    "                                      #date of lecture:  23-03-2023\n",
    "# developer screen\n",
    "print(\"User screen\")"
   ]
  },
  {
   "cell_type": "code",
   "execution_count": null,
   "id": "8e3a0a74",
   "metadata": {},
   "outputs": [],
   "source": [
    "# Escape Sequence\n",
    "# \\n ----newline\n",
    "# \\t ----tab space\n",
    "# \\b ----backspace\n",
    "# \\' --single quote\n",
    "# \\\" ---double quote"
   ]
  },
  {
   "cell_type": "code",
   "execution_count": 1,
   "id": "ee67c21f",
   "metadata": {},
   "outputs": [
    {
     "name": "stdout",
     "output_type": "stream",
     "text": [
      "jshfe wehr\thfwerbf \n",
      " w\brhfbwerfbwer\b\b rw\n"
     ]
    }
   ],
   "source": [
    "# Escape Sequence\n",
    "# string ''    \" \"    '''  '''     \"\"\"   \"\"\"\n",
    "print(\"jshfe wehr\\thfwerbf \\n w\\brhfbwerfbwer\\b\\b rw\")  #string"
   ]
  },
  {
   "cell_type": "code",
   "execution_count": null,
   "id": "90b346a4",
   "metadata": {},
   "outputs": [],
   "source": [
    "print('Hello \\'Wolrd')\n",
    "print(\"HEllo \\\" Workld\")\n",
    "print(\"\"\"Hello ' \" Wolrd\"\"\")\n",
    "print('''Hello wolrd''')"
   ]
  },
  {
   "cell_type": "code",
   "execution_count": 2,
   "id": "db08f654",
   "metadata": {},
   "outputs": [
    {
     "name": "stdout",
     "output_type": "stream",
     "text": [
      "value of a is 45\n"
     ]
    }
   ],
   "source": [
    "a=45\n",
    "# value of a is 45\n",
    "print(f\"value of a is {a}\") #formatted string\n"
   ]
  },
  {
   "cell_type": "code",
   "execution_count": 3,
   "id": "8c84a4e7",
   "metadata": {},
   "outputs": [
    {
     "name": "stdout",
     "output_type": "stream",
     "text": [
      "Enter Number 52\n",
      "52\n"
     ]
    }
   ],
   "source": [
    "a=input(\"Enter Number \")\n",
    "print(a)"
   ]
  },
  {
   "cell_type": "code",
   "execution_count": null,
   "id": "555043a3",
   "metadata": {},
   "outputs": [],
   "source": [
    "                                            #date of lecture: 25-03-2023\n",
    "# how to create variables in python\n",
    "# variablename=value \n",
    "# datatype variablename=value   C \n",
    "\n",
    "datatypes are there in python\n",
    "loosely type language\n",
    "variable not need datatypes at the time of declaration\n",
    "\n",
    "variablename our choice but we have to follow some rules\n",
    "\n",
    "age=18"
   ]
  },
  {
   "cell_type": "code",
   "execution_count": null,
   "id": "5bddb858",
   "metadata": {},
   "outputs": [],
   "source": [
    "# Variablenaming rules--identifier rule\n",
    "# 1---first character a-z A-Z _\n",
    "# 2---other characters a-z A-Z _ 0-9\n",
    "\n",
    "# suggestions\n",
    "# 1---use a logical name\n",
    "# 2---don't use space between variablename use _"
   ]
  },
  {
   "cell_type": "code",
   "execution_count": null,
   "id": "58eb4f10",
   "metadata": {},
   "outputs": [],
   "source": [
    "age=80\n",
    "datatypes in python\n",
    "\n",
    "int ---- 8 9 54 587 545- 89 -859 -565\n",
    "float--- 878 -989 45.32 -98.32 0.231\n",
    "String -'' \" \" ''' ''' \"\"\" \"\"\"\n",
    "boolean ---True Or False first letter should be capital"
   ]
  },
  {
   "cell_type": "code",
   "execution_count": 4,
   "id": "9bcd8cf2",
   "metadata": {},
   "outputs": [
    {
     "name": "stdout",
     "output_type": "stream",
     "text": [
      "<class 'bool'>\n"
     ]
    }
   ],
   "source": [
    "age=True\n",
    "# type(variablename)--gives datatype of variables\n",
    "print(type(age))"
   ]
  },
  {
   "cell_type": "code",
   "execution_count": 5,
   "id": "9ff52963",
   "metadata": {},
   "outputs": [
    {
     "name": "stdout",
     "output_type": "stream",
     "text": [
      "hello 81\n",
      "hello i am 81 rgerg hello wfgwergf81\n"
     ]
    }
   ],
   "source": [
    "# how to use variables inside print()\n",
    "d1=\"hello\"\n",
    "d2=81\n",
    "print(d1,d2)\n",
    "# d1 i am d2\n",
    "# hello i am 81\n",
    "# formatted string\n",
    "print(f\"{d1} i am {d2} rgerg {d1} wfgwergf{d2}\")"
   ]
  },
  {
   "cell_type": "code",
   "execution_count": 6,
   "id": "1d84e36f",
   "metadata": {},
   "outputs": [
    {
     "name": "stdout",
     "output_type": "stream",
     "text": [
      "Enter Your Name: avani tejani\n",
      "Your name is avani tejani\n"
     ]
    }
   ],
   "source": [
    "# how to take user input in python\n",
    "# input([\"Message\"])\n",
    "name=input(\"Enter Your Name: \")\n",
    "print(f\"Your name is {name}\")"
   ]
  },
  {
   "cell_type": "code",
   "execution_count": 8,
   "id": "bdd375c6",
   "metadata": {},
   "outputs": [
    {
     "name": "stdout",
     "output_type": "stream",
     "text": [
      "Enter Something: 21\n",
      "<class 'int'>\n"
     ]
    }
   ],
   "source": [
    "var1=int(input(\"Enter Something: \"))\n",
    "print(type(var1))"
   ]
  },
  {
   "cell_type": "code",
   "execution_count": 9,
   "id": "5d4148f6",
   "metadata": {},
   "outputs": [
    {
     "ename": "SyntaxError",
     "evalue": "invalid syntax (2183453564.py, line 3)",
     "output_type": "error",
     "traceback": [
      "\u001b[1;36m  Cell \u001b[1;32mIn[9], line 3\u001b[1;36m\u001b[0m\n\u001b[1;33m    str(a) int\u001b[0m\n\u001b[1;37m           ^\u001b[0m\n\u001b[1;31mSyntaxError\u001b[0m\u001b[1;31m:\u001b[0m invalid syntax\n"
     ]
    }
   ],
   "source": [
    "# Type Conversion\n",
    "a=18\n",
    "str(a) int\n",
    "float bool"
   ]
  },
  {
   "cell_type": "code",
   "execution_count": 10,
   "id": "bdf06628",
   "metadata": {},
   "outputs": [
    {
     "name": "stdout",
     "output_type": "stream",
     "text": [
      "1929176285936\n",
      "1929176286832\n"
     ]
    }
   ],
   "source": [
    "# id() --gives variable location or id\n",
    "a=17\n",
    "b=45\n",
    "print(id(a))\n",
    "print(id(b))"
   ]
  },
  {
   "cell_type": "code",
   "execution_count": null,
   "id": "b3223109",
   "metadata": {},
   "outputs": [],
   "source": []
  }
 ],
 "metadata": {
  "kernelspec": {
   "display_name": "Python 3 (ipykernel)",
   "language": "python",
   "name": "python3"
  },
  "language_info": {
   "codemirror_mode": {
    "name": "ipython",
    "version": 3
   },
   "file_extension": ".py",
   "mimetype": "text/x-python",
   "name": "python",
   "nbconvert_exporter": "python",
   "pygments_lexer": "ipython3",
   "version": "3.10.9"
  }
 },
 "nbformat": 4,
 "nbformat_minor": 5
}
