{
 "cells": [
  {
   "cell_type": "code",
   "execution_count": null,
   "id": "26246cdc",
   "metadata": {},
   "outputs": [],
   "source": [
    "# 1. What is software?\n",
    "\n",
    "# -> software is a set of instructions, data or programs used to operate computers \n",
    "# and execute specific tasks"
   ]
  },
  {
   "cell_type": "code",
   "execution_count": null,
   "id": "5970f76d",
   "metadata": {},
   "outputs": [],
   "source": [
    "#  What are the types of Applications?\n",
    "# Some types of applications include:\n",
    "# Word processors.\n",
    "# Database programs.\n",
    "# Web browsers.\n",
    "# Deployment tools.\n",
    "# Image editors.\n",
    "# Communication platforms\n",
    "# Graphics Software.\n",
    "# Spreadsheet Software.\n",
    "# Presentation Software.\n"
   ]
  },
  {
   "cell_type": "code",
   "execution_count": null,
   "id": "a95975e1",
   "metadata": {},
   "outputs": [],
   "source": [
    "#  What is programing?\n",
    "\n",
    "# Programming is defined as the act of writing computer code, to the act of \n",
    "# scheduling television or radio programs, or behavior that has been instilled. \n",
    "# An example of programming is the act a person is doing when he is writing \n",
    "# computer source code"
   ]
  },
  {
   "cell_type": "code",
   "execution_count": null,
   "id": "6b432077",
   "metadata": {},
   "outputs": [],
   "source": [
    "#  What is Python?\n",
    "\n",
    "# Python is a high-level, general-purpose programming language. Its design philosophy \n",
    "# emphasizes code readability with the use of significant indentation via the off-side rule. \n",
    "# Python is dynamically typed and garbage-collected\n"
   ]
  }
 ],
 "metadata": {
  "kernelspec": {
   "display_name": "Python 3 (ipykernel)",
   "language": "python",
   "name": "python3"
  },
  "language_info": {
   "codemirror_mode": {
    "name": "ipython",
    "version": 3
   },
   "file_extension": ".py",
   "mimetype": "text/x-python",
   "name": "python",
   "nbconvert_exporter": "python",
   "pygments_lexer": "ipython3",
   "version": "3.10.9"
  }
 },
 "nbformat": 4,
 "nbformat_minor": 5
}
