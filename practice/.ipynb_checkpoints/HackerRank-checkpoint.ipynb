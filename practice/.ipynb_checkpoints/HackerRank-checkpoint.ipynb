{
 "cells": [
  {
   "cell_type": "code",
   "execution_count": null,
   "id": "0d5c3b17",
   "metadata": {},
   "outputs": [],
   "source": [
    "                                                 # Python "
   ]
  },
  {
   "cell_type": "code",
   "execution_count": 1,
   "id": "a92e2fb1",
   "metadata": {
    "scrolled": true
   },
   "outputs": [
    {
     "name": "stdout",
     "output_type": "stream",
     "text": [
      "Hello, World!\n"
     ]
    }
   ],
   "source": [
    "print(\"Hello, World!\")"
   ]
  },
  {
   "cell_type": "code",
   "execution_count": 2,
   "id": "4e6d862f",
   "metadata": {},
   "outputs": [
    {
     "name": "stdout",
     "output_type": "stream",
     "text": [
      "Enter number :3\n",
      "Weird\n"
     ]
    }
   ],
   "source": [
    "# Given an integer, , perform the following conditional actions:\n",
    "\n",
    "# If  is odd, print Weird\n",
    "# If  is even and in the inclusive range of 2 to 5 , print Not Weird\n",
    "# If  is even and in the inclusive range of 6 to 20, print Weird\n",
    "# If  is even and greater than 20, print Not Weird\n",
    "\n",
    "n=int(input(\"Enter number :\"))\n",
    "if n%2 == 0:\n",
    "    print(\"number is even\")\n",
    "    if n >= 2 and n <= 5:\n",
    "        print (\"Not Weird\")\n",
    "    elif n >= 6 and n <= 20:\n",
    "        print (\"Weird\")\n",
    "    elif n > 20:\n",
    "        print (\"Not Weird\")\n",
    "        \n",
    "else:\n",
    "    #print(\"number is odd\")\n",
    "    print(\"Weird\")"
   ]
  },
  {
   "cell_type": "code",
   "execution_count": 12,
   "id": "22e14c0e",
   "metadata": {},
   "outputs": [
    {
     "name": "stdout",
     "output_type": "stream",
     "text": [
      "3 \n",
      "2\n",
      "5\n",
      "1\n",
      "6\n"
     ]
    }
   ],
   "source": [
    "# The provided code stub reads two integers from STDIN, a and b. Add code to print three lines where:\n",
    "\n",
    "# The first line contains the sum of the two numbers.\n",
    "# The second line contains the difference of the two numbers (first - second).\n",
    "# The third line contains the product of the two numbers.\n",
    "\n",
    "a = int(input())\n",
    "b = int(input())\n",
    "\n",
    "print(a+b)\n",
    "print(a-b)\n",
    "print(a*b)"
   ]
  },
  {
   "cell_type": "code",
   "execution_count": 14,
   "id": "ce8681a7",
   "metadata": {},
   "outputs": [
    {
     "name": "stdout",
     "output_type": "stream",
     "text": [
      "4\n",
      "3\n",
      "1\n",
      "1.3333333333333333\n"
     ]
    }
   ],
   "source": [
    "# Task\n",
    "# The provided code stub reads two integers, a and b, from STDIN.\n",
    "\n",
    "# Add logic to print two lines. The first line should contain the result of integer division, a // b. \n",
    "# The second line should contain the result of float division, a / b.\n",
    "\n",
    "# No rounding or formatting is necessary.\n",
    "\n",
    "a = int(input())\n",
    "b = int(input())\n",
    "\n",
    "print(a//b)\n",
    "print(a/b)\n"
   ]
  },
  {
   "cell_type": "code",
   "execution_count": 16,
   "id": "4d229f01",
   "metadata": {},
   "outputs": [
    {
     "name": "stdout",
     "output_type": "stream",
     "text": [
      "5\n",
      "0\n",
      "1\n",
      "4\n",
      "9\n",
      "16\n"
     ]
    }
   ],
   "source": [
    "# Task\n",
    "# The provided code stub reads and integer,n , from STDIN. For all non-negative integers i<n, print i² .\n",
    "\n",
    "n=int(input())\n",
    "for i in range(n):\n",
    "    print(i*i)"
   ]
  },
  {
   "cell_type": "code",
   "execution_count": 33,
   "id": "04cd7a97",
   "metadata": {},
   "outputs": [
    {
     "name": "stdout",
     "output_type": "stream",
     "text": [
      "1990\n",
      "False\n"
     ]
    }
   ],
   "source": [
    "# Task\n",
    "\n",
    "# Given a year, determine whether it is a leap year. If it is a leap year, return the Boolean True, otherwise return False.\n",
    "\n",
    "# Note that the code stub provided reads from STDIN and passes arguments to the is_leap function. \n",
    "# It is only necessary to complete the is_leap function.\n",
    "\n",
    "\n",
    "\n",
    "def is_leap(year):\n",
    "    leap = False\n",
    "    \n",
    "    # Write your logic here\n",
    "    if year%4==0:\n",
    "        if year%100==0:\n",
    "            if year%400==0:\n",
    "                leap=True\n",
    "            else:\n",
    "                leap=False\n",
    "        else:\n",
    "             leap=True\n",
    "    else:\n",
    "        leap=False\n",
    "\n",
    "    return leap\n",
    "\n",
    "\n",
    "\n",
    "year = int(input())\n",
    "print(is_leap(year))\n",
    "    \n",
    "    "
   ]
  },
  {
   "cell_type": "code",
   "execution_count": null,
   "id": "1e6bf267",
   "metadata": {
    "scrolled": true
   },
   "outputs": [],
   "source": [
    "# The included code stub will read an integer,n , from STDIN.\n",
    "# Without using any string methods, try to print the following:\n",
    "# 123 ...n\n",
    "# Note that\"...\" represents the consecutive values in between.\n",
    "\n",
    "n = int(input())\n",
    "for i in range(n):\n",
    "    print(i+1,end=\"\")\n",
    "\n",
    "#     i=1\n",
    "# while i<=n:\n",
    "#     print (i)\n",
    "\n",
    "\n",
    "#     i=i+1\n"
   ]
  },
  {
   "cell_type": "code",
   "execution_count": 3,
   "id": "626ed5e6",
   "metadata": {},
   "outputs": [
    {
     "name": "stdout",
     "output_type": "stream",
     "text": [
      "1\n",
      "1\n",
      "1\n",
      "2\n",
      "[[0, 0, 0], [0, 0, 1], [0, 1, 0], [1, 0, 0], [1, 1, 1]]\n"
     ]
    }
   ],
   "source": [
    "# Let's learn about list comprehensions! You are given three integers x,y and z representing the dimensions of a cuboid \n",
    "# along with an integer n. Print a list of all possible coordinates given by  (i,j,k)  on a 3D grid where the \n",
    "# sum of i+j+k is not equal to n. Here, 0<=i<=x;  0<=j<=k<=z.\n",
    "# Please use list comprehensions rather than multiple loops, as a learning exercise.\n",
    "\n",
    "x = int(input())\n",
    "y = int(input())\n",
    "z = int(input())\n",
    "n = int(input())\n",
    "ans = [[i, j, k] for i in range(x + 1) for j in range(y + 1) for k in range(\n",
    "    z+ 1) if i + j + k != n]\n",
    "print (ans)"
   ]
  },
  {
   "cell_type": "code",
   "execution_count": null,
   "id": "b91bfe21",
   "metadata": {},
   "outputs": [],
   "source": []
  },
  {
   "cell_type": "code",
   "execution_count": null,
   "id": "c9167ccc",
   "metadata": {},
   "outputs": [],
   "source": [
    "from manger import \n",
    "def customer_reole():  # function defination\n",
    "    while True : #user while loop\n",
    "        print(store)\n",
    "        user_choice=input(\"select Your Fruit : \")\n",
    "        print(\"Your Fruit selected Apple.\")\n",
    "        if user_choice in store.keys():  #user_choice in store.keys for if statment\n",
    "            F_qty=int(input(\"Enter Fruit Quntity : \"))\n",
    "            store[user_choice][\"quantity\"]-=F_qty  #- to user fruit Qty\n",
    "            print(\"Avelable Fruits : \",store[user_choice])\n",
    "        else:\n",
    "            print(\"Fruit not exiesting your stock\")\n",
    "        yn=input(\"Press Y for yes and N for no : \")\n",
    "        if yn == 'y':\n",
    "            continue\n",
    "        elif yn == 'n':\n",
    "            break"
   ]
  },
  {
   "cell_type": "code",
   "execution_count": null,
   "id": "178a9db1",
   "metadata": {},
   "outputs": [],
   "source": [
    "# from manger import *    # import manger (*) mines  oll function import\n",
    "# from customer import *   # import customer (*) mines  oll function import \n",
    "while True:\n",
    "    print(\"Wellcome To Fruit Market\")\n",
    "    item='''\\n      \n",
    "    1) Manger\n",
    "    2) Customer\n",
    "    3) Go To Exit\n",
    "    '''               # user choice\n",
    "    print(item)   # display  role\n",
    "    s_role=int(input(\"Enter Your Role : \")) #input role\n",
    "    if s_role == 1:   #user select 1 role to manger\n",
    "        print(\"Fruit Market manger\")      \n",
    "        choice='''\n",
    "        1)Add Fruit Stock\n",
    "        2)View Fruit Stock\n",
    "        3)Update Fruit Stock   \n",
    "        '''\n",
    "        while True:\n",
    "                print(choice)   #display choice\n",
    "                s_choice=int(input(\"Select Your Choice : \"))\n",
    "                if s_choice == 1:  #user select 1 choice to Add fruit stock\n",
    "                    Add_Fruit_Stock()  # function call\n",
    "                    yn=input(\"Press Y for yes and N for no : \")\n",
    "                    if yn == 'y':  #user 'y' for yes to continue to program\n",
    "                        continue\n",
    "                    elif yn == 'n':  #uesr 'n' for no to break to program\n",
    "                        break\n",
    "                elif s_choice == 2:  #user select 2 choice to View fruit stock\n",
    "                    View_Fruit_Stock()  #function call\n",
    "                    yn=input(\"Press Y for yes and N for no : \")\n",
    "                    if yn == 'y': #user 'y' for yes to continue to program\n",
    "                        continue\n",
    "                    elif yn == 'n': #user 'n' for no to break to program\n",
    "                        break  \n",
    "                elif s_choice == 3:\n",
    "                    Update_Fruit_Stock()  # function call\n",
    "                    yn=input(\"Press Y for yes and N for no : \")\n",
    "                    if yn == 'y':  #user 'y' for yes to continue to program\n",
    "                        continue\n",
    "                    elif yn == 'n':  #user 'n' for no to break to program\n",
    "                        break\n",
    "    elif s_role == 2:  #user select 2 role to customer\n",
    "        customer_reole()  # function call\n",
    "        \n",
    "    elif s_role == 3:  #user select 3 role to Got back to program\n",
    "        print(\"ThankYou for visit\")\n",
    "        break"
   ]
  },
  {
   "cell_type": "code",
   "execution_count": null,
   "id": "7962dc46",
   "metadata": {},
   "outputs": [],
   "source": [
    "store={}\n",
    "def Add_Fruit_Stock():  # function defination\n",
    "    print(\"ADD FRUIT STOCK\")\n",
    "    F_name=input(\"Enter Fruit Name : \")  #user fruit name\n",
    "    F_que=int(input(\"Enter Qty (in kg) : \"))  #user fruit Qty for kg\n",
    "    F_price=int(input(\"Enter Price (in kg): \"))  #user input fruit price for per kg\n",
    "    print(f\"Fruit Name : {F_name}\\nFruit Qty : {F_que}\\nFruit Price : {F_price}\")\n",
    "    global store  #global variable\n",
    "    store.update({F_name:{\"quantity\":F_que,\"Price\":F_price}})   #update for store variable\n",
    "def View_Fruit_Stock():  # function defination\n",
    "    print(\"View Fruit Stock\")\n",
    "    print(store)\n",
    "def Update_Fruit_Stock():   # function defination\n",
    "    print(\"Update Fruit Stock\")\n",
    "    S_Fruit=input(\"Enter Fruit Name :\")\n",
    "    if S_Fruit in store.keys():  #S_fruit in store.key for if statment\n",
    "        F_qty=int(input(\"Enter Fruit Quntity : \"))\n",
    "        store[S_Fruit][\"quantity\"]+=F_qty  #manager update Qty \n",
    "    else:\n",
    "        print(\"Fruit not exiesting your stock\")\n",
    "           \n",
    "    \n",
    "def Customer():    # function defination\n",
    "    print(\"Fruit Market Customer\")"
   ]
  }
 ],
 "metadata": {
  "kernelspec": {
   "display_name": "Python 3 (ipykernel)",
   "language": "python",
   "name": "python3"
  },
  "language_info": {
   "codemirror_mode": {
    "name": "ipython",
    "version": 3
   },
   "file_extension": ".py",
   "mimetype": "text/x-python",
   "name": "python",
   "nbconvert_exporter": "python",
   "pygments_lexer": "ipython3",
   "version": "3.10.9"
  }
 },
 "nbformat": 4,
 "nbformat_minor": 5
}
