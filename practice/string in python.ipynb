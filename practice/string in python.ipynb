{
 "cells": [
  {
   "cell_type": "code",
   "execution_count": null,
   "id": "a57ec4f4",
   "metadata": {},
   "outputs": [],
   "source": [
    "# # string\n",
    "# string is a collection which is defined in\n",
    "# ' '\n",
    "# \" \"\n",
    "# ''' '''\n",
    "# \"\"\" \"\"\"\n",
    "str1=\"Hello I am LEarning python\"\n",
    "print(str1)"
   ]
  },
  {
   "cell_type": "code",
   "execution_count": null,
   "id": "73da7f4a",
   "metadata": {},
   "outputs": [],
   "source": [
    "# string is immutable \n",
    "# immutable means changes not allowed\n"
   ]
  },
  {
   "cell_type": "code",
   "execution_count": 2,
   "id": "49538a4e",
   "metadata": {},
   "outputs": [
    {
     "ename": "TypeError",
     "evalue": "'str' object does not support item assignment",
     "output_type": "error",
     "traceback": [
      "\u001b[1;31m---------------------------------------------------------------------------\u001b[0m",
      "\u001b[1;31mTypeError\u001b[0m                                 Traceback (most recent call last)",
      "Cell \u001b[1;32mIn[2], line 2\u001b[0m\n\u001b[0;32m      1\u001b[0m str1\u001b[38;5;241m=\u001b[39m\u001b[38;5;124m\"\u001b[39m\u001b[38;5;124mhello\u001b[39m\u001b[38;5;124m\"\u001b[39m\n\u001b[1;32m----> 2\u001b[0m str1[\u001b[38;5;241m1\u001b[39m]\u001b[38;5;241m=\u001b[39m\u001b[38;5;124m\"\u001b[39m\u001b[38;5;124mk\u001b[39m\u001b[38;5;124m\"\u001b[39m\n\u001b[0;32m      3\u001b[0m \u001b[38;5;28mprint\u001b[39m(str1[\u001b[38;5;241m1\u001b[39m])\n",
      "\u001b[1;31mTypeError\u001b[0m: 'str' object does not support item assignment"
     ]
    }
   ],
   "source": [
    "str1=\"hello\"\n",
    "str1[1]=\"k\"\n",
    "print(str1[1])"
   ]
  },
  {
   "cell_type": "code",
   "execution_count": 8,
   "id": "a9e0c6eb",
   "metadata": {},
   "outputs": [
    {
     "name": "stdout",
     "output_type": "stream",
     "text": [
      "hello\n",
      "i am learning python\n",
      "i am learning\n"
     ]
    }
   ],
   "source": [
    "                                                # date of lecture:08-04-2023\n",
    "#  String \n",
    "str1=\"hello i am learning python\"\n",
    "print(str1[:5])\n",
    "print(str1[6:])\n",
    "print(str1[6:19])"
   ]
  },
  {
   "cell_type": "code",
   "execution_count": 7,
   "id": "fd7b4953",
   "metadata": {},
   "outputs": [
    {
     "data": {
      "text/plain": [
       "['__add__',\n",
       " '__class__',\n",
       " '__contains__',\n",
       " '__delattr__',\n",
       " '__dir__',\n",
       " '__doc__',\n",
       " '__eq__',\n",
       " '__format__',\n",
       " '__ge__',\n",
       " '__getattribute__',\n",
       " '__getitem__',\n",
       " '__getnewargs__',\n",
       " '__gt__',\n",
       " '__hash__',\n",
       " '__init__',\n",
       " '__init_subclass__',\n",
       " '__iter__',\n",
       " '__le__',\n",
       " '__len__',\n",
       " '__lt__',\n",
       " '__mod__',\n",
       " '__mul__',\n",
       " '__ne__',\n",
       " '__new__',\n",
       " '__reduce__',\n",
       " '__reduce_ex__',\n",
       " '__repr__',\n",
       " '__rmod__',\n",
       " '__rmul__',\n",
       " '__setattr__',\n",
       " '__sizeof__',\n",
       " '__str__',\n",
       " '__subclasshook__',\n",
       " 'capitalize',\n",
       " 'casefold',\n",
       " 'center',\n",
       " 'count',\n",
       " 'encode',\n",
       " 'endswith',\n",
       " 'expandtabs',\n",
       " 'find',\n",
       " 'format',\n",
       " 'format_map',\n",
       " 'index',\n",
       " 'isalnum',\n",
       " 'isalpha',\n",
       " 'isascii',\n",
       " 'isdecimal',\n",
       " 'isdigit',\n",
       " 'isidentifier',\n",
       " 'islower',\n",
       " 'isnumeric',\n",
       " 'isprintable',\n",
       " 'isspace',\n",
       " 'istitle',\n",
       " 'isupper',\n",
       " 'join',\n",
       " 'ljust',\n",
       " 'lower',\n",
       " 'lstrip',\n",
       " 'maketrans',\n",
       " 'partition',\n",
       " 'removeprefix',\n",
       " 'removesuffix',\n",
       " 'replace',\n",
       " 'rfind',\n",
       " 'rindex',\n",
       " 'rjust',\n",
       " 'rpartition',\n",
       " 'rsplit',\n",
       " 'rstrip',\n",
       " 'split',\n",
       " 'splitlines',\n",
       " 'startswith',\n",
       " 'strip',\n",
       " 'swapcase',\n",
       " 'title',\n",
       " 'translate',\n",
       " 'upper',\n",
       " 'zfill']"
      ]
     },
     "execution_count": 7,
     "metadata": {},
     "output_type": "execute_result"
    }
   ],
   "source": [
    "# string methods\n",
    "str1=\"hello\"\n",
    "dir(str1)"
   ]
  },
  {
   "cell_type": "code",
   "execution_count": 6,
   "id": "5552a122",
   "metadata": {},
   "outputs": [
    {
     "name": "stdout",
     "output_type": "stream",
     "text": [
      "Hello i am learning hjkdhjdh python\n"
     ]
    }
   ],
   "source": [
    "# capitalize() ---capital first letter and smalls other letters\n",
    "str1=\"hello i am learning HJKDHJDH python\"\n",
    "str2=str1.capitalize()\n",
    "print(str1.capitalize())"
   ]
  },
  {
   "cell_type": "code",
   "execution_count": 4,
   "id": "870fdbc2",
   "metadata": {},
   "outputs": [
    {
     "name": "stdout",
     "output_type": "stream",
     "text": [
      "Hello I Am Learning Hjkdhjdh Python\n"
     ]
    }
   ],
   "source": [
    "# title()--first letter of every word in capital and\n",
    "# others letter of word in small\n",
    "str1=\"hello i am learning HJKDHJDH python\"\n",
    "print(str1.title())"
   ]
  },
  {
   "cell_type": "code",
   "execution_count": 5,
   "id": "e174d3fa",
   "metadata": {},
   "outputs": [
    {
     "name": "stdout",
     "output_type": "stream",
     "text": [
      "Enter Fullname: avani tejani\n",
      "Avani Tejani\n"
     ]
    }
   ],
   "source": [
    "str1=input(\"Enter Fullname: \")\n",
    "print(str1.title())\n"
   ]
  },
  {
   "cell_type": "code",
   "execution_count": 3,
   "id": "40605a43",
   "metadata": {},
   "outputs": [
    {
     "name": "stdout",
     "output_type": "stream",
     "text": [
      "erhnguj hbjkfebdk jbgvjkb nbhj -ä -äkedb cjhvrbfjhb ß  ggefnjsf\n"
     ]
    }
   ],
   "source": [
    "# lower()---changes whole string into lower case\n",
    "str1=\"erhnguj HBJKFEBDK jbgvjkb NBHJ -Ä -ÄKEDB cjhvrbfjhb ß  ggeFNJSF\"\n",
    "print(str1.lower())"
   ]
  },
  {
   "cell_type": "code",
   "execution_count": 2,
   "id": "a5dad62b",
   "metadata": {},
   "outputs": [
    {
     "name": "stdout",
     "output_type": "stream",
     "text": [
      "erhnguj hbjkfebdk jbgvjkb nbhjke -ä -ädb cjhvrbfjhb ss  ggefnjsf\n"
     ]
    }
   ],
   "source": [
    "# casefold()--changes whole string into lower case and its is powerful than lower\n",
    "str1=\"erhnguj HBJKFEBDK jbgvjkb NBHJKE -Ä -ÄDB cjhvrbfjhb ß  ggeFNJSF\"\n",
    "print(str1.casefold())"
   ]
  },
  {
   "cell_type": "code",
   "execution_count": 1,
   "id": "238b18bc",
   "metadata": {},
   "outputs": [
    {
     "name": "stdout",
     "output_type": "stream",
     "text": [
      "                      dhgfk                       \n",
      "**********************dhgfk***********************\n"
     ]
    }
   ],
   "source": [
    "# center(lenght,[character])--it will put the string in center of the\n",
    "# length mentioned and fill the balnk space with space and if we want to fill\n",
    "# other characters then we pass second parameter\n",
    "str1=\"dhgfk\"\n",
    "print(str1.center(50))\n",
    "print(str1.center(50,\"*\"))"
   ]
  },
  {
   "cell_type": "code",
   "execution_count": 13,
   "id": "769e772e",
   "metadata": {
    "scrolled": true
   },
   "outputs": [
    {
     "name": "stdout",
     "output_type": "stream",
     "text": [
      "Enter a number:5\n",
      "    *     \n",
      "   * *    \n",
      "  * * *   \n",
      " * * * *  \n",
      "* * * * * \n"
     ]
    }
   ],
   "source": [
    "n=int(input(\"Enter a number:\"))\n",
    "str1=\"\"#no reqvird\n",
    "for i in range(1,n+1):\n",
    "    str1=\"* \"*i\n",
    "    print(str1.center(n*2))\n"
   ]
  },
  {
   "cell_type": "code",
   "execution_count": 9,
   "id": "e1295d63",
   "metadata": {},
   "outputs": [
    {
     "name": "stdout",
     "output_type": "stream",
     "text": [
      "WER nerjgehrgj************************************\n"
     ]
    }
   ],
   "source": [
    "# ljust(length,[character]) --it will put the string in left of the\n",
    "# length mentioned and fill the balnk space with space and if we want to fill\n",
    "# other characters then we pass second parameter\n",
    "str1=\"WER nerjgehrgj\"\n",
    "print(str1.ljust(50,\"*\"))"
   ]
  },
  {
   "cell_type": "code",
   "execution_count": 10,
   "id": "f96aa485",
   "metadata": {},
   "outputs": [
    {
     "name": "stdout",
     "output_type": "stream",
     "text": [
      "************************************WER nerjgehrgj\n"
     ]
    }
   ],
   "source": [
    "# rjust(length,[character]) --it will put the string in right of the\n",
    "# length mentioned and fill the balnk space with space and if we want to fill\n",
    "# other characters then we pass second parameter\n",
    "str1=\"WER nerjgehrgj\"\n",
    "print(str1.rjust(50,\"*\"))"
   ]
  },
  {
   "cell_type": "code",
   "execution_count": 14,
   "id": "bcb6d6de",
   "metadata": {},
   "outputs": [
    {
     "name": "stdout",
     "output_type": "stream",
     "text": [
      "Enter a number:5\n",
      "        * \n",
      "      * * \n",
      "    * * * \n",
      "  * * * * \n",
      "* * * * * \n"
     ]
    }
   ],
   "source": [
    "n=int(input(\"Enter a number:\"))\n",
    "str1=\"\"#no reqvird\n",
    "for i in range(1,n+1):\n",
    "    str1=\"* \"*i\n",
    "    print(str1.rjust(n*2))"
   ]
  },
  {
   "cell_type": "code",
   "execution_count": 15,
   "id": "a2cce8b7",
   "metadata": {},
   "outputs": [
    {
     "name": "stdout",
     "output_type": "stream",
     "text": [
      "er                                                gerl                                              k mnjkg                                           b bkjtbk\n"
     ]
    }
   ],
   "source": [
    "# expandtabs(lenght)--set the space inside the tabs\n",
    "str1=\"er\\tgerl\\tk mnjkg\\tb bkjtbk\".expandtabs(50)\n",
    "print(str1)"
   ]
  },
  {
   "cell_type": "code",
   "execution_count": 14,
   "id": "5f9b3634",
   "metadata": {},
   "outputs": [
    {
     "name": "stdout",
     "output_type": "stream",
     "text": [
      "True\n",
      "True\n"
     ]
    }
   ],
   "source": [
    "# endswith(\"substring\",[start,stop])--it checks whether the string endswith the given substring or not\n",
    "str1=\"hello i am very very stron person what you believe\"\n",
    "print(str1.endswith(\"you believe\"))\n",
    "print(str1.endswith(\"stron\",15,26))"
   ]
  },
  {
   "cell_type": "code",
   "execution_count": 20,
   "id": "dc95b7f1",
   "metadata": {},
   "outputs": [
    {
     "data": {
      "text/plain": [
       "0"
      ]
     },
     "execution_count": 20,
     "metadata": {},
     "output_type": "execute_result"
    }
   ],
   "source": [
    "# count(\"substring\",[start,stop])--gives the occurence\n",
    "str1=\"hello i am very well in very food in learning and learn new language well\"\n",
    "str1.count(\"well\")\n",
    "str1.count(\"well\",25)\n",
    "str1.count(\"well\",25,32)"
   ]
  },
  {
   "cell_type": "code",
   "execution_count": 3,
   "id": "83438617",
   "metadata": {},
   "outputs": [
    {
     "name": "stdout",
     "output_type": "stream",
     "text": [
      "1 \n",
      "1 2 \n",
      "1 2 3 \n",
      "1 2 3 4 \n",
      "1 2 3 4 5 \n"
     ]
    }
   ],
   "source": [
    "# pattern 1\n",
    "for i in range(0, 5):\n",
    "    num = 1\n",
    "    for j in range(0, i+1):\n",
    "        print(num, end=\" \")\n",
    "        num = num + 1\n",
    "    print()"
   ]
  },
  {
   "cell_type": "code",
   "execution_count": 1,
   "id": "6d3ceadc",
   "metadata": {},
   "outputs": [
    {
     "name": "stdout",
     "output_type": "stream",
     "text": [
      "A \n",
      "B B \n",
      "C C C \n",
      "D D D D \n",
      "E E E E E \n"
     ]
    }
   ],
   "source": [
    "# pattern 2\n",
    "value = 65\n",
    "for i in range(0, 5):\n",
    "    for j in range(0, i+1):\n",
    "        ch = chr(value)\n",
    "        print(ch, end=\" \")\n",
    "    value = value + 1\n",
    "    print()\n",
    "    "
   ]
  },
  {
   "cell_type": "code",
   "execution_count": 4,
   "id": "6c0fc44f",
   "metadata": {},
   "outputs": [
    {
     "name": "stdout",
     "output_type": "stream",
     "text": [
      "Enter a number:5\n",
      "*         \n",
      "* *       \n",
      "* * *     \n",
      "* * * *   \n",
      "* * * * * \n"
     ]
    }
   ],
   "source": [
    "# pattern 3\n",
    "n=int(input(\"Enter a number:\"))\n",
    "str1=\"\"#no reqvird\n",
    "for i in range(1,n+1):\n",
    "    str1=\"* \"*i\n",
    "    print(str1.ljust(n*2))"
   ]
  },
  {
   "cell_type": "code",
   "execution_count": 7,
   "id": "f153ee31",
   "metadata": {},
   "outputs": [
    {
     "name": "stdout",
     "output_type": "stream",
     "text": [
      "Enter a number:6\n",
      " \n",
      "1  \n",
      "2 2  \n",
      "3 3 3  \n",
      "4 4 4 4  \n",
      "5 5 5 5 5  \n"
     ]
    }
   ],
   "source": [
    "# pattern 4\n",
    "row=int(input(\"Enter a number:\"))\n",
    "for num in range(row):\n",
    "    for i in range(num):\n",
    "        print(num, end=\" \") # print number\n",
    "# line after each row to display pattern correctly\n",
    "        print(\" \")"
   ]
  },
  {
   "cell_type": "code",
   "execution_count": null,
   "id": "bf1960f6",
   "metadata": {},
   "outputs": [],
   "source": []
  },
  {
   "cell_type": "code",
   "execution_count": 8,
   "id": "f27150fd",
   "metadata": {},
   "outputs": [
    {
     "name": "stdout",
     "output_type": "stream",
     "text": [
      "Enter a number:5\n",
      "        * \n",
      "      * * \n",
      "    * * * \n",
      "  * * * * \n",
      "* * * * * \n"
     ]
    }
   ],
   "source": [
    "# pattern 6\n",
    "n=int(input(\"Enter a number:\"))\n",
    "str1=\"\"#no reqvird\n",
    "for i in range(1,n+1):\n",
    "    str1=\"* \"*i\n",
    "    print(str1.rjust(n*2))"
   ]
  },
  {
   "cell_type": "code",
   "execution_count": 3,
   "id": "d6036eae",
   "metadata": {},
   "outputs": [
    {
     "name": "stdout",
     "output_type": "stream",
     "text": [
      "8\n",
      "-1\n"
     ]
    }
   ],
   "source": [
    "                                        # date of lecture:  #11-04-2023\n",
    "\n",
    "#find(suvstring)-- return the index position of substring\n",
    "str1=\"Hello i am good\"\n",
    "print(str1.find(\"am\"))\n",
    "print(str1.find(\"very\"))"
   ]
  },
  {
   "cell_type": "code",
   "execution_count": 2,
   "id": "834db24d",
   "metadata": {},
   "outputs": [
    {
     "name": "stdout",
     "output_type": "stream",
     "text": [
      "8\n"
     ]
    },
    {
     "ename": "ValueError",
     "evalue": "substring not found",
     "output_type": "error",
     "traceback": [
      "\u001b[1;31m---------------------------------------------------------------------------\u001b[0m",
      "\u001b[1;31mValueError\u001b[0m                                Traceback (most recent call last)",
      "Cell \u001b[1;32mIn[2], line 4\u001b[0m\n\u001b[0;32m      2\u001b[0m str1\u001b[38;5;241m=\u001b[39m\u001b[38;5;124m\"\u001b[39m\u001b[38;5;124mHello i am good\u001b[39m\u001b[38;5;124m\"\u001b[39m\n\u001b[0;32m      3\u001b[0m \u001b[38;5;28mprint\u001b[39m(str1\u001b[38;5;241m.\u001b[39mindex(\u001b[38;5;124m\"\u001b[39m\u001b[38;5;124mam\u001b[39m\u001b[38;5;124m\"\u001b[39m))\n\u001b[1;32m----> 4\u001b[0m \u001b[38;5;28mprint\u001b[39m(\u001b[43mstr1\u001b[49m\u001b[38;5;241;43m.\u001b[39;49m\u001b[43mindex\u001b[49m\u001b[43m(\u001b[49m\u001b[38;5;124;43m\"\u001b[39;49m\u001b[38;5;124;43mvery\u001b[39;49m\u001b[38;5;124;43m\"\u001b[39;49m\u001b[43m)\u001b[49m)\n",
      "\u001b[1;31mValueError\u001b[0m: substring not found"
     ]
    }
   ],
   "source": [
    "\n",
    "#index(suvstring)-- return the index position substring\n",
    "str1=\"Hello i am good\"\n",
    "print(str1.index(\"am\"))\n",
    "print(str1.index(\"very\")) #return vlueerror when substring not in staring"
   ]
  },
  {
   "cell_type": "code",
   "execution_count": 3,
   "id": "2ea1ddf0",
   "metadata": {},
   "outputs": [
    {
     "name": "stdout",
     "output_type": "stream",
     "text": [
      "                    python programing                    \n",
      "python programing                    \n",
      "                    python programing\n",
      "python programing\n"
     ]
    }
   ],
   "source": [
    "str1=\"                    python programing                    \"\n",
    "print(str1)\n",
    "print(str1.lstrip()) #removes left whitespaces\n",
    "print(str1.rstrip()) #removes right whitespaces\n",
    "print(str1.strip()) #removes left and right whitespaces"
   ]
  },
  {
   "cell_type": "code",
   "execution_count": 9,
   "id": "d974b924",
   "metadata": {},
   "outputs": [
    {
     "name": "stdout",
     "output_type": "stream",
     "text": [
      "('Hello i ', 'am', ' learning python')\n",
      "('', 'Hello', ' i am learning python')\n",
      "('Hello i am learning ', 'python', '')\n",
      "('Hello i am learning python', '', '')\n"
     ]
    }
   ],
   "source": [
    "# partition (substing)\n",
    "# string 3 parts 1st left of the substring\n",
    "# 2nd parts substring itself\n",
    "# 3rd parts right of the substring\n",
    "\n",
    "str1=\"Hello i am learning python\"\n",
    "print(str1.partition(\"am\"))\n",
    "print(str1.partition(\"Hello\"))\n",
    "print(str1.partition(\"python\"))\n",
    "print(str1.partition(\"very\"))\n"
   ]
  },
  {
   "cell_type": "code",
   "execution_count": 3,
   "id": "01e8b150",
   "metadata": {},
   "outputs": [
    {
     "name": "stdout",
     "output_type": "stream",
     "text": [
      "hello ***** world ***** ok ***** done ***** woew\n",
      "hello world ok done woew\n"
     ]
    }
   ],
   "source": [
    "# join\n",
    "str1=\"hello thi is good\"\n",
    "list1=[\"hello\",\"world\",\"ok\",\"done\",\"woew\"]\n",
    "print(\" ***** \".join(list1))\n",
    "print(\" \".join(list1))\n"
   ]
  },
  {
   "cell_type": "code",
   "execution_count": 14,
   "id": "30a083c6",
   "metadata": {},
   "outputs": [
    {
     "name": "stdout",
     "output_type": "stream",
     "text": [
      "hello world ok done wow\n"
     ]
    }
   ],
   "source": [
    "str1=\"hello thi is good\"\n",
    "list1=[\"hello\",\"world\",\"ok\",\"done\",\"wow\"]\n",
    "print(\" \".join(list1))"
   ]
  },
  {
   "cell_type": "code",
   "execution_count": 4,
   "id": "b91ece5d",
   "metadata": {},
   "outputs": [
    {
     "name": "stdout",
     "output_type": "stream",
     "text": [
      "hello thi is bed\n"
     ]
    }
   ],
   "source": [
    "#replace\n",
    "str1=\"hello thi is good\"\n",
    "print(str1.replace(\"good\",\"bed\"))"
   ]
  },
  {
   "cell_type": "code",
   "execution_count": 5,
   "id": "16bcd931",
   "metadata": {},
   "outputs": [
    {
     "name": "stdout",
     "output_type": "stream",
     "text": [
      "True\n"
     ]
    }
   ],
   "source": [
    "#isalnum\n",
    "#without space true \n",
    "str1=\"hellothiisgoodAVANI04102001at\"\n",
    "print(str1.isalnum())#without space true "
   ]
  },
  {
   "cell_type": "code",
   "execution_count": 7,
   "id": "10e77296",
   "metadata": {},
   "outputs": [
    {
     "name": "stdout",
     "output_type": "stream",
     "text": [
      "True\n"
     ]
    }
   ],
   "source": [
    "#isalpha\n",
    "str1=\"hellothiisgood\"\n",
    "print(str1.isalpha())"
   ]
  },
  {
   "cell_type": "code",
   "execution_count": 11,
   "id": "c9ace404",
   "metadata": {
    "scrolled": true
   },
   "outputs": [
    {
     "name": "stdout",
     "output_type": "stream",
     "text": [
      "False\n"
     ]
    }
   ],
   "source": [
    "#isascii\n",
    "str1=\"hellothiisg  € ood\"  #€ euro is not ascci value\n",
    "print(str1.isascii())"
   ]
  },
  {
   "cell_type": "code",
   "execution_count": null,
   "id": "4860f451",
   "metadata": {},
   "outputs": [],
   "source": [
    "#isidentifire\n",
    "str1=\"hellothiisg\"  #variyable na name lkhvani rite true aave\n",
    "print(str1.isidentifire())"
   ]
  },
  {
   "cell_type": "code",
   "execution_count": 16,
   "id": "7dfd9402",
   "metadata": {},
   "outputs": [
    {
     "name": "stdout",
     "output_type": "stream",
     "text": [
      "False\n"
     ]
    }
   ],
   "source": [
    "#islower\n",
    "str1=\"hellotHisg\" # all small lettre are true ,ANEY one CCAPITAL letter are false\n",
    "print(str1.islower())\n"
   ]
  },
  {
   "cell_type": "code",
   "execution_count": 17,
   "id": "d17f6d6b",
   "metadata": {},
   "outputs": [
    {
     "name": "stdout",
     "output_type": "stream",
     "text": [
      "erger\\eve\n",
      "True\n"
     ]
    }
   ],
   "source": [
    "#isprintable\n",
    "str1=\"erger\\eve\"\n",
    "print(str1)\n",
    "print(str1.isprintable())"
   ]
  },
  {
   "cell_type": "code",
   "execution_count": 19,
   "id": "a5a8faf8",
   "metadata": {},
   "outputs": [
    {
     "data": {
      "text/plain": [
       "False"
      ]
     },
     "execution_count": 19,
     "metadata": {},
     "output_type": "execute_result"
    }
   ],
   "source": [
    "#isspace\n",
    "str1=\"True is Ture \"#True Is Ture ------>True  #True is Tur Fe------>False\n",
    "# print(str1.isspace()) str1=\"\")\n",
    "str1.istitle()"
   ]
  },
  {
   "cell_type": "code",
   "execution_count": 18,
   "id": "b80caad8",
   "metadata": {
    "scrolled": true
   },
   "outputs": [
    {
     "name": "stdout",
     "output_type": "stream",
     "text": [
      "enter stringavani tejani\n",
      "inajet inava\n"
     ]
    }
   ],
   "source": [
    "#reversed\n",
    "str1=input(\"enter string\")\n",
    "print(''.join(reversed(str1)))"
   ]
  },
  {
   "cell_type": "code",
   "execution_count": 25,
   "id": "0bf9a45a",
   "metadata": {},
   "outputs": [
    {
     "name": "stdout",
     "output_type": "stream",
     "text": [
      "enter string :opiu\n",
      "uipo\n"
     ]
    }
   ],
   "source": [
    "str1=input(\"enter string :\")\n",
    "if len(str1)%4 == 0:\n",
    "    print(''.join(reversed(str1)))\n",
    "else:    \n",
    "    print(\"str1\")\n",
    "    "
   ]
  },
  {
   "cell_type": "code",
   "execution_count": null,
   "id": "54bc71a8",
   "metadata": {},
   "outputs": [],
   "source": [
    "stringerbrgrb rtb\n",
    "str[0:15:1]\n",
    "str[-1: :-1]"
   ]
  },
  {
   "cell_type": "code",
   "execution_count": 8,
   "id": "fe6723c0",
   "metadata": {
    "scrolled": true
   },
   "outputs": [
    {
     "name": "stdout",
     "output_type": "stream",
     "text": [
      "Enter Number: 7\n",
      "0\n",
      "1\n",
      "1\n",
      "2\n",
      "3\n",
      "5\n",
      "8\n"
     ]
    }
   ],
   "source": [
    "n=int(input(\"Enter Number: \"))\n",
    "n1=0\n",
    "n2=1\n",
    "if n==1:\n",
    "    print(n1)\n",
    "else:\n",
    "    print(n1)\n",
    "    print(n2)\n",
    "    for i in range(n-2):\n",
    "        temp=n1+n2\n",
    "        print(temp)\n",
    "        n1=n2\n",
    "        n2=temp"
   ]
  },
  {
   "cell_type": "code",
   "execution_count": 18,
   "id": "b46beb25",
   "metadata": {},
   "outputs": [
    {
     "name": "stdout",
     "output_type": "stream",
     "text": [
      "['this is ', ' string']\n"
     ]
    }
   ],
   "source": [
    "                                               # date of lecture:  #13-04-2023\n",
    "# split()\n",
    "str1=\"this is my string\"\n",
    "#list1=str1.split(\" \")\n",
    "#   #list1=str1.split(\"\")  #ValueError: empty separator\n",
    "list1=str1.split(\"my\")\n",
    "#list1=str1.split(\"this\")\n",
    "#list1=str1.split(\"s\")\n",
    "#list1=str1.split(\"string\")\n",
    "#list1=str1.split(\"avani\")\n",
    "print(list1)\n"
   ]
  },
  {
   "cell_type": "code",
   "execution_count": 19,
   "id": "03e9803d",
   "metadata": {},
   "outputs": [
    {
     "name": "stdout",
     "output_type": "stream",
     "text": [
      "['thiS', 'iS', 'mY', 'strinG']\n",
      "thiS iS mY strinG\n"
     ]
    }
   ],
   "source": [
    "str1=\"this is my string\"\n",
    "list2=[]\n",
    "list1=str1.split(\" \")\n",
    "for i in list1:\n",
    "    l2=list(i)\n",
    "    l2[-1]=l2[-1].upper()\n",
    "    str1=\"\".join(l2)\n",
    "    list2.append(str1)\n",
    "print(list2)\n",
    "str1=\" \".join(list2)\n",
    "print(str1)"
   ]
  },
  {
   "cell_type": "code",
   "execution_count": 20,
   "id": "71356c37",
   "metadata": {},
   "outputs": [
    {
     "name": "stdout",
     "output_type": "stream",
     "text": [
      "Enter Character: h\n",
      "consonant\n"
     ]
    }
   ],
   "source": [
    "# new method of find out vowel and consonant\n",
    "vowel=input(\"Enter Character: \")\n",
    "if vowel in \"aeiouAEIOU\":\n",
    "    print(\"vowel\")\n",
    "else:\n",
    "    print(\"consonant\")"
   ]
  },
  {
   "cell_type": "code",
   "execution_count": null,
   "id": "3c4a8d2f",
   "metadata": {},
   "outputs": [],
   "source": []
  },
  {
   "cell_type": "code",
   "execution_count": null,
   "id": "ca23b194",
   "metadata": {},
   "outputs": [],
   "source": [
    "\"k\" in [\"p\",\"p\",\"r\"]"
   ]
  },
  {
   "cell_type": "code",
   "execution_count": 24,
   "id": "05e0fc19",
   "metadata": {},
   "outputs": [
    {
     "name": "stdout",
     "output_type": "stream",
     "text": [
      "hello World!\n",
      "hello World!\n"
     ]
    },
    {
     "data": {
      "text/plain": [
       "'hello World!'"
      ]
     },
     "execution_count": 24,
     "metadata": {},
     "output_type": "execute_result"
    }
   ],
   "source": [
    "str1=(\"hello\")\n",
    "str2=(\"World!\")\n",
    "str1+str2\n",
    "print(\" \".join([str1 , str2]))\n",
    "print(f\"{str1} {str2}\")\n",
    "\n",
    "str1+\" \"+str2"
   ]
  },
  {
   "cell_type": "code",
   "execution_count": 25,
   "id": "60c58ab1",
   "metadata": {},
   "outputs": [
    {
     "name": "stdout",
     "output_type": "stream",
     "text": [
      "helloefdmgketr\n",
      "ehlloefdmgkert\n"
     ]
    }
   ],
   "source": [
    "str1=\"helloefdmgkert\"\n",
    "str2=str1[:-2]+str1[-1]+str1[-2]\n",
    "str3=str1[1]+str2[0]+str1[2:]\n",
    "print(str2)\n",
    "print(str3)"
   ]
  },
  {
   "cell_type": "code",
   "execution_count": 26,
   "id": "3508c4b0",
   "metadata": {},
   "outputs": [
    {
     "name": "stdout",
     "output_type": "stream",
     "text": [
      "ehllo owrld\n"
     ]
    }
   ],
   "source": [
    "str1=\"hello\"\n",
    "str2=\"world\"\n",
    "str1=str1[1]+str1[0]+str1[2:]\n",
    "str2=str2[1]+str2[0]+str2[2:]\n",
    "print(str1+\" \"+str2)\n"
   ]
  },
  {
   "cell_type": "code",
   "execution_count": null,
   "id": "4505796e",
   "metadata": {},
   "outputs": [],
   "source": []
  },
  {
   "cell_type": "code",
   "execution_count": 2,
   "id": "a604c930",
   "metadata": {},
   "outputs": [
    {
     "name": "stdout",
     "output_type": "stream",
     "text": [
      "ENter String: avani  not poor and good\n"
     ]
    },
    {
     "ename": "TypeError",
     "evalue": "replace expected at least 2 arguments, got 1",
     "output_type": "error",
     "traceback": [
      "\u001b[1;31m---------------------------------------------------------------------------\u001b[0m",
      "\u001b[1;31mTypeError\u001b[0m                                 Traceback (most recent call last)",
      "Cell \u001b[1;32mIn[2], line 14\u001b[0m\n\u001b[0;32m     11\u001b[0m poor \u001b[38;5;241m=\u001b[39m str1\u001b[38;5;241m.\u001b[39mfind(\u001b[38;5;124m'\u001b[39m\u001b[38;5;124mpoor\u001b[39m\u001b[38;5;124m'\u001b[39m)\n\u001b[0;32m     13\u001b[0m \u001b[38;5;28;01mif\u001b[39;00m snot\u001b[38;5;241m<\u001b[39mpoor:\n\u001b[1;32m---> 14\u001b[0m     string\u001b[38;5;241m=\u001b[39m\u001b[43mstr1\u001b[49m\u001b[38;5;241;43m.\u001b[39;49m\u001b[43mreplace\u001b[49m\u001b[43m(\u001b[49m\u001b[43mstr1\u001b[49m\u001b[43m[\u001b[49m\u001b[38;5;241;43m2\u001b[39;49m\u001b[43m:\u001b[49m\u001b[43m]\u001b[49m\u001b[43m[\u001b[49m\u001b[43m:\u001b[49m\u001b[38;5;241;43m-\u001b[39;49m\u001b[38;5;241;43m1\u001b[39;49m\u001b[43m]\u001b[49m\u001b[43m)\u001b[49m\n\u001b[0;32m     15\u001b[0m     \u001b[38;5;28mprint\u001b[39m(str2)\n\u001b[0;32m     16\u001b[0m \u001b[38;5;28;01melse\u001b[39;00m:\n",
      "\u001b[1;31mTypeError\u001b[0m: replace expected at least 2 arguments, got 1"
     ]
    }
   ],
   "source": [
    "# 19.    Write a Python program to find the first appearance of the substring \n",
    "         # 'not' and 'poor' from a given string, if 'not' follows the 'poor', replace the \n",
    "         # whole 'not'...'poor' substring with 'good'. Return the resulting string.\n",
    "\n",
    "        \n",
    "#str1=(\"Hello i am not good and poor\")-->  # not poor yaniki good\n",
    "#str2=(\"hello this is to much poor\")---> # only poor\n",
    "str1=input(\"ENter String: \") #The user will provide a string\n",
    "\n",
    "snot = str1.find('not')\n",
    "poor = str1.find('poor')\n",
    "\n",
    "if snot<poor:\n",
    "    string=str1.replace(str1[2:][:-1])\n",
    "    print(str2)\n",
    "else:\n",
    "    print(str1)\n",
    "    \n"
   ]
  },
  {
   "cell_type": "code",
   "execution_count": 11,
   "id": "15736c89",
   "metadata": {},
   "outputs": [
    {
     "name": "stdout",
     "output_type": "stream",
     "text": [
      "Enter a string :a ac sdf gyhb njokl\n",
      "Largest string of lenth : ['a', 'ac', 'sdf', 'gyhb', 'njokl'] is 5\n"
     ]
    }
   ],
   "source": [
    "\n",
    "# Q.20 Write a Python function that takes a list of words and returns the length of the longest one.\n",
    "str1= input(\"Enter a string :\")  #The user will provide a string\n",
    "s=str1.split()  #To turn a string into a split\n",
    "long=len(s[0]) # To view split string length\n",
    "for i in s:\n",
    "    if long < len(i):  #check to len(i) long to big or not \n",
    "        long = len(i)  # is True are to stor len(i) in long variable \n",
    "print(f\"Largest string of lenth : {s} is {long}\")"
   ]
  },
  {
   "cell_type": "code",
   "execution_count": 20,
   "id": "ecd0bb1e",
   "metadata": {},
   "outputs": [
    {
     "name": "stdout",
     "output_type": "stream",
     "text": [
      "Enter string: s fg bnm hjkl poiuy\n",
      "['s', 'fg', 'bnm', 'hjkl', 'poiuy']\n",
      "Largest string of lenth : ['s', 'fg', 'bnm', 'hjkl', 'poiuy'] is 5\n"
     ]
    }
   ],
   "source": [
    "# Q.20 Write a Python function that takes a list of words and returns the length of the longest one.\n",
    "string=input(\"Enter string: \")\n",
    "list1=string.split(\" \")\n",
    "print(list1)\n",
    "long=len(string[0])\n",
    "for i in list1:\n",
    "    if long < len(i):\n",
    "        long = len(i)\n",
    "print(f\"Largest string of lenth : {list1} is {long}\")\n",
    "\n",
    "# def find_longest_word(words_list):\n",
    "#     word_len = []\n",
    "#     for n in words_list:\n",
    "#         word_len.append((len(n), n))\n",
    "#     word_len.sort()\n",
    "#     return word_len[-1][0], word_len[-1][1]\n",
    "# result = find_longest_word([\"PHP\", \"Exercises\", \"Backend\"])\n",
    "# print(\"\\nLongest word: \",result[1])\n",
    "# print(\"Length of the longest word: \",result[0])"
   ]
  },
  {
   "cell_type": "code",
   "execution_count": 8,
   "id": "ba803e4f",
   "metadata": {},
   "outputs": [
    {
     "ename": "SyntaxError",
     "evalue": "'return' outside function (2507413224.py, line 12)",
     "output_type": "error",
     "traceback": [
      "\u001b[1;36m  Cell \u001b[1;32mIn[8], line 12\u001b[1;36m\u001b[0m\n\u001b[1;33m    return counts\u001b[0m\n\u001b[1;37m    ^\u001b[0m\n\u001b[1;31mSyntaxError\u001b[0m\u001b[1;31m:\u001b[0m 'return' outside function\n"
     ]
    }
   ],
   "source": [
    "#16.\n",
    "def word_count(str):\n",
    "    counts = dict()\n",
    "    words = str.split()\n",
    "\n",
    "for word in words:\n",
    "    if word in counts:\n",
    "        counts[word] += 1\n",
    "    else:\n",
    "        counts[word] = 1\n",
    "\n",
    "    return counts\n",
    "\n",
    "print( word_count('the quick brown fox jumps over the lazy dog.'))"
   ]
  },
  {
   "cell_type": "code",
   "execution_count": 10,
   "id": "9ac999b8",
   "metadata": {},
   "outputs": [
    {
     "name": "stdout",
     "output_type": "stream",
     "text": [
      "Hello demo\n"
     ]
    }
   ],
   "source": [
    "\n",
    "str1=\"Hello\"\n",
    "\n",
    "str1=str1+\" \"+\"demo\"\n",
    "print(str1)\n",
    "#hello demo\n"
   ]
  },
  {
   "cell_type": "code",
   "execution_count": 20,
   "id": "35cf21f1",
   "metadata": {},
   "outputs": [
    {
     "name": "stdout",
     "output_type": "stream",
     "text": [
      "Enter the String: dfjutrhj bdhjrgurtvb heguth\n",
      "d=2\n",
      "f=1\n",
      "j=3\n",
      "u=3\n",
      "t=3\n",
      "r=3\n",
      "h=4\n",
      " =2\n",
      "b=2\n",
      "g=2\n",
      "v=1\n",
      "e=1\n",
      "\n"
     ]
    }
   ],
   "source": [
    "#13  Write a Python program to count the number of characters (character frequency) in a string\n",
    "\n",
    "str1=input(\"Enter the String: \")\n",
    "str2=\"\"\n",
    "for i in str1:\n",
    "    if str1.count(i)<2:\n",
    "        str2=str2+i+\"=\"+str(str1.count(i))+\"\\n\"\n",
    "    else:\n",
    "        if i not in str2:\n",
    "            str2=(str2+i+\"=\"+str(str1.count(i))+\"\\n\")\n",
    "        \n",
    "print(str2)"
   ]
  },
  {
   "cell_type": "code",
   "execution_count": 35,
   "id": "72a65848",
   "metadata": {},
   "outputs": [
    {
     "name": "stdout",
     "output_type": "stream",
     "text": [
      "4\n",
      "8\n",
      "8\n",
      "9\n",
      "15\n"
     ]
    }
   ],
   "source": [
    "# 20.    Write a Python function that takes a list of words and returns the length of the longest one.\n",
    "l1=[\"fkbj\",\"rgrgrggr\",\"grhgurhg\",\"G6hhyh6hy\",\"rfhtgghfbvnthvj\"]\n",
    "str2=\"\"\n",
    "for i in l1:\n",
    "    print(len(i))\n",
    "    str2=str2+\" \"+str(len(i))\n",
    "list1=str2.split(\" \")\n",
    "list2=[]\n",
    "for i in list1:\n",
    "    list2.append(str(i))"
   ]
  },
  {
   "cell_type": "code",
   "execution_count": 4,
   "id": "4139f55f",
   "metadata": {},
   "outputs": [
    {
     "name": "stdout",
     "output_type": "stream",
     "text": [
      "Enter String :from a given string\n",
      "hello 'good' from a given string\n"
     ]
    }
   ],
   "source": [
    "# 19.    Write a Python program to find the first appearance of the substring \n",
    "         # 'not' and 'poor' from a given string, if 'not' follows the 'poor', replace the \n",
    "         # whole 'not'...'poor' substring with 'good'. Return the resulting string.\n",
    "\n",
    "        \n",
    "str1=input(\"Enter String :\")\n",
    "ind_not=str1.find(\"not\")\n",
    "ind_poor=str1.find(\"poor\")\n",
    "if ind_not<ind_poor:\n",
    "    str2=str1[:ind_not]+\"good\"+str1[ind_poor+4:]\n",
    "print(str2)"
   ]
  },
  {
   "cell_type": "code",
   "execution_count": 5,
   "id": "821c3526",
   "metadata": {},
   "outputs": [
    {
     "name": "stdout",
     "output_type": "stream",
     "text": [
      "Enter the String: dgs sgs sfa3 rwr\n",
      "d=1\n",
      "g=2\n",
      "s=4\n",
      " =3\n",
      "f=1\n",
      "a=1\n",
      "3=1\n",
      "r=2\n",
      "w=1\n",
      "\n"
     ]
    }
   ],
   "source": [
    "#16  Write a Python program to count the occurrences of each word in a given sentence\n",
    "\n",
    "str1=input(\"Enter the String: \")\n",
    "words = str1.split()  #number convort to split\n",
    "\n",
    "#13  Write a Python program to count the number of characters (character frequency) in a string\n",
    "\n",
    "str2=\"\"\n",
    "for i in str1:\n",
    "    if str1.count(i)<2:\n",
    "        str2=str2+i+\"=\"+str(str1.count(i))+\"\\n\"\n",
    "    else:\n",
    "        if i not in str2:\n",
    "            str2=(str2+i+\"=\"+str(str1.count(i))+\"\\n\")\n",
    "        \n",
    "print(str2)\n"
   ]
  }
 ],
 "metadata": {
  "kernelspec": {
   "display_name": "Python 3 (ipykernel)",
   "language": "python",
   "name": "python3"
  },
  "language_info": {
   "codemirror_mode": {
    "name": "ipython",
    "version": 3
   },
   "file_extension": ".py",
   "mimetype": "text/x-python",
   "name": "python",
   "nbconvert_exporter": "python",
   "pygments_lexer": "ipython3",
   "version": "3.10.9"
  }
 },
 "nbformat": 4,
 "nbformat_minor": 5
}
