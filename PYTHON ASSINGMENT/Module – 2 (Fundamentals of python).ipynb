{
 "cells": [
  {
   "cell_type": "code",
   "execution_count": 1,
   "id": "58c87184",
   "metadata": {},
   "outputs": [
    {
     "name": "stdout",
     "output_type": "stream",
     "text": [
      "Enter A Number: 0\n",
      "Zero\n"
     ]
    }
   ],
   "source": [
    "\n",
    "\n",
    "# 1.  Write a Python program to check if a number is positive, negative or zero.\n",
    "\n",
    "num=int(input(\"Enter A Number: \"))#convert a to an integer(if possible)\n",
    "if num>0:\n",
    "    print(\"Positive\") # If the number is less than 0 then the number is positive\n",
    "elif num<0:\n",
    "    print(\"negative\") # If the number is greater than 0 then the number is negative\n",
    "else:\n",
    "    print(\"Zero\")   # Otherwise number is 0"
   ]
  },
  {
   "cell_type": "code",
   "execution_count": 12,
   "id": "d7534fc8",
   "metadata": {},
   "outputs": [
    {
     "name": "stdout",
     "output_type": "stream",
     "text": [
      "Enter The Number:5\n",
      "The Factorial Of 5 Number Is 1\n",
      "The Factorial Of 5 Number Is 2\n",
      "The Factorial Of 5 Number Is 6\n",
      "The Factorial Of 5 Number Is 24\n",
      "The Factorial Of 5 Number Is 120\n"
     ]
    }
   ],
   "source": [
    "# 2.  Write a Python program to get the Factorial number of given number.\n",
    "\n",
    "#n! = 1*2*3*.....*n\n",
    "#5! = 1+2+3+4+5\n",
    "\n",
    "num = int (input(\"Enter The Number:\"))  # To take inputs from the user\n",
    "factorial=1\n",
    "for i in range(1,num+1):\n",
    "    factorial = factorial * i\n",
    "    print (f\"The Factorial Of {num} Number Is {factorial}\")"
   ]
  },
  {
   "cell_type": "code",
   "execution_count": 1,
   "id": "9fe45e45",
   "metadata": {},
   "outputs": [
    {
     "name": "stdout",
     "output_type": "stream",
     "text": [
      "Enter Number: 15\n",
      "0\n",
      "1\n",
      "1\n",
      "2\n",
      "3\n",
      "5\n",
      "8\n",
      "13\n",
      "21\n",
      "34\n",
      "55\n",
      "89\n",
      "144\n",
      "233\n",
      "377\n"
     ]
    }
   ],
   "source": [
    "# 3. Write a Python program to get the Fibonacci series of given range.\n",
    "n=int(input(\"Enter Number: \"))  # To take inputs from the user\n",
    "n1=0\n",
    "n2=1\n",
    "if n==1:               #if number equal to one\n",
    "    print(n1)\n",
    "else:                  #else logic fabonacci\n",
    "    print(n1)\n",
    "    print(n2)\n",
    "    for i in range(n-2):\n",
    "        temp=n1+n2         # temp=0+1\n",
    "        print(temp)         \n",
    "        n1=n2              # 0=1\n",
    "        n2=temp            # 0=temp\n",
    "\n"
   ]
  },
  {
   "cell_type": "code",
   "execution_count": null,
   "id": "655f8131",
   "metadata": {},
   "outputs": [],
   "source": [
    "# 4.   How memory is managed in Python?\n",
    "# ANS---  Memory management in Python involves a private heap containing all Python objects and data structures. \n",
    "#         The management of this private heap is ensured internally by the Python memory manager."
   ]
  },
  {
   "cell_type": "code",
   "execution_count": null,
   "id": "59e4b8cb",
   "metadata": {},
   "outputs": [],
   "source": [
    "# 5.  What is the purpose continue statement in python?\n",
    "# ANS--- The continue keyword is used to end the current iteration in a for loop (or a while loop),\n",
    "#        and continues to the next iteration"
   ]
  },
  {
   "cell_type": "code",
   "execution_count": 1,
   "id": "d78f5186",
   "metadata": {},
   "outputs": [
    {
     "name": "stdout",
     "output_type": "stream",
     "text": [
      "Enter value of x: 6\n",
      "Enter value of y: 9\n",
      "x is:9  y is:6\n",
      "Enter value of first value a: 5\n",
      "Enter value of second value b: 8\n",
      "a is:8  b is:5\n"
     ]
    }
   ],
   "source": [
    "# 6.  Write python program that swap two number with temp variable and without temp variable.\n",
    "    \n",
    "# with temp variable    \n",
    "# To take inputs from the user\n",
    "x = input('Enter value of x: ') \n",
    "y = input('Enter value of y: ')\n",
    "\n",
    "# create a temporary variable and swap the values\n",
    "temp = x \n",
    "x = y\n",
    "y = temp\n",
    "\n",
    "print(f\"x is:{x}\",f\" y is:{y}\")     # The value of x and y after swapping: {x} an {y}\n",
    "      \n",
    "# without temp variable.\n",
    "# To take inputs from the user\n",
    "a=int(input(\"Enter value of first value a: \"))\n",
    "b=int(input(\"Enter value of second value b: \"))\n",
    "a=a+b\n",
    "b=a-b\n",
    "a=a-b\n",
    "# create a without temp variable and swap the values\n",
    "print(f\"a is:{a}\",f\" b is:{b}\")      # The value of x and y after swapping: {a} an {b}\n",
    "\n"
   ]
  },
  {
   "cell_type": "code",
   "execution_count": 57,
   "id": "f03d34f4",
   "metadata": {
    "scrolled": true
   },
   "outputs": [
    {
     "name": "stdout",
     "output_type": "stream",
     "text": [
      "Enter value of first variable: 5\n",
      "Enter value of second variable: 3\n",
      "a is:3  b is:5\n"
     ]
    }
   ],
   "source": [
    "# 6. Write python program that swap two number with temp variable and without temp variable.\n",
    "\n",
    "# To take inputs from the user\n",
    "a=int(input(\"Enter value of first variable: \"))\n",
    "b=int(input(\"Enter value of second variable: \"))\n",
    "a=a+b\n",
    "b=a-b\n",
    "a=a-b\n",
    "# create a without temp variable and swap the values\n",
    "print(f\"a is:{a}\",f\" b is:{b}\")\n",
    "\n",
    "# x=5\n",
    "# y=9\n",
    "# x, y = y, x\n",
    "# print(\"x =\", x)\n",
    "# print(\"y =\", y)"
   ]
  },
  {
   "cell_type": "code",
   "execution_count": 48,
   "id": "3b2df595",
   "metadata": {},
   "outputs": [
    {
     "name": "stdout",
     "output_type": "stream",
     "text": [
      "Enter The Number:8\n",
      " 8 Number is even\n"
     ]
    }
   ],
   "source": [
    "# 7.  Write a Python program to find whether a given number is even or odd, print out an appropriate message to the user.\n",
    "num = int (input(\"Enter The Number:\"))\n",
    "if  num % 2 ==   0:\n",
    "    print(f\" {num} Number is even\")   # If a number is divisible by 2 then that number is even\n",
    "else:\n",
    "    print(f\" {num} Number is odd\")    # Otherwise it is odd\n",
    "    \n",
    "    \n"
   ]
  },
  {
   "cell_type": "code",
   "execution_count": 2,
   "id": "34bef656",
   "metadata": {},
   "outputs": [
    {
     "name": "stdout",
     "output_type": "stream",
     "text": [
      "Enter letter in Aa to Zz :a\n",
      "letter is a vowel\n",
      "Enter Character: A\n",
      "vowel\n"
     ]
    }
   ],
   "source": [
    "# 8.  Write a Python program to test whether a passed letter is a vowel or not.\n",
    "vowel= (input(\"Enter letter in Aa to Zz :\"))\n",
    "if (vowel==\"a\"or vowel==\"e\"or vowel==\"i\"or vowel==\"o\"or vowel==\"u\" or \n",
    "    vowel==\"A\"or vowel==\"E\"or vowel==\"I\"or vowel==\"O\"or vowel==\"U\"):\n",
    "    print(\"letter is a vowel\")\n",
    "else:\n",
    "    print(\"[letter is not vowel this is consonat]\")\n",
    "    \n",
    "# second method    \n",
    "vowel=input(\"Enter Character: \")  \n",
    "if vowel in \"aeiouAEIOU\":   #--------- uppercase & lowercase vowel \n",
    "    print(\"vowel\")   #---------------- character of sring is equal to vowel ,then the letter is vowel\n",
    "else:\n",
    "    print(\"consonant\")  #------------- Otherwise it is consonant"
   ]
  },
  {
   "cell_type": "code",
   "execution_count": 8,
   "id": "91ed2c86",
   "metadata": {},
   "outputs": [
    {
     "name": "stdout",
     "output_type": "stream",
     "text": [
      "enter 1st number:3\n",
      "enter 2nd number:3\n",
      "enter 3rd number:3\n",
      "sum is 9: \n",
      "two equal value \n",
      " sum will be 0 :\n"
     ]
    }
   ],
   "source": [
    "# 9.  Write a Python program to sum of three given integers. However, if two values are equal sum will be zero.\n",
    "n1=int(input(\"enter 1st number:\"))\n",
    "n2=int(input(\"enter 2nd number:\"))    # To take inputs from the user\n",
    "n3=int(input(\"enter 3rd number:\"))\n",
    "sum=n1+n2+n3\n",
    "print(f\"Total sum is three value {sum}: \")\n",
    "if n1 == n2 or n1 == n3:   #check for two value are equal or not\n",
    "    if n1 == n2:\n",
    "        print(f\"two equal value \\n sum will be {n1-n2} :\")\n",
    "    else:\n",
    "        print(f\"two equal value \\n sum will be {n1-n3} :\")\n",
    "        \n",
    "elif n2 == n1 or n2 == n3:   #check for two value are equal or not\n",
    "    if n2 == n1:\n",
    "        print(f\"two equal value \\n sum will be {n2-n1} :\")\n",
    "    else:\n",
    "        print(f\"two equal value \\n sum will be {n1-n3} :\")\n",
    "else:\n",
    "    print(\"[Two value is not eqyal]\")# If the value is not equal then this massage will be printed"
   ]
  },
  {
   "cell_type": "code",
   "execution_count": 14,
   "id": "237c77c2",
   "metadata": {},
   "outputs": [
    {
     "name": "stdout",
     "output_type": "stream",
     "text": [
      "Enter first number :10\n",
      "Enter second numbeer :5\n",
      "True\n"
     ]
    }
   ],
   "source": [
    "# 10.  Write a Python program that will return true if the two given integer values are equal or their sum or difference is 5.\n",
    "a= int(input(\"Enter first number :\"))\n",
    "b= int(input(\"Enter second numbeer :\"))    # To take inputs from the user\n",
    "\n",
    "if ((a == b) or (a - b)== 5 or (a + b)== 5):#check for two number are equal or their sum or difference\n",
    "    print(\"True\")\n",
    "else:\n",
    "    print(\"False\")"
   ]
  },
  {
   "cell_type": "code",
   "execution_count": 17,
   "id": "7343b46b",
   "metadata": {},
   "outputs": [
    {
     "name": "stdout",
     "output_type": "stream",
     "text": [
      "enter number:5\n",
      "0\n",
      "1\n",
      "3\n",
      "6\n",
      "10\n",
      "15\n"
     ]
    }
   ],
   "source": [
    "# 11. Write a python program to sum of the first n positive integers\n",
    "num=int(input(\"enter number:\")) # To take inputs from the user\n",
    "sum=0\n",
    "for i in range (0,num+1): # The number will increase up to num and add \n",
    "    \n",
    "    sum=sum+i\n",
    "    print(sum)\n"
   ]
  },
  {
   "cell_type": "code",
   "execution_count": 11,
   "id": "420b6210",
   "metadata": {},
   "outputs": [
    {
     "name": "stdout",
     "output_type": "stream",
     "text": [
      "Enter Your Name :avani tejani\n",
      "12\n"
     ]
    }
   ],
   "source": [
    "# 12  Write a Python program to calculate the length of a string.\n",
    "\n",
    "str1 = input(\"Enter Your Name :\")  # To take inputs name from the user\n",
    "#print(\"str1\")\n",
    "print(len(str1)) #check for string length using string methods\n",
    "\n"
   ]
  },
  {
   "cell_type": "code",
   "execution_count": 2,
   "id": "164cf25b",
   "metadata": {},
   "outputs": [
    {
     "name": "stdout",
     "output_type": "stream",
     "text": [
      "Enter the String: i am avani tejani\n",
      "i=3\n",
      " =3\n",
      "a=4\n",
      "m=1\n",
      "v=1\n",
      "n=2\n",
      "t=1\n",
      "e=1\n",
      "j=1\n",
      "\n"
     ]
    }
   ],
   "source": [
    "# 13 Write a Python program to count the number of characters (character frequency) in a string\n",
    "\n",
    "str1=input(\"Enter the String: \")   # To take inputs string from the user\n",
    "str2=\"\"\n",
    "for i in str1:\n",
    "    if str1.count(i)<2:\n",
    "        str2=str2+i+\"=\"+str(str1.count(i))+\"\\n\"\n",
    "    else:\n",
    "        if i not in str2:\n",
    "            str2=(str2+i+\"=\"+str(str1.count(i))+\"\\n\")\n",
    "        \n",
    "print(str2)"
   ]
  },
  {
   "cell_type": "code",
   "execution_count": null,
   "id": "ed9e91bf",
   "metadata": {},
   "outputs": [],
   "source": [
    "# 14.  What are negative indexes and why are they used?\n",
    "# ANS--- Negative Indexing is used to in Python to begin slicing from the end of the string i.e. the last. \n",
    "#        Slicing in Python gets a sub-string from a string. The slicing range is set as parameters i.e. start, stop and step"
   ]
  },
  {
   "cell_type": "code",
   "execution_count": 3,
   "id": "a51b0af6",
   "metadata": {},
   "outputs": [
    {
     "name": "stdout",
     "output_type": "stream",
     "text": [
      "Enter sentence :hello this is python string count occurrences program\n",
      "Enter character to count occurrences :r\n",
      "5\n"
     ]
    }
   ],
   "source": [
    "# 15.    Write a Python program to count occurrences of a substring in a string.\n",
    "\n",
    "string = input(\"Enter sentence :\")   # To take inputs sring from the user\n",
    "char = input(\"Enter character to count occurrences :\")\n",
    "\n",
    "print(string.count(f\"{char}\"))   # count sub string using string count methods"
   ]
  },
  {
   "cell_type": "code",
   "execution_count": null,
   "id": "55fccf38",
   "metadata": {},
   "outputs": [],
   "source": [
    "# 16.    Write a Python program to count the occurrences of each word in a given sentence\n",
    "\n",
    "str1=input(\"Enter the String: \")   # To take inputs sring from the user\n",
    "words = str1.split()  # number convort to split\n",
    "string={}             # create empty Dictionaries\n",
    "\n",
    "\n",
    "for i in words:\n",
    "    if i in string:\n",
    "        string[i]+=1   # increment 1\n",
    "    else:\n",
    "        string[i]=1    # equal to 1\n",
    "print(string)"
   ]
  },
  {
   "cell_type": "code",
   "execution_count": 22,
   "id": "eb643130",
   "metadata": {},
   "outputs": [
    {
     "name": "stdout",
     "output_type": "stream",
     "text": [
      "Enter A String1 : tejani\n",
      "Enter A String2 : avani\n",
      "You entered this string   : tejani | avani\n",
      "This string is about swap : avjani | teani\n"
     ]
    }
   ],
   "source": [
    "# 17.    Write a Python program to get a single string from two given strings, separated by a space and \n",
    "         # swap the first two characters of each string.\n",
    "    \n",
    "#take input string from user\n",
    "a =(input(\"Enter A String1 : \"))\n",
    "b =(input(\"Enter A String2 : \"))\n",
    "print(f'You entered this string   : {a} | {b}')\n",
    "\n",
    "#swap first two characters of given string\n",
    "a1 = b[:2] + a[2:] \n",
    "b1 = a[:2] + b[2:]\n",
    "\n",
    "#print result\n",
    "print(f'This string is about swap : {a1} | {b1}')\n"
   ]
  },
  {
   "cell_type": "code",
   "execution_count": 28,
   "id": "8d55af5f",
   "metadata": {},
   "outputs": [
    {
     "name": "stdout",
     "output_type": "stream",
     "text": [
      "Enter sentence :run\n",
      "runing\n"
     ]
    }
   ],
   "source": [
    "# 18.    Write a Python program to add 'ing' at the end of a given string (length \n",
    "         # should be at least 3). If the given string already ends with 'ing' then add \n",
    "         # 'ly' instead if the string length of the given string is less than 3, leave it unchanged.\n",
    "        \n",
    "string = input(\"Enter sentence :\")\n",
    "#length should be at least 3\n",
    "if len(string) < 3:\n",
    "    print(string)\n",
    "#using endswith\n",
    "elif string.endswith('ing'):\n",
    "    #If 'ing' is given at the end of the string then 'ly' will be instead\n",
    "    print(string + 'ly')\n",
    "else:\n",
    "    #If 'ing' leave it unchanged.\n",
    "    print(string + 'ing')\n",
    "        "
   ]
  },
  {
   "cell_type": "code",
   "execution_count": 1,
   "id": "0852ef7f",
   "metadata": {},
   "outputs": [
    {
     "name": "stdout",
     "output_type": "stream",
     "text": [
      "Enter String :hello 'not' and or 'poor' string -----\n",
      "hello 'good' string -----\n"
     ]
    }
   ],
   "source": [
    "# 19.    Write a Python program to find the first appearance of the substring \n",
    "         # 'not' and 'poor' from a given string, if 'not' follows the 'poor', replace the \n",
    "         # whole 'not'...'poor' substring with 'good'. Return the resulting string.\n",
    "\n",
    "str1=input(\"Enter String :\")  #take input string from user\n",
    "ind_not=str1.find(\"not\")      # using find\n",
    "ind_poor=str1.find(\"poor\")\n",
    "if ind_not<ind_poor:\n",
    "    str2=str1[:ind_not]+\"good\"+str1[ind_poor+4:]\n",
    "print(str2)"
   ]
  },
  {
   "cell_type": "code",
   "execution_count": 1,
   "id": "884a05dc",
   "metadata": {},
   "outputs": [
    {
     "name": "stdout",
     "output_type": "stream",
     "text": [
      "4\n",
      "8\n",
      "8\n",
      "9\n",
      "15\n"
     ]
    }
   ],
   "source": [
    "# 20.    Write a Python function that takes a list of words and returns the length of the longest one.\n",
    "\n",
    "l1=[\"fkbj\",\"rgrgrggr\",\"grhgurhg\",\"G6hhyh6hy\",\"rfhtgghfbvnthvj\"]\n",
    "str2=\"\"\n",
    "for i in l1:\n",
    "    print(len(i))            # using length method\n",
    "    str2=str2+\" \"+str(len(i))\n",
    "list1=str2.split(\" \")\n",
    "list2=[]\n",
    "for i in list1:\n",
    "    list2.append(str(i))"
   ]
  },
  {
   "cell_type": "code",
   "execution_count": 9,
   "id": "080032b3",
   "metadata": {},
   "outputs": [
    {
     "name": "stdout",
     "output_type": "stream",
     "text": [
      "Enter String: avani tejani\n",
      "inajet inava\n"
     ]
    }
   ],
   "source": [
    "# 21.    Write a Python function to reverses a string if its length is a multiple of 4.\n",
    "\n",
    "str1=input(\"Enter String: \")  #take input string from user\n",
    "if len(str1)%4==0:\n",
    "    print(str1[-1::-1])\n"
   ]
  },
  {
   "cell_type": "code",
   "execution_count": 10,
   "id": "e55c75f0",
   "metadata": {},
   "outputs": [
    {
     "name": "stdout",
     "output_type": "stream",
     "text": [
      "Enter a string :avanitejani\n",
      "avni\n"
     ]
    }
   ],
   "source": [
    "# 22.    Write a Python program to get a string made of the first 2 and the last 2 chars from a given a string.\n",
    "         # If the string length is less than 2, return instead of the empty string.\n",
    "\n",
    "str1=input(\"Enter a string :\")   #take input string from user\n",
    "if len(str1)<2:                # length is lessthen 2\n",
    "    print(\"\")\n",
    "else:\n",
    "    string=str1[:2]+str1[-2:]\n",
    "    print(string)    "
   ]
  },
  {
   "cell_type": "code",
   "execution_count": 16,
   "id": "ee4bf9de",
   "metadata": {
    "scrolled": true
   },
   "outputs": [
    {
     "name": "stdout",
     "output_type": "stream",
     "text": [
      "Enter the sting :tejani\n",
      "3\n",
      "jan\n"
     ]
    }
   ],
   "source": [
    "# 23.    Write a Python function to insert a string in the middle of a string.\n",
    "string=input(\"Enter the sting :\")    #take input string from user\n",
    "middleIndex=int(len(string)/2)       # length of string is divide by 2 = middleIndex\n",
    "print (middleIndex)\n",
    "print(string[middleIndex-1:middleIndex+2])"
   ]
  }
 ],
 "metadata": {
  "kernelspec": {
   "display_name": "Python 3 (ipykernel)",
   "language": "python",
   "name": "python3"
  },
  "language_info": {
   "codemirror_mode": {
    "name": "ipython",
    "version": 3
   },
   "file_extension": ".py",
   "mimetype": "text/x-python",
   "name": "python",
   "nbconvert_exporter": "python",
   "pygments_lexer": "ipython3",
   "version": "3.10.9"
  }
 },
 "nbformat": 4,
 "nbformat_minor": 5
}
