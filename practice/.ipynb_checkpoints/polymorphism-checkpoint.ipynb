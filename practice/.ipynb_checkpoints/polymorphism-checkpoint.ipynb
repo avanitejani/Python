{
 "cells": [
  {
   "cell_type": "code",
   "execution_count": null,
   "id": "9fe23f30",
   "metadata": {},
   "outputs": [],
   "source": [
    "list1=[1,2,3]\n",
    "list2=[4,8,9]\n",
    "for i,j in zip(list1,list2):\n",
    "    print(i,j)"
   ]
  },
  {
   "cell_type": "code",
   "execution_count": null,
   "id": "59d565b8",
   "metadata": {},
   "outputs": [],
   "source": [
    "# file handling\n",
    "# file open\n",
    "# file task or work\n",
    "# file close"
   ]
  },
  {
   "cell_type": "code",
   "execution_count": null,
   "id": "595360b5",
   "metadata": {},
   "outputs": [],
   "source": []
  },
  {
   "cell_type": "code",
   "execution_count": null,
   "id": "d48985dd",
   "metadata": {},
   "outputs": [],
   "source": []
  },
  {
   "cell_type": "code",
   "execution_count": null,
   "id": "ebb70cb6",
   "metadata": {},
   "outputs": [],
   "source": []
  },
  {
   "cell_type": "code",
   "execution_count": null,
   "id": "2f1f9e8b",
   "metadata": {},
   "outputs": [],
   "source": []
  },
  {
   "cell_type": "code",
   "execution_count": 3,
   "id": "045b2001",
   "metadata": {},
   "outputs": [
    {
     "name": "stdout",
     "output_type": "stream",
     "text": [
      "\n",
      "Press 1 for Counselor\n",
      "Press 2 for Faculty\n",
      "Press 3 for Student\n",
      "\n"
     ]
    },
    {
     "ename": "ModuleNotFoundError",
     "evalue": "No module named 'counsellor'",
     "output_type": "error",
     "traceback": [
      "\u001b[1;31m---------------------------------------------------------------------------\u001b[0m",
      "\u001b[1;31mModuleNotFoundError\u001b[0m                       Traceback (most recent call last)",
      "Cell \u001b[1;32mIn[3], line 6\u001b[0m\n\u001b[0;32m      1\u001b[0m \u001b[38;5;28mprint\u001b[39m(\u001b[38;5;124m\"\"\"\u001b[39m\n\u001b[0;32m      2\u001b[0m \u001b[38;5;124mPress 1 for Counselor\u001b[39m\n\u001b[0;32m      3\u001b[0m \u001b[38;5;124mPress 2 for Faculty\u001b[39m\n\u001b[0;32m      4\u001b[0m \u001b[38;5;124mPress 3 for Student\u001b[39m\n\u001b[0;32m      5\u001b[0m \u001b[38;5;124m\"\"\"\u001b[39m)\n\u001b[1;32m----> 6\u001b[0m \u001b[38;5;28;01mfrom\u001b[39;00m \u001b[38;5;21;01mcounsellor\u001b[39;00m \u001b[38;5;28;01mimport\u001b[39;00m \u001b[38;5;241m*\u001b[39m\n\u001b[0;32m      7\u001b[0m \u001b[38;5;28;01mdef\u001b[39;00m \u001b[38;5;21mcounsellor\u001b[39m():\n\u001b[0;32m      8\u001b[0m     \u001b[38;5;28mprint\u001b[39m(\u001b[38;5;124m\"\"\"\u001b[39m\n\u001b[0;32m      9\u001b[0m \u001b[38;5;124m    1. Add Student\u001b[39m\n\u001b[0;32m     10\u001b[0m \u001b[38;5;124m    2. Remove Student\u001b[39m\n\u001b[0;32m     11\u001b[0m \u001b[38;5;124m    3. View All Student\u001b[39m\n\u001b[0;32m     12\u001b[0m \u001b[38;5;124m    4. View Specific Student\u001b[39m\n\u001b[0;32m     13\u001b[0m \u001b[38;5;124m    \u001b[39m\u001b[38;5;124m\"\"\"\u001b[39m)\n",
      "\u001b[1;31mModuleNotFoundError\u001b[0m: No module named 'counsellor'"
     ]
    }
   ],
   "source": [
    "print(\"\"\"\n",
    "Press 1 for Counselor\n",
    "Press 2 for Faculty\n",
    "Press 3 for Student\n",
    "\"\"\")\n",
    "from counsellor import *\n",
    "def counsellor():\n",
    "    print(\"\"\"\n",
    "    1. Add Student\n",
    "    2. Remove Student\n",
    "    3. View All Student\n",
    "    4. View Specific Student\n",
    "    \"\"\")\n",
    "    c_choice=int(input(\"Enter a choice by counsellor: \"))\n",
    "    if c_choice==1:\n",
    "        add_student()\n",
    "        counsellor()\n",
    "    elif c_choice==2:\n",
    "        remove_student()\n",
    "        counsellor()\n",
    "    elif c_choice==3:\n",
    "        view_all_student()\n",
    "        counsellor()\n",
    "    elif c_choice==4:\n",
    "        view_sepcific_student()\n",
    "        counsellor()\n",
    "    else:\n",
    "        print(\"Enter Correct Choice\")\n",
    "\n",
    "def faculty():\n",
    "    pass\n",
    "\n",
    "def student():\n",
    "    pass\n",
    "choice=int(input(\"Enter Role Id: \"))\n",
    "if choice==1:\n",
    "    counsellor()\n",
    "elif choice==2:\n",
    "    faculty()\n",
    "elif choice==3:\n",
    "    student()\n",
    "else:\n",
    "    print(\"Enter Correct Choice\")\n"
   ]
  },
  {
   "cell_type": "code",
   "execution_count": 2,
   "id": "2738eb8b",
   "metadata": {},
   "outputs": [],
   "source": [
    "all_record = {}\n",
    "\n",
    "\n",
    "def add_student():\n",
    "    serial = int(input(\"Enter Serial Number: \"))\n",
    "    first_name = input(\"Enter First Name: \")\n",
    "    last_name = input(\"Enter Last Name : \")\n",
    "    Contect_number = int(input(\"Enter Contect Number : \"))\n",
    "    faculty = input(\"Enter Faculty name: \")\n",
    "    global all_record\n",
    "    all_record.update({serial: {'fname': first_name, 'lname': last_name,\n",
    "                      'Contact': Contect_number, \"Faculty\": faculty, \"subject\": {}}})\n",
    "    for i in range(2):\n",
    "        subjectname = input(\"Enter Subjectname: \")\n",
    "        marks = int(input(\"Enter Marks: \"))\n",
    "        fees = int(input(\"Enter Fees\"))\n",
    "        all_record[serial][\"subject\"].update(\n",
    "            {subjectname: {\"marks\": marks, \"fees\": fees}})\n",
    "def remove_student():\n",
    "    pass\n",
    "\n",
    "\n",
    "def view_all_student():\n",
    "    print(all_record)\n",
    "\n",
    "\n",
    "def view_sepcific_student():\n",
    "    pass"
   ]
  },
  {
   "cell_type": "code",
   "execution_count": null,
   "id": "735034e8",
   "metadata": {},
   "outputs": [],
   "source": []
  },
  {
   "cell_type": "code",
   "execution_count": null,
   "id": "e6fd6e4b",
   "metadata": {},
   "outputs": [],
   "source": []
  },
  {
   "cell_type": "code",
   "execution_count": null,
   "id": "d6cf6ead",
   "metadata": {},
   "outputs": [],
   "source": [
    "all_record = {}\n",
    "\n",
    "\n",
    "def add_student():\n",
    "    serial = int(input(\"Enter Serial Number: \"))\n",
    "    first_name = input(\"Enter First Name: \")\n",
    "    last_name = input(\"Enter Last Name : \")\n",
    "    Contect_number = int(input(\"Enter Contect Number : \"))\n",
    "    faculty = input(\"Enter Faculty name: \")\n",
    "    global all_record\n",
    "    all_record.update({serial: {'fname': first_name, 'lname': last_name,\n",
    "                      'Contact': Contect_number, \"Faculty\": faculty, \"subject\": {}}})\n",
    "    for i in range(2):\n",
    "        subjectname = input(\"Enter Subjectname: \")\n",
    "        marks = int(input(\"Enter Marks: \"))\n",
    "        fees = int(input(\"Enter Fees\"))\n",
    "        all_record[serial][\"subject\"].update(\n",
    "            {subjectname: {\"marks\": marks, \"fees\": fees}})\n",
    "def remove_student():\n",
    "    pass\n",
    "\n",
    "\n",
    "def view_all_student():\n",
    "    print(all_record)\n",
    "\n",
    "\n",
    "def view_sepcific_student():\n",
    "    pass"
   ]
  },
  {
   "cell_type": "code",
   "execution_count": null,
   "id": "abf8a5d9",
   "metadata": {},
   "outputs": [],
   "source": []
  }
 ],
 "metadata": {
  "kernelspec": {
   "display_name": "Python 3 (ipykernel)",
   "language": "python",
   "name": "python3"
  },
  "language_info": {
   "codemirror_mode": {
    "name": "ipython",
    "version": 3
   },
   "file_extension": ".py",
   "mimetype": "text/x-python",
   "name": "python",
   "nbconvert_exporter": "python",
   "pygments_lexer": "ipython3",
   "version": "3.10.9"
  }
 },
 "nbformat": 4,
 "nbformat_minor": 5
}
