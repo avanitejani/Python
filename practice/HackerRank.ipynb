{
 "cells": [
  {
   "cell_type": "code",
   "execution_count": null,
   "id": "0d5c3b17",
   "metadata": {},
   "outputs": [],
   "source": [
    "                                                 # Python "
   ]
  },
  {
   "cell_type": "code",
   "execution_count": 1,
   "id": "a92e2fb1",
   "metadata": {
    "scrolled": true
   },
   "outputs": [
    {
     "name": "stdout",
     "output_type": "stream",
     "text": [
      "Hello, World!\n"
     ]
    }
   ],
   "source": [
    "print(\"Hello, World!\")"
   ]
  },
  {
   "cell_type": "code",
   "execution_count": 2,
   "id": "4e6d862f",
   "metadata": {},
   "outputs": [
    {
     "name": "stdout",
     "output_type": "stream",
     "text": [
      "Enter number :3\n",
      "Weird\n"
     ]
    }
   ],
   "source": [
    "# Given an integer, , perform the following conditional actions:\n",
    "\n",
    "# If  is odd, print Weird\n",
    "# If  is even and in the inclusive range of 2 to 5 , print Not Weird\n",
    "# If  is even and in the inclusive range of 6 to 20, print Weird\n",
    "# If  is even and greater than 20, print Not Weird\n",
    "\n",
    "n=int(input(\"Enter number :\"))\n",
    "if n%2 == 0:\n",
    "    print(\"number is even\")\n",
    "    if n >= 2 and n <= 5:\n",
    "        print (\"Not Weird\")\n",
    "    elif n >= 6 and n <= 20:\n",
    "        print (\"Weird\")\n",
    "    elif n > 20:\n",
    "        print (\"Not Weird\")\n",
    "        \n",
    "else:\n",
    "    #print(\"number is odd\")\n",
    "    print(\"Weird\")"
   ]
  },
  {
   "cell_type": "code",
   "execution_count": 12,
   "id": "22e14c0e",
   "metadata": {},
   "outputs": [
    {
     "name": "stdout",
     "output_type": "stream",
     "text": [
      "3 \n",
      "2\n",
      "5\n",
      "1\n",
      "6\n"
     ]
    }
   ],
   "source": [
    "# The provided code stub reads two integers from STDIN, a and b. Add code to print three lines where:\n",
    "\n",
    "# The first line contains the sum of the two numbers.\n",
    "# The second line contains the difference of the two numbers (first - second).\n",
    "# The third line contains the product of the two numbers.\n",
    "\n",
    "a = int(input())\n",
    "b = int(input())\n",
    "\n",
    "print(a+b)\n",
    "print(a-b)\n",
    "print(a*b)"
   ]
  },
  {
   "cell_type": "code",
   "execution_count": 14,
   "id": "ce8681a7",
   "metadata": {},
   "outputs": [
    {
     "name": "stdout",
     "output_type": "stream",
     "text": [
      "4\n",
      "3\n",
      "1\n",
      "1.3333333333333333\n"
     ]
    }
   ],
   "source": [
    "# Task\n",
    "# The provided code stub reads two integers, a and b, from STDIN.\n",
    "\n",
    "# Add logic to print two lines. The first line should contain the result of integer division, a // b. \n",
    "# The second line should contain the result of float division, a / b.\n",
    "\n",
    "# No rounding or formatting is necessary.\n",
    "\n",
    "a = int(input())\n",
    "b = int(input())\n",
    "\n",
    "print(a//b)\n",
    "print(a/b)\n"
   ]
  },
  {
   "cell_type": "code",
   "execution_count": 16,
   "id": "4d229f01",
   "metadata": {},
   "outputs": [
    {
     "name": "stdout",
     "output_type": "stream",
     "text": [
      "5\n",
      "0\n",
      "1\n",
      "4\n",
      "9\n",
      "16\n"
     ]
    }
   ],
   "source": [
    "# Task\n",
    "# The provided code stub reads and integer,n , from STDIN. For all non-negative integers i<n, print i² .\n",
    "\n",
    "n=int(input())\n",
    "for i in range(n):\n",
    "    print(i*i)"
   ]
  },
  {
   "cell_type": "code",
   "execution_count": 33,
   "id": "04cd7a97",
   "metadata": {},
   "outputs": [
    {
     "name": "stdout",
     "output_type": "stream",
     "text": [
      "1990\n",
      "False\n"
     ]
    }
   ],
   "source": [
    "# Task\n",
    "\n",
    "# Given a year, determine whether it is a leap year. If it is a leap year, return the Boolean True, otherwise return False.\n",
    "\n",
    "# Note that the code stub provided reads from STDIN and passes arguments to the is_leap function. \n",
    "# It is only necessary to complete the is_leap function.\n",
    "\n",
    "\n",
    "\n",
    "def is_leap(year):\n",
    "    leap = False\n",
    "    \n",
    "    # Write your logic here\n",
    "    if year%4==0:\n",
    "        if year%100==0:\n",
    "            if year%400==0:\n",
    "                leap=True\n",
    "            else:\n",
    "                leap=False\n",
    "        else:\n",
    "             leap=True\n",
    "    else:\n",
    "        leap=False\n",
    "\n",
    "    return leap\n",
    "\n",
    "\n",
    "\n",
    "year = int(input())\n",
    "print(is_leap(year))\n",
    "    \n",
    "    "
   ]
  },
  {
   "cell_type": "code",
   "execution_count": null,
   "id": "1e6bf267",
   "metadata": {
    "scrolled": true
   },
   "outputs": [],
   "source": [
    "# The included code stub will read an integer,n , from STDIN.\n",
    "# Without using any string methods, try to print the following:\n",
    "# 123 ...n\n",
    "# Note that\"...\" represents the consecutive values in between.\n",
    "\n",
    "n = int(input())\n",
    "for i in range(n):\n",
    "    print(i+1,end=\"\")\n",
    "\n",
    "#     i=1\n",
    "# while i<=n:\n",
    "#     print (i)\n",
    "\n",
    "\n",
    "#     i=i+1\n"
   ]
  },
  {
   "cell_type": "code",
   "execution_count": 3,
   "id": "626ed5e6",
   "metadata": {},
   "outputs": [
    {
     "name": "stdout",
     "output_type": "stream",
     "text": [
      "1\n",
      "1\n",
      "1\n",
      "2\n",
      "[[0, 0, 0], [0, 0, 1], [0, 1, 0], [1, 0, 0], [1, 1, 1]]\n"
     ]
    }
   ],
   "source": [
    "# Let's learn about list comprehensions! You are given three integers x,y and z representing the dimensions of a cuboid \n",
    "# along with an integer n. Print a list of all possible coordinates given by  (i,j,k)  on a 3D grid where the \n",
    "# sum of i+j+k is not equal to n. Here, 0<=i<=x;  0<=j<=k<=z.\n",
    "# Please use list comprehensions rather than multiple loops, as a learning exercise.\n",
    "\n",
    "x = int(input())\n",
    "y = int(input())\n",
    "z = int(input())\n",
    "n = int(input())\n",
    "ans = [[i, j, k] for i in range(x + 1) for j in range(y + 1) for k in range(\n",
    "    z+ 1) if i + j + k != n]\n",
    "print (ans)"
   ]
  },
  {
   "cell_type": "code",
   "execution_count": null,
   "id": "b91bfe21",
   "metadata": {},
   "outputs": [],
   "source": []
  }
 ],
 "metadata": {
  "kernelspec": {
   "display_name": "Python 3 (ipykernel)",
   "language": "python",
   "name": "python3"
  },
  "language_info": {
   "codemirror_mode": {
    "name": "ipython",
    "version": 3
   },
   "file_extension": ".py",
   "mimetype": "text/x-python",
   "name": "python",
   "nbconvert_exporter": "python",
   "pygments_lexer": "ipython3",
   "version": "3.10.9"
  }
 },
 "nbformat": 4,
 "nbformat_minor": 5
}
