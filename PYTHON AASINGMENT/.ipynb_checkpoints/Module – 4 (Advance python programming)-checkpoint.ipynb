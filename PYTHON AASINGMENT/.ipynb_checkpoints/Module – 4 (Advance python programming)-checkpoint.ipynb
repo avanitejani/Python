{
 "cells": [
  {
   "cell_type": "code",
   "execution_count": null,
   "id": "c4b53dd1",
   "metadata": {},
   "outputs": [],
   "source": [
    "\n",
    "                                  #Module – 4 (Advance python programming)\n"
   ]
  },
  {
   "cell_type": "code",
   "execution_count": 5,
   "id": "50a46509",
   "metadata": {},
   "outputs": [],
   "source": [
    "# 1.  What is File function in python? What is keywords to create and write file. \n",
    "\n",
    "# Ans.\n",
    "#     Python file object provides methods and attributes to access and manipulate files.\n",
    "#     Using file objects, we can read or write any files. Whenever we open a file to perform any operations on it, \n",
    "#     Python returns a file object. To create a file object in Python use the built-in functions, such as open() and os. popen().\n",
    "\n",
    "# readlines() : This function returns a list where each element is single line of that file.\n",
    "# write() : This function writes a fixed sequence of characters to a file.\n",
    "# writelines() : This function writes a list of string.\n",
    "# append() : This function append string to the file instead of overwriting the file"
   ]
  },
  {
   "cell_type": "code",
   "execution_count": 12,
   "id": "c16609d7",
   "metadata": {},
   "outputs": [
    {
     "name": "stdout",
     "output_type": "stream",
     "text": [
      "Hii I'm Avani Tejani\n"
     ]
    }
   ],
   "source": [
    "# 2.  Write a Python program to read an entire text file.\n",
    "\n",
    "file=open(\"2.txt\",\"r\") # use open function to read the the content of a file!\n",
    "print(file.read())\n",
    "file.close()\n"
   ]
  },
  {
   "cell_type": "code",
   "execution_count": 5,
   "id": "7f8c9dae",
   "metadata": {},
   "outputs": [
    {
     "name": "stdout",
     "output_type": "stream",
     "text": [
      "Enter Name : Wow!\n",
      "4\n",
      "Wow!\n"
     ]
    }
   ],
   "source": [
    "# 3.  Write a Python program to append text to a file and display the text. \n",
    "\n",
    "# file=open(\"3.txt\",\"a\")\n",
    "# file.write(\"Hii I'm Python Developer\")\n",
    "# file.close()\n",
    "# file=open(\"3.txt\",\"r\")  #file open with read mood\n",
    "# print(file.read())\n",
    "# file.close()\n",
    "\n",
    "name=input(\"Enter Name : \")\n",
    "file=open(\"3.txt\", \"a\")  #file open with append mood\n",
    "print(file.write(name))   \n",
    "file.close()\n",
    "\n",
    "file=open(\"3.txt\",\"r\")  #file open with read mood\n",
    "print(file.read())"
   ]
  },
  {
   "cell_type": "code",
   "execution_count": 18,
   "id": "eee39fdc",
   "metadata": {
    "scrolled": true
   },
   "outputs": [
    {
     "name": "stdout",
     "output_type": "stream",
     "text": [
      "Wow!\n",
      "\n"
     ]
    }
   ],
   "source": [
    "# 4.  Write a Python program to read first n lines of a file. \n",
    "\n",
    "file=open(\"4.txt\",\"r\") #file open with read mood\n",
    "\n",
    "print(file.readline())  #file is readline \n"
   ]
  },
  {
   "cell_type": "code",
   "execution_count": 12,
   "id": "fdec1e57",
   "metadata": {},
   "outputs": [
    {
     "name": "stdout",
     "output_type": "stream",
     "text": [
      "Enter A Number : 3\n",
      "['Wow!\\n', 'I am avani tejani\\n', 'I am learning python language  \\n']\n"
     ]
    }
   ],
   "source": [
    "# 5.  Write a Python program to read last n lines of a file. \n",
    " \n",
    "n=int(input(\"Enter A Number : \"))\n",
    "fp=open(\"4.txt\",\"r\")  #file open with read mood\n",
    "lines=fp.readlines()     # open txt file read mode\n",
    "print(lines[-n:])    # last line read\n",
    "fp.close()"
   ]
  },
  {
   "cell_type": "code",
   "execution_count": 13,
   "id": "8bd6bc1e",
   "metadata": {},
   "outputs": [
    {
     "name": "stdout",
     "output_type": "stream",
     "text": [
      "['Wow!\\n', 'Heloo\\n', 'Welcome\\n', 'Nice']\n"
     ]
    }
   ],
   "source": [
    "# 6.  Write a Python program to read a file line by line and store it into a list\n",
    "\n",
    "fp=open(\"6.txt\",\"r\") #file open with read mood\n",
    "lines=fp.readlines()\n",
    "print(lines)"
   ]
  },
  {
   "cell_type": "code",
   "execution_count": 15,
   "id": "23f3da90",
   "metadata": {},
   "outputs": [
    {
     "name": "stdout",
     "output_type": "stream",
     "text": [
      "variable l1= ['Wow!\\n', 'Heloo\\n', 'Welcome\\n', 'Nice']\n"
     ]
    }
   ],
   "source": [
    "# 7.  Write a Python program to read a file line by line store it into a variable. \n",
    "\n",
    "file=open(\"6.txt\",\"r\")   # open file read mode\n",
    "l1=file.readlines()   # file reding\n",
    "print(\"variable l1=\",l1)"
   ]
  },
  {
   "cell_type": "code",
   "execution_count": 12,
   "id": "b45b684d",
   "metadata": {},
   "outputs": [
    {
     "name": "stdout",
     "output_type": "stream",
     "text": [
      "Enter A number : 2\n",
      "Enter A string: hii\n",
      "Enter A string: avani\n",
      "avani\n"
     ]
    }
   ],
   "source": [
    "# 8.  Write a python program to find the longest words.\n",
    "\n",
    "n=int(input(\"Enter A number : \"))\n",
    "list1=[]  # creat empty list\n",
    "for i in range(n):  \n",
    "    str1=input(\"Enter A string: \")\n",
    "    list1.append(str1)  #use  append to creat list\n",
    "    s=sorted(list1,key=len)  # Sort the words in increasing , order of their lengths\n",
    "print(list1[-1])  # s varible , # Print last word\n"
   ]
  },
  {
   "cell_type": "code",
   "execution_count": 21,
   "id": "2cd97067",
   "metadata": {},
   "outputs": [
    {
     "name": "stdout",
     "output_type": "stream",
     "text": [
      "15\n"
     ]
    }
   ],
   "source": [
    "# 9.  Write a Python program to count the number of lines in a text file. \n",
    "\n",
    "file=open(\"9.txt\",\"r\")  #open file with read mood\n",
    "count=0  #impty int\n",
    "for i in file:  #for loop in file\n",
    "    if i[0] not in \"\":  #if i of 0 not in \"\"\n",
    "        count+=1 #count in += of 1\n",
    "print(count) #print of count\n",
    "        \n",
    "file.close()\n",
    "\n",
    "\n",
    "\n",
    "# fp=open(\"dev.txt\",\"r\")\n",
    "# print(len(fp.readlines()))"
   ]
  },
  {
   "cell_type": "code",
   "execution_count": 22,
   "id": "3ac8e955",
   "metadata": {},
   "outputs": [
    {
     "name": "stdout",
     "output_type": "stream",
     "text": [
      "{'india': 4, 'usa': 1, 'europe': 1, 'thailand': 1, 'turkey': 1, 'australia': 2, 'Italy': 2, 'germany': 2, 'Japan': 1}\n"
     ]
    }
   ],
   "source": [
    "# 10. Write a Python program to count the frequency of words in a file. \n",
    "\n",
    "file = open(\"9.txt\",\"r\")\n",
    "n = ' '.join(line for line in file.read().splitlines())\n",
    "n = n.split(' ')\n",
    "dict= {}\n",
    "for word in n:\n",
    "    if word not in dict:\n",
    "        dict[word] = 1\n",
    "    else:\n",
    "        dict[word] += 1\n",
    "print(dict)        \n",
    "file.close()"
   ]
  },
  {
   "cell_type": "code",
   "execution_count": 39,
   "id": "fc8fcd78",
   "metadata": {},
   "outputs": [
    {
     "name": "stdout",
     "output_type": "stream",
     "text": [
      "india\n",
      "usa\n",
      "europe\n",
      "thailand\n",
      "turkey\n",
      "australia\n",
      "Italy\n",
      "germany\n",
      "india\n",
      "Italy\n",
      "Japan\n",
      "india\n",
      "australia\n",
      "india\n",
      "germany\n"
     ]
    }
   ],
   "source": [
    "# 11. Write a Python program to write a list to a file. \n",
    "\n",
    "file=open(\"9.txt\",\"r\")   # open file read mode\n",
    "file.close()  #ch file is close\n",
    "fp=open(\"9.txt\",\"r\") #file open with read mood\n",
    "print(fp.read()) #file is read and print\n"
   ]
  },
  {
   "cell_type": "code",
   "execution_count": 1,
   "id": "9d2fd7d6",
   "metadata": {},
   "outputs": [
    {
     "name": "stdout",
     "output_type": "stream",
     "text": [
      "india\n",
      "usa\n",
      "europe\n",
      "thailand\n",
      "turkey\n",
      "australia\n",
      "Italy\n",
      "germany\n",
      "india\n",
      "Italy\n",
      "Japan\n",
      "india\n",
      "australia\n",
      "india\n",
      "germany\n"
     ]
    }
   ],
   "source": [
    "# 12. Write a Python program to copy the contents of a file to another file. \n",
    "\n",
    "file=open(\"9.txt\",\"r\") #file open with read mood\n",
    "fp=open(\"12.txt\",\"w\")  #file open wioth write mood\n",
    "for line in file: #for loop in fp file\n",
    "    fp.write(line) #fp1 file write of line\n",
    "fp.close() #file is close\n",
    "fp=open(\"12.txt\",\"r\") #repet file open \n",
    "print(fp.read()) #file read and print\n"
   ]
  },
  {
   "cell_type": "code",
   "execution_count": null,
   "id": "68823239",
   "metadata": {},
   "outputs": [],
   "source": [
    "# 13. Explain Exception handling? What is an Error in Python? \n",
    "\n",
    "# What is an exception handling in Python?\n",
    "\n",
    "# An exception in Python is an incident that happens while executing a program that causes the regular course of the \n",
    "# program's commands to be disrupted. When a Python code comes across a condition it can't handle, it raises an exception. \n",
    "# An object in Python that describes an error is called an exception.\n",
    "\n",
    "# What is an Error in Python?\n",
    "\n",
    "# A syntax error occurs in Python when the interpreter is unable to parse the code due to the code violating \n",
    "# Python language rules, such as inappropriate indentation, erroneous keyword usage, or incorrect operator use\n",
    "\n"
   ]
  },
  {
   "cell_type": "code",
   "execution_count": null,
   "id": "93e00b74",
   "metadata": {},
   "outputs": [],
   "source": [
    "# 14. How many except statements can a try-except block have? Name Some built-in exception classes:\n",
    "# one except statement\n",
    "# 1. How many except statements can a try-except block have? \n",
    "#     Explanation: There has to be at least one except statement.\n",
    "        \n",
    "# Built-in Exceptions in Python        \n"
   ]
  },
  {
   "cell_type": "code",
   "execution_count": null,
   "id": "d2d72b0b",
   "metadata": {},
   "outputs": [],
   "source": [
    "# 15. When will the else part of try-except-else be executed? \n",
    "\n",
    "# When will the else part of try-except-else be executed? Explanation: \n",
    "#     The else part is executed when no exception occurs."
   ]
  },
  {
   "cell_type": "code",
   "execution_count": null,
   "id": "6b76cb39",
   "metadata": {},
   "outputs": [],
   "source": [
    "# 16. can one block of except statements handle multiple exception? \n",
    "\n",
    "# In Python, try-except blocks can be used to catch and respond to one or multiple exceptions\n",
    "# In cases where a process raises more than one possible exception, they can all be handled using a single except clause.\n",
    "\n",
    "# There are several approaches for handling multiple exceptions in Python, the most common of which are discussed below.\n",
    "# 1.Using Same Code Block for Multiple Exceptions\n",
    "# 2.Using Different Code Blocks for Multiple Exceptions\n",
    "# 3.Investigating Exceptions using If, Elif, Else Statements\n",
    "# 4.Multiple Except Clauses Matching\n",
    "# 5.Track, Analyze and Manage Errors With Rollbar"
   ]
  },
  {
   "cell_type": "code",
   "execution_count": null,
   "id": "344ad9d0",
   "metadata": {},
   "outputs": [],
   "source": [
    "# 17.  When is the finally block executed?\n",
    "\n",
    "# The finally block always executes when the try block exits. \n",
    "# This ensures that the finally block is executed even if an unexpected exception occurs.\n"
   ]
  },
  {
   "cell_type": "code",
   "execution_count": null,
   "id": "b34d55a9",
   "metadata": {},
   "outputs": [],
   "source": [
    "# 18. What happens when „1‟== 1 is executed? \n",
    "\n",
    "# Explanation: it simply evaluates to false and does not raise any exception."
   ]
  },
  {
   "cell_type": "code",
   "execution_count": null,
   "id": "f1579588",
   "metadata": {},
   "outputs": [],
   "source": [
    "# 19. How Do You Handle Exceptions With Try/Except/Finally In Python? Explain with coding snippets. \n"
   ]
  },
  {
   "cell_type": "code",
   "execution_count": null,
   "id": "e5572e2c",
   "metadata": {},
   "outputs": [],
   "source": [
    "# 20. Write python program that user to enter only odd numbers, else will raise an exception. \n"
   ]
  },
  {
   "cell_type": "code",
   "execution_count": null,
   "id": "d4073793",
   "metadata": {},
   "outputs": [],
   "source": [
    "# 21. What are oops concepts? Is multiple inheritance supported in java \n",
    "\n",
    "# The main ideas behind Java's Object-Oriented Programming, OOP concepts include abstraction, encapsulation, \n",
    "# inheritance and polymorphism. Basically, Java OOP concepts let us create working methods and variables, \n",
    "# then re-use all or part of them without compromising security.\n",
    "\n",
    "# One reason why the Java programming language does not permit you to extend more than one class is to avoid the \n",
    "# issues of multiple inheritance of state, which is the ability to inherit fields from multiple classes."
   ]
  },
  {
   "cell_type": "code",
   "execution_count": 9,
   "id": "998267a5",
   "metadata": {},
   "outputs": [
    {
     "name": "stdout",
     "output_type": "stream",
     "text": [
      "Enter Your Name : avani tejani\n",
      "Enter Your Age : 21\n",
      "Enter Your E-Mail : avanitejani@gmail.com\n",
      "Enter Your Mobile number : +919265586214\n",
      "Name Is avani tejani\n",
      "Age Is 21\n",
      "E-Mail Is avanitejani@gmail.com\n",
      "Mobile Number Is 919265586214\n"
     ]
    }
   ],
   "source": [
    "# 22. How to Define a Class in Python? What Is Self? Give An Example Of A Python Class\n",
    "\n",
    "# A class in Python can be defined using the class keyword. As per the syntax above, a class is defined using the \n",
    "# class keyword followed by the class name and : operator after the class name, which allows you to continue in the \n",
    "# next indented line to define class members.\n",
    "\n",
    "# The self parameter is a reference to the current instance of the class, and is used to access variables that \n",
    "# belongs to the class.\n",
    "\n",
    "\n",
    "class student:  #class of student\n",
    "    def __init__(self): #constructor\n",
    "        self.name=\"\"   #variable\n",
    "        self.age=0\n",
    "        self.email=\"\"\n",
    "        self.mobile=0\n",
    "        \n",
    "    def getdata(self): #function\n",
    "        self.name=input(\"Enter Your Name : \")\n",
    "        self.age=int(input(\"Enter Your Age : \"))\n",
    "        self.email=input(\"Enter Your E-Mail : \")\n",
    "        self.mobile=int(input(\"Enter Your Mobile number : \"))\n",
    "        \n",
    "    def showdata(self): #function\n",
    "        print(f\"Name Is {self.name}\")\n",
    "        print(f\"Age Is {self.age}\")\n",
    "        print(f\"E-Mail Is {self.email}\")\n",
    "        print(f\"Mobile Number Is {self.mobile}\")\n",
    "        \n",
    "s1=student() #creat object \n",
    "s1.getdata() #function call\n",
    "s1.showdata()#function call\n"
   ]
  },
  {
   "cell_type": "code",
   "execution_count": 10,
   "id": "c97e8824",
   "metadata": {},
   "outputs": [
    {
     "name": "stdout",
     "output_type": "stream",
     "text": [
      "Enter Length Of Area : 5.9\n",
      "Enter Width of Area : 6\n",
      "Area of Rectangle is : 35.400000000000006\n"
     ]
    }
   ],
   "source": [
    "# 23. Write a Python class named Rectangle constructed by a length and width and a method which will compute the area of a rectangle \n",
    "\n",
    "\n",
    "class Ractangle: #class of ractangle\n",
    "    def __init__(self): #cunstrocter\n",
    "        self.length=0.0 #variable\n",
    "        self.width=0.0\n",
    "    def getdata(self): #function\n",
    "        self.length=float(input(\"Enter Length Of Area : \"))\n",
    "        self.width=float(input(\"Enter Width of Area : \"))\n",
    "        \n",
    "    def showdata(self): #function\n",
    "        area=self.length * self.width  # area = length * width\n",
    "        print(f\"Area of Rectangle is : {area}\")\n",
    "        \n",
    "R1=Ractangle()#object call\n",
    "R1.getdata()#function call\n",
    "R1.showdata()#function call"
   ]
  },
  {
   "cell_type": "code",
   "execution_count": null,
   "id": "549bb37a",
   "metadata": {},
   "outputs": [],
   "source": [
    "# 24. Write a Python class named Circle constructed by a radius and two methods which will compute the area and the perimeter of a circle \n",
    "\n",
    "class circle: #class of circle\n",
    "    def __init__(self): #cunstrocter\n",
    "        r=radius\n",
    "        \n",
    "    def area(self,r):#function pass to self and r\n",
    "        area=3.14*r*r #area of pii multiplication of 2r\n",
    "        print(f\"Area of Cricle :{area:.2f}\")\n",
    "    \n",
    "    def perimeter(self,r):#function pass to self and r\n",
    "        perimete=2*(3.14*r) #perimarte of 2 multiplication of pii in multiplication r\n",
    "        print(f\"Perimeter of Circle :{perimete:.2f}\")\n",
    "\n",
    "radius=float(input(\"Enter A Radius of Circle : \"))        \n",
    "c1=circle() #object call\n",
    "c1.area(radius) #function call and pass to radius\n",
    "c1.perimeter(radius) #function call and pass to radius"
   ]
  },
  {
   "cell_type": "code",
   "execution_count": null,
   "id": "3d1fc598",
   "metadata": {},
   "outputs": [],
   "source": [
    "# 25. Explain Inheritance in Python with an example? What is init? Or What Is A Constructor In Python? \n",
    "\n",
    "# Explain Inheritance in Python with an example?\n",
    "# Inheritance relationship defines the classes that inherit from other classes as derived, subclass, or sub-type classes. \n",
    "# Base class remains to be the source from which a subclass inherits. \n",
    "# For example, you have a Base class of “Animal,” and a “Lion” is a Derived class. The inheritance will be Lion is an Animal\n",
    "\n",
    "# What is init?\n",
    "# The _init_ method is the Python equivalent of the C++ constructor in an object-oriented approach. \n",
    "# The _init_ function is called every time an object is created from a class. \n",
    "# The _init_ method lets the class initialize the object's attributes and serves no other purpose. It is only used within classes\n",
    "\n",
    "# What Is A Constructor In Python? \n",
    "# What is a Constructor? A constructor is a unique function that gets called automatically when an object is created of a class. \n",
    "# The main purpose of a constructor is to initialize or assign values to the data members of that class. \n",
    "# It cannot return any value other than none."
   ]
  },
  {
   "cell_type": "code",
   "execution_count": null,
   "id": "3bfe0cf3",
   "metadata": {},
   "outputs": [],
   "source": [
    "# 26. What is Instantiation in terms of OOP terminology? \n",
    "\n",
    "# In the OOP language C#, instantiation describes the processes of creating a new object for a class using a new keyword.\n"
   ]
  },
  {
   "cell_type": "code",
   "execution_count": null,
   "id": "7d00677b",
   "metadata": {},
   "outputs": [],
   "source": [
    "# 27. What is used to check whether an object o is an instance of class A? \n",
    "\n",
    "# The isinstance() function returns True if the specified object is of the specified type, otherwise False . \n",
    "# If the type parameter is a tuple, this function will return True if the object is one of the types in the tuple."
   ]
  },
  {
   "cell_type": "code",
   "execution_count": null,
   "id": "d54c79cf",
   "metadata": {},
   "outputs": [],
   "source": [
    "# 28. What relationship is appropriate for Course and Faculty? \n"
   ]
  },
  {
   "cell_type": "code",
   "execution_count": null,
   "id": "450891ef",
   "metadata": {},
   "outputs": [],
   "source": [
    "# 29. What relationship is appropriate for Student and Person?\n"
   ]
  }
 ],
 "metadata": {
  "kernelspec": {
   "display_name": "Python 3 (ipykernel)",
   "language": "python",
   "name": "python3"
  },
  "language_info": {
   "codemirror_mode": {
    "name": "ipython",
    "version": 3
   },
   "file_extension": ".py",
   "mimetype": "text/x-python",
   "name": "python",
   "nbconvert_exporter": "python",
   "pygments_lexer": "ipython3",
   "version": "3.10.9"
  }
 },
 "nbformat": 4,
 "nbformat_minor": 5
}
