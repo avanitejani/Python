{
 "cells": [
  {
   "cell_type": "code",
   "execution_count": null,
   "id": "76167a2a",
   "metadata": {},
   "outputs": [],
   "source": [
    "                                            \n",
    "                                                  #25-04-2023\n",
    "                                                    #set"
   ]
  },
  {
   "cell_type": "code",
   "execution_count": null,
   "id": "9c80362f",
   "metadata": {},
   "outputs": [],
   "source": [
    "# Set is also acollection pof element of similar or different datatype\n",
    "# set is defined in culryt braces\n",
    "# set is muatble but only by using theri methods\n",
    "# set is unordered datatype means they have no indexes\n",
    "# element in set is arranged in random manner\n",
    "# sets does not allow duplicates values because they don't have indexes"
   ]
  },
  {
   "cell_type": "code",
   "execution_count": 1,
   "id": "ce7aae5d",
   "metadata": {},
   "outputs": [
    {
     "name": "stdout",
     "output_type": "stream",
     "text": [
      "{False, (48, 96), 69.36, 'String', 45}\n"
     ]
    }
   ],
   "source": [
    "set1={45,69.36,False,\"String\",(48,96)}\n",
    "# set only contains datatype which is immutable\n",
    "print(set1)"
   ]
  },
  {
   "cell_type": "code",
   "execution_count": 2,
   "id": "0fc5485b",
   "metadata": {},
   "outputs": [
    {
     "name": "stdout",
     "output_type": "stream",
     "text": [
      "{1, 2, 3}\n"
     ]
    }
   ],
   "source": [
    "set1={1,2,3,1,2,3,1,2,3}\n",
    "print(set1)"
   ]
  },
  {
   "cell_type": "code",
   "execution_count": 10,
   "id": "2f7ca6f0",
   "metadata": {},
   "outputs": [
    {
     "name": "stdout",
     "output_type": "stream",
     "text": [
      "<class 'dict'>\n"
     ]
    }
   ],
   "source": [
    "#list1=set()\n",
    "list1={}  \n",
    "print(type(list1))"
   ]
  },
  {
   "cell_type": "code",
   "execution_count": 11,
   "id": "febf0802",
   "metadata": {},
   "outputs": [
    {
     "name": "stdout",
     "output_type": "stream",
     "text": [
      "<class 'set'>\n"
     ]
    }
   ],
   "source": [
    "list1=set()  \n",
    "print(type(list1))"
   ]
  },
  {
   "cell_type": "code",
   "execution_count": 8,
   "id": "ba181c98",
   "metadata": {},
   "outputs": [
    {
     "name": "stdout",
     "output_type": "stream",
     "text": [
      "<class 'bool'>\n"
     ]
    }
   ],
   "source": [
    "#list1=(True)\n",
    "list1=(True,)\n",
    "print(type(list1))"
   ]
  },
  {
   "cell_type": "code",
   "execution_count": 7,
   "id": "5ad94d71",
   "metadata": {
    "scrolled": true
   },
   "outputs": [
    {
     "data": {
      "text/plain": [
       "['__and__',\n",
       " '__class__',\n",
       " '__class_getitem__',\n",
       " '__contains__',\n",
       " '__delattr__',\n",
       " '__dir__',\n",
       " '__doc__',\n",
       " '__eq__',\n",
       " '__format__',\n",
       " '__ge__',\n",
       " '__getattribute__',\n",
       " '__gt__',\n",
       " '__hash__',\n",
       " '__iand__',\n",
       " '__init__',\n",
       " '__init_subclass__',\n",
       " '__ior__',\n",
       " '__isub__',\n",
       " '__iter__',\n",
       " '__ixor__',\n",
       " '__le__',\n",
       " '__len__',\n",
       " '__lt__',\n",
       " '__ne__',\n",
       " '__new__',\n",
       " '__or__',\n",
       " '__rand__',\n",
       " '__reduce__',\n",
       " '__reduce_ex__',\n",
       " '__repr__',\n",
       " '__ror__',\n",
       " '__rsub__',\n",
       " '__rxor__',\n",
       " '__setattr__',\n",
       " '__sizeof__',\n",
       " '__str__',\n",
       " '__sub__',\n",
       " '__subclasshook__',\n",
       " '__xor__',\n",
       " 'add',\n",
       " 'clear',\n",
       " 'copy',\n",
       " 'difference',\n",
       " 'difference_update',\n",
       " 'discard',\n",
       " 'intersection',\n",
       " 'intersection_update',\n",
       " 'isdisjoint',\n",
       " 'issubset',\n",
       " 'issuperset',\n",
       " 'pop',\n",
       " 'remove',\n",
       " 'symmetric_difference',\n",
       " 'symmetric_difference_update',\n",
       " 'union',\n",
       " 'update']"
      ]
     },
     "execution_count": 7,
     "metadata": {},
     "output_type": "execute_result"
    }
   ],
   "source": [
    "# set methods\n",
    "list(dir(set))"
   ]
  },
  {
   "cell_type": "code",
   "execution_count": 1,
   "id": "75055b11",
   "metadata": {},
   "outputs": [
    {
     "name": "stdout",
     "output_type": "stream",
     "text": [
      "{56, 89, 34, 67} {784, 34, 66, 89, 90, 45} {34, 67, 66, 45, 784, 56, 89, 90}\n"
     ]
    }
   ],
   "source": [
    "                                            # 27-04-2023\n",
    "\n",
    "set1={34,67,89,34,56}\n",
    "set2={34,66,89,90,784,45}\n",
    "#union()------ combines element of two sets\n",
    "set3=set1.union(set2)\n",
    "print(set1,set2,set3)"
   ]
  },
  {
   "cell_type": "code",
   "execution_count": 1,
   "id": "147072ec",
   "metadata": {},
   "outputs": [
    {
     "name": "stdout",
     "output_type": "stream",
     "text": [
      "{96, 89, 69, 87, 23, 41, 45} {96, 89, 45}\n"
     ]
    }
   ],
   "source": [
    "set1={45,96,87,41,23,69,45,89}\n",
    "set2={78,96,84,52,14,45,89}\n",
    "# intersection()--gives common of two sets\n",
    "# set3=set1.intersection(set2)\n",
    "set2.intersection_update(set1)\n",
    "print(set1,set2)"
   ]
  },
  {
   "cell_type": "code",
   "execution_count": 2,
   "id": "37389e1b",
   "metadata": {},
   "outputs": [
    {
     "name": "stdout",
     "output_type": "stream",
     "text": [
      "{36, 21, 89, 74, 'hello', 45}\n",
      "{36, 21, 'great', 89, 74, 'hello', 45}\n"
     ]
    }
   ],
   "source": [
    "#add()\n",
    "set1={45,89,74,21,36}\n",
    "set1.add(\"hello\")\n",
    "# add()--add anew element in the set at random position\n",
    "print(set1)\n",
    "set1.add(\"great\")\n",
    "print(set1)"
   ]
  },
  {
   "cell_type": "code",
   "execution_count": 3,
   "id": "c4c1e444",
   "metadata": {},
   "outputs": [
    {
     "name": "stdout",
     "output_type": "stream",
     "text": [
      "{101, 21, 89, 74, 45}\n"
     ]
    }
   ],
   "source": [
    "# pop()--removes random element from the set\n",
    "set1={45,89,74,21,36,101}\n",
    "set1.pop()\n",
    "print(set1)"
   ]
  },
  {
   "cell_type": "code",
   "execution_count": 6,
   "id": "81ea0ec3",
   "metadata": {
    "scrolled": true
   },
   "outputs": [
    {
     "ename": "KeyError",
     "evalue": "890",
     "output_type": "error",
     "traceback": [
      "\u001b[1;31m---------------------------------------------------------------------------\u001b[0m",
      "\u001b[1;31mKeyError\u001b[0m                                  Traceback (most recent call last)",
      "Cell \u001b[1;32mIn[6], line 4\u001b[0m\n\u001b[0;32m      1\u001b[0m \u001b[38;5;66;03m# remove(value)----\u001b[39;00m\n\u001b[0;32m      2\u001b[0m set1\u001b[38;5;241m=\u001b[39m{\u001b[38;5;241m34\u001b[39m,\u001b[38;5;241m67\u001b[39m,\u001b[38;5;241m89\u001b[39m,\u001b[38;5;241m34\u001b[39m,\u001b[38;5;241m56\u001b[39m}\n\u001b[1;32m----> 4\u001b[0m \u001b[43mset1\u001b[49m\u001b[38;5;241;43m.\u001b[39;49m\u001b[43mremove\u001b[49m\u001b[43m(\u001b[49m\u001b[38;5;241;43m890\u001b[39;49m\u001b[43m)\u001b[49m\n\u001b[0;32m      5\u001b[0m \u001b[38;5;28mprint\u001b[39m(set1)\n",
      "\u001b[1;31mKeyError\u001b[0m: 890"
     ]
    }
   ],
   "source": [
    "# remove(value)----\n",
    "set1={34,67,89,34,56}\n",
    "\n",
    "set1.remove(890)\n",
    "print(set1)\n"
   ]
  },
  {
   "cell_type": "code",
   "execution_count": 4,
   "id": "2ba8b3e7",
   "metadata": {},
   "outputs": [
    {
     "name": "stdout",
     "output_type": "stream",
     "text": [
      "{36, 101, 21, 89, 74, 45}\n"
     ]
    }
   ],
   "source": [
    "# discard()---removes element from set\n",
    "set1={45,89,74,21,36,101}\n",
    "set1.discard(8965)\n",
    "print(set1)\n"
   ]
  },
  {
   "cell_type": "code",
   "execution_count": null,
   "id": "f4b28864",
   "metadata": {},
   "outputs": [],
   "source": [
    "# discard()---removes element from set\n",
    "set1={45,89,74,21,36,101}\n",
    "set1.discard(8965)\n",
    "print(set1)\n"
   ]
  },
  {
   "cell_type": "code",
   "execution_count": null,
   "id": "0cd93953",
   "metadata": {},
   "outputs": [],
   "source": [
    "set1={48,96,32}\n",
    "set1.update((89,))\n",
    "print(set1)"
   ]
  },
  {
   "cell_type": "code",
   "execution_count": null,
   "id": "8228d03d",
   "metadata": {},
   "outputs": [],
   "source": [
    "set1={48,96,35,45,65}\n",
    "set2={89,56,21,96,45}\n",
    "set3=set1.intersection(set2)\n",
    "\n",
    "set4=set2.copy()\n",
    "print(set3)\n",
    "for i in set3:\n",
    "    set4.remove(i)\n",
    "    \n",
    "print(set4)"
   ]
  },
  {
   "cell_type": "code",
   "execution_count": null,
   "id": "653fe5a4",
   "metadata": {},
   "outputs": [],
   "source": [
    "set1={48,96,35,45,65}\n",
    "set2={89,56,21,96,45}\n",
    "set3=set()\n",
    "for i in set2:\n",
    "    if i not in set1:\n",
    "        set3.add(i)\n",
    "print(set3)"
   ]
  },
  {
   "cell_type": "code",
   "execution_count": null,
   "id": "54139157",
   "metadata": {},
   "outputs": [],
   "source": [
    "set1={48,96,35,45,65}\n",
    "set2={89,56,21,96,45}\n",
    "# set3=set1.difference(set2)\n",
    "set1.difference_update(set2)\n",
    "print(set1)"
   ]
  },
  {
   "cell_type": "code",
   "execution_count": null,
   "id": "4e332633",
   "metadata": {},
   "outputs": [],
   "source": [
    "set1={48,96,35,45,65}\n",
    "set2={89,56,21,96,45}\n",
    "set3=set1.symmetric_difference(set2)\n",
    "print(set3)"
   ]
  },
  {
   "cell_type": "code",
   "execution_count": null,
   "id": "11e73e7c",
   "metadata": {},
   "outputs": [],
   "source": []
  }
 ],
 "metadata": {
  "kernelspec": {
   "display_name": "Python 3 (ipykernel)",
   "language": "python",
   "name": "python3"
  },
  "language_info": {
   "codemirror_mode": {
    "name": "ipython",
    "version": 3
   },
   "file_extension": ".py",
   "mimetype": "text/x-python",
   "name": "python",
   "nbconvert_exporter": "python",
   "pygments_lexer": "ipython3",
   "version": "3.10.9"
  }
 },
 "nbformat": 4,
 "nbformat_minor": 5
}
