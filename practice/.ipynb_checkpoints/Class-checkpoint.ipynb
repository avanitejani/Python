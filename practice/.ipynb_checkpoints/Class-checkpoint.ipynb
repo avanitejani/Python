{
 "cells": [
  {
   "cell_type": "code",
   "execution_count": null,
   "id": "43e97787",
   "metadata": {},
   "outputs": [],
   "source": [
    "\n",
    "                                      #18 may 2023\n"
   ]
  },
  {
   "cell_type": "code",
   "execution_count": null,
   "id": "4e32e28f",
   "metadata": {},
   "outputs": [],
   "source": [
    "# Class\n",
    "# object\n",
    "\n",
    "class is a blueprint\n",
    "\n",
    "variables---- attributes---- data members\n",
    "functions---- behaviour---- "
   ]
  },
  {
   "cell_type": "code",
   "execution_count": 6,
   "id": "766601d5",
   "metadata": {},
   "outputs": [],
   "source": [
    "\n",
    "class student:\n",
    "    def __init__(self):\n",
    "        self.name=\"\"\n",
    "        self.age=0\n",
    "        self.mobile=\"\"\n",
    "        \n",
    "    def getvalue(self):\n",
    "        self.name=input(\"enter name: \")\n",
    "        self.age=int(input(\"enter age :\"))\n",
    "        self.mobile=input(\"enter mobile: \")\n",
    "        \n",
    "    def showdata(self):\n",
    "        print(f\"name is {self.name} age is {self.age} mobile is {self.mobile}\")\n",
    "        \n",
    "              "
   ]
  },
  {
   "cell_type": "code",
   "execution_count": 7,
   "id": "c5585269",
   "metadata": {},
   "outputs": [
    {
     "name": "stdout",
     "output_type": "stream",
     "text": [
      "enter name: gwsh\n",
      "enter age :45\n",
      "enter mobile: 4653\n",
      "name is gwsh age is 45 mobile is 4653\n"
     ]
    },
    {
     "ename": "NameError",
     "evalue": "name 's2' is not defined",
     "output_type": "error",
     "traceback": [
      "\u001b[1;31m---------------------------------------------------------------------------\u001b[0m",
      "\u001b[1;31mNameError\u001b[0m                                 Traceback (most recent call last)",
      "Cell \u001b[1;32mIn[7], line 8\u001b[0m\n\u001b[0;32m      6\u001b[0m s1\u001b[38;5;241m.\u001b[39mgetvalue()\n\u001b[0;32m      7\u001b[0m s1\u001b[38;5;241m.\u001b[39mshowdata()\n\u001b[1;32m----> 8\u001b[0m \u001b[43ms2\u001b[49m\u001b[38;5;241m.\u001b[39mstudent()\n",
      "\u001b[1;31mNameError\u001b[0m: name 's2' is not defined"
     ]
    }
   ],
   "source": [
    "# \\objectname=classname()\n",
    "# ottributes--- name,age,mobaile\n",
    "# methods---- getvalue(),showvaluse()\n",
    "\n",
    "s1=student()\n",
    "s1.getvalue()\n",
    "s1.showdata()\n",
    "s2.student()"
   ]
  },
  {
   "cell_type": "code",
   "execution_count": 20,
   "id": "638b348b",
   "metadata": {},
   "outputs": [
    {
     "name": "stdout",
     "output_type": "stream",
     "text": [
      "enter length :5\n",
      "enter width :2\n",
      "rectangle is 10\n"
     ]
    }
   ],
   "source": [
    "class rectangle:\n",
    "    def __init__(self):\n",
    "        self.l=0\n",
    "        self.w=0\n",
    "        \n",
    "    def getvalue(self):\n",
    "        self.l=int(input(\"enter length :\"))\n",
    "        self.w=int(input(\"enter width :\"))\n",
    "        self.re=self.l*self.w\n",
    " \n",
    "    \n",
    "    def a(self):\n",
    "        print(f\"rectangle is {self.re}\")\n",
    "        \n",
    "        \n",
    "r1=rectangle()\n",
    "r1.getvalue()\n",
    "\n",
    "r1.a()\n",
    "# r1.showdta()"
   ]
  },
  {
   "cell_type": "code",
   "execution_count": 19,
   "id": "812612f3",
   "metadata": {},
   "outputs": [
    {
     "name": "stdout",
     "output_type": "stream",
     "text": [
      "enter length :6\n",
      "enter width :3\n",
      "rectangle is 18\n"
     ]
    }
   ],
   "source": [
    "r1=rectangle()\n",
    "r1.getvalue()\n",
    "r1.a()\n",
    "# r1.showdta()\n",
    "\n"
   ]
  }
 ],
 "metadata": {
  "kernelspec": {
   "display_name": "Python 3 (ipykernel)",
   "language": "python",
   "name": "python3"
  },
  "language_info": {
   "codemirror_mode": {
    "name": "ipython",
    "version": 3
   },
   "file_extension": ".py",
   "mimetype": "text/x-python",
   "name": "python",
   "nbconvert_exporter": "python",
   "pygments_lexer": "ipython3",
   "version": "3.10.9"
  }
 },
 "nbformat": 4,
 "nbformat_minor": 5
}
