{
 "cells": [
  {
   "cell_type": "code",
   "execution_count": null,
   "id": "fa807d8b",
   "metadata": {},
   "outputs": [],
   "source": [
    "                                                 # 25 april 2023"
   ]
  },
  {
   "cell_type": "code",
   "execution_count": null,
   "id": "4790ec29",
   "metadata": {},
   "outputs": [],
   "source": [
    "# tuple is also a collection of element of similar or ifferent datatyp\n",
    "# tuple is also a ordrere collection\n",
    "# tuple immutable changes not allowed\n",
    "# tuple defined in round braces\n",
    "# tuple is not changeable in both format means not asingle element or neither a collection"
   ]
  },
  {
   "cell_type": "code",
   "execution_count": null,
   "id": "2cb966f5",
   "metadata": {},
   "outputs": [],
   "source": [
    "#list = []\n",
    "tup=(45,67.78,\"string\",[45,67],(90,56),{34,67},{6:45})\n"
   ]
  },
  {
   "cell_type": "code",
   "execution_count": 2,
   "id": "039d6d25",
   "metadata": {},
   "outputs": [
    {
     "name": "stdout",
     "output_type": "stream",
     "text": [
      "(45, 67.78, 'string', [45, 67], (90, 56), {34, 67}, {6: 45})\n",
      "[45, 67]\n",
      "45\n",
      "(45, 67.78, 'string', ['great', 67], (90, 56), {34, 67}, {6: 45})\n"
     ]
    }
   ],
   "source": [
    "tup=(45,67.78,\"string\",[45,67],(90,56),{34,67},{6:45})\n",
    "\n",
    "print(tup)\n",
    "print(tup[3])\n",
    "print(tup[3][0])\n",
    "tup[3][0]=\"great\"\n",
    "print(tup)"
   ]
  },
  {
   "cell_type": "code",
   "execution_count": 4,
   "id": "88e1cb1d",
   "metadata": {},
   "outputs": [
    {
     "data": {
      "text/plain": [
       "8"
      ]
     },
     "execution_count": 4,
     "metadata": {},
     "output_type": "execute_result"
    }
   ],
   "source": [
    "# tup=(45,58.23,True,\"String\",[45,36],(45,89),{41,20},{1:89})\n",
    "tup=(45,98.56,56,35,14,78.25,5,96.34)\n",
    "# tup=(\"wow\",\"great\",\"time\",\"Python\")\n",
    "# tup=(45,98,65,\"wow\",\"hello\")\n",
    "# tup=([45,36],(78,96),25)\n",
    "len(tup)\n",
    "# min(tup)\n",
    "# max(tup)\n",
    "# sum(tup)\n"
   ]
  },
  {
   "cell_type": "code",
   "execution_count": 1,
   "id": "4a88bbdf",
   "metadata": {},
   "outputs": [
    {
     "data": {
      "text/plain": [
       "(45, 89, 'hello')"
      ]
     },
     "execution_count": 1,
     "metadata": {},
     "output_type": "execute_result"
    }
   ],
   "source": [
    "tuple(range(45,98,6))\n",
    "tuple(\"Hello All\")\n",
    "tuple([45,89,\"hello\"])\n"
   ]
  },
  {
   "cell_type": "code",
   "execution_count": 4,
   "id": "7cb83c06",
   "metadata": {
    "scrolled": true
   },
   "outputs": [
    {
     "name": "stdout",
     "output_type": "stream",
     "text": [
      "0\n"
     ]
    },
    {
     "ename": "IndexError",
     "evalue": "tuple index out of range",
     "output_type": "error",
     "traceback": [
      "\u001b[1;31m---------------------------------------------------------------------------\u001b[0m",
      "\u001b[1;31mIndexError\u001b[0m                                Traceback (most recent call last)",
      "Cell \u001b[1;32mIn[4], line 4\u001b[0m\n\u001b[0;32m      2\u001b[0m \u001b[38;5;28mprint\u001b[39m(tup1\u001b[38;5;241m.\u001b[39mindex(\u001b[38;5;241m45\u001b[39m))\n\u001b[0;32m      3\u001b[0m \u001b[38;5;66;03m#print(tup1.index(589))\u001b[39;00m\n\u001b[1;32m----> 4\u001b[0m \u001b[38;5;28mprint\u001b[39m(\u001b[43mtup1\u001b[49m\u001b[43m[\u001b[49m\u001b[38;5;241;43m569\u001b[39;49m\u001b[43m]\u001b[49m)\n",
      "\u001b[1;31mIndexError\u001b[0m: tuple index out of range"
     ]
    }
   ],
   "source": [
    "tup1=(45,34,56,23,\"hello\",45,\"great\")\n",
    "print(tup1.index(45))\n",
    "#print(tup1.index(589))\n",
    "print(tup1[569])"
   ]
  },
  {
   "cell_type": "code",
   "execution_count": 4,
   "id": "a29dd318",
   "metadata": {},
   "outputs": [
    {
     "name": "stdout",
     "output_type": "stream",
     "text": [
      "2\n",
      "0\n"
     ]
    }
   ],
   "source": [
    "tup1=(45,89,65,32,54,78,\"HEllo\",54,\"great\")\n",
    "print(tup1.count(54))\n",
    "print(tup1.count(8965))"
   ]
  },
  {
   "cell_type": "code",
   "execution_count": 4,
   "id": "2f153a61",
   "metadata": {},
   "outputs": [
    {
     "name": "stdout",
     "output_type": "stream",
     "text": [
      "(45, 67.78, 'string', [45, 67], (90, 56), 'hello', {34, 67}, {6: 45}, True)\n"
     ]
    }
   ],
   "source": [
    "tup=(45,67.78,\"string\",[45,67],(90,56),\"hello\",{34,67},{6:45},True)\n",
    "print(tup)\n"
   ]
  },
  {
   "cell_type": "code",
   "execution_count": null,
   "id": "b9a22256",
   "metadata": {},
   "outputs": [],
   "source": []
  },
  {
   "cell_type": "code",
   "execution_count": 12,
   "id": "b5494f6a",
   "metadata": {
    "scrolled": true
   },
   "outputs": [
    {
     "name": "stdout",
     "output_type": "stream",
     "text": [
      "how many element enterd in list :5\n",
      "Enter Value: 3\n"
     ]
    },
    {
     "ename": "AttributeError",
     "evalue": "'tuple' object has no attribute 'append'",
     "output_type": "error",
     "traceback": [
      "\u001b[1;31m---------------------------------------------------------------------------\u001b[0m",
      "\u001b[1;31mAttributeError\u001b[0m                            Traceback (most recent call last)",
      "Cell \u001b[1;32mIn[12], line 7\u001b[0m\n\u001b[0;32m      5\u001b[0m \u001b[38;5;28;01mfor\u001b[39;00m i \u001b[38;5;129;01min\u001b[39;00m \u001b[38;5;28mrange\u001b[39m(num):\n\u001b[0;32m      6\u001b[0m     value\u001b[38;5;241m=\u001b[39m\u001b[38;5;28minput\u001b[39m(\u001b[38;5;124m\"\u001b[39m\u001b[38;5;124mEnter Value: \u001b[39m\u001b[38;5;124m\"\u001b[39m)\n\u001b[1;32m----> 7\u001b[0m     \u001b[43mlist1\u001b[49m\u001b[38;5;241;43m.\u001b[39;49m\u001b[43mappend\u001b[49m(value)   \u001b[38;5;66;03m#------------------ use append method to creat list for user\u001b[39;00m\n\u001b[0;32m      8\u001b[0m \u001b[38;5;66;03m# tuple=int(input(\"enter numbers :\"))\u001b[39;00m\n\u001b[0;32m      9\u001b[0m \u001b[38;5;28mprint\u001b[39m(\u001b[38;5;124mf\u001b[39m\u001b[38;5;124m\"\u001b[39m\u001b[38;5;124mTuple numbers = \u001b[39m\u001b[38;5;132;01m{\u001b[39;00mlist1\u001b[38;5;132;01m}\u001b[39;00m\u001b[38;5;124m\"\u001b[39m )\n",
      "\u001b[1;31mAttributeError\u001b[0m: 'tuple' object has no attribute 'append'"
     ]
    }
   ],
   "source": [
    "# Create a tuple with numbers\n",
    "Tuple = 10, 20, 40, 60, 80, 100\n",
    "# tuple=int(input(\"enter numbers :\"))\n",
    "print(f\"Tuple numbers = {Tuple}\" )"
   ]
  },
  {
   "cell_type": "code",
   "execution_count": null,
   "id": "eaf6ab9d",
   "metadata": {},
   "outputs": [],
   "source": []
  },
  {
   "cell_type": "code",
   "execution_count": 3,
   "id": "0fba77d2",
   "metadata": {},
   "outputs": [
    {
     "name": "stdout",
     "output_type": "stream",
     "text": [
      "exercises\n"
     ]
    }
   ],
   "source": [
    "tup = ('e', 'x', 'e', 'r', 'c', 'i', 's', 'e', 's')\n",
    "str1 =  ''.join(tup)\n",
    "print(str1)"
   ]
  },
  {
   "cell_type": "code",
   "execution_count": 6,
   "id": "5c7a9fa7",
   "metadata": {},
   "outputs": [
    {
     "data": {
      "text/plain": [
       "11"
      ]
     },
     "execution_count": 6,
     "metadata": {},
     "output_type": "execute_result"
    }
   ],
   "source": [
    "#tup=(45,98.56,56,35,14,78.25,5,96.34,45,67,\"heelo\",'A',\"hello world\")\n",
    "tup=(45,58.23,True,\"String\",'A',\"hello world\",[45,36],(45,89),{41,20},{1:89})\n",
    "len(tup)\n",
    "\n"
   ]
  },
  {
   "cell_type": "code",
   "execution_count": 10,
   "id": "9fb2dd84",
   "metadata": {},
   "outputs": [
    {
     "name": "stdout",
     "output_type": "stream",
     "text": [
      "[5, 10, 7, 4, 15, 3]\n",
      "(5, 10, 7, 4, 15, 3)\n"
     ]
    }
   ],
   "source": [
    "#Convert list to tuple\n",
    "list1 = [5, 10, 7, 4, 15, 3]\n",
    "print(list1)\n",
    "#use the tuple() function built-in Python, passing as parameter the list\n",
    "tupl = tuple(list1)\n",
    "print(tupl)"
   ]
  },
  {
   "cell_type": "code",
   "execution_count": null,
   "id": "b19253f6",
   "metadata": {},
   "outputs": [],
   "source": []
  },
  {
   "cell_type": "code",
   "execution_count": 8,
   "id": "75c3f5c2",
   "metadata": {},
   "outputs": [
    {
     "name": "stdout",
     "output_type": "stream",
     "text": [
      "how many element enterd in list :5\n",
      "Enter Value: 3\n"
     ]
    },
    {
     "ename": "AttributeError",
     "evalue": "type object 'tuple' has no attribute 'append'",
     "output_type": "error",
     "traceback": [
      "\u001b[1;31m---------------------------------------------------------------------------\u001b[0m",
      "\u001b[1;31mAttributeError\u001b[0m                            Traceback (most recent call last)",
      "Cell \u001b[1;32mIn[8], line 8\u001b[0m\n\u001b[0;32m      6\u001b[0m \u001b[38;5;28;01mfor\u001b[39;00m i \u001b[38;5;129;01min\u001b[39;00m \u001b[38;5;28mrange\u001b[39m(num):\n\u001b[0;32m      7\u001b[0m     value\u001b[38;5;241m=\u001b[39m\u001b[38;5;28minput\u001b[39m(\u001b[38;5;124m\"\u001b[39m\u001b[38;5;124mEnter Value: \u001b[39m\u001b[38;5;124m\"\u001b[39m)\n\u001b[1;32m----> 8\u001b[0m     \u001b[38;5;28;43mtuple\u001b[39;49m\u001b[38;5;241;43m.\u001b[39;49m\u001b[43mappend\u001b[49m(value)   \n\u001b[0;32m      9\u001b[0m \u001b[38;5;66;03m# tuple=int(input(\"enter numbers :\"))\u001b[39;00m\n\u001b[0;32m     10\u001b[0m \u001b[38;5;28mprint\u001b[39m(\u001b[38;5;124mf\u001b[39m\u001b[38;5;124m\"\u001b[39m\u001b[38;5;124mTuple numbers = \u001b[39m\u001b[38;5;132;01m{\u001b[39;00m\u001b[38;5;28mtuple\u001b[39m()\u001b[38;5;132;01m}\u001b[39;00m\u001b[38;5;124m\"\u001b[39m )\n",
      "\u001b[1;31mAttributeError\u001b[0m: type object 'tuple' has no attribute 'append'"
     ]
    }
   ],
   "source": [
    "# for me\n",
    "\n",
    "num=int(input(\"how many element enterd in list :\"))\n",
    "\n",
    "tuple()    # ------------------------------- create empty list1\n",
    "for i in range(num):\n",
    "    value=input(\"Enter Value: \")\n",
    "    tuple(.append(value)   \n",
    "# tuple=int(input(\"enter numbers :\"))\n",
    "print(f\"Tuple numbers = {tuple()}\" ) "
   ]
  },
  {
   "cell_type": "code",
   "execution_count": null,
   "id": "462ddb51",
   "metadata": {
    "scrolled": false
   },
   "outputs": [],
   "source": []
  },
  {
   "cell_type": "code",
   "execution_count": 1,
   "id": "9b0d122d",
   "metadata": {},
   "outputs": [
    {
     "name": "stdout",
     "output_type": "stream",
     "text": [
      "how many element enterd in list :5\n",
      "Enter Value: 6\n",
      "Enter Value: n\n",
      "Enter Value: 3\n",
      "Enter Value: b\n",
      "Enter Value: a\n",
      "['6', 'n', '3', 'b', 'a']\n",
      "Enter Tuple Item to Find = 3\n",
      "List : ['3']\n",
      "Tuple : ('3',)\n",
      "  3 : This is ----> True\n"
     ]
    }
   ],
   "source": [
    "\n",
    "\n",
    "\n",
    "num=int(input(\"how many element enterd in list :\"))\n",
    "\n",
    "list1=[]\n",
    "for i in range(num):\n",
    "    value=input(\"Enter Value: \")\n",
    "    list1.append(value)  #-------- use append method to creat list for user\n",
    "    \n",
    "print(list1)\n",
    "    \n",
    "number =input(\"Enter Tuple Item to Find = \") # Check Element Presnet in list\n",
    "list1 = number.split(\",\")  #---------------------- using the split() method and assigns it to the variable 'list'.\n",
    "tuple = tuple(list1)    #------------------------- using the tuple() function and assigns it to the variable 'tuple'.\n",
    "print(f\"List : {list1}\")\n",
    "print(f\"Tuple : {tuple}\")\n",
    "\n",
    "\n",
    "if number in list1:                                  #-------- use conditional statements\n",
    "    print(f\"  {number} : This is ----> True\")      #-------- list1 == []\n",
    "else:\n",
    "    print(f\"  {number} : Sorry! We haven't found so, this is ----> False\")  #-------- list1 != [1,2,...,'n']\n",
    "    \n",
    "    \n",
    "\n",
    "\n",
    "\n",
    "\n"
   ]
  },
  {
   "cell_type": "code",
   "execution_count": 1,
   "id": "7f219277",
   "metadata": {},
   "outputs": [
    {
     "name": "stdout",
     "output_type": "stream",
     "text": [
      "how many element enterd in list :5\n",
      "Enter Value: 3\n",
      "Enter Value: 2\n",
      "Enter Value: 5\n",
      "Enter Value: 6\n",
      "Enter Value: 3\n",
      "[3, 2, 5, 6, 3]\n",
      "(3, 2, 5, 6, 3)\n"
     ]
    }
   ],
   "source": [
    "#Convert list to tuple\n",
    "num=int(input(\"how many element enterd in list :\"))\n",
    "\n",
    "list1=[]\n",
    "for i in range(num):\n",
    "    value=int(input(\"Enter Value: \"))\n",
    "    list1.append(value)  #-------- use append method to creat list for user\n",
    "print(list1)\n",
    "#use the tuple() function built-in Python, passing as parameter the list\n",
    "tupl = tuple(list1)\n",
    "print(tupl)"
   ]
  },
  {
   "cell_type": "code",
   "execution_count": 2,
   "id": "1e60809d",
   "metadata": {},
   "outputs": [
    {
     "name": "stdout",
     "output_type": "stream",
     "text": [
      "[5, 10, 7, 4, 15, 3]\n",
      "(5, 10, 7, 4, 15, 3)\n"
     ]
    }
   ],
   "source": [
    "#Convert list to tuple\n",
    "listx = [5, 10, 7, 4, 15, 3]\n",
    "print(listx)\n",
    "#use the tuple() function built-in Python, passing as parameter the list\n",
    "tuplex = tuple(listx)\n",
    "print(tuplex)"
   ]
  },
  {
   "cell_type": "code",
   "execution_count": null,
   "id": "48a18cbe",
   "metadata": {
    "scrolled": true
   },
   "outputs": [],
   "source": []
  },
  {
   "cell_type": "code",
   "execution_count": 15,
   "id": "ee4e0f3b",
   "metadata": {},
   "outputs": [
    {
     "name": "stdout",
     "output_type": "stream",
     "text": [
      "(2, 34, 45, 6, 7, 2, 4, 5, 78, 34, 2)\n",
      "enter num : 2\n",
      "3\n"
     ]
    }
   ],
   "source": [
    "t = (2,34,45,6,7,2,4,5,78,34,2)\n",
    "print(t)\n",
    "n=int(input(\"enter num : \"))\n",
    "count = t.count(n)\n",
    "print(count)"
   ]
  },
  {
   "cell_type": "code",
   "execution_count": null,
   "id": "17cae001",
   "metadata": {
    "scrolled": true
   },
   "outputs": [],
   "source": []
  },
  {
   "cell_type": "code",
   "execution_count": null,
   "id": "064b70ff",
   "metadata": {
    "scrolled": true
   },
   "outputs": [],
   "source": []
  },
  {
   "cell_type": "code",
   "execution_count": 8,
   "id": "fbffb7df",
   "metadata": {},
   "outputs": [
    {
     "name": "stdout",
     "output_type": "stream",
     "text": [
      "Enter  elements for the tuple: 6\n",
      "enter number : 2\n",
      "enter number : 3\n",
      "enter number : s\n",
      "enter number : d\n",
      "enter number : f\n",
      "enter number : g\n",
      "\n",
      "Original Tuple: ('2', '3', 's', 'd', 'f', 'g')\n",
      "Reversed Tuple: ('g', 'f', 'd', 's', '3', '2')\n"
     ]
    }
   ],
   "source": [
    "\n",
    "num=int(input(\"Enter  elements for the tuple: \"))\n",
    "list1=[]\n",
    "for i in range(num):\n",
    "    n=input(\"enter number : \")\n",
    "    list1.append(n)\n",
    "\n",
    "tupl = tuple(list1)\n",
    "\n",
    "Reversed = tupl[::-1]\n",
    "\n",
    "print(f\"\\nOriginal Tuple: {tupl}\")\n",
    "print(f\"Reversed Tuple: {Reversed}\")"
   ]
  }
 ],
 "metadata": {
  "kernelspec": {
   "display_name": "Python 3 (ipykernel)",
   "language": "python",
   "name": "python3"
  },
  "language_info": {
   "codemirror_mode": {
    "name": "ipython",
    "version": 3
   },
   "file_extension": ".py",
   "mimetype": "text/x-python",
   "name": "python",
   "nbconvert_exporter": "python",
   "pygments_lexer": "ipython3",
   "version": "3.10.9"
  }
 },
 "nbformat": 4,
 "nbformat_minor": 5
}
