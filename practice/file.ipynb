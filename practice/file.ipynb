{
 "cells": [
  {
   "cell_type": "markdown",
   "id": "e8de97a4",
   "metadata": {},
   "source": [
    "<!-- # 13 may 2023 -->"
   ]
  },
  {
   "cell_type": "code",
   "execution_count": 3,
   "id": "d6beeeb0",
   "metadata": {},
   "outputs": [
    {
     "name": "stdout",
     "output_type": "stream",
     "text": [
      "1. Pizza    price = 150 rs/pcs\n",
      "2. Burger   price = 70 rs/pcs\n",
      "3. Dosa     price = 100 rs/pcs\n",
      "4. Idli     price = 50 rs/pcs\n",
      "5. Cake     price = 150 rs/pcs\n",
      "enter your choice  :1\n",
      "enter Quantity: \n",
      "1\n"
     ]
    },
    {
     "ename": "TypeError",
     "evalue": "'int' object is not callable",
     "output_type": "error",
     "traceback": [
      "\u001b[1;31m---------------------------------------------------------------------------\u001b[0m",
      "\u001b[1;31mTypeError\u001b[0m                                 Traceback (most recent call last)",
      "Cell \u001b[1;32mIn[3], line 43\u001b[0m\n\u001b[0;32m     39\u001b[0m     amount \u001b[38;5;241m=\u001b[39m quantity \u001b[38;5;241m*\u001b[39m \u001b[38;5;241m150\u001b[39m\n\u001b[0;32m     42\u001b[0m \u001b[38;5;66;03m# print(f\"sum{amount} \")\u001b[39;00m\n\u001b[1;32m---> 43\u001b[0m \u001b[38;5;28;43mprint\u001b[39;49m\u001b[43m(\u001b[49m\u001b[38;5;124;43mf\u001b[39;49m\u001b[38;5;124;43m\"\u001b[39;49m\u001b[38;5;124;43mamount =  \u001b[39;49m\u001b[38;5;132;43;01m{\u001b[39;49;00m\u001b[43mamount\u001b[49m\u001b[38;5;132;43;01m}\u001b[39;49;00m\u001b[38;5;124;43m\"\u001b[39;49m\u001b[43m)\u001b[49m\n\u001b[0;32m     44\u001b[0m \u001b[38;5;28mprint\u001b[39m(\u001b[38;5;124mf\u001b[39m\u001b[38;5;124m\"\u001b[39m\u001b[38;5;124mtotal_amount =  \u001b[39m\u001b[38;5;132;01m{\u001b[39;00mtotal_amount\u001b[38;5;132;01m}\u001b[39;00m\u001b[38;5;124m\"\u001b[39m)\n\u001b[0;32m     45\u001b[0m \u001b[38;5;28mprint\u001b[39m\u001b[38;5;241m=\u001b[39m\u001b[38;5;28minput\u001b[39m(\u001b[38;5;124m\"\u001b[39m\u001b[38;5;124m do you want to plce more oders? y or n :\u001b[39m\u001b[38;5;124m\"\u001b[39m)\n",
      "\u001b[1;31mTypeError\u001b[0m: 'int' object is not callable"
     ]
    }
   ],
   "source": [
    "print(\"1. Pizza    price = 150 rs/pcs\")\n",
    "print(\"2. Burger   price = 70 rs/pcs\")\n",
    "print(\"3. Dosa     price = 100 rs/pcs\")\n",
    "print(\"4. Idli     price = 50 rs/pcs\")\n",
    "print(\"5. Cake     price = 150 rs/pcs\")\n",
    "\n",
    "print=int(input(\"enter your choice  :\"))\n",
    "choise = 0\n",
    "quantity = 0\n",
    "\n",
    "if (choise == 1):\n",
    "    print(\"you have selected pizza \\n\")\n",
    "    \n",
    "\n",
    "elif (choise == 2):\n",
    "    print(\"you have selected burger \\n\")\n",
    "elif (choise == 3):\n",
    "    print(\"you have selected dosa \\n\")\n",
    "elif (choise == 4):\n",
    "    print(\"you have selected burger \\n\")\n",
    "elif (choise == 5):\n",
    "    print(\"you have selected idli \\n\")\n",
    "\n",
    "print=int(input(\"enter Quantity: \\n\"))    \n",
    "\n",
    "if (choise == 1):\n",
    "    amount = quantity * 150\n",
    "    \n",
    "elif (choise == 2):\n",
    "    amount = quantity * 70\n",
    "\n",
    "elif (choise == 3):\n",
    "    amount = quantity * 100\n",
    "\n",
    "elif (choise == 4):\n",
    "    amount = quantity * 50\n",
    "\n",
    "elif (choise == 5):\n",
    "    amount = quantity * 150\n",
    "\n",
    "\n",
    "# print(f\"sum{amount} \")\n",
    "print(f\"amount =  {amount}\")\n",
    "print(f\"total_amount =  {total_amount}\")\n",
    "print=input(\" do you want to plce more oders? y or n :\")\n",
    "    \n",
    "\n",
    "    \n",
    "if (option == 'y'):\n",
    "    print(\"start\")\n",
    "else:\n",
    "    print(f\"total bill is {total_amount}\")\n",
    "    print(\"visit again \")\n",
    "\n"
   ]
  },
  {
   "cell_type": "code",
   "execution_count": 2,
   "id": "f332f224",
   "metadata": {
    "scrolled": true
   },
   "outputs": [
    {
     "name": "stdout",
     "output_type": "stream",
     "text": [
      "1. Pizza    price = 150 rs/pcs\n",
      "2. Burger   price = 70 rs/pcs\n",
      "3. Dosa     price = 100 rs/pcs\n",
      "4. Idli     price = 50 rs/pcs\n",
      "5. Cake     price = 150 rs/pcs\n",
      "Enter your choice (1-5): 1\n",
      "Enter Quantity: 1\n",
      "You have selected Pizza\n"
     ]
    },
    {
     "ename": "NameError",
     "evalue": "name 'total_amount' is not defined",
     "output_type": "error",
     "traceback": [
      "\u001b[1;31m---------------------------------------------------------------------------\u001b[0m",
      "\u001b[1;31mNameError\u001b[0m                                 Traceback (most recent call last)",
      "Cell \u001b[1;32mIn[2], line 31\u001b[0m\n\u001b[0;32m     28\u001b[0m     amount \u001b[38;5;241m=\u001b[39m quantity \u001b[38;5;241m*\u001b[39m \u001b[38;5;241m150\u001b[39m\n\u001b[0;32m     29\u001b[0m     \u001b[38;5;28mprint\u001b[39m(\u001b[38;5;124m\"\u001b[39m\u001b[38;5;124mYou have selected Cake\u001b[39m\u001b[38;5;124m\"\u001b[39m)\n\u001b[1;32m---> 31\u001b[0m total_amount \u001b[38;5;241m+\u001b[39m\u001b[38;5;241m=\u001b[39m amount\n\u001b[0;32m     33\u001b[0m more_orders \u001b[38;5;241m=\u001b[39m \u001b[38;5;28minput\u001b[39m(\u001b[38;5;124m\"\u001b[39m\u001b[38;5;124mDo you want to place more orders? (y/n): \u001b[39m\u001b[38;5;124m\"\u001b[39m)\n\u001b[0;32m     34\u001b[0m \u001b[38;5;28;01mif\u001b[39;00m more_orders\u001b[38;5;241m.\u001b[39mlower() \u001b[38;5;241m!=\u001b[39m \u001b[38;5;124m'\u001b[39m\u001b[38;5;124my\u001b[39m\u001b[38;5;124m'\u001b[39m:\n",
      "\u001b[1;31mNameError\u001b[0m: name 'total_amount' is not defined"
     ]
    }
   ],
   "source": [
    "print(\"1. Pizza    price = 150 rs/pcs\")\n",
    "print(\"2. Burger   price = 70 rs/pcs\")\n",
    "print(\"3. Dosa     price = 100 rs/pcs\")\n",
    "print(\"4. Idli     price = 50 rs/pcs\")\n",
    "print(\"5. Cake     price = 150 rs/pcs\")\n",
    "\n",
    "while True:\n",
    "    choice = int(input(\"Enter your choice (1-5): \"))\n",
    "    if choice not in range(1, 6):\n",
    "        print(\"Invalid choice!\")\n",
    "        continue\n",
    "\n",
    "    quantity = int(input(\"Enter Quantity: \"))\n",
    "\n",
    "    if choice == 1:\n",
    "        amount = quantity * 150\n",
    "        print(\"You have selected Pizza\")\n",
    "    elif choice == 2:\n",
    "        amount = quantity * 70\n",
    "        print(\"You have selected Burger\")\n",
    "    elif choice == 3:\n",
    "        amount = quantity * 100\n",
    "        print(\"You have selected Dosa\")\n",
    "    elif choice == 4:\n",
    "        amount = quantity * 50\n",
    "        print(\"You have selected Idli\")\n",
    "    elif choice == 5:\n",
    "        amount = quantity * 150\n",
    "        print(\"You have selected Cake\")\n",
    "\n",
    "    total_amount += amount\n",
    "\n",
    "    more_orders = input(\"Do you want to place more orders? (y/n): \")\n",
    "    if more_orders.lower() != 'y':\n",
    "        break\n",
    "\n",
    "print(f\"Total bill: {total_amount}\")\n",
    "print(\"Thank you for your order! Visit again!\")\n",
    "\n"
   ]
  },
  {
   "cell_type": "code",
   "execution_count": 1,
   "id": "45a6fd09",
   "metadata": {},
   "outputs": [
    {
     "name": "stdout",
     "output_type": "stream",
     "text": [
      "1 4\n",
      "2 8\n",
      "3 9\n"
     ]
    }
   ],
   "source": [
    "# zip\n",
    "list1=[1,2,3]\n",
    "list2=[4,8,9]\n",
    "for i,j in zip(list1,list2):\n",
    "    print(i,j)"
   ]
  },
  {
   "cell_type": "code",
   "execution_count": null,
   "id": "f8f9ac90",
   "metadata": {},
   "outputs": [],
   "source": [
    "# file handling\n",
    "# file open\n",
    "# file task or work\n",
    "# file close"
   ]
  },
  {
   "cell_type": "code",
   "execution_count": null,
   "id": "b2152045",
   "metadata": {},
   "outputs": [],
   "source": [
    "# file=open(\"Filename\",\"mode\")\n",
    "# modes in files in python\n",
    "\n",
    "# read---r---if file you want to open for reading purpose exists then it open for reading purpose \n",
    "# otherwise if not exist then it gives error\n",
    "\n",
    "# write---w---if file exist then it open for writing purpose and all old content will be deleted\n",
    "# and if file not present then it creates a new file for writing purpose\n",
    "\n",
    "# append---a---if file exist then it open for writing purpose and all old content will not be deleted\n",
    "# and if file not present then it creates a new file for writing purpose"
   ]
  },
  {
   "cell_type": "code",
   "execution_count": null,
   "id": "ca02b4da",
   "metadata": {},
   "outputs": [],
   "source": [
    "# file close\n",
    "\n",
    "# file.close(`)"
   ]
  },
  {
   "cell_type": "code",
   "execution_count": 20,
   "id": "4945857c",
   "metadata": {},
   "outputs": [],
   "source": [
    "file=open(\"demo.txt\",\"w\")\n",
    "file.write(\"Hello this will be entered in file\")\n",
    "file.close()"
   ]
  },
  {
   "cell_type": "code",
   "execution_count": 17,
   "id": "40f45e1f",
   "metadata": {},
   "outputs": [],
   "source": [
    "file=open(\"demo.txt\",\"w\")\n",
    "file.write(\"weghrv jehgverjhgv\")\n",
    "file.close()"
   ]
  },
  {
   "cell_type": "code",
   "execution_count": 23,
   "id": "e02d103f",
   "metadata": {},
   "outputs": [],
   "source": [
    "file=open(\"demo.txt\",\"a\")\n",
    "file.write(\"new content\")\n",
    "file.close()\n"
   ]
  },
  {
   "cell_type": "code",
   "execution_count": 24,
   "id": "52fb953e",
   "metadata": {},
   "outputs": [
    {
     "name": "stdout",
     "output_type": "stream",
     "text": [
      "Hello this will be entered in filenew content\n"
     ]
    }
   ],
   "source": [
    "file=open(\"demo.txt\",\"r\")\n",
    "# print(file.read())\n",
    "# print(file.read(10))\n",
    "print(file.read(450))\n",
    "file.close()"
   ]
  },
  {
   "cell_type": "code",
   "execution_count": 25,
   "id": "426c246d",
   "metadata": {},
   "outputs": [
    {
     "name": "stdout",
     "output_type": "stream",
     "text": [
      "Hello this will be entered in filenew content\n",
      "\n"
     ]
    }
   ],
   "source": [
    "file=open(\"demo.txt\",\"r\")\n",
    "print(file.readline())\n",
    "print(file.readline())\n",
    "file.close()"
   ]
  },
  {
   "cell_type": "code",
   "execution_count": null,
   "id": "14ae69ac",
   "metadata": {},
   "outputs": [],
   "source": [
    "r+\n",
    "w+\n",
    "a+\n",
    "x"
   ]
  },
  {
   "cell_type": "code",
   "execution_count": 55,
   "id": "deffc3f5",
   "metadata": {},
   "outputs": [
    {
     "ename": "SyntaxError",
     "evalue": "unexpected character after line continuation character (703105429.py, line 1)",
     "output_type": "error",
     "traceback": [
      "\u001b[1;36m  Cell \u001b[1;32mIn[55], line 1\u001b[1;36m\u001b[0m\n\u001b[1;33m    this is my file \\n this will be great language\u001b[0m\n\u001b[1;37m                     ^\u001b[0m\n\u001b[1;31mSyntaxError\u001b[0m\u001b[1;31m:\u001b[0m unexpected character after line continuation character\n"
     ]
    }
   ],
   "source": [
    "this is my file \\n this will be great language"
   ]
  },
  {
   "cell_type": "code",
   "execution_count": 56,
   "id": "a3bc3f50",
   "metadata": {},
   "outputs": [
    {
     "name": "stdout",
     "output_type": "stream",
     "text": [
      "\n"
     ]
    }
   ],
   "source": [
    "file=open(\"demo2.txt\",\"a+\")\n",
    "file.write(\"this is my file\\nthis will be great language\")\n",
    "print(file.readline())\n",
    "file.close()"
   ]
  },
  {
   "cell_type": "code",
   "execution_count": 57,
   "id": "f12a4a60",
   "metadata": {},
   "outputs": [
    {
     "name": "stdout",
     "output_type": "stream",
     "text": [
      "this is my file\n",
      "\n"
     ]
    }
   ],
   "source": [
    "file=open(\"demo3.txt\",\"w\")\n",
    "file.write(\"this is my file\\nthis will be great language\")\n",
    "file=open(\"demo3.txt\",\"r\")\n",
    "print(file.readline())"
   ]
  },
  {
   "cell_type": "code",
   "execution_count": 10,
   "id": "dc6ef01e",
   "metadata": {},
   "outputs": [
    {
     "name": "stdout",
     "output_type": "stream",
     "text": [
      "hello\n",
      "wolrd\n"
     ]
    }
   ],
   "source": [
    "print(\"hello\\nwolrd\")"
   ]
  },
  {
   "cell_type": "code",
   "execution_count": 47,
   "id": "10eb5929",
   "metadata": {},
   "outputs": [],
   "source": [
    "# chintan sir\n",
    "# 15 feb \n",
    "\n",
    "f = open(\"myfile.txt\",'w')\n",
    "f.write(\"Hello python\")\n",
    "f.truncate(8) # hello py 8index sudhi Write -lakhase se\n",
    "f.close()"
   ]
  },
  {
   "cell_type": "code",
   "execution_count": 48,
   "id": "0e0bef99",
   "metadata": {},
   "outputs": [
    {
     "name": "stdout",
     "output_type": "stream",
     "text": [
      "Hello py\n"
     ]
    }
   ],
   "source": [
    "f = open(\"myfile.txt\",'r')\n",
    "text = f.read() # file ma lakhelu print thase\n",
    "print(text)"
   ]
  },
  {
   "cell_type": "code",
   "execution_count": 49,
   "id": "fa0d74f6",
   "metadata": {},
   "outputs": [],
   "source": [
    "f = open(\"myfile.txt\",'a')\n",
    "f.write(\" Hello python \\n this is second line \\n this 3rd line\")\n",
    "f.close()"
   ]
  },
  {
   "cell_type": "code",
   "execution_count": 50,
   "id": "83cde606",
   "metadata": {
    "scrolled": true
   },
   "outputs": [
    {
     "name": "stdout",
     "output_type": "stream",
     "text": [
      "Hello py Hello python \n",
      " this is second line \n",
      " this 3rd line\n"
     ]
    }
   ],
   "source": [
    "f = open(\"myfile.txt\",'r')\n",
    "text = f.read() # file ma lakhelu print thase + upr lakhelu add append bi thase\n",
    "print(text)"
   ]
  },
  {
   "cell_type": "code",
   "execution_count": 51,
   "id": "147ad21b",
   "metadata": {},
   "outputs": [
    {
     "name": "stdout",
     "output_type": "stream",
     "text": [
      "7\n",
      "y Hello python \n",
      " this is second line \n",
      " this 3rd line\n"
     ]
    }
   ],
   "source": [
    "with open(\"myfile.txt\") as f:\n",
    "    f.seek(7)\n",
    "    print(f.tell()) # aagl na 7 charactor cut thay ne print thase \n",
    "    text=f.read()\n",
    "    print(text)"
   ]
  },
  {
   "cell_type": "code",
   "execution_count": 52,
   "id": "6bfbdf19",
   "metadata": {},
   "outputs": [
    {
     "name": "stdout",
     "output_type": "stream",
     "text": [
      "Hello py Hello python \n",
      "\n"
     ]
    }
   ],
   "source": [
    "with open(\"myfile.txt\") as f :\n",
    "    text = f.readline() # khali first line j print thase\n",
    "    print(text)"
   ]
  },
  {
   "cell_type": "code",
   "execution_count": 53,
   "id": "9d58963c",
   "metadata": {},
   "outputs": [],
   "source": [
    "import os\n",
    "\n",
    "os.makedirs(\"NEWFOLDER\")\n",
    "os.rmdir(\"NEWFOLDER\")\n"
   ]
  },
  {
   "cell_type": "code",
   "execution_count": 54,
   "id": "7d2c30d8",
   "metadata": {
    "scrolled": true
   },
   "outputs": [
    {
     "name": "stdout",
     "output_type": "stream",
     "text": [
      "Hello py Hello python\n",
      "this is second line\n",
      "this 3rd line\n"
     ]
    }
   ],
   "source": [
    "with open('myfile.txt', 'r') as file:\n",
    "    line = file.readline()\n",
    "    while line:\n",
    "        print(line.strip()) \n",
    "        line = file.readline()"
   ]
  }
 ],
 "metadata": {
  "kernelspec": {
   "display_name": "Python 3 (ipykernel)",
   "language": "python",
   "name": "python3"
  },
  "language_info": {
   "codemirror_mode": {
    "name": "ipython",
    "version": 3
   },
   "file_extension": ".py",
   "mimetype": "text/x-python",
   "name": "python",
   "nbconvert_exporter": "python",
   "pygments_lexer": "ipython3",
   "version": "3.10.9"
  }
 },
 "nbformat": 4,
 "nbformat_minor": 5
}
