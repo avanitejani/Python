{
 "cells": [
  {
   "cell_type": "code",
   "execution_count": null,
   "id": "c5c17b64",
   "metadata": {},
   "outputs": [],
   "source": [
    "                                                 #  6th may 2023\n",
    "\n",
    "def Palindrome(a):\n",
    "    if a==r\n",
    "    "
   ]
  },
  {
   "cell_type": "code",
   "execution_count": null,
   "id": "67b9c9c3",
   "metadata": {},
   "outputs": [],
   "source": [
    "# DRY--don't repeat yourself\n",
    "\n",
    "def functionname([parameters]):\n",
    "    gferg\n",
    "    ergerg\n",
    "    ergerg\n",
    "    body of the function\n",
    "    [return value]\n",
    "\n",
    "\n",
    "# identifier rule"
   ]
  },
  {
   "cell_type": "code",
   "execution_count": null,
   "id": "cbd43c89",
   "metadata": {},
   "outputs": [],
   "source": [
    "def demo():\n",
    "    print(\"Hello This is abasic function\")"
   ]
  },
  {
   "cell_type": "code",
   "execution_count": null,
   "id": "9e03e685",
   "metadata": {},
   "outputs": [],
   "source": [
    "demo()\n",
    "demo()"
   ]
  },
  {
   "cell_type": "code",
   "execution_count": 4,
   "id": "0272dbf7",
   "metadata": {},
   "outputs": [],
   "source": [
    "def demo2(a,b,c):\n",
    "    print(a,b,c)"
   ]
  },
  {
   "cell_type": "code",
   "execution_count": null,
   "id": "33029599",
   "metadata": {},
   "outputs": [],
   "source": [
    "demo2(89)\n",
    "# demo2(\"jferijgrthbn\")"
   ]
  },
  {
   "cell_type": "code",
   "execution_count": 6,
   "id": "5804110f",
   "metadata": {},
   "outputs": [
    {
     "name": "stdout",
     "output_type": "stream",
     "text": [
      "hello [45, 89] {89, 25}\n"
     ]
    }
   ],
   "source": [
    "demo2(\"hello\",[45,89],{89,25})"
   ]
  },
  {
   "cell_type": "code",
   "execution_count": 8,
   "id": "7f85d17a",
   "metadata": {},
   "outputs": [
    {
     "name": "stdout",
     "output_type": "stream",
     "text": [
      " enter number  :8\n",
      "1\n",
      "2\n",
      "4\n"
     ]
    }
   ],
   "source": [
    "n=int(input(\" enter number  :\"))\n",
    "for i in range(1,n):\n",
    "    if n % i == 0:\n",
    "        print(i)"
   ]
  },
  {
   "cell_type": "code",
   "execution_count": 8,
   "id": "5937dda0",
   "metadata": {},
   "outputs": [],
   "source": [
    "def great(a):\n",
    "    return a**3"
   ]
  },
  {
   "cell_type": "code",
   "execution_count": 9,
   "id": "c2e04c02",
   "metadata": {},
   "outputs": [
    {
     "name": "stdout",
     "output_type": "stream",
     "text": [
      "8\n"
     ]
    }
   ],
   "source": [
    "z=great(2)\n",
    "print(z)"
   ]
  },
  {
   "cell_type": "code",
   "execution_count": 10,
   "id": "0aaf0e34",
   "metadata": {},
   "outputs": [],
   "source": [
    "def check():\n",
    "    print(\"1\")\n",
    "    print(\"2\")    \n",
    "    print(\"3\") \n",
    "    \n",
    "    print(\"4\")    \n",
    "    print(\"5\")  \n",
    "    return \"hello\""
   ]
  },
  {
   "cell_type": "code",
   "execution_count": 11,
   "id": "c77d0377",
   "metadata": {},
   "outputs": [
    {
     "name": "stdout",
     "output_type": "stream",
     "text": [
      "1\n",
      "2\n",
      "3\n",
      "4\n",
      "5\n"
     ]
    },
    {
     "data": {
      "text/plain": [
       "'hello'"
      ]
     },
     "execution_count": 11,
     "metadata": {},
     "output_type": "execute_result"
    }
   ],
   "source": [
    "check()"
   ]
  },
  {
   "cell_type": "code",
   "execution_count": null,
   "id": "37f99907",
   "metadata": {},
   "outputs": [],
   "source": [
    "# types of parameters\n",
    "check(\"hwgfh\")"
   ]
  },
  {
   "cell_type": "code",
   "execution_count": 14,
   "id": "85b6071d",
   "metadata": {},
   "outputs": [],
   "source": []
  },
  {
   "cell_type": "code",
   "execution_count": 16,
   "id": "9be0a804",
   "metadata": {},
   "outputs": [
    {
     "name": "stdout",
     "output_type": "stream",
     "text": [
      "Enter A stringwow\n",
      "plindrome\n"
     ]
    }
   ],
   "source": [
    "def fun1(a):\n",
    "    \n",
    "    if a==a[::-1]:\n",
    "        return \"plindrome\"\n",
    "    else:\n",
    "        return \"Not palindrome\""
   ]
  },
  {
   "cell_type": "code",
   "execution_count": null,
   "id": "d9958d7a",
   "metadata": {},
   "outputs": [],
   "source": [
    "var=input(\"Enter A string\")\n",
    "ans=fun1(var)\n",
    "print(ans)"
   ]
  },
  {
   "cell_type": "code",
   "execution_count": 17,
   "id": "4f1fdc11",
   "metadata": {},
   "outputs": [
    {
     "name": "stdout",
     "output_type": "stream",
     "text": [
      "Enter A stringwow!\n",
      "Not palindrome\n"
     ]
    }
   ],
   "source": [
    "def fun1(a):\n",
    "    \n",
    "    if a==a[::-1]:\n",
    "        return \"plindrome\"\n",
    "    else:\n",
    "        return \"Not palindrome\"\n",
    "    \n",
    "var=input(\"Enter A string\")\n",
    "ans=fun1(var)\n",
    "print(ans)"
   ]
  },
  {
   "cell_type": "code",
   "execution_count": 21,
   "id": "a095573c",
   "metadata": {},
   "outputs": [
    {
     "name": "stdout",
     "output_type": "stream",
     "text": [
      "Not palindrome\n",
      "plindrome\n"
     ]
    }
   ],
   "source": [
    "print(fun1(\"regerg\"))\n",
    "\n",
    "print(fun1(\"mam\"))"
   ]
  },
  {
   "cell_type": "code",
   "execution_count": null,
   "id": "f766da6b",
   "metadata": {},
   "outputs": [],
   "source": [
    "8 ----1 2 4 \n",
    "24--1 2 3 4 6 8 12\n",
    "248"
   ]
  },
  {
   "cell_type": "code",
   "execution_count": null,
   "id": "7e2c6ab1",
   "metadata": {},
   "outputs": [],
   "source": []
  },
  {
   "cell_type": "code",
   "execution_count": null,
   "id": "21509b5d",
   "metadata": {},
   "outputs": [],
   "source": [
    "                                                    #  9th may 2023\n",
    "\n",
    "# tYPES OF ARGUMENT\n",
    "# 1)POSITIONAL ARGUMENT\n",
    "# 2)KEYWORD ARGUMENT\n",
    "# 3)DEFAULT ARGUMENT\n",
    "# 4)ARBITRARY KEYWORD ARGUMENT\n",
    "# 5)ARBITRARY POSITIONAL ARGUMENT"
   ]
  },
  {
   "cell_type": "code",
   "execution_count": 23,
   "id": "f219a51b",
   "metadata": {},
   "outputs": [
    {
     "name": "stdout",
     "output_type": "stream",
     "text": [
      "Value of m is hello and value of p is 89.36\n"
     ]
    }
   ],
   "source": [
    "# positional argument\n",
    "def demo(m,p):\n",
    "    print(f\"Value of m is {m} and value of p is {p}\")\n",
    "    \n",
    "    \n",
    "demo(\"hello\",89.36)"
   ]
  },
  {
   "cell_type": "code",
   "execution_count": 24,
   "id": "0d378a88",
   "metadata": {
    "scrolled": true
   },
   "outputs": [
    {
     "name": "stdout",
     "output_type": "stream",
     "text": [
      "Value of m is89 and value of p is 36 wow  58.36\n"
     ]
    }
   ],
   "source": [
    "# keyword argument\n",
    "def demo(m,p,x,z):\n",
    "    print(f\"Value of m is{m} and value of p is {p} {x}  {z}\")\n",
    "    \n",
    "demo(89,36,z=58.36,x=\"wow\")\n"
   ]
  },
  {
   "cell_type": "code",
   "execution_count": null,
   "id": "3936f66b",
   "metadata": {},
   "outputs": [],
   "source": [
    "def demo (m,p,x,z):\n",
    "    print(f\"value m{m}  p{p}  x{x}  z{z})\n",
    "demo(40,50,z=60,x=\"hii\")"
   ]
  },
  {
   "cell_type": "code",
   "execution_count": 9,
   "id": "36d1099f",
   "metadata": {},
   "outputs": [],
   "source": [
    "#4. arbitrary keyword argument\n",
    "def depth(w,k,*d):\n",
    "    print(k,w,d[2])\n",
    "    print(k,w,d)    "
   ]
  },
  {
   "cell_type": "code",
   "execution_count": 10,
   "id": "74f604be",
   "metadata": {
    "scrolled": true
   },
   "outputs": [
    {
     "name": "stdout",
     "output_type": "stream",
     "text": [
      "50 10 20\n",
      "50 10 (60, 30, 20, 10)\n"
     ]
    }
   ],
   "source": [
    "depth(10,50,60,30,20,10)"
   ]
  },
  {
   "cell_type": "code",
   "execution_count": 25,
   "id": "9ca37a45",
   "metadata": {},
   "outputs": [
    {
     "name": "stdout",
     "output_type": "stream",
     "text": [
      "Good morning Mr. wrtg\n"
     ]
    }
   ],
   "source": [
    "# deafult argument\n",
    "def greeting(name=\"wrtg\"):\n",
    "    print(f\"Good morning Mr. {name}\")\n",
    "\n",
    "greeting()\n"
   ]
  },
  {
   "cell_type": "code",
   "execution_count": 26,
   "id": "476cb81d",
   "metadata": {},
   "outputs": [
    {
     "name": "stdout",
     "output_type": "stream",
     "text": [
      "78 96 45\n"
     ]
    }
   ],
   "source": [
    "# arbitrary positional argument --- * values Tuple format\n",
    "def depth(w,k,*d):\n",
    "    print(w,k,d[2])\n",
    "    \n",
    "depth(78,96,54,87,45,69)"
   ]
  },
  {
   "cell_type": "code",
   "execution_count": 27,
   "id": "1c61b36e",
   "metadata": {},
   "outputs": [
    {
     "name": "stdout",
     "output_type": "stream",
     "text": [
      "87.24 {'t': 'hello', 'z': 'happy', 'i': 'Python'}\n"
     ]
    }
   ],
   "source": [
    "# arbitrary keyword argument  **   dictionary\n",
    "def volley(m,**t):\n",
    "    print(m,t)\n",
    "    \n",
    "volley(t=\"hello\",m=87.24,z=\"happy\",i=\"Python\")"
   ]
  },
  {
   "cell_type": "code",
   "execution_count": null,
   "id": "476e008d",
   "metadata": {},
   "outputs": [],
   "source": [
    "modules---collection of function or variable in a file\n",
    "package---collection of modules __int__.py ---library\n",
    "library ---collection of package"
   ]
  },
  {
   "cell_type": "code",
   "execution_count": null,
   "id": "d5b53c8b",
   "metadata": {},
   "outputs": [],
   "source": []
  },
  {
   "cell_type": "code",
   "execution_count": null,
   "id": "c9d8a231",
   "metadata": {},
   "outputs": [],
   "source": [
    "os\n",
    "sys\n",
    "datetime"
   ]
  }
 ],
 "metadata": {
  "kernelspec": {
   "display_name": "Python 3 (ipykernel)",
   "language": "python",
   "name": "python3"
  },
  "language_info": {
   "codemirror_mode": {
    "name": "ipython",
    "version": 3
   },
   "file_extension": ".py",
   "mimetype": "text/x-python",
   "name": "python",
   "nbconvert_exporter": "python",
   "pygments_lexer": "ipython3",
   "version": "3.10.9"
  }
 },
 "nbformat": 4,
 "nbformat_minor": 5
}
