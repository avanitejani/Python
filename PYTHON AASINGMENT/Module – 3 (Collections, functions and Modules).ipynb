{
 "cells": [
  {
   "cell_type": "code",
   "execution_count": null,
   "id": "9079436c",
   "metadata": {},
   "outputs": [],
   "source": [
    "                             \n",
    "                                        #Module – 3 (Collections, functions and Modules)\n"
   ]
  },
  {
   "cell_type": "code",
   "execution_count": null,
   "id": "93e4c562",
   "metadata": {},
   "outputs": [],
   "source": [
    "#  1.  What is List? How will you reverse a list? \n",
    "ANS\n",
    "\n",
    "# What is List?\n",
    "# Lists are used to store multiple items in a single variable. Lists are one of 4 built-in data types in Python used to \n",
    "# store collections of data, the other 3 are Tuple, Set, and Dictionary, all with different qualities and usage.\n",
    "\n",
    "# How will you reverse a list? \n",
    "# In Python, a built-in function called reverse() is used to reverse the list. \n",
    "# This simple and quick way to reverse a list in Python requires little memory. \n",
    "# Syntax: list_name. reverse() Here, list_name means you have to write the list's name, which has to be reversed.\n"
   ]
  },
  {
   "cell_type": "code",
   "execution_count": 1,
   "id": "1a60f045",
   "metadata": {},
   "outputs": [
    {
     "name": "stdout",
     "output_type": "stream",
     "text": [
      "[2, 33, 222, 14]\n"
     ]
    }
   ],
   "source": [
    "#  2.  How will you remove last object from a list? Suppose list1 is [2, 33, 222, 14, and 25], what is list1 [-1]? \n",
    "\n",
    "#pop ([index]) \n",
    "\n",
    "list1=[2, 33, 222, 14, 25]    #-------pop ([index]) \n",
    "list1.pop()             \n",
    "print(list1)   #-----------------if index is not given then it removes last element\n",
    "\n",
    "# Here negative indexing starts from right end that means the index of 25 is -1"
   ]
  },
  {
   "cell_type": "code",
   "execution_count": null,
   "id": "82d7dfcc",
   "metadata": {},
   "outputs": [],
   "source": [
    "#  3.  Differentiate between append () and extend () methods? \n",
    "ANS      \n",
    "#   The append() method in the Python programming language adds an item to a list that already exists whereas\n",
    "#   The extend() method adds each of the iterable elements which is supplied as a parameter to the end of the original list."
   ]
  },
  {
   "cell_type": "code",
   "execution_count": 1,
   "id": "350facc2",
   "metadata": {},
   "outputs": [
    {
     "name": "stdout",
     "output_type": "stream",
     "text": [
      "how many element enterd in list :12\n",
      "Enter Value: 10\n",
      "Enter Value: 7\n",
      "Enter Value: 20\n",
      "Enter Value: 0\n",
      "Enter Value: 50\n",
      "Enter Value: 100\n",
      "Enter Value: 70\n",
      "Enter Value: 68\n",
      "Enter Value: -100\n",
      "Enter Value: -25\n",
      "Enter Value: -93\n",
      "Enter Value: 93\n",
      "[10, 7, 20, 0, 50, 100, 70, 68, -100, -25, -93, 93]\n",
      "largest number in list is :100 \n",
      "smallest number in list is :-100\n",
      "sum of all number in list is :200\n"
     ]
    }
   ],
   "source": [
    "#  4.  Write a Python function to get the largest number, smallest num and sum of all from a list. \n",
    "\n",
    "# list1=[10,7,20,0,50,100,70,68,-100,-25,-93,93] \n",
    "\n",
    "num=int(input(\"how many element enterd in list :\"))\n",
    "list1=[]     # -----create empty list\n",
    "for i in range(num):\n",
    "    value=int(input(\"Enter Value: \"))\n",
    "    list1.append(value)  #-------------------append method (element)  ----add element at last of list\n",
    "    \n",
    "print(list1)\n",
    "\n",
    "print(f\"largest number in list is :{max(list1)} \")   #-----------------baisi function of max() maths rule\n",
    "print(f\"smallest number in list is :{min(list1)}\")   #-----------------baisi function of max() maths rule\n",
    "print(f\"sum of all number in list is :{sum(list1)}\") #-----------------baisi function of max() maths rule\n"
   ]
  },
  {
   "cell_type": "code",
   "execution_count": null,
   "id": "1def8faa",
   "metadata": {},
   "outputs": [],
   "source": [
    "#  5.  How will you compare two lists? \n",
    "ANS\n",
    "\n",
    "# Python provides multiple ways to compare the two lists. Comparison is the process when the data items of are \n",
    "# checked against another data item of list, whether they are the same or not.\n",
    "\n",
    "# The methods of comparing two lists are given below.\n",
    "\n",
    "# The cmp() function\n",
    "# The set() function and == operator\n",
    "# The sort() function and == operator\n",
    "# The collection.counter() function\n",
    "# The reduce() and map() function\n",
    "\n"
   ]
  },
  {
   "cell_type": "code",
   "execution_count": null,
   "id": "ffd3333e",
   "metadata": {},
   "outputs": [],
   "source": [
    "#  6.  Write a Python program to count the number of strings where the string length is 2 or more and the \n",
    "#      first and last character are same from a given list of strings. \n",
    "       \n",
    "    "
   ]
  },
  {
   "cell_type": "code",
   "execution_count": 2,
   "id": "17d65735",
   "metadata": {},
   "outputs": [
    {
     "name": "stdout",
     "output_type": "stream",
     "text": [
      "how many element enterd in list :8\n",
      "Enter Value: 5\n",
      "Enter Value: 3\n",
      "Enter Value: 6\n",
      "Enter Value: 2\n",
      "Enter Value: 5\n",
      "Enter Value: 4\n",
      "Enter Value: 5\n",
      "Enter Value: 1\n",
      "The list after removing duplicates : ['5', '3', '6', '2', '4', '1']  \n"
     ]
    }
   ],
   "source": [
    "#  7.  Write a Python program to remove duplicates from a list. \n",
    "\n",
    "# initializing list \n",
    "num=int(input(\"how many element enterd in list :\"))\n",
    "\n",
    "list1=[]    # ------------------------------- create empty list1\n",
    "for i in range(num):\n",
    "    value=input(\"Enter Value: \")\n",
    "    list1.append(value)   #------------------ use append method to creat list for user\n",
    "\n",
    "\n",
    "# remove duplicated from list \n",
    "list2 = []  # ------------------------------- create empty list2\n",
    "for i in list1: \n",
    "    if i not in list2: \n",
    "        list2.append(i)   #------------------ use append method to remove duplicated from list\n",
    "\n",
    "# printing list after removal \n",
    "print (f\"The list after removing duplicates : {list2}  \") \n"
   ]
  },
  {
   "cell_type": "code",
   "execution_count": 3,
   "id": "08bd36c1",
   "metadata": {},
   "outputs": [
    {
     "name": "stdout",
     "output_type": "stream",
     "text": [
      "how many element enterd in list :0\n",
      "[] : \t This list is empty\n"
     ]
    }
   ],
   "source": [
    "#  8.  Write a Python program to check a list is empty or not. \n",
    "\n",
    "num=int(input(\"how many element enterd in list :\"))\n",
    "\n",
    "list1=[]\n",
    "for i in range(num):\n",
    "    value=input(\"Enter Value: \")\n",
    "    list1.append(value)                            #-------- use append method to creat list for user\n",
    "\n",
    "if list1 == []:                                    #-------- use conditional statements\n",
    "    print(f\"{list1} : \\t This list is empty\")      #-------- list1 == []\n",
    "else:\n",
    "    print(f\"{list1} : \\t this list is not empty\")  #-------- list1 != [1,2,...,'n']\n"
   ]
  },
  {
   "cell_type": "code",
   "execution_count": null,
   "id": "58593dee",
   "metadata": {},
   "outputs": [],
   "source": [
    "#  9.  Write a Python function that takes two lists and returns true if they have at least one common member. \n"
   ]
  },
  {
   "cell_type": "code",
   "execution_count": null,
   "id": "4b872fe0",
   "metadata": {},
   "outputs": [],
   "source": [
    "#  10.  Write a Python program to generate and print a list of first and last 5 elements where the values are \n",
    "#      square of numbers between 1 and 30. \n"
   ]
  },
  {
   "cell_type": "code",
   "execution_count": null,
   "id": "50d0993c",
   "metadata": {},
   "outputs": [],
   "source": [
    "#  11. Write a Python function that takes a list and returns a new list with unique elements of the first list. \n"
   ]
  },
  {
   "cell_type": "code",
   "execution_count": 4,
   "id": "d0b69474",
   "metadata": {},
   "outputs": [
    {
     "name": "stdout",
     "output_type": "stream",
     "text": [
      "how many string enterd in list :6\n",
      "Enter sring: Hello \n",
      "Enter sring: I'm \n",
      "Enter sring: a \n",
      "Enter sring: Avani \n",
      "Enter sring: Tejani \n",
      "Enter sring: .\n",
      "Hello I'm a Avani Tejani .\n"
     ]
    }
   ],
   "source": [
    "#  12. Write a Python program to convert a list of characters into a string. \n",
    "\n",
    "num=int(input(\"how many string enterd in list :\"))\n",
    "\n",
    "list1=[]\n",
    "for i in range(num):\n",
    "    value=input(\"Enter sring: \")\n",
    "    list1.append(value) \n",
    "    \n",
    "str1 = ''.join(list1)\n",
    "print(str1)\n"
   ]
  },
  {
   "cell_type": "code",
   "execution_count": null,
   "id": "451b31b9",
   "metadata": {},
   "outputs": [],
   "source": [
    "#  13. Write a Python program to select an item randomly from a list. \n"
   ]
  },
  {
   "cell_type": "code",
   "execution_count": 5,
   "id": "dc3c014a",
   "metadata": {},
   "outputs": [
    {
     "name": "stdout",
     "output_type": "stream",
     "text": [
      "how many element enterd in list :12\n",
      "Enter Value: 25\n",
      "Enter Value: 36\n",
      "Enter Value: 14\n",
      "Enter Value: 89\n",
      "Enter Value: 23\n",
      "Enter Value: 57\n",
      "Enter Value: 48\n",
      "Enter Value: 16\n",
      "Enter Value: 94\n",
      "Enter Value: 25\n",
      "Enter Value: 38\n",
      "Enter Value: 79\n",
      "The sorted list: ['14', '16', '23', '25', '25', '36', '38', '48', '57', '79', '89', '94'] \n",
      "The second smallest value of this list: 16 \n"
     ]
    }
   ],
   "source": [
    "#  14. Write a Python program to find the second smallest number in a list.\n",
    "\n",
    "num=int(input(\"how many element enterd in list :\"))\n",
    "\n",
    "list1=[]\n",
    "for i in range(num):\n",
    "    value=input(\"Enter Value: \")\n",
    "    list1.append(value)    #---------use append method to creat list for user\n",
    "list1.sort()               #---------converts list in ascending order\n",
    "\n",
    "print(f\"The sorted list: {list1} \") \n",
    "print(f\"The second smallest value of this list: {list1[1]} \")\n"
   ]
  },
  {
   "cell_type": "code",
   "execution_count": null,
   "id": "50ad370b",
   "metadata": {},
   "outputs": [],
   "source": [
    "#  15. Write a Python program to get unique values from a list \n",
    "\n",
    "\n",
    "# initializing list \n",
    "num=int(input(\"how many element enterd in list :\"))\n",
    "\n",
    "list1=[]    # ------------------------------- create empty list1\n",
    "for i in range(num):\n",
    "    value=input(\"Enter Value: \")\n",
    "    list1.append(value)   #------------------ use append method to creat list for user\n",
    "\n",
    "\n",
    "# remove duplicated from list \n",
    "list2 = []  # ------------------------------- create empty list2\n",
    "for i in list1: \n",
    "    if i not in list2: \n",
    "        list2.append(i)   #------------------ use append method to get unique values from a list\n",
    "\n",
    "# printing list after removal \n",
    "print (f\"Unique elements of the list : {list2} \") \n",
    "\n",
    "\n",
    "\n",
    "\n",
    "#one list method\n",
    "\n",
    "\n",
    "list1 = [10, 20, 30, 40, 20, 50, 60, 40]\n",
    "print(f\"Original List : {list1} \")\n",
    "set1 = set(list1)\n",
    "list2 = list(my_set)\n",
    "print(f\"List of unique numbers : {list2}\")"
   ]
  },
  {
   "cell_type": "code",
   "execution_count": null,
   "id": "85670c5f",
   "metadata": {},
   "outputs": [],
   "source": [
    "#  16. Write a Python program to check whether a list contains a sub list \n"
   ]
  },
  {
   "cell_type": "code",
   "execution_count": 6,
   "id": "360d8b87",
   "metadata": {},
   "outputs": [
    {
     "name": "stdout",
     "output_type": "stream",
     "text": [
      " Hello World\n",
      " Good Morning \n",
      " I am Doc \n"
     ]
    }
   ],
   "source": [
    "#  17. Write a Python program to split a list into different variables. \n",
    "\n",
    "list1=[\" Hello World\" ,\" Good Morning \",\" I am Doc \" ]\n",
    "#a, b, c = list1.split()\n",
    "var1, var2, var3 = list1  #----------  create three variyable\n",
    "print(var1)\n",
    "print(var2)   #----------------------  print all\n",
    "print(var3)\n"
   ]
  },
  {
   "cell_type": "code",
   "execution_count": null,
   "id": "7b123d4c",
   "metadata": {},
   "outputs": [],
   "source": [
    "#  18. What is tuple? Difference between list and tuple. \n",
    "\n",
    "#  18. What is tuple? Difference between list and tuple. \n",
    "ANS\n",
    "\n",
    "# Tuples are used to store multiple items in a single variable. Tuple is one of 4 built-in data types in Python used to \n",
    "# store collections of data, the other 3 are List, Set, and Dictionary, all with different qualities and usage.\n",
    "# A tuple is a collection which is ordered and unchangeable.\n",
    "\n",
    "# Difference between list and tuple. \n",
    "\n",
    "# tuple:\n",
    "# 1. tuple is also a collection of element of similar or ifferent datatyp\n",
    "# 2. tuple is also a ordrere collection\n",
    "# 3. tuple immutable changes not allowed\n",
    "# 4. tuple data are defined in round braces ex:()\n",
    "# 5. tuple is not changeable in both format means not asingle element or neither a collection\n",
    "\n",
    "# list:\n",
    "# 1. list is a collection of elements of different as well as same datatype\n",
    "# 2. list is ordered collection\n",
    "# 3. list is mutable ----changes allowed\n",
    "# 4. list data are defined in array ex: []\n",
    "# 5. Therefore, it is possible to change a list\n"
   ]
  },
  {
   "cell_type": "code",
   "execution_count": 8,
   "id": "2d280b95",
   "metadata": {},
   "outputs": [
    {
     "name": "stdout",
     "output_type": "stream",
     "text": [
      "(45, 67.78, 'string', [45, 67], (90, 56), 'Hello', {34, 67}, {6: 45}, True)\n"
     ]
    }
   ],
   "source": [
    "#  19. Write a Python program to create a tuple with different data types. \n",
    "\n",
    "tupl=(45,67.78,\"string\",[45,67],(90,56),\"Hello\",{34,67},{6:45},True)  #---- create tuple with different data type\n",
    "print(tupl)   #------------------------------------------------------------- print tuple\n"
   ]
  },
  {
   "cell_type": "code",
   "execution_count": 1,
   "id": "e81f5da1",
   "metadata": {},
   "outputs": [
    {
     "name": "stdout",
     "output_type": "stream",
     "text": [
      "Input some comma seprated numbers : x,4,25,90,d,hello,564,230,wow!,1o0\n",
      "List : ['x', '4', '25', '90', 'd', 'hello', '564', '230', 'wow!', '1o0']\n",
      "Tuple : ('x', '4', '25', '90', 'd', 'hello', '564', '230', 'wow!', '1o0')\n"
     ]
    }
   ],
   "source": [
    "#  20. Write a Python program to create a tuple with numbers.\n",
    "\n",
    "values = input(\"Input some comma seprated numbers : \")  #--- Input some comma seprated numbers\n",
    "list = values.split(\",\")  #--------------------------------- using the split() method and assigns it to the variable 'list'.\n",
    "tuple = tuple(list)    #------------------------------------ using the tuple() function and assigns it to the variable 'tuple'.\n",
    "print(f\"List : {list}\")\n",
    "print(f\"Tuple : {tuple}\")\n",
    "\n",
    "# # Create a tuple with numbers\n",
    "# Tuple = input(\"Input some comma seprated numbers : \")  #---- Input some comma seprated numbers\n",
    "# print(f\"Tuple numbers = ({Tuple})\" )\n"
   ]
  },
  {
   "cell_type": "code",
   "execution_count": 3,
   "id": "1dc75944",
   "metadata": {},
   "outputs": [
    {
     "name": "stdout",
     "output_type": "stream",
     "text": [
      "Hello avani\n"
     ]
    }
   ],
   "source": [
    "#  21. Write a Python program to convert a tuple to a string.\n",
    "\n",
    "tup = ('H','e','l','l','o',' ','a','v','a','n','i')  #--- Create a tuple with numbers\n",
    "str1 =  ''.join(tup)  #---------------------------------- use join method\n",
    "print(str1)  #------------------------------------------- print sring"
   ]
  },
  {
   "cell_type": "code",
   "execution_count": 1,
   "id": "e51a74aa",
   "metadata": {},
   "outputs": [
    {
     "name": "stdout",
     "output_type": "stream",
     "text": [
      "how many element enterd in list :7\n",
      "Enter Value: 90\n",
      "Enter Value: 70\n",
      "Enter Value: hii\n",
      "Enter Value: avani\n",
      "Enter Value: tejani\n",
      "Enter Value: 410\n",
      "Enter Value: 190\n",
      "['90', '70', 'hii', 'avani', 'tejani', '410', '190']\n",
      "Enter Tuple Item to Find = tejani\n",
      "List : ['tejani']\n",
      "Tuple : ('tejani',)\n",
      "  tejani : This is ----> True\n"
     ]
    }
   ],
   "source": [
    "#  22. Write a Python program to check whether an element exists within a tuple.\n",
    "\n",
    "\n",
    "\n",
    "\n",
    "num=int(input(\"how many element enterd in list :\"))\n",
    "\n",
    "list1=[]\n",
    "for i in range(num):\n",
    "    value=input(\"Enter Value: \")\n",
    "    list1.append(value)  #-------- use append method to creat list for user\n",
    "    \n",
    "print(list1)\n",
    "    \n",
    "number =input(\"Enter Tuple Item to Find = \") # Check Element Presnet in list\n",
    "list1 = number.split(\",\")  #---------------------- using the split() method and assigns it to the variable 'list'.\n",
    "tuple = tuple(list1)    #------------------------- using the tuple() function and assigns it to the variable 'tuple'.\n",
    "print(f\"List : {list1}\")\n",
    "print(f\"Tuple : {tuple}\")\n",
    "\n",
    "\n",
    "if number in list1:   #--------------------------- use conditional statements \n",
    "    print(f\"  {number} : This is ----> True\")    \n",
    "else:\n",
    "    print(f\"  {number} : Sorry! We haven't found so, this is ----> False\")  \n"
   ]
  },
  {
   "cell_type": "code",
   "execution_count": 2,
   "id": "84bbfc9a",
   "metadata": {},
   "outputs": [
    {
     "data": {
      "text/plain": [
       "10"
      ]
     },
     "execution_count": 2,
     "metadata": {},
     "output_type": "execute_result"
    }
   ],
   "source": [
    "#  23. Write a Python program to find the length of a tuple.\n",
    "\n",
    "tup=(45,58.23,True,\"String\",'A',\"hello world\",[45,36],(45,89),{41,20},{1:89})  #----- Create a tuple \n",
    "len(tup)    #-------------------------------------- #find the length of a tuple using string methods"
   ]
  },
  {
   "cell_type": "code",
   "execution_count": 1,
   "id": "6663e521",
   "metadata": {
    "scrolled": true
   },
   "outputs": [
    {
     "name": "stdout",
     "output_type": "stream",
     "text": [
      "how many element enterd in list :7\n",
      "Enter Value: 52\n",
      "Enter Value: 63\n",
      "Enter Value: 41\n",
      "Enter Value: 96\n",
      "Enter Value: 85\n",
      "Enter Value: 74\n",
      "Enter Value: 45\n",
      "[52, 63, 41, 96, 85, 74, 45]\n",
      "(52, 63, 41, 96, 85, 74, 45)\n"
     ]
    }
   ],
   "source": [
    "#  24. Write a Python program to convert a list to a tuple.\n",
    "\n",
    "#Convert list to tuple\n",
    "num=int(input(\"how many element enterd in list :\"))\n",
    "\n",
    "list1=[]\n",
    "for i in range(num):\n",
    "    value=int(input(\"Enter Value: \"))\n",
    "    list1.append(value)  #-------- use append method to creat list for user\n",
    "print(list1)\n",
    "#use the tuple() function built-in Python, passing as parameter the list\n",
    "tupl = tuple(list1)\n",
    "print(tupl)\n"
   ]
  },
  {
   "cell_type": "code",
   "execution_count": 2,
   "id": "b20868d8",
   "metadata": {},
   "outputs": [
    {
     "name": "stdout",
     "output_type": "stream",
     "text": [
      "(1000, 270, 395, 325, 'pineapple', 'cherry', 'banana', 'apple')\n"
     ]
    }
   ],
   "source": [
    "#  25. Write a Python program to reverse a tuple.\n",
    "tupl = ('apple', 'banana', 'cherry','pineapple',325,395,270,1000)  #--- Create a tuple\n",
    "revers = reversed(tupl)  #---- Reversing a list using reversed()\n",
    "revers = tuple(revers)\n",
    "print(revers)"
   ]
  },
  {
   "cell_type": "code",
   "execution_count": 1,
   "id": "661baf55",
   "metadata": {},
   "outputs": [
    {
     "name": "stdout",
     "output_type": "stream",
     "text": [
      "Enter  elements for the tuple: 3\n",
      "enter number : Wow!\n",
      "enter number : Hello\n",
      "enter number : Avani\n",
      "\n",
      "Original Tuple: ('Wow!', 'Hello', 'Avani')\n",
      "Reversed Tuple: ('Avani', 'Hello', 'Wow!')\n"
     ]
    }
   ],
   "source": [
    "#  26. Write a Python program to replace last value of tuples in a list.\n",
    "\n",
    "num=int(input(\"Enter  elements for the tuple: \")) #initializing the tuple  \n",
    "list1=[]\n",
    "for i in range(num):\n",
    "    n=input(\"enter number : \")\n",
    "    list1.append(n)\n",
    "\n",
    "tupl = tuple(list1)\n",
    "\n",
    "Reversed = tupl[::-1]  #--------------------- Reversing a tuple using slicing technique\n",
    "\n",
    "print(f\"\\nOriginal Tuple: {tupl}\")   #------- displaying the original tuple  \n",
    "print(f\"Reversed Tuple: {Reversed}\")  #------ displaying the Reversing tuple  "
   ]
  },
  {
   "cell_type": "code",
   "execution_count": 5,
   "id": "11bdc998",
   "metadata": {},
   "outputs": [
    {
     "name": "stdout",
     "output_type": "stream",
     "text": [
      "(1, 2, 3, 4, 56, 96, 45, 1, 24, 5, 45, 36, 0, 63, 0, 45)\n",
      "enter num : 0\n",
      "2\n"
     ]
    }
   ],
   "source": [
    "#  27. Write a Python program to find the repeated items of a tuple.\n",
    "\n",
    "tupl = (1,2,3,4,56,96,45,1,24,5,45,36,0,63,0,45)  #--- Create a tuple\n",
    "print(tupl)\n",
    "n=int(input(\"enter num : \"))\n",
    "count = tupl.count(n)  #----- use count mrthod\n",
    "print(count)\n"
   ]
  },
  {
   "cell_type": "code",
   "execution_count": 2,
   "id": "1fcd4a73",
   "metadata": {},
   "outputs": [
    {
     "name": "stdout",
     "output_type": "stream",
     "text": [
      "[('',), ('a', 'b'), ('a', 'b', 'c'), 'd']\n"
     ]
    }
   ],
   "source": [
    "#  28. Write a Python program to remove an empty tuple(s) from a list of tuples.\n",
    "\n",
    "List1 = [(), (), ('',), ('a', 'b'), ('a', 'b', 'c'), ('d')] #------ create a list\n",
    "List1 = [t for t in List1 if t] #--------- for remove an empty tuple(s) from a list of tuples.\n",
    "print(List1)\n"
   ]
  },
  {
   "cell_type": "code",
   "execution_count": null,
   "id": "15f98fbf",
   "metadata": {},
   "outputs": [],
   "source": [
    "#  29. Write a Python program to unzip a list of tuples into individual lists.\n"
   ]
  },
  {
   "cell_type": "code",
   "execution_count": null,
   "id": "71278ae1",
   "metadata": {},
   "outputs": [],
   "source": [
    "#  30. Write a Python program to convert a list of tuples into a dictionary.\n",
    "\n",
    "d = [(\"Name\", \"Avani\"), (\"Name\", \"Tejani\"), (\"Name\", \"Anjali\"), (\"Age\", 21), (\"Gender\", \"Male\"), (\"Age\", 23), (\"Gender\", \"Female\"), (\"Gender\", \"Female\") , (\"Age\", 22)]\n",
    "dic = {}\n"
   ]
  },
  {
   "cell_type": "code",
   "execution_count": null,
   "id": "2204f199",
   "metadata": {},
   "outputs": [],
   "source": [
    "#  31. How will you create a dictionary using tuples in python?\n",
    "\n"
   ]
  },
  {
   "cell_type": "code",
   "execution_count": null,
   "id": "dc48d55c",
   "metadata": {},
   "outputs": [],
   "source": [
    "#  32. Write a Python script to sort (ascending and descending) a dictionary byvalue.\n"
   ]
  }
 ],
 "metadata": {
  "kernelspec": {
   "display_name": "Python 3 (ipykernel)",
   "language": "python",
   "name": "python3"
  },
  "language_info": {
   "codemirror_mode": {
    "name": "ipython",
    "version": 3
   },
   "file_extension": ".py",
   "mimetype": "text/x-python",
   "name": "python",
   "nbconvert_exporter": "python",
   "pygments_lexer": "ipython3",
   "version": "3.10.9"
  }
 },
 "nbformat": 4,
 "nbformat_minor": 5
}
