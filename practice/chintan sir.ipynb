{
 "cells": [
  {
   "cell_type": "code",
   "execution_count": 7,
   "id": "1ee52794",
   "metadata": {},
   "outputs": [
    {
     "name": "stdout",
     "output_type": "stream",
     "text": [
      "Enter first number: 6\n",
      "Enter second number: 4\n",
      "Enter third number: 2\n",
      "n1 is big\n"
     ]
    }
   ],
   "source": [
    "n1 = float(input(\"Enter first number: \"))\n",
    "n2 = float(input(\"Enter second number: \"))\n",
    "n3 = float(input(\"Enter third number: \"))\n",
    "if n1>n2:\n",
    "    print(\"n1 is big\")\n",
    "elif n2>n3:\n",
    "    print(\"n2 is big\")\n",
    "else:\n",
    "    print(\"n3 is big\")\n",
    "    "
   ]
  },
  {
   "cell_type": "code",
   "execution_count": null,
   "id": "c0f0fbe3",
   "metadata": {},
   "outputs": [],
   "source": [
    "# prime nuber\n",
    "# amstron\n",
    "# fobonaci\n",
    "s1= int(int (\"\"))"
   ]
  },
  {
   "cell_type": "code",
   "execution_count": 2,
   "id": "274fcf18",
   "metadata": {},
   "outputs": [
    {
     "name": "stdout",
     "output_type": "stream",
     "text": [
      "Enter a number: 5\n",
      "5 is a prime number\n"
     ]
    }
   ],
   "source": [
    "num = int(input(\"Enter a number: \"))\n",
    "\n",
    "# define a flag variable\n",
    "flag = False\n",
    "\n",
    "if num == 1:\n",
    "    print(num, \"is not a prime number\")\n",
    "elif num > 1:\n",
    "    # check for factors\n",
    "    for i in range(2, num):\n",
    "        if (num % i) == 0:\n",
    "            # if factor is found, set flag to True\n",
    "            flag = True\n",
    "            # break out of loop\n",
    "            break\n",
    "\n",
    "    # check if flag is True\n",
    "    if flag:\n",
    "        print(num, \"is not a prime number\")\n",
    "    else:\n",
    "        print(num, \"is a prime number\")"
   ]
  },
  {
   "cell_type": "code",
   "execution_count": 5,
   "id": "7ab9f6e6",
   "metadata": {},
   "outputs": [
    {
     "name": "stdout",
     "output_type": "stream",
     "text": [
      "enter number:100\n",
      "100 is not a prime nuber\n"
     ]
    }
   ],
   "source": [
    "num = int (input(\"enter number:\"))\n",
    "flag=False\n",
    "\n",
    "if num == 1:\n",
    "    print(num,\"is not a prime nuber\")\n",
    "elif num>1:\n",
    "    for i in range(2,num):\n",
    "        if(num%i) == 0:\n",
    "            flag=True\n",
    "            break\n",
    "            \n",
    "    if flag:\n",
    "        print(num, \"is not a prime nuber\")\n",
    "    else:\n",
    "        print(num,\"is a prime number\")"
   ]
  },
  {
   "cell_type": "code",
   "execution_count": null,
   "id": "7a3c2fd8",
   "metadata": {},
   "outputs": [],
   "source": [
    "\n"
   ]
  },
  {
   "cell_type": "code",
   "execution_count": 18,
   "id": "d2b51857",
   "metadata": {
    "scrolled": true
   },
   "outputs": [
    {
     "name": "stdout",
     "output_type": "stream",
     "text": [
      "Enter a number: 11\n",
      "is a prime number\n",
      "is a prime number\n",
      "is a prime number\n",
      "is a prime number\n",
      "is a prime number\n",
      "is a prime number\n",
      "is a prime number\n",
      "is a prime number\n",
      "is a prime number\n"
     ]
    }
   ],
   "source": [
    "# num = 407\n",
    "num = int(input(\"Enter a number: \"))\n",
    "if num == 1:\n",
    "    print(num, \"is not a prime number\")\n",
    "elif num > 1: \n",
    "    for i in range(2,num):\n",
    "        if (num % i) == 0:\n",
    "            print(num,\"is not a prime number\")\n",
    "#             print(i,\"times\",num//i,\"is\",num)\n",
    "            break\n",
    "        else:\n",
    "            print(num,\"is a prime number\")\n",
    "else:\n",
    "    print(num,\"is not a prime number\")"
   ]
  },
  {
   "cell_type": "code",
   "execution_count": null,
   "id": "e116e49b",
   "metadata": {},
   "outputs": [],
   "source": [
    "# Python program to display all the prime numbers within an interval\n"
   ]
  },
  {
   "cell_type": "code",
   "execution_count": 38,
   "id": "dff52fbe",
   "metadata": {},
   "outputs": [
    {
     "name": "stdout",
     "output_type": "stream",
     "text": [
      "Enter lower prime number: 5\n",
      "Enter upper prime nuber: 15\n",
      "Prime numbers between 5 and 15 are:\n",
      "5\n",
      "7\n",
      "11\n",
      "13\n"
     ]
    }
   ],
   "source": [
    "lower = int(input(\"Enter lower prime number: \"))\n",
    "upper = int(input(\"Enter upper prime nuber: \"))\n",
    "\n",
    "print(\"Prime numbers between\", lower, \"and\", upper, \"are:\")\n",
    "\n",
    "for num in range(lower, upper):\n",
    "   # all prime numbers are greater than 1\n",
    "   if num > 1:\n",
    "        for i in range(2, num):\n",
    "            if (num % i) == 0:\n",
    "                break\n",
    "        else:\n",
    "            print(num)"
   ]
  },
  {
   "cell_type": "code",
   "execution_count": 41,
   "id": "0d3b7895",
   "metadata": {},
   "outputs": [
    {
     "name": "stdout",
     "output_type": "stream",
     "text": [
      "Enter a number: 407\n",
      "407 is an Armstrong number\n"
     ]
    }
   ],
   "source": [
    "# Python program to check if the number is an Armstrong number or not\n",
    "\n",
    "# take input from the user\n",
    "num = int(input(\"Enter a number: \"))\n",
    "\n",
    "sum = 0\n",
    "\n",
    "temp = num\n",
    "while temp > 0:\n",
    "    digit = temp % 10\n",
    "    sum += digit ** 3\n",
    "    temp //= 10\n",
    "\n",
    "# display the result\n",
    "if num == sum:\n",
    "    print(num,\"is an Armstrong number\")\n",
    "else:\n",
    "    print(num,\"is not an Armstrong number\")"
   ]
  },
  {
   "cell_type": "code",
   "execution_count": 55,
   "id": "1e3d12b9",
   "metadata": {},
   "outputs": [
    {
     "name": "stdout",
     "output_type": "stream",
     "text": [
      "0\n",
      "1\n",
      "2\n",
      "3\n",
      "4\n",
      "5\n",
      "6\n",
      "7\n",
      "8\n",
      "9\n",
      "153\n",
      "370\n",
      "371\n",
      "407\n",
      "1634\n"
     ]
    }
   ],
   "source": [
    "# Program to check Armstrong numbers in a certain interval\n",
    "\n",
    "lower = 0\n",
    "upper = 2000\n",
    "\n",
    "for num in range(lower, upper ):\n",
    "\n",
    "    order = len(str(num))\n",
    "    sum = 0\n",
    "\n",
    "    temp = num\n",
    "    while temp > 0:\n",
    "        digit = temp % 10\n",
    "        sum += digit ** order\n",
    "        temp //= 10\n",
    "\n",
    "    if num == sum:\n",
    "        print(num)"
   ]
  },
  {
   "cell_type": "code",
   "execution_count": 36,
   "id": "3fb61eaf",
   "metadata": {},
   "outputs": [
    {
     "name": "stdout",
     "output_type": "stream",
     "text": [
      "Enter the String: hii wowo hii hello hii avani\n",
      "{'hii': 3, 'wowo': 1, 'hello': 1, 'avani': 1}\n"
     ]
    }
   ],
   "source": [
    "str1=input(\"Enter the String: \")   # To take inputs sring from the user\n",
    "words = str1.split()  # number convort to split\n",
    "string={}             # create empty Dictionaries\n",
    "\n",
    "\n",
    "for i in words:\n",
    "    if i in string:\n",
    "        string[i]+=1   # increment 1\n",
    "    else:\n",
    "        string[i]=1    # equal to 1\n",
    "print(string)"
   ]
  },
  {
   "cell_type": "code",
   "execution_count": 5,
   "id": "da7d2e48",
   "metadata": {},
   "outputs": [],
   "source": [
    "# 15 feb \n",
    "\n",
    "f = open(\"myfile.txt\",'w')\n",
    "f.write(\"Hello python\")\n",
    "f.truncate(8)\n",
    "f.close()"
   ]
  },
  {
   "cell_type": "code",
   "execution_count": 2,
   "id": "fe0bf718",
   "metadata": {
    "scrolled": true
   },
   "outputs": [
    {
     "name": "stdout",
     "output_type": "stream",
     "text": [
      "100\n"
     ]
    }
   ],
   "source": [
    "# function\n",
    "\n",
    "# a = 10;\n",
    "# b = 20\n",
    "# c = a+b\n",
    "# print(c)\n",
    "\n",
    "# x = 50;\n",
    "# y = 60;\n",
    "# x  =x+y\n",
    "# print(x)\n",
    "\n",
    "# def add(a,b):\n",
    "#     print(a+b)\n",
    "\n",
    "# def getMsg():\n",
    "#     print(\"hello python\")\n",
    "    \n",
    "# def square(a=20):\n",
    "#     print(a*a)    \n",
    "\n",
    "# def studentInfo(id,name,email=\"tech@gmail.com\"):\n",
    "#     print(f\"id : {id} , name : {name} , email : {email}\")\n",
    "    \n",
    "# def empdata(name,email):\n",
    "#     print(f\"name : {name} , email : {email}\")\n",
    "    \n",
    "\n",
    "# add(10,20)\n",
    "# add(50,60)\n",
    "# getMsg()\n",
    "# square(60)\n",
    "# studentInfo(10,\"test\")\n",
    "# empdata(email=\"test@gmail.com\",name=\"test\")\n",
    "\n",
    "def getNumbers(*number):\n",
    "    # print(type(number))\n",
    "    sum = 0\n",
    "    for i in number:\n",
    "        sum +=i\n",
    "    print(sum)\n",
    "    \n",
    "def subjectlist(**data):\n",
    "    print(data)\n",
    "\n",
    "\n",
    "getNumbers(10,20,30,40)\n",
    "\n",
    "# subjectlist(sname=\"python\",sm=\"java\")"
   ]
  },
  {
   "cell_type": "code",
   "execution_count": 3,
   "id": "1e087630",
   "metadata": {
    "scrolled": true
   },
   "outputs": [
    {
     "name": "stdout",
     "output_type": "stream",
     "text": [
      "deque([1, 2, 3, 4, 5])\n",
      "deque([1, 2, 3, 4, 5, 10])\n",
      "deque([100, 1, 2, 3, 4, 5, 10])\n",
      "10\n",
      "deque([100, 1, 2, 3, 4, 5])\n",
      "100\n"
     ]
    }
   ],
   "source": [
    "# list\n",
    "\n",
    "l = [10,20,30,40,50,60]\n",
    "\n",
    "# print(l)\n",
    "# print(l[50])\n",
    "# print(l[-1])\n",
    "\n",
    "# print(200 not in l)\n",
    "\n",
    "# print(len(l))\n",
    "# print(max(l))\n",
    "# print(min(l))\n",
    "\n",
    "# tp = (1,2,3)\n",
    "# k = list(tp)\n",
    "# k.append(50)\n",
    "# # print(k)\n",
    "# tpx = tuple(k)\n",
    "# print(tpx)\n",
    "\n",
    "# l.extend(\"python\")\n",
    "# l.insert(5,500)\n",
    "# print(l)\n",
    "\n",
    "# print(l.count(20))\n",
    "# print(l.index(20))\n",
    "# l.pop()\n",
    "# print(l)\n",
    "\n",
    "# l.reverse()\n",
    "# print(l)\n",
    "\n",
    "from collections import deque\n",
    "\n",
    "q = deque([1,2,3,4,5])\n",
    "print(q)\n",
    "q.append(10)\n",
    "print(q)\n",
    "q.appendleft(100)\n",
    "print(q)\n",
    "print(q.pop())\n",
    "print(q)\n",
    "print(q.popleft())"
   ]
  },
  {
   "cell_type": "code",
   "execution_count": 4,
   "id": "5285bad5",
   "metadata": {},
   "outputs": [
    {
     "name": "stdout",
     "output_type": "stream",
     "text": [
      "-------------\n",
      "5.0\n",
      "5\n",
      "-------------\n",
      "27\n"
     ]
    }
   ],
   "source": [
    "# arithmetic Operators\n",
    "# print(10+20)\n",
    "# print(50-69)\n",
    "# print(10*58)\n",
    "# print(89/23)\n",
    "# print(48%5)\n",
    "                                             #date of lecture: 28-03-2023\n",
    "print(\"-------------\")\n",
    "# floor division\n",
    "print(20/4)\n",
    "print(20//4)\n",
    "\n",
    "print(\"-------------\")\n",
    "# power operator **\n",
    "print(3**3)"
   ]
  },
  {
   "cell_type": "code",
   "execution_count": null,
   "id": "13928998",
   "metadata": {
    "scrolled": true
   },
   "outputs": [],
   "source": [
    "dict = {1:\"java\",2:\"php\",3:\"pyton\",4:\"android\",1:\"ios\"}\n",
    "dk = {100:\"cricket\",200:\"Kabbaddi\"}\n",
    "\n",
    "\n",
    "print(dict)\n",
    "print(\"all keys \\n\")\n",
    "print(dict.keys())\n",
    "\n",
    "print(\"all values \\n\\n\")\n",
    "print(dict.values())\n",
    "\n",
    "print(\"copy in aothor variyabl \\n\\n\")\n",
    "dictx = dict.copy()\n",
    "print(dictx)\n",
    "\n",
    "print(\"pudate 1st dictionry to add 2nd dictionry\\n\\n\\n\\n\")\n",
    "dict.update(dk)\n",
    "print(dict)\n",
    "\n",
    "print(\"clear all dictionary\\n\\n\")\n",
    "dict.clear()\n",
    "print(dict)"
   ]
  },
  {
   "cell_type": "code",
   "execution_count": null,
   "id": "8928b35d",
   "metadata": {},
   "outputs": [],
   "source": [
    "oprator overlodin\n",
    "\n",
    "function overloding\n",
    "function overriding"
   ]
  },
  {
   "cell_type": "code",
   "execution_count": 6,
   "id": "5f1c211e",
   "metadata": {
    "scrolled": true
   },
   "outputs": [
    {
     "name": "stdout",
     "output_type": "stream",
     "text": [
      "Enter  elements for the tuple: 5\n",
      "enter number : hii\n",
      "enter number : avni\n",
      "enter number : tejani\n",
      "enter number : hello\n",
      "enter number : you\n",
      "\n",
      "Original Tuple: ('hii', 'avni', 'tejani', 'hello', 'you')\n",
      "Reversed Tuple: ('you', 'hello', 'tejani', 'avni', 'hii')\n"
     ]
    }
   ],
   "source": [
    "num=int(input(\"Enter  elements for the tuple: \")) #initializing the tuple  \n",
    "list1=[]\n",
    "for i in range(num):\n",
    "    n=input(\"enter number : \")\n",
    "    list1.append(n)\n",
    "\n",
    "tupl = tuple(list1)\n",
    "\n",
    "Reversed = tupl[::-1]  #--------------------- Reversing a tuple using slicing technique\n",
    "\n",
    "print(f\"\\nOriginal Tuple: {tupl}\")   #------- displaying the original tuple  \n",
    "print(f\"Reversed Tuple: {Reversed}\")  #------ displaying the Reversing tuple  "
   ]
  },
  {
   "cell_type": "code",
   "execution_count": 23,
   "id": "a1920dac",
   "metadata": {
    "scrolled": true
   },
   "outputs": [
    {
     "name": "stdout",
     "output_type": "stream",
     "text": [
      "(6,8)\n"
     ]
    }
   ],
   "source": [
    "# oprator overloding\n",
    "class Point:\n",
    "    def __init__(self, x=0, y=0):\n",
    "        self.x = x\n",
    "        self.y = y\n",
    "\n",
    "    def __str__(self):\n",
    "        return \"({0},{1})\".format(self.x, self.y)\n",
    "\n",
    "    def __add__(self, other):\n",
    "        x = self.x + other.x\n",
    "        y = self.y + other.y\n",
    "        return Point(x, y)\n",
    "\n",
    "\n",
    "p1 = Point(3, 4)\n",
    "p2 = Point(3, 4)\n",
    "\n",
    "print(p1+p2)\n",
    "\n",
    "# Output: (3,5)\n",
    "\n",
    "# function overloding\n",
    "# one class can contain same name function but don't parameter are diffrent\n",
    "\n",
    "\n",
    "# funtion overriding\n",
    "# do class me sem name or sem parametr ho skte hai \n",
    "# parent and child both have same name funtion"
   ]
  },
  {
   "cell_type": "code",
   "execution_count": 31,
   "id": "ca61e657",
   "metadata": {},
   "outputs": [
    {
     "ename": "TypeError",
     "evalue": "av.add() missing 1 required positional argument: 'z'",
     "output_type": "error",
     "traceback": [
      "\u001b[1;31m---------------------------------------------------------------------------\u001b[0m",
      "\u001b[1;31mTypeError\u001b[0m                                 Traceback (most recent call last)",
      "Cell \u001b[1;32mIn[31], line 9\u001b[0m\n\u001b[0;32m      6\u001b[0m         \u001b[38;5;28mprint\u001b[39m(x\u001b[38;5;241m+\u001b[39my\u001b[38;5;241m+\u001b[39mz)\n\u001b[0;32m      8\u001b[0m c \u001b[38;5;241m=\u001b[39mav()\n\u001b[1;32m----> 9\u001b[0m \u001b[43mc\u001b[49m\u001b[38;5;241;43m.\u001b[39;49m\u001b[43madd\u001b[49m\u001b[43m(\u001b[49m\u001b[38;5;241;43m10\u001b[39;49m\u001b[43m,\u001b[49m\u001b[38;5;241;43m20\u001b[39;49m\u001b[43m)\u001b[49m\n\u001b[0;32m     10\u001b[0m c\u001b[38;5;241m.\u001b[39madd(\u001b[38;5;241m10\u001b[39m,\u001b[38;5;241m20\u001b[39m,\u001b[38;5;241m30\u001b[39m)\n",
      "\u001b[1;31mTypeError\u001b[0m: av.add() missing 1 required positional argument: 'z'"
     ]
    }
   ],
   "source": [
    "class av:\n",
    "    def add(self,a,b):\n",
    "        print(a+b)\n",
    "    \n",
    "    def add(self,x,y,z):\n",
    "        print(x+y+z)\n",
    "\n",
    "c =av()\n",
    "c.add(10,20)\n",
    "c.add(10,20,30)"
   ]
  },
  {
   "cell_type": "code",
   "execution_count": 34,
   "id": "ab0a15cf",
   "metadata": {},
   "outputs": [
    {
     "name": "stdout",
     "output_type": "stream",
     "text": [
      "7\n",
      "7\n"
     ]
    },
    {
     "ename": "TypeError",
     "evalue": "unsupported operand type(s) for +: 'demo' and 'demo'",
     "output_type": "error",
     "traceback": [
      "\u001b[1;31m---------------------------------------------------------------------------\u001b[0m",
      "\u001b[1;31mTypeError\u001b[0m                                 Traceback (most recent call last)",
      "Cell \u001b[1;32mIn[34], line 15\u001b[0m\n\u001b[0;32m     12\u001b[0m d2 \u001b[38;5;241m=\u001b[39mdemo(\u001b[38;5;241m3\u001b[39m,\u001b[38;5;241m4\u001b[39m)\n\u001b[0;32m     13\u001b[0m \u001b[38;5;28mprint\u001b[39m(d2)\n\u001b[1;32m---> 15\u001b[0m k\u001b[38;5;241m=\u001b[39m\u001b[43md1\u001b[49m\u001b[38;5;241;43m+\u001b[39;49m\u001b[43md2\u001b[49m\n\u001b[0;32m     16\u001b[0m \u001b[38;5;28mprint\u001b[39m(k)\n",
      "\u001b[1;31mTypeError\u001b[0m: unsupported operand type(s) for +: 'demo' and 'demo'"
     ]
    }
   ],
   "source": [
    "class demo:\n",
    "    def __init__(self,a,b):\n",
    "        self.a=a\n",
    "        self.b=b\n",
    "        \n",
    "    def __str__(self):\n",
    "        c=self.a+self.b\n",
    "        d=str(c)\n",
    "        return d\n",
    "    \n",
    "    def __add__(sefl):\n",
    "        \n",
    "    \n",
    "d1 =demo(3,4)\n",
    "print(d1)\n",
    "d2 =demo(3,4)\n",
    "print(d2)\n",
    "\n",
    "k=d1+d2\n",
    "print(k)"
   ]
  }
 ],
 "metadata": {
  "kernelspec": {
   "display_name": "Python 3 (ipykernel)",
   "language": "python",
   "name": "python3"
  },
  "language_info": {
   "codemirror_mode": {
    "name": "ipython",
    "version": 3
   },
   "file_extension": ".py",
   "mimetype": "text/x-python",
   "name": "python",
   "nbconvert_exporter": "python",
   "pygments_lexer": "ipython3",
   "version": "3.10.9"
  }
 },
 "nbformat": 4,
 "nbformat_minor": 5
}
