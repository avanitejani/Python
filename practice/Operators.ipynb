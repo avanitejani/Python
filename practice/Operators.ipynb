{
 "cells": [
  {
   "cell_type": "code",
   "execution_count": null,
   "id": "f558cb38",
   "metadata": {},
   "outputs": [],
   "source": [
    "# operators\n",
    "# arithmetic operator + - * / //(floor division) %(modulus) **(power)\n",
    "# relational operator > < >= < = == !=\n",
    "# logical operator and or not\n",
    "# assignement operator = += -= /= *= **= //=\n",
    "# bitwise operator & | >> <<\n",
    "# identity operator    is ....is not\n",
    "# membership operator    in....... not in\n"
   ]
  },
  {
   "cell_type": "code",
   "execution_count": 1,
   "id": "a6571f87",
   "metadata": {},
   "outputs": [
    {
     "name": "stdout",
     "output_type": "stream",
     "text": [
      "5\n"
     ]
    }
   ],
   "source": [
    "print(48//9)"
   ]
  },
  {
   "cell_type": "code",
   "execution_count": 3,
   "id": "98b73bb5",
   "metadata": {},
   "outputs": [
    {
     "name": "stdout",
     "output_type": "stream",
     "text": [
      "30\n",
      "-19\n",
      "580\n",
      "3.869565217391304\n",
      "3\n",
      "-------------\n",
      "20.75\n",
      "20\n",
      "-------------\n",
      "27\n"
     ]
    }
   ],
   "source": [
    "# arithmetic Operators\n",
    "print(10+20)\n",
    "print(50-69)\n",
    "print(10*58)\n",
    "print(89/23)\n",
    "print(48%5)\n",
    "                                             #date of lecture: 28-03-2023\n",
    "print(\"-------------\")\n",
    "# floor division\n",
    "print(83/4)\n",
    "print(83//4)\n",
    "\n",
    "print(\"-------------\")\n",
    "# power operator **\n",
    "print(3**3)"
   ]
  },
  {
   "cell_type": "code",
   "execution_count": 4,
   "id": "71bbe809",
   "metadata": {},
   "outputs": [
    {
     "name": "stdout",
     "output_type": "stream",
     "text": [
      "True\n",
      "False\n"
     ]
    }
   ],
   "source": [
    "# relational operator > < >= <= == !=\n",
    "print(89>25)\n",
    "print(33<12)"
   ]
  },
  {
   "cell_type": "code",
   "execution_count": 5,
   "id": "af518852",
   "metadata": {},
   "outputs": [
    {
     "name": "stdout",
     "output_type": "stream",
     "text": [
      "True\n"
     ]
    }
   ],
   "source": [
    "print(\"hello\">\"demo\")"
   ]
  },
  {
   "cell_type": "code",
   "execution_count": 6,
   "id": "cdedddae",
   "metadata": {},
   "outputs": [
    {
     "name": "stdout",
     "output_type": "stream",
     "text": [
      "Enter your Name: avani tejani\n",
      "Enter Your Age: 21\n",
      "Enter Your Mobile No. : 9265586214\n",
      "Enter Your Email: avanitejani@gmail.com\n",
      "Your Name is avani tejani\n",
      "Your age is 21\n",
      "Your mobile is 9265586214\n",
      "Your email is avanitejani@gmail.com\n"
     ]
    }
   ],
   "source": [
    "name=input(\"Enter your Name: \")\n",
    "age=int(input(\"Enter Your Age: \"))\n",
    "mobile=int(input(\"Enter Your Mobile No. : \"))\n",
    "email=input(\"Enter Your Email: \")\n",
    "print(f\"Your Name is {name}\\nYour age is {age}\\nYour mobile is {mobile}\\nYour email is {email}\")"
   ]
  },
  {
   "cell_type": "code",
   "execution_count": 7,
   "id": "97c2250a",
   "metadata": {},
   "outputs": [
    {
     "name": "stdout",
     "output_type": "stream",
     "text": [
      "Enter First NAme: avani\n",
      "Enter Last name: tejani\n",
      "Enter Father NAme: k\n",
      "Your full name is avani tejani k\n"
     ]
    }
   ],
   "source": [
    "firstname=input(\"Enter First NAme: \")\n",
    "lastname=input(\"Enter Last name: \")\n",
    "fathername=input(\"Enter Father NAme: \")\n",
    "fullname=firstname+\" \"+lastname+\" \"+fathername #string concatenation\n",
    "# your fullname is {fullname}\n",
    "# your full name is firstname lastname fathername\n",
    "print(f\"Your full name is {fullname}\")"
   ]
  },
  {
   "cell_type": "code",
   "execution_count": 8,
   "id": "18783afa",
   "metadata": {},
   "outputs": [
    {
     "name": "stdout",
     "output_type": "stream",
     "text": [
      "Hello ia m good\n",
      "How are you\n",
      "good morning \n"
     ]
    }
   ],
   "source": [
    "str1='''Hello ia m good\n",
    "How are you\n",
    "good morning '''\n",
    "print(str1)"
   ]
  },
  {
   "cell_type": "code",
   "execution_count": null,
   "id": "3bb9e084",
   "metadata": {},
   "outputs": [],
   "source": [
    "# Logical operator\n",
    "AND and --all true then true anyone flase then false\n",
    "OR  or --anyone true then true if all flase then false\n",
    "NOT not --reverse your answer"
   ]
  },
  {
   "cell_type": "code",
   "execution_count": 9,
   "id": "e97d65fc",
   "metadata": {},
   "outputs": [
    {
     "name": "stdout",
     "output_type": "stream",
     "text": [
      "88\n",
      "94\n"
     ]
    }
   ],
   "source": [
    "# biotwise operator\n",
    "print(88&94)\n",
    "print(88|94)"
   ]
  },
  {
   "cell_type": "code",
   "execution_count": 10,
   "id": "ae69d9cb",
   "metadata": {},
   "outputs": [
    {
     "name": "stdout",
     "output_type": "stream",
     "text": [
      "97\n",
      "116\n"
     ]
    }
   ],
   "source": [
    "print(125&97)\n",
    "print(48|84)"
   ]
  },
  {
   "cell_type": "code",
   "execution_count": null,
   "id": "de58166b",
   "metadata": {},
   "outputs": [],
   "source": [
    "                                             #date of lecture: 30-03-2023\n",
    "Bitwise left shift operator <<\n",
    "bitwise right operator >>\n",
    "bitwise XOR ^"
   ]
  },
  {
   "cell_type": "code",
   "execution_count": 11,
   "id": "2a63da86",
   "metadata": {},
   "outputs": [
    {
     "name": "stdout",
     "output_type": "stream",
     "text": [
      "52\n",
      "16\n"
     ]
    }
   ],
   "source": [
    "print(85^97)\n",
    "print(105^121)"
   ]
  },
  {
   "cell_type": "code",
   "execution_count": 12,
   "id": "f5149993",
   "metadata": {},
   "outputs": [
    {
     "data": {
      "text/plain": [
       "920"
      ]
     },
     "execution_count": 12,
     "metadata": {},
     "output_type": "execute_result"
    }
   ],
   "source": [
    "# bitwise right shift operator  >>\n",
    "89>>3\n",
    "# bitwise left shift operator <<\n",
    "115<<3"
   ]
  },
  {
   "cell_type": "code",
   "execution_count": null,
   "id": "8c439068",
   "metadata": {},
   "outputs": [],
   "source": []
  }
 ],
 "metadata": {
  "kernelspec": {
   "display_name": "Python 3 (ipykernel)",
   "language": "python",
   "name": "python3"
  },
  "language_info": {
   "codemirror_mode": {
    "name": "ipython",
    "version": 3
   },
   "file_extension": ".py",
   "mimetype": "text/x-python",
   "name": "python",
   "nbconvert_exporter": "python",
   "pygments_lexer": "ipython3",
   "version": "3.10.9"
  }
 },
 "nbformat": 4,
 "nbformat_minor": 5
}
