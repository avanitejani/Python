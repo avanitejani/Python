{
 "cells": [
  {
   "cell_type": "code",
   "execution_count": 1,
   "id": "58c87184",
   "metadata": {},
   "outputs": [
    {
     "name": "stdout",
     "output_type": "stream",
     "text": [
      "Enter A Number: 0\n",
      "Zero\n"
     ]
    }
   ],
   "source": [
    "# 1.  Write a Python program to check if a number is positive, negative or zero.\n",
    "\n",
    "num=int(input(\"Enter A Number: \"))#convert a to an integer(if possible)\n",
    "if num>0:\n",
    "    print(\"Positive\")\n",
    "elif num<0:\n",
    "    print(\"negative\")\n",
    "else:\n",
    "    print(\"Zero\")"
   ]
  },
  {
   "cell_type": "code",
   "execution_count": 21,
   "id": "9fe45e45",
   "metadata": {},
   "outputs": [],
   "source": [
    "# 2. Write a Python program to get the Fibonacci series of given range.\n",
    "\n",
    "    \n"
   ]
  },
  {
   "cell_type": "code",
   "execution_count": 4,
   "id": "1bc773d3",
   "metadata": {},
   "outputs": [
    {
     "name": "stdout",
     "output_type": "stream",
     "text": [
      "Enter The Number:5\n",
      "1 The Factorial Of 5 Number Is 1\n",
      "2 The Factorial Of 5 Number Is 2\n",
      "3 The Factorial Of 5 Number Is 6\n",
      "4 The Factorial Of 5 Number Is 24\n",
      "5 The Factorial Of 5 Number Is 120\n"
     ]
    }
   ],
   "source": [
    "# 3.  Write a Python program to get the Factorial number of given number.\n",
    "\n",
    "#n! = 1*2*3*.....*n\n",
    "#5! = 1+2+3+4+5\n",
    "\n",
    "num = int (input(\"Enter The Number:\"))\n",
    "factorial=1\n",
    "for i in range(1,num+1):\n",
    "    factorial = factorial * i\n",
    "    print (f\"{}The Factorial Of {num} Number Is {factorial}\")"
   ]
  },
  {
   "cell_type": "code",
   "execution_count": null,
   "id": "655f8131",
   "metadata": {},
   "outputs": [],
   "source": [
    "# 4.   How memory is managed in Python?\n",
    "# ANS---  Memory management in Python involves a private heap containing all Python objects and data structures. \n",
    "#         The management of this private heap is ensured internally by the Python memory manager."
   ]
  },
  {
   "cell_type": "code",
   "execution_count": null,
   "id": "59e4b8cb",
   "metadata": {},
   "outputs": [],
   "source": [
    "# 5.  What is the purpose continue statement in python?\n",
    "# ANS--- The continue keyword is used to end the current iteration in a for loop (or a while loop),\n",
    "#        and continues to the next iteration"
   ]
  },
  {
   "cell_type": "code",
   "execution_count": 38,
   "id": "d78f5186",
   "metadata": {},
   "outputs": [
    {
     "name": "stdout",
     "output_type": "stream",
     "text": [
      "Enter value of x: 6\n",
      "Enter value of y: 8\n",
      "The value of x after swapping: 8 an 6\n"
     ]
    }
   ],
   "source": [
    "# 6.  Write python program that swap two number with temp variable and without temp variable.\n",
    "    \n",
    "    \n",
    "# To take inputs from the user\n",
    "x = input('Enter value of x: ')\n",
    "y = input('Enter value of y: ')\n",
    "\n",
    "# create a temporary variable and swap the values\n",
    "temp = x\n",
    "x = y\n",
    "y = temp\n",
    "\n",
    "print(f\"The value of x after swapping: {x} an {y}\")\n",
    "      \n",
    "\n",
    "\n"
   ]
  },
  {
   "cell_type": "code",
   "execution_count": 57,
   "id": "f03d34f4",
   "metadata": {
    "scrolled": true
   },
   "outputs": [
    {
     "name": "stdout",
     "output_type": "stream",
     "text": [
      "Enter value of first variable: 5\n",
      "Enter value of second variable: 3\n",
      "a is:3  b is:5\n"
     ]
    }
   ],
   "source": [
    "# 6. Write python program that swap two number with temp variable and without temp variable.\n",
    "\n",
    "# To take inputs from the user\n",
    "a=int(input(\"Enter value of first variable: \"))\n",
    "b=int(input(\"Enter value of second variable: \"))\n",
    "a=a+b\n",
    "b=a-b\n",
    "a=a-b\n",
    "# create a without temp variable and swap the values\n",
    "print(f\"a is:{a}\",f\" b is:{b}\")\n",
    "\n",
    "# x=5\n",
    "# y=9\n",
    "# x, y = y, x\n",
    "# print(\"x =\", x)\n",
    "# print(\"y =\", y)"
   ]
  },
  {
   "cell_type": "code",
   "execution_count": 48,
   "id": "3b2df595",
   "metadata": {},
   "outputs": [
    {
     "name": "stdout",
     "output_type": "stream",
     "text": [
      "Enter The Number:8\n",
      " 8 Number is even\n"
     ]
    }
   ],
   "source": [
    "# 7.  Write a Python program to find whether a given number is even or odd, print out an appropriate message to the user.\n",
    "num = int (input(\"Enter The Number:\"))\n",
    "if  num%2==0:\n",
    "    print(f\" {num} Number is even\")\n",
    "else:\n",
    "    print(f\" {num} Number is odd\")\n",
    "    \n",
    "\n",
    "#     #direct even number\n",
    "#     for i in  range(2, 26,2):\n",
    "#        print(i)\n",
    "    \n"
   ]
  },
  {
   "cell_type": "code",
   "execution_count": 72,
   "id": "34bef656",
   "metadata": {},
   "outputs": [
    {
     "name": "stdout",
     "output_type": "stream",
     "text": [
      "Enter alphabet :A\n",
      "letter is a vowel\n"
     ]
    }
   ],
   "source": [
    "# 8.  Write a Python program to test whether a passed letter is a vowel or not.\n",
    "vowel= (input(\"Enter letter in Aa to Zz :\"))\n",
    "if (vowel==\"a\"or vowel==\"e\"or vowel==\"i\"or vowel==\"o\"or vowel==\"u\" or \n",
    "    vowel==\"A\"or vowel==\"E\"or vowel==\"I\"or vowel==\"O\"or vowel==\"U\"):\n",
    "    print(\"letter is a vowel\")\n",
    "else:\n",
    "    print(\"[letter is not vowel this is consonat]\")\n"
   ]
  },
  {
   "cell_type": "code",
   "execution_count": 8,
   "id": "91ed2c86",
   "metadata": {},
   "outputs": [
    {
     "name": "stdout",
     "output_type": "stream",
     "text": [
      "enter 1st number:3\n",
      "enter 2nd number:3\n",
      "enter 3rd number:3\n",
      "sum is 9: \n",
      "two equal value \n",
      " sum will be 0 :\n"
     ]
    }
   ],
   "source": [
    "# 9.  Write a Python program to sum of three given integers. However, if two values are equal sum will be zero.\n",
    "n1=int(input(\"enter 1st number:\"))\n",
    "n2=int(input(\"enter 2nd number:\"))\n",
    "n3=int(input(\"enter 3rd number:\"))\n",
    "sum=n1+n2+n3\n",
    "print(f\"Total sum is three value {sum}: \")\n",
    "if n1 == n2 or n1 == n3:\n",
    "    if n1 == n2:\n",
    "        print(f\"two equal value \\n sum will be {n1-n2} :\")\n",
    "    else:\n",
    "        print(f\"two equal value \\n sum will be {n1-n3} :\")\n",
    "        \n",
    "elif n2 == n1 or n2 == n3:\n",
    "    if n2 == n1:\n",
    "        print(f\"two equal value \\n sum will be {n2-n1} :\")\n",
    "    else:\n",
    "        print(f\"two equal value \\n sum will be {n1-n3} :\")\n",
    "else:\n",
    "    print(\"[Two value is not eqyal]\")"
   ]
  },
  {
   "cell_type": "code",
   "execution_count": 14,
   "id": "237c77c2",
   "metadata": {},
   "outputs": [
    {
     "name": "stdout",
     "output_type": "stream",
     "text": [
      "Enter first number :10\n",
      "Enter second numbeer :5\n",
      "True\n"
     ]
    }
   ],
   "source": [
    "# 10.  Write a Python program that will return true if the two given integer values are equal or their sum or difference is 5.\n",
    "a= int(input(\"Enter first number :\"))\n",
    "b= int(input(\"Enter second numbeer :\"))\n",
    "\n",
    "if ((a == b) or (a - b)== 5 or (a + b)== 5):\n",
    "    print(\"True\")\n",
    "else:\n",
    "    print(\"False\")"
   ]
  },
  {
   "cell_type": "code",
   "execution_count": 17,
   "id": "7343b46b",
   "metadata": {},
   "outputs": [
    {
     "name": "stdout",
     "output_type": "stream",
     "text": [
      "enter number:5\n",
      "0\n",
      "1\n",
      "3\n",
      "6\n",
      "10\n",
      "15\n"
     ]
    }
   ],
   "source": [
    "# 11. Write a python program to sum of the first n positive integers\n",
    "num=int(input(\"enter number:\"))\n",
    "sum=0\n",
    "for i in range (0,num+1):\n",
    "    \n",
    "    sum=sum+i\n",
    "    print(sum)\n"
   ]
  },
  {
   "cell_type": "code",
   "execution_count": 19,
   "id": "420b6210",
   "metadata": {},
   "outputs": [
    {
     "name": "stdout",
     "output_type": "stream",
     "text": [
      "Enter Your Name :avani tejani\n",
      "str\n",
      "12\n"
     ]
    }
   ],
   "source": [
    "# 12  Write a Python program to calculate the length of a string.\n",
    "\n",
    "str = input(\"Enter Your Name :\")\n",
    "print(\"str\")\n",
    "print(len(str))\n",
    "\n",
    "\n"
   ]
  },
  {
   "cell_type": "code",
   "execution_count": null,
   "id": "164cf25b",
   "metadata": {},
   "outputs": [],
   "source": [
    "# 13 Write a Python program to count the number of characters (character frequency) in a string\n"
   ]
  },
  {
   "cell_type": "code",
   "execution_count": null,
   "id": "ed9e91bf",
   "metadata": {},
   "outputs": [],
   "source": [
    "# 14.  What are negative indexes and why are they used?\n",
    "# ANS--- Negative Indexing is used to in Python to begin slicing from the end of the string i.e. the last. \n",
    "#        Slicing in Python gets a sub-string from a string. The slicing range is set as parameters i.e. start, stop and step"
   ]
  }
 ],
 "metadata": {
  "kernelspec": {
   "display_name": "Python 3 (ipykernel)",
   "language": "python",
   "name": "python3"
  },
  "language_info": {
   "codemirror_mode": {
    "name": "ipython",
    "version": 3
   },
   "file_extension": ".py",
   "mimetype": "text/x-python",
   "name": "python",
   "nbconvert_exporter": "python",
   "pygments_lexer": "ipython3",
   "version": "3.10.9"
  }
 },
 "nbformat": 4,
 "nbformat_minor": 5
}
