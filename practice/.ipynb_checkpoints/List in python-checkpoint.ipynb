{
 "cells": [
  {
   "cell_type": "code",
   "execution_count": null,
   "id": "785824f6",
   "metadata": {},
   "outputs": [],
   "source": [
    "# list\n",
    "# list is a collection of elements of different as well as same datatype\n",
    "# list is mutable ----changes allowed\n",
    "# list is ordered collection\n",
    "# list is defined in []"
   ]
  },
  {
   "cell_type": "code",
   "execution_count": null,
   "id": "713cafb3",
   "metadata": {},
   "outputs": [],
   "source": [
    "list1=[254,56.32,True,\"String\",[45,25,12],(14,15),{1,2,3},{1:\"hello\",2:\"Oput\"}]\n",
    "print(list1)\n",
    "print(list1[3][2])"
   ]
  },
  {
   "cell_type": "code",
   "execution_count": 1,
   "id": "8954c866",
   "metadata": {},
   "outputs": [
    {
     "name": "stdout",
     "output_type": "stream",
     "text": [
      "[14, 56, 89, 'hello', 58, 45]\n"
     ]
    }
   ],
   "source": [
    "list1=[14,56,89,74,58,45]\n",
    "list1[3]=\"hello\"\n",
    "print(list1)"
   ]
  },
  {
   "cell_type": "code",
   "execution_count": null,
   "id": "eb2f4e02",
   "metadata": {},
   "outputs": [],
   "source": [
    "str1=\"Fern jkbrtkjb mngbjhrtb fmnb jhvrtbj jhgfbrt\"list is a collection of elements of different as well as same datatype"
   ]
  },
  {
   "cell_type": "code",
   "execution_count": null,
   "id": "f479e408",
   "metadata": {},
   "outputs": [],
   "source": [
    "list1=[1,5,4,87,8,96,5,48,6,21,6,56,74]\n",
    "print(list1[4:9])\n",
    "list1[4:9]=range(100,500,52)\n",
    "print(list1)"
   ]
  },
  {
   "cell_type": "code",
   "execution_count": null,
   "id": "44ce81e0",
   "metadata": {},
   "outputs": [],
   "source": [
    "                                    # 20-04-2023 \n",
    "\n",
    "# list functions\n",
    "# functionname(listname)\n",
    "len() ---gives lenght of list\n",
    "min() ---gives minimum value from list\n",
    "max() ---gives maximum value from list\n",
    "list() ---chnages other iterable into list\n",
    "\n",
    "iterable---collection\n",
    "\n",
    "range()\n",
    "string\n",
    "list\n",
    "tuple\n",
    "set \n",
    "dictionary"
   ]
  },
  {
   "cell_type": "code",
   "execution_count": 1,
   "id": "b9ee15f9",
   "metadata": {},
   "outputs": [
    {
     "name": "stdout",
     "output_type": "stream",
     "text": [
      "Lenght of list is 10\n"
     ]
    }
   ],
   "source": [
    "# len()\n",
    "list1=[45,89,65,21,45,78,96,32,56,96]\n",
    "x=len(list1)\n",
    "print(f\"Lenght of list is {x}\")"
   ]
  },
  {
   "cell_type": "code",
   "execution_count": 2,
   "id": "77c68d9f",
   "metadata": {},
   "outputs": [
    {
     "data": {
      "text/plain": [
       "10"
      ]
     },
     "execution_count": 2,
     "metadata": {},
     "output_type": "execute_result"
    }
   ],
   "source": [
    "#len()\n",
    "list1=[45,89,65,21,45,78,96,32,56,96]\n",
    "len(list1)"
   ]
  },
  {
   "cell_type": "code",
   "execution_count": 3,
   "id": "76c3f4e4",
   "metadata": {},
   "outputs": [
    {
     "data": {
      "text/plain": [
       "34"
      ]
     },
     "execution_count": 3,
     "metadata": {},
     "output_type": "execute_result"
    }
   ],
   "source": [
    "#min\n",
    "list1=[45,89,34,67,89,96]    #baisi of maths rule\n",
    "min(list1)"
   ]
  },
  {
   "cell_type": "code",
   "execution_count": 5,
   "id": "b56a4d87",
   "metadata": {},
   "outputs": [
    {
     "data": {
      "text/plain": [
       "'apple'"
      ]
     },
     "execution_count": 5,
     "metadata": {},
     "output_type": "execute_result"
    }
   ],
   "source": [
    "list1=[\"apple\",\"banana\",\"mango\"]\n",
    "min(list1)"
   ]
  },
  {
   "cell_type": "code",
   "execution_count": 3,
   "id": "08acc8c1",
   "metadata": {},
   "outputs": [
    {
     "ename": "TypeError",
     "evalue": "'<' not supported between instances of 'str' and 'int'",
     "output_type": "error",
     "traceback": [
      "\u001b[1;31m---------------------------------------------------------------------------\u001b[0m",
      "\u001b[1;31mTypeError\u001b[0m                                 Traceback (most recent call last)",
      "Cell \u001b[1;32mIn[3], line 2\u001b[0m\n\u001b[0;32m      1\u001b[0m list1\u001b[38;5;241m=\u001b[39m[\u001b[38;5;241m45\u001b[39m,\u001b[38;5;241m36\u001b[39m,\u001b[38;5;241m56\u001b[39m,\u001b[38;5;124m\"\u001b[39m\u001b[38;5;124mhello\u001b[39m\u001b[38;5;124m\"\u001b[39m,\u001b[38;5;241m45\u001b[39m,\u001b[38;5;124m\"\u001b[39m\u001b[38;5;124mdemo\u001b[39m\u001b[38;5;124m\"\u001b[39m,\u001b[38;5;124m\"\u001b[39m\u001b[38;5;124mGREAT HERITAGe\u001b[39m\u001b[38;5;124m\"\u001b[39m]\n\u001b[1;32m----> 2\u001b[0m \u001b[38;5;28;43mmin\u001b[39;49m\u001b[43m(\u001b[49m\u001b[43mlist1\u001b[49m\u001b[43m)\u001b[49m\n",
      "\u001b[1;31mTypeError\u001b[0m: '<' not supported between instances of 'str' and 'int'"
     ]
    }
   ],
   "source": [
    "list1=[45,36,56,\"hello\",45,\"demo\",\"GREAT HERITAGe\"]    # TypeError\n",
    "min(list1)"
   ]
  },
  {
   "cell_type": "code",
   "execution_count": 4,
   "id": "cb608a51",
   "metadata": {},
   "outputs": [
    {
     "data": {
      "text/plain": [
       "96"
      ]
     },
     "execution_count": 4,
     "metadata": {},
     "output_type": "execute_result"
    }
   ],
   "source": [
    "#max\n",
    "list1=[45,89,34,67,89,96]  #basis of maths value\n",
    "max(list1)"
   ]
  },
  {
   "cell_type": "code",
   "execution_count": 6,
   "id": "bbd5b69a",
   "metadata": {},
   "outputs": [
    {
     "data": {
      "text/plain": [
       "'mango'"
      ]
     },
     "execution_count": 6,
     "metadata": {},
     "output_type": "execute_result"
    }
   ],
   "source": [
    "list1=[\"apple\",\"banana\",\"mango\"]   #basis of ascii value\n",
    "max(list1)"
   ]
  },
  {
   "cell_type": "code",
   "execution_count": 7,
   "id": "ea14753d",
   "metadata": {
    "scrolled": true
   },
   "outputs": [
    {
     "ename": "TypeError",
     "evalue": "'>' not supported between instances of 'str' and 'int'",
     "output_type": "error",
     "traceback": [
      "\u001b[1;31m---------------------------------------------------------------------------\u001b[0m",
      "\u001b[1;31mTypeError\u001b[0m                                 Traceback (most recent call last)",
      "Cell \u001b[1;32mIn[7], line 2\u001b[0m\n\u001b[0;32m      1\u001b[0m list1\u001b[38;5;241m=\u001b[39m[\u001b[38;5;241m45\u001b[39m,\u001b[38;5;241m36\u001b[39m,\u001b[38;5;241m56\u001b[39m,\u001b[38;5;124m\"\u001b[39m\u001b[38;5;124mhello\u001b[39m\u001b[38;5;124m\"\u001b[39m,\u001b[38;5;241m45\u001b[39m,\u001b[38;5;124m\"\u001b[39m\u001b[38;5;124mdemo\u001b[39m\u001b[38;5;124m\"\u001b[39m,\u001b[38;5;124m\"\u001b[39m\u001b[38;5;124mGREAT HERITAGe\u001b[39m\u001b[38;5;124m\"\u001b[39m]\n\u001b[1;32m----> 2\u001b[0m \u001b[38;5;28;43mmax\u001b[39;49m\u001b[43m(\u001b[49m\u001b[43mlist1\u001b[49m\u001b[43m)\u001b[49m\n",
      "\u001b[1;31mTypeError\u001b[0m: '>' not supported between instances of 'str' and 'int'"
     ]
    }
   ],
   "source": [
    "list1=[45,36,56,\"hello\",45,\"demo\",\"GREAT HERITAGe\"]  # TypeError\n",
    "max(list1)"
   ]
  },
  {
   "cell_type": "code",
   "execution_count": null,
   "id": "ceeaa28b",
   "metadata": {},
   "outputs": [],
   "source": []
  },
  {
   "cell_type": "code",
   "execution_count": 8,
   "id": "e99045cb",
   "metadata": {},
   "outputs": [
    {
     "data": {
      "text/plain": [
       "[45, 23, 'hello', 'wow']"
      ]
     },
     "execution_count": 8,
     "metadata": {},
     "output_type": "execute_result"
    }
   ],
   "source": [
    "list((45,23,\"hello\",\"wow\"))"
   ]
  },
  {
   "cell_type": "code",
   "execution_count": null,
   "id": "4258659d",
   "metadata": {},
   "outputs": [],
   "source": []
  },
  {
   "cell_type": "code",
   "execution_count": null,
   "id": "70134bc9",
   "metadata": {},
   "outputs": [],
   "source": [
    "#list methods\n",
    "listname.methodname(perameters)"
   ]
  },
  {
   "cell_type": "code",
   "execution_count": null,
   "id": "ab13540b",
   "metadata": {},
   "outputs": [],
   "source": [
    "list methods\n",
    "append()\n",
    "extend()\n",
    "insert()\n",
    "pop()\n",
    "remove()\n",
    "index()\n",
    "count()\n",
    "sort()\n",
    "clear()\n",
    "copy()\n",
    "reverse()"
   ]
  },
  {
   "cell_type": "code",
   "execution_count": 8,
   "id": "575316de",
   "metadata": {},
   "outputs": [
    {
     "name": "stdout",
     "output_type": "stream",
     "text": [
      "[45, 69, 87, 43, 56, [45, 68, 78]]\n"
     ]
    }
   ],
   "source": [
    "#append (element)  --add element at last of list\n",
    "list1=[45,69,87,43,56]\n",
    "list1.append([45,68,78])\n",
    "print(list1)"
   ]
  },
  {
   "cell_type": "code",
   "execution_count": 10,
   "id": "e91f3bd1",
   "metadata": {},
   "outputs": [
    {
     "name": "stdout",
     "output_type": "stream",
     "text": [
      "[45, 69, 87, 43, 56, 45, 68, 78]\n"
     ]
    }
   ],
   "source": [
    "#extend (iterable)  ---add iterable at last of list as an individual element\n",
    "list1=[45,69,87,43,56]\n",
    "list1.extend([45,68,78])\n",
    "print(list1)"
   ]
  },
  {
   "cell_type": "code",
   "execution_count": 11,
   "id": "653d6167",
   "metadata": {},
   "outputs": [
    {
     "name": "stdout",
     "output_type": "stream",
     "text": [
      "[45, 69, 87, 'hello', 43, 56]\n"
     ]
    }
   ],
   "source": [
    "# insert(index,element)--add element at particular index\n",
    "list1=[45,69,87,43,56]\n",
    "list1.insert(3,\"hello\")\n",
    "print(list1)"
   ]
  },
  {
   "cell_type": "code",
   "execution_count": 10,
   "id": "8f82fd2a",
   "metadata": {},
   "outputs": [
    {
     "name": "stdout",
     "output_type": "stream",
     "text": [
      "how many element enterd in list :7\n",
      "Enter Value: hello\n",
      "Enter Value: avani\n",
      "Enter Value: tejani\n",
      "Enter Value: 12345\n",
      "Enter Value: 09876\n",
      "Enter Value: 1m\n",
      "Enter Value: ~!@#$%^&*\n",
      "['hello', 'avani', 'tejani', '12345', '09876', '1m', '~!@#$%^&*']\n"
     ]
    }
   ],
   "source": [
    "#append (element)\n",
    "num=int(input(\"how many element enterd in list :\"))\n",
    "#num=int(input(\"Enter number: \"))\n",
    "list1=[]\n",
    "for i in range(num):\n",
    "    value=input(\"Enter Value: \")\n",
    "    list1.append(value)\n",
    "    \n",
    "print(list1)"
   ]
  },
  {
   "cell_type": "code",
   "execution_count": 15,
   "id": "84d87359",
   "metadata": {
    "scrolled": true
   },
   "outputs": [
    {
     "name": "stdout",
     "output_type": "stream",
     "text": [
      "[23, 5, 67, 345, 69, 45, 546, 85]\n"
     ]
    }
   ],
   "source": [
    "#pop ([index]) ---removes element from particular index if index is not given then it removes last element\n",
    "\n",
    "list1=[23,5,67,345,69,45,546,85,63]\n",
    "list1.pop(3)\n",
    "print(list1)\n",
    "\n",
    "# list1.pop()\n",
    "# print(list1)\n",
    "\n",
    "# list1.pop(524)\n",
    "# print(list1)"
   ]
  },
  {
   "cell_type": "code",
   "execution_count": 13,
   "id": "b1b51b5a",
   "metadata": {},
   "outputs": [
    {
     "name": "stdout",
     "output_type": "stream",
     "text": [
      "[36, 58, 96, 45, 12, 36, 54, 56, 89, 89, 865, 86]\n"
     ]
    }
   ],
   "source": [
    "# remove(element)----removes first occurence of element in list\n",
    "\n",
    "list1=[45,36,58,96,45,12,36,54,56,89,89,865,86]\n",
    "list1.remove(45)\n",
    "print(list1)\n",
    "\n",
    "# list1.remove(4558) --# ValueError \n",
    "# print(list1)"
   ]
  },
  {
   "cell_type": "code",
   "execution_count": null,
   "id": "edf8f955",
   "metadata": {},
   "outputs": [],
   "source": []
  },
  {
   "cell_type": "code",
   "execution_count": null,
   "id": "d9db27fd",
   "metadata": {},
   "outputs": [],
   "source": []
  },
  {
   "cell_type": "code",
   "execution_count": 1,
   "id": "e0196135",
   "metadata": {},
   "outputs": [
    {
     "name": "stdout",
     "output_type": "stream",
     "text": [
      "['o', 'g', 'r']\n",
      "['a', 'm', 'i', 'z']\n",
      "['p', 'r', 'o', 'g', 'r', 'a', 'm', 'i', 'z']\n"
     ]
    }
   ],
   "source": [
    "# List slicing in Python with googale\n",
    "\n",
    "my_list = ['p','r','o','g','r','a','m','i','z']\n",
    "\n",
    "# items from index 2 to index 4\n",
    "print(my_list[2:5])\n",
    "\n",
    "# items from index 5 to end\n",
    "print(my_list[5:])\n",
    "\n",
    "# items beginning to end\n",
    "print(my_list[:])\n"
   ]
  },
  {
   "cell_type": "code",
   "execution_count": 2,
   "id": "68ab7a8f",
   "metadata": {},
   "outputs": [
    {
     "name": "stdout",
     "output_type": "stream",
     "text": [
      "List1: [2, 3, 5]\n",
      "List2: [4, 6, 8]\n",
      "List after append: [2, 3, 5, 4, 6, 8]\n"
     ]
    }
   ],
   "source": [
    "prime_numbers = [2, 3, 5]\n",
    "print(\"List1:\", prime_numbers)\n",
    "\n",
    "even_numbers = [4, 6, 8]\n",
    "print(\"List2:\", even_numbers)\n",
    "\n",
    "# join two lists\n",
    "prime_numbers.extend(even_numbers)\n",
    "\n",
    "print(\"List after append:\", prime_numbers) "
   ]
  },
  {
   "cell_type": "code",
   "execution_count": 3,
   "id": "ad447314",
   "metadata": {},
   "outputs": [
    {
     "name": "stdout",
     "output_type": "stream",
     "text": [
      "['Swift', 'C++', 'C', 'Java', 'Rust', 'R']\n"
     ]
    }
   ],
   "source": [
    "languages = ['Python', 'Swift', 'C++', 'C', 'Java', 'Rust', 'R']\n",
    "\n",
    "# remove 'Python' from the list\n",
    "languages.remove('Python')\n",
    "\n",
    "print(languages)"
   ]
  },
  {
   "cell_type": "code",
   "execution_count": null,
   "id": "ad9972df",
   "metadata": {},
   "outputs": [],
   "source": []
  },
  {
   "cell_type": "code",
   "execution_count": 20,
   "id": "80ed19e9",
   "metadata": {},
   "outputs": [
    {
     "name": "stdout",
     "output_type": "stream",
     "text": [
      "66\n"
     ]
    }
   ],
   "source": [
    "# sample list \n",
    "lst1 = [11,22,33] \n",
    "net = sum(lst1) \n",
    "print (net) "
   ]
  },
  {
   "cell_type": "code",
   "execution_count": 39,
   "id": "565d9285",
   "metadata": {
    "scrolled": true
   },
   "outputs": [
    {
     "name": "stdout",
     "output_type": "stream",
     "text": [
      "Enter number of elements : 2\n",
      "3\n"
     ]
    },
    {
     "ename": "ValueError",
     "evalue": "max() arg is an empty sequence",
     "output_type": "error",
     "traceback": [
      "\u001b[1;31m---------------------------------------------------------------------------\u001b[0m",
      "\u001b[1;31mValueError\u001b[0m                                Traceback (most recent call last)",
      "Cell \u001b[1;32mIn[39], line 11\u001b[0m\n\u001b[0;32m      9\u001b[0m \u001b[38;5;28;01mfor\u001b[39;00m i \u001b[38;5;129;01min\u001b[39;00m \u001b[38;5;28mrange\u001b[39m( n):\n\u001b[0;32m     10\u001b[0m     ele \u001b[38;5;241m=\u001b[39m \u001b[38;5;28mint\u001b[39m(\u001b[38;5;28minput\u001b[39m())\n\u001b[1;32m---> 11\u001b[0m     larg \u001b[38;5;241m=\u001b[39m \u001b[38;5;28;43mmax\u001b[39;49m\u001b[43m(\u001b[49m\u001b[43mlist1\u001b[49m\u001b[43m)\u001b[49m  \u001b[38;5;66;03m#-----------------#baisi function  of max() maths rule\u001b[39;00m\n\u001b[0;32m     12\u001b[0m     small \u001b[38;5;241m=\u001b[39m \u001b[38;5;28mmin\u001b[39m(list1) \u001b[38;5;66;03m#-----------------#baisi function  of min() maths rule\u001b[39;00m\n\u001b[0;32m     13\u001b[0m     total \u001b[38;5;241m=\u001b[39m \u001b[38;5;28msum\u001b[39m(list1) \u001b[38;5;66;03m#-----------------#baisi function  of sum() maths rule\u001b[39;00m\n",
      "\u001b[1;31mValueError\u001b[0m: max() arg is an empty sequence"
     ]
    }
   ],
   "source": [
    "#list1=[10,7,20,0,50,100,70,68,-100,-25,-93,93] \n",
    "# creating an empty list\n",
    "lst = []\n",
    " \n",
    "# number of elements as input\n",
    "n = int(input(\"Enter number of elements : \"))\n",
    " \n",
    "# iterating till the range\n",
    "for i in range( n):\n",
    "    ele = int(input())\n",
    "    larg = max(list1)  #-----------------#baisi function  of max() maths rule\n",
    "    small = min(list1) #-----------------#baisi function  of min() maths rule\n",
    "    total = sum(list1) #-----------------#baisi function  of sum() maths rule\n",
    "\n",
    "# list1=[2,3,4,5,6,7,8,9,1,10]\n",
    "# larg = max(list1)  #-----------------#baisi function  of max() maths rule\n",
    "# small = min(list1) #-----------------#baisi function  of min() maths rule\n",
    "# total = sum(list1) #-----------------#baisi function  of sum() maths rule\n",
    "\n",
    "print(f\"largest number of list is {larg}\")\n",
    "print(f\"smallest number of list is {small}\") \n",
    "print(f\"sum number of list is {total}\")"
   ]
  },
  {
   "cell_type": "code",
   "execution_count": 55,
   "id": "97354342",
   "metadata": {
    "scrolled": true
   },
   "outputs": [
    {
     "name": "stdout",
     "output_type": "stream",
     "text": [
      "how many element enterd in list :5\n",
      "Enter Value: 6\n",
      "Enter Value: 7\n",
      "Enter Value: 8\n",
      "Enter Value: 9\n",
      "Enter Value: 3\n",
      "['6', '7', '8', '9', '3']\n",
      "largest number of list is :9 \n",
      "smallest number of list is :3\n"
     ]
    }
   ],
   "source": [
    "num=int(input(\"how many element enterd in list :\"))\n",
    "\n",
    "list1=[]\n",
    "for i in range(num):\n",
    "    value=input(\"Enter Value: \")\n",
    "    list1.append(value)\n",
    "    \n",
    "print(list1)\n",
    "\n",
    "print(f\"largest number of list is :{max(list1)} \") #-----------------#baisi function  of max() maths rule\n",
    "print(f\"smallest number of list is :{min(list1)}\") #-----------------#baisi function  of max() maths rule\n",
    "sum(list1)#-----------------#baisi function  of max() maths rule\n",
    "\n"
   ]
  },
  {
   "cell_type": "code",
   "execution_count": 53,
   "id": "34dc37ae",
   "metadata": {
    "scrolled": true
   },
   "outputs": [
    {
     "name": "stdout",
     "output_type": "stream",
     "text": [
      "How many numbers: 5\n",
      "Enter number 4\n",
      "Enter number 5\n",
      "Enter number 6\n",
      "Enter number 7\n",
      "Enter number 8\n"
     ]
    },
    {
     "ename": "TypeError",
     "evalue": "unsupported operand type(s) for +: 'int' and 'str'",
     "output_type": "error",
     "traceback": [
      "\u001b[1;31m---------------------------------------------------------------------------\u001b[0m",
      "\u001b[1;31mTypeError\u001b[0m                                 Traceback (most recent call last)",
      "Cell \u001b[1;32mIn[53], line 6\u001b[0m\n\u001b[0;32m      4\u001b[0m     numbers \u001b[38;5;241m=\u001b[39m \u001b[38;5;28mint\u001b[39m(\u001b[38;5;28minput\u001b[39m(\u001b[38;5;124m'\u001b[39m\u001b[38;5;124mEnter number \u001b[39m\u001b[38;5;124m'\u001b[39m))\n\u001b[0;32m      5\u001b[0m     lst\u001b[38;5;241m.\u001b[39mappend(numbers)\n\u001b[1;32m----> 6\u001b[0m \u001b[38;5;28mprint\u001b[39m(\u001b[38;5;124m\"\u001b[39m\u001b[38;5;124mMaximum element in the list is :\u001b[39m\u001b[38;5;124m\"\u001b[39m, \u001b[38;5;28mmax\u001b[39m(lst), \u001b[38;5;124m\"\u001b[39m\u001b[38;5;130;01m\\n\u001b[39;00m\u001b[38;5;124mMinimum element in the list is :\u001b[39m\u001b[38;5;124m\"\u001b[39m, \u001b[38;5;28mmin\u001b[39m(lst),\u001b[38;5;124m\"\u001b[39m\u001b[38;5;124msum number of list is :\u001b[39m\u001b[38;5;124m\"\u001b[39m,\u001b[38;5;28;43msum\u001b[39;49m\u001b[43m(\u001b[49m\u001b[43mlist1\u001b[49m\u001b[43m)\u001b[49m)\n",
      "\u001b[1;31mTypeError\u001b[0m: unsupported operand type(s) for +: 'int' and 'str'"
     ]
    }
   ],
   "source": [
    "st = []\n",
    "num = int(input('How many numbers: '))\n",
    "for n in range(num):\n",
    "    numbers = int(input('Enter number '))\n",
    "    lst.append(numbers)\n",
    "print(\"Maximum element in the list is :\", max(lst), \"\\nMinimum element in the list is :\", min(lst),\"sum number of list is :\",sum(list1))"
   ]
  },
  {
   "cell_type": "code",
   "execution_count": 1,
   "id": "191ffa1a",
   "metadata": {},
   "outputs": [
    {
     "name": "stdout",
     "output_type": "stream",
     "text": [
      "1\n"
     ]
    }
   ],
   "source": [
    "\n",
    "#22-04-2023\n",
    "\n",
    "list1=[23,45,67,98,90,34,12,45,56,89,90,45]\n",
    "#count the elements in list \n",
    "#a=list1.count(999)\n",
    "#index--gives the index of elements of first occurence\n",
    "a=list1.index(45)\n",
    "print(a)"
   ]
  },
  {
   "cell_type": "code",
   "execution_count": 2,
   "id": "8b983a54",
   "metadata": {},
   "outputs": [
    {
     "name": "stdout",
     "output_type": "stream",
     "text": [
      "[990, 98, 78, 76, 56, 54, 45, 45]\n"
     ]
    }
   ],
   "source": [
    "list1=[45,56,78,990,98,76,54,45]\n",
    "#converts list in ascending order\n",
    "list1.sort()\n",
    "list1.sort(reverse=True)\n",
    "print(list1)"
   ]
  },
  {
   "cell_type": "code",
   "execution_count": 5,
   "id": "2ee2045d",
   "metadata": {},
   "outputs": [
    {
     "name": "stdout",
     "output_type": "stream",
     "text": [
      "[45, 23, 69]\n",
      "[45, 23, 69]\n",
      "[45, 23, 'hello']\n",
      "[45, 23, 69]\n"
     ]
    }
   ],
   "source": [
    "#copy\n",
    "\n",
    "list1=[45,23,69]\n",
    "list2=list1.copy()\n",
    "#list2=list1\n",
    "#in this type of copy only reference is generated\n",
    "print(list1)\n",
    "print(list2)\n",
    "list1[2]=\"hello\"\n",
    "print(list1)\n",
    "print(list2)\n"
   ]
  },
  {
   "cell_type": "code",
   "execution_count": 6,
   "id": "9b338bbc",
   "metadata": {},
   "outputs": [
    {
     "name": "stdout",
     "output_type": "stream",
     "text": [
      "[12, 34, 56, 78, 90, 87, 65, 343]\n",
      "[343, 65, 87, 90, 78, 56, 34, 12]\n"
     ]
    }
   ],
   "source": [
    "list1=[12,34,56,78,90,87,65,343]\n",
    "list1.reverse()\n",
    "print(list1[::-1])\n",
    "print(list1)"
   ]
  },
  {
   "cell_type": "code",
   "execution_count": 7,
   "id": "5613b8ac",
   "metadata": {},
   "outputs": [
    {
     "name": "stdout",
     "output_type": "stream",
     "text": [
      "[]\n"
     ]
    }
   ],
   "source": [
    "list1=[23,45,77]\n",
    "list1.clear()\n",
    "print(list1)"
   ]
  },
  {
   "cell_type": "code",
   "execution_count": null,
   "id": "f02b0e25",
   "metadata": {},
   "outputs": [],
   "source": [
    "list1=[45,98,\"wow\",45,True,89.45,\"hello\"]"
   ]
  },
  {
   "cell_type": "code",
   "execution_count": 12,
   "id": "66c0b11d",
   "metadata": {},
   "outputs": [
    {
     "ename": "SyntaxError",
     "evalue": "expected ':' (3317672239.py, line 4)",
     "output_type": "error",
     "traceback": [
      "\u001b[1;36m  Cell \u001b[1;32mIn[12], line 4\u001b[1;36m\u001b[0m\n\u001b[1;33m    if(i/9==0)\u001b[0m\n\u001b[1;37m              ^\u001b[0m\n\u001b[1;31mSyntaxError\u001b[0m\u001b[1;31m:\u001b[0m expected ':'\n"
     ]
    }
   ],
   "source": [
    "list1=[9,45,78,98,97,23,24,100,90]\n",
    "num=int(input(\"enter number :\"))\n",
    "for i in list1:\n",
    "    if(i/9==0)\n",
    "    print(i)"
   ]
  },
  {
   "cell_type": "code",
   "execution_count": 1,
   "id": "3d2a2069",
   "metadata": {},
   "outputs": [
    {
     "name": "stdout",
     "output_type": "stream",
     "text": [
      "5\n"
     ]
    }
   ],
   "source": [
    "list1=[2,3,6,6,5]\n",
    "list1=set(list1)\n",
    "list1=list(list1)\n",
    "list1.sort()\n",
    "print(list1[-2])"
   ]
  },
  {
   "cell_type": "code",
   "execution_count": null,
   "id": "0f8e227e",
   "metadata": {},
   "outputs": [],
   "source": []
  },
  {
   "cell_type": "code",
   "execution_count": null,
   "id": "9523d3a8",
   "metadata": {},
   "outputs": [],
   "source": [
    "    "
   ]
  }
 ],
 "metadata": {
  "kernelspec": {
   "display_name": "Python 3 (ipykernel)",
   "language": "python",
   "name": "python3"
  },
  "language_info": {
   "codemirror_mode": {
    "name": "ipython",
    "version": 3
   },
   "file_extension": ".py",
   "mimetype": "text/x-python",
   "name": "python",
   "nbconvert_exporter": "python",
   "pygments_lexer": "ipython3",
   "version": "3.10.9"
  }
 },
 "nbformat": 4,
 "nbformat_minor": 5
}
