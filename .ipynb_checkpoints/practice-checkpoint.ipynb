{
 "cells": [
  {
   "cell_type": "code",
   "execution_count": 1,
   "id": "dc4f444b",
   "metadata": {},
   "outputs": [
    {
     "name": "stdout",
     "output_type": "stream",
     "text": [
      "User screen\n"
     ]
    }
   ],
   "source": [
    "                                                    #23-3-2023\n",
    "# developer screen\n",
    "print(\"User screen\")"
   ]
  },
  {
   "cell_type": "code",
   "execution_count": null,
   "id": "eeaaa30f",
   "metadata": {},
   "outputs": [],
   "source": [
    "# Escape Sequence\n",
    "# \\n ----newline\n",
    "# \\t ----tab space\n",
    "# \\b ----backspace\n",
    "# \\' --single quote\n",
    "# \\\" ---double quote"
   ]
  },
  {
   "cell_type": "code",
   "execution_count": 2,
   "id": "a54b2025",
   "metadata": {},
   "outputs": [
    {
     "name": "stdout",
     "output_type": "stream",
     "text": [
      "jshfe wehr\thfwerbf \n",
      " w\brhfbwerfbwer\b\b rw\n"
     ]
    }
   ],
   "source": [
    "# Escape Sequence\n",
    "# string ''    \" \"    '''  '''     \"\"\"   \"\"\"\n",
    "print(\"jshfe wehr\\thfwerbf \\n w\\brhfbwerfbwer\\b\\b rw\")  #string"
   ]
  },
  {
   "cell_type": "markdown",
   "id": "d1cf6a6e",
   "metadata": {},
   "source": [
    "print('Hello \\'Wolrd')\n",
    "print(\"HEllo \\\" Workld\")\n",
    "print(\"\"\"Hello ' \" Wolrd\"\"\")\n",
    "print('''Hello wolrd''')"
   ]
  },
  {
   "cell_type": "code",
   "execution_count": 5,
   "id": "75e5b998",
   "metadata": {},
   "outputs": [
    {
     "name": "stdout",
     "output_type": "stream",
     "text": [
      "value of a is 45\n"
     ]
    }
   ],
   "source": [
    "a=45\n",
    "# value of a is 45\n",
    "print(f\"value of a is {a}\") #formatted string\n"
   ]
  },
  {
   "cell_type": "markdown",
   "id": "725348da",
   "metadata": {},
   "source": [
    "a=input(\"Enter Number \")\n",
    "print(a)"
   ]
  },
  {
   "cell_type": "code",
   "execution_count": null,
   "id": "4a84c4a1",
   "metadata": {},
   "outputs": [],
   "source": [
    "                                                   #25-3-2023\n",
    "# how to create variables in python\n",
    "# variablename=value \n",
    "# datatype variablename=value   C \n",
    "\n",
    "datatypes are there in python\n",
    "loosely type language\n",
    "variable not need datatypes at the time of declaration\n",
    "\n",
    "variablename our choice but we have to follow some rules\n",
    "\n",
    "age=18\n"
   ]
  },
  {
   "cell_type": "code",
   "execution_count": null,
   "id": "9a51a186",
   "metadata": {},
   "outputs": [],
   "source": [
    "# Variablenaming rules--identifier rule\n",
    "# 1---first character a-z A-Z _\n",
    "# 2---other characters a-z A-Z _ 0-9\n",
    "\n",
    "# suggestions\n",
    "# 1---use a logical name\n",
    "# 2---don't use space between variablename use _"
   ]
  },
  {
   "cell_type": "code",
   "execution_count": null,
   "id": "70a96e1d",
   "metadata": {},
   "outputs": [],
   "source": [
    "age=80\n",
    "datatypes in python\n",
    "\n",
    "int ---- 8 9 54 587 545- 89 -859 -565\n",
    "float--- 878 -989 45.32 -98.32 0.231\n",
    "String -'' \" \" ''' ''' \"\"\" \"\"\"\n",
    "boolean ---True Or False first letter should be capital\n",
    "\n"
   ]
  },
  {
   "cell_type": "code",
   "execution_count": 1,
   "id": "7a732d82",
   "metadata": {},
   "outputs": [
    {
     "name": "stdout",
     "output_type": "stream",
     "text": [
      "<class 'bool'>\n"
     ]
    }
   ],
   "source": [
    "age=True\n",
    "# type(variablename)--gives datatype of variables\n",
    "print(type(age))"
   ]
  },
  {
   "cell_type": "code",
   "execution_count": 2,
   "id": "b6d73d33",
   "metadata": {},
   "outputs": [
    {
     "name": "stdout",
     "output_type": "stream",
     "text": [
      "hello 81\n",
      "hello i am 81 rgerg hello wfgwergf81\n"
     ]
    }
   ],
   "source": [
    "# how to use variables inside print()\n",
    "d1=\"hello\"\n",
    "d2=81\n",
    "print(d1,d2)\n",
    "# d1 i am d2\n",
    "# hello i am 81\n",
    "# formatted string\n",
    "print(f\"{d1} i am {d2} rgerg {d1} wfgwergf{d2}\")"
   ]
  },
  {
   "cell_type": "code",
   "execution_count": 3,
   "id": "60df0469",
   "metadata": {},
   "outputs": [
    {
     "name": "stdout",
     "output_type": "stream",
     "text": [
      "Enter Your Name: avani tejani\n",
      "Your name is avani tejani\n"
     ]
    }
   ],
   "source": [
    "# how to take user input in python\n",
    "# input([\"Message\"])\n",
    "name=input(\"Enter Your Name: \")\n",
    "print(f\"Your name is {name}\")"
   ]
  },
  {
   "cell_type": "code",
   "execution_count": 4,
   "id": "47b7a11e",
   "metadata": {},
   "outputs": [
    {
     "name": "stdout",
     "output_type": "stream",
     "text": [
      "Enter Something: 22\n",
      "<class 'int'>\n"
     ]
    }
   ],
   "source": [
    "var1=int(input(\"Enter Something: \"))\n",
    "print(type(var1))"
   ]
  },
  {
   "cell_type": "code",
   "execution_count": 5,
   "id": "4d723f75",
   "metadata": {},
   "outputs": [
    {
     "ename": "SyntaxError",
     "evalue": "invalid syntax (2183453564.py, line 3)",
     "output_type": "error",
     "traceback": [
      "\u001b[1;36m  Cell \u001b[1;32mIn[5], line 3\u001b[1;36m\u001b[0m\n\u001b[1;33m    str(a) int\u001b[0m\n\u001b[1;37m           ^\u001b[0m\n\u001b[1;31mSyntaxError\u001b[0m\u001b[1;31m:\u001b[0m invalid syntax\n"
     ]
    }
   ],
   "source": [
    "# Type Conversion\n",
    "a=18\n",
    "str(a) int\n",
    "float bool"
   ]
  },
  {
   "cell_type": "code",
   "execution_count": 6,
   "id": "bdfabeab",
   "metadata": {},
   "outputs": [
    {
     "name": "stdout",
     "output_type": "stream",
     "text": [
      "2694744441584\n",
      "2694744442480\n"
     ]
    }
   ],
   "source": [
    "# id() --gives variable location or id\n",
    "a=17\n",
    "b=45\n",
    "print(id(a))\n",
    "print(id(b))"
   ]
  },
  {
   "cell_type": "code",
   "execution_count": null,
   "id": "96770749",
   "metadata": {},
   "outputs": [],
   "source": [
    "# operators\n",
    "# arithmetic operator + - * / //(floor division) %(modulus) **(power)\n",
    "# relational operator > < >= < = == !=\n",
    "# logical operator and or not\n",
    "# assignement operator = += -= /= *= **= //=\n",
    "# bitwise operator & | >> <<\n",
    "# identity operator    is ....is not\n",
    "# membership operator    in....... not in\n"
   ]
  },
  {
   "cell_type": "code",
   "execution_count": 7,
   "id": "378fcb97",
   "metadata": {},
   "outputs": [
    {
     "name": "stdout",
     "output_type": "stream",
     "text": [
      "5\n"
     ]
    }
   ],
   "source": [
    "print(48//9)"
   ]
  },
  {
   "cell_type": "code",
   "execution_count": 9,
   "id": "66d91622",
   "metadata": {},
   "outputs": [
    {
     "name": "stdout",
     "output_type": "stream",
     "text": [
      "30\n",
      "-19\n",
      "580\n",
      "3.869565217391304\n",
      "3\n",
      "-------------\n",
      "20.75\n",
      "20\n",
      "-------------\n",
      "27\n"
     ]
    }
   ],
   "source": [
    "# arithmetic Operators\n",
    "print(10+20)\n",
    "print(50-69)\n",
    "print(10*58)\n",
    "print(89/23)\n",
    "print(48%5)\n",
    "                                       #28-3-2023\n",
    "print(\"-------------\")\n",
    "# floor division\n",
    "print(83/4)\n",
    "print(83//4)\n",
    "\n",
    "print(\"-------------\")\n",
    "# power operator **\n",
    "print(3**3)"
   ]
  },
  {
   "cell_type": "code",
   "execution_count": 10,
   "id": "7a594d1d",
   "metadata": {},
   "outputs": [
    {
     "name": "stdout",
     "output_type": "stream",
     "text": [
      "True\n",
      "False\n"
     ]
    }
   ],
   "source": [
    "# relational operator > < >= <= == !=\n",
    "print(89>25)\n",
    "print(33<12)\n"
   ]
  },
  {
   "cell_type": "code",
   "execution_count": 11,
   "id": "cf878d84",
   "metadata": {},
   "outputs": [
    {
     "name": "stdout",
     "output_type": "stream",
     "text": [
      "True\n"
     ]
    }
   ],
   "source": [
    "print(\"hello\">\"demo\")"
   ]
  },
  {
   "cell_type": "code",
   "execution_count": 12,
   "id": "7fb54196",
   "metadata": {},
   "outputs": [
    {
     "name": "stdout",
     "output_type": "stream",
     "text": [
      "Enter your Name: avani\n",
      "Enter Your Age: 21\n",
      "Enter Your Mobile No. : 9265586214\n",
      "Enter Your Email: avanitejanii@gmail.com\n",
      "Your Name is avani\n",
      "Your age is 21\n",
      "Your mobile is 9265586214\n",
      "Your email is avanitejanii@gmail.com\n"
     ]
    }
   ],
   "source": [
    "name=input(\"Enter your Name: \")\n",
    "age=int(input(\"Enter Your Age: \"))\n",
    "mobile=int(input(\"Enter Your Mobile No. : \"))\n",
    "email=input(\"Enter Your Email: \")\n",
    "print(f\"Your Name is {name}\\nYour age is {age}\\nYour mobile is {mobile}\\nYour email is {email}\")\n"
   ]
  },
  {
   "cell_type": "code",
   "execution_count": 13,
   "id": "38398eb9",
   "metadata": {},
   "outputs": [
    {
     "name": "stdout",
     "output_type": "stream",
     "text": [
      "Enter First NAme: avani\n",
      "Enter Last name: tejani\n",
      "Enter Father NAme: k\n",
      "Your full name is avani tejani k\n"
     ]
    }
   ],
   "source": [
    "firstname=input(\"Enter First NAme: \")\n",
    "lastname=input(\"Enter Last name: \")\n",
    "fathername=input(\"Enter Father NAme: \")\n",
    "fullname=firstname+\" \"+lastname+\" \"+fathername #string concatenation\n",
    "# your fullname is {fullname}\n",
    "# your full name is firstname lastname fathername\n",
    "print(f\"Your full name is {fullname}\")"
   ]
  },
  {
   "cell_type": "code",
   "execution_count": 14,
   "id": "e0e78326",
   "metadata": {},
   "outputs": [
    {
     "name": "stdout",
     "output_type": "stream",
     "text": [
      "Hello ia m good\n",
      "How are you\n",
      "good morning \n"
     ]
    }
   ],
   "source": [
    "str1='''Hello ia m good\n",
    "How are you\n",
    "good morning '''\n",
    "print(str1)"
   ]
  },
  {
   "cell_type": "code",
   "execution_count": null,
   "id": "b1e16c86",
   "metadata": {},
   "outputs": [],
   "source": [
    "# Logical operator\n",
    "AND and --all true then true anyone flase then false\n",
    "OR  or --anyone true then true if all flase then false\n",
    "NOT not --reverse your answer"
   ]
  },
  {
   "cell_type": "code",
   "execution_count": 16,
   "id": "a919e93d",
   "metadata": {},
   "outputs": [
    {
     "name": "stdout",
     "output_type": "stream",
     "text": [
      "88\n",
      "94\n"
     ]
    }
   ],
   "source": [
    "# biotwise operator\n",
    "print(88&94)\n",
    "print(88|94)"
   ]
  },
  {
   "cell_type": "code",
   "execution_count": 17,
   "id": "f6838179",
   "metadata": {},
   "outputs": [
    {
     "name": "stdout",
     "output_type": "stream",
     "text": [
      "97\n",
      "116\n"
     ]
    }
   ],
   "source": [
    "print(125&97)\n",
    "print(48|84)"
   ]
  },
  {
   "cell_type": "code",
   "execution_count": null,
   "id": "f7e50fb4",
   "metadata": {},
   "outputs": [],
   "source": [
    "                                                #30-3-2023"
   ]
  },
  {
   "cell_type": "code",
   "execution_count": null,
   "id": "91824294",
   "metadata": {},
   "outputs": [],
   "source": [
    "Bitwise left shift operator <<\n",
    "bitwise right operator >>\n",
    "bitwise XOR ^"
   ]
  },
  {
   "cell_type": "code",
   "execution_count": 1,
   "id": "36d45421",
   "metadata": {},
   "outputs": [
    {
     "name": "stdout",
     "output_type": "stream",
     "text": [
      "52\n",
      "16\n"
     ]
    }
   ],
   "source": [
    "print(85^97)\n",
    "print(105^121)"
   ]
  },
  {
   "cell_type": "code",
   "execution_count": 2,
   "id": "e5424185",
   "metadata": {},
   "outputs": [
    {
     "data": {
      "text/plain": [
       "920"
      ]
     },
     "execution_count": 2,
     "metadata": {},
     "output_type": "execute_result"
    }
   ],
   "source": [
    "# bitwise right shift operator  >>\n",
    "89>>3\n",
    "# bitwise left shift operator <<\n",
    "115<<3"
   ]
  },
  {
   "cell_type": "code",
   "execution_count": null,
   "id": "5fb822fe",
   "metadata": {},
   "outputs": [],
   "source": [
    "# conditional statments\n",
    "simple if\n",
    "if else\n",
    "if elif elif elif.......else ladder if else\n",
    "nested if else"
   ]
  },
  {
   "cell_type": "code",
   "execution_count": null,
   "id": "d0381d67",
   "metadata": {},
   "outputs": [],
   "source": [
    "# simple if\n",
    "if condition:\n",
    "    thrthrththrthrth\n",
    "    rthhrthrthrthrth\n",
    "    rthrthrthrthrthrt\n",
    "    rthrthrthrthrt\n",
    "    rhhrthrthrthrt\n",
    "    hrthrthrhhrth"
   ]
  },
  {
   "cell_type": "code",
   "execution_count": 3,
   "id": "42f3cee3",
   "metadata": {},
   "outputs": [
    {
     "name": "stdout",
     "output_type": "stream",
     "text": [
      "Enter Age: 21\n",
      "Adult\n"
     ]
    }
   ],
   "source": [
    "age=int(input(\"Enter Age: \"))\n",
    "if age>18:\n",
    "    print(\"Adult\")"
   ]
  },
  {
   "cell_type": "code",
   "execution_count": null,
   "id": "04c20bf8",
   "metadata": {},
   "outputs": [],
   "source": [
    "# if else:\n",
    "if condition:\n",
    "    body\n",
    "else:\n",
    "    body"
   ]
  },
  {
   "cell_type": "code",
   "execution_count": 5,
   "id": "1634d5a1",
   "metadata": {},
   "outputs": [
    {
     "name": "stdout",
     "output_type": "stream",
     "text": [
      "Enter Age: 12\n",
      "Young\n"
     ]
    }
   ],
   "source": [
    "age=int(input(\"Enter Age: \"))\n",
    "if age>18:\n",
    "    print(\"Adult\")\n",
    "else:\n",
    "    print(\"Young\")"
   ]
  },
  {
   "cell_type": "code",
   "execution_count": null,
   "id": "8ed41dc6",
   "metadata": {},
   "outputs": [],
   "source": [
    "# ladder if else\n",
    "if condition1:\n",
    "    body\n",
    "elif condition2:\n",
    "    body\n",
    "elif condition3:\n",
    "    body\n"
   ]
  },
  {
   "cell_type": "code",
   "execution_count": 6,
   "id": "f06401cf",
   "metadata": {},
   "outputs": [
    {
     "name": "stdout",
     "output_type": "stream",
     "text": [
      "Enter A Number: 0\n",
      "Zero\n"
     ]
    }
   ],
   "source": [
    "num=int(input(\"Enter A Number: \"))\n",
    "if num>0:\n",
    "    print(\"Positive\")\n",
    "elif num<0:\n",
    "    print(\"negative\")\n",
    "else:\n",
    "    print(\"Zero\")"
   ]
  },
  {
   "cell_type": "code",
   "execution_count": 7,
   "id": "1d111614",
   "metadata": {},
   "outputs": [
    {
     "name": "stdout",
     "output_type": "stream",
     "text": [
      "ENter A Number: 2\n",
      "ENter A Number: 6\n",
      "ENter A Number: 8\n",
      "8 is greater\n"
     ]
    }
   ],
   "source": [
    "a=int(input(\"ENter A Number: \"))\n",
    "b=int(input(\"ENter A Number: \"))\n",
    "c=int(input(\"ENter A Number: \"))\n",
    "if a>b:\n",
    "    if a>c:\n",
    "        print(f\"{a} is greater\")\n",
    "    else:\n",
    "        print(f\"{c} is greater\")\n",
    "else:\n",
    "    if b>c:\n",
    "        print(f\"{b} is greater\")\n",
    "    else:\n",
    "        print(f\"{c} is greater\")"
   ]
  },
  {
   "cell_type": "code",
   "execution_count": null,
   "id": "9b76ad2c",
   "metadata": {},
   "outputs": [],
   "source": []
  }
 ],
 "metadata": {
  "kernelspec": {
   "display_name": "Python 3 (ipykernel)",
   "language": "python",
   "name": "python3"
  },
  "language_info": {
   "codemirror_mode": {
    "name": "ipython",
    "version": 3
   },
   "file_extension": ".py",
   "mimetype": "text/x-python",
   "name": "python",
   "nbconvert_exporter": "python",
   "pygments_lexer": "ipython3",
   "version": "3.10.9"
  }
 },
 "nbformat": 4,
 "nbformat_minor": 5
}
