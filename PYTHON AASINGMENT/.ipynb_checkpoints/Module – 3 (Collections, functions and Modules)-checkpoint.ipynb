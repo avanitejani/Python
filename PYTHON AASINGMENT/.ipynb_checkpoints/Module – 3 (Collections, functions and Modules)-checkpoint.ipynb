{
 "cells": [
  {
   "cell_type": "code",
   "execution_count": null,
   "id": "9079436c",
   "metadata": {},
   "outputs": [],
   "source": [
    "                           #Module – 3 (Collections, functions and Modules)\n"
   ]
  },
  {
   "cell_type": "code",
   "execution_count": null,
   "id": "93e4c562",
   "metadata": {},
   "outputs": [],
   "source": [
    "#  1.  What is List? How will you reverse a list? \n",
    "ANS\n",
    "# What is List?\n",
    "# Lists are used to store multiple items in a single variable. Lists are one of 4 built-in data types in Python used to \n",
    "# store collections of data, the other 3 are Tuple, Set, and Dictionary, all with different qualities and usage.\n",
    "\n",
    "# How will you reverse a list? \n",
    "# In Python, a built-in function called reverse() is used to reverse the list. \n",
    "# This simple and quick way to reverse a list in Python requires little memory. \n",
    "# Syntax: list_name. reverse() Here, list_name means you have to write the list's name, which has to be reversed.\n"
   ]
  },
  {
   "cell_type": "code",
   "execution_count": null,
   "id": "1a60f045",
   "metadata": {},
   "outputs": [],
   "source": [
    "#  2.  How will you remove last object from a list? Suppose list1 is [2, 33, 222, 14, and 25], what is list1 [-1]? \n",
    "\n",
    "#pop ([index]) \n",
    "\n",
    "list1=[2, 33, 222, 14, 25]    #-------pop ([index]) \n",
    "list1.pop()             \n",
    "print(list1)   #-----------------if index is not given then it removes last element\n",
    "\n",
    "# Here negative indexing starts from right end that means the index of 25 is -1"
   ]
  },
  {
   "cell_type": "code",
   "execution_count": null,
   "id": "82d7dfcc",
   "metadata": {},
   "outputs": [],
   "source": [
    "#  3.  Differentiate between append () and extend () methods? \n",
    "ANS      \n",
    "#   The append() method in the Python programming language adds an item to a list that already exists whereas\n",
    "#   The extend() method adds each of the iterable elements which is supplied as a parameter to the end of the original list."
   ]
  },
  {
   "cell_type": "code",
   "execution_count": 2,
   "id": "350facc2",
   "metadata": {},
   "outputs": [
    {
     "name": "stdout",
     "output_type": "stream",
     "text": [
      "how many element enterd in list :4\n",
      "largest number of list is 100\n",
      "smallest number of list is -100\n",
      "sum number of list is 200\n"
     ]
    }
   ],
   "source": [
    "#  4.  Write a Python function to get the largest number, smallest num and sum of all from a list. \n",
    "\n",
    "list1=[10,7,20,0,50,100,70,68,-100,-25,-93,93] \n",
    "#num=int(input(\"how many element enterd in list :\"))\n",
    "\n",
    "# list1=[2,3,4,5,6,7,8,9,1,10]\n",
    "larg = max(list1)  #-----------------#baisi function  of max() maths rule\n",
    "small = min(list1) #-----------------#baisi function  of min() maths rule\n",
    "total = sum(list1) #-----------------#baisi function  of sum() maths rule\n",
    "\n",
    "print(f\"largest number of list is {larg}\")\n",
    "print(f\"smallest number of list is {small}\") \n",
    "print(f\"sum number of list is {total}\")\n",
    "\n",
    "\n",
    "\n",
    "# num=int(input(\"how many element enterd in list :\"))\n",
    "\n",
    "# list1=[]\n",
    "# for i in range(num):\n",
    "#     value=input(\"Enter Value: \")\n",
    "#     list1.append(value)\n",
    "    \n",
    "# print(list1)\n",
    "\n",
    "# print(f\"largest number of list is :{max(list1)} \") #-----------------#baisi function  of max() maths rule\n",
    "# print(f\"smallest number of list is :{min(list1)}\") #-----------------#baisi function  of max() maths rule\n",
    "# #print(f\"sum number of list is :{sum(list1)}\") -----#-----------------#baisi function  of max() maths rule\n",
    "\n"
   ]
  },
  {
   "cell_type": "code",
   "execution_count": 7,
   "id": "616ca11a",
   "metadata": {},
   "outputs": [
    {
     "name": "stdout",
     "output_type": "stream",
     "text": [
      "how many element enterd in list :5\n",
      "Enter Value: 1\n",
      "Enter Value: 2\n",
      "Enter Value: 3\n",
      "Enter Value: 4\n",
      "Enter Value: 5\n",
      "[1, 2, 3, 4, 5]\n",
      "largest number of list is :5 \n",
      "smallest number of list is :1\n",
      "sum number of list is :15\n"
     ]
    }
   ],
   "source": [
    "num=int(input(\"how many element enterd in list :\"))\n",
    "\n",
    "list1=[]\n",
    "for i in range(num):\n",
    "    value=int(input(\"Enter Value: \"))\n",
    "    list1.append(value)\n",
    "    \n",
    "print(list1)\n",
    "\n",
    "print(f\"largest number of list is :{max(list1)} \") #-----------------#baisi function  of max() maths rule\n",
    "print(f\"smallest number of list is :{min(list1)}\") #-----------------#baisi function  of max() maths rule\n",
    "print(f\"sum number of list is :{sum(list1)}\") #-----------------#baisi function  of max() maths rule\n",
    "\n"
   ]
  },
  {
   "cell_type": "code",
   "execution_count": null,
   "id": "1def8faa",
   "metadata": {},
   "outputs": [],
   "source": [
    "#  5.  How will you compare two lists? \n"
   ]
  },
  {
   "cell_type": "code",
   "execution_count": null,
   "id": "ffd3333e",
   "metadata": {},
   "outputs": [],
   "source": [
    "#  6.  Write a Python program to count the number of strings where the string length is 2 or more and the \n",
    "#      first and last character are same from a given list of strings. \n",
    "       "
   ]
  },
  {
   "cell_type": "code",
   "execution_count": null,
   "id": "17d65735",
   "metadata": {},
   "outputs": [],
   "source": [
    "#  7.  Write a Python program to remove duplicates from a list. \n"
   ]
  },
  {
   "cell_type": "code",
   "execution_count": null,
   "id": "08bd36c1",
   "metadata": {},
   "outputs": [],
   "source": [
    "#  8.  Write a Python program to check a list is empty or not. \n",
    "num=int(input(\"how many element enterd in list :\"))\n",
    "\n",
    "list1=[]\n",
    "for i in range(num):\n",
    "    value=input(\"Enter Value: \")\n",
    "    list1.append(value)                            #---------use append method to creat list for user\n",
    "\n",
    "if list1 == []:                                    #--------use conditional statements\n",
    "    print(f\"{list1} : \\t This list is empty\")\n",
    "else:\n",
    "    print(f\"{list1} : \\t this list is not empty\")\n"
   ]
  },
  {
   "cell_type": "code",
   "execution_count": null,
   "id": "58593dee",
   "metadata": {},
   "outputs": [],
   "source": [
    "#  9.  Write a Python function that takes two lists and returns true if they have at least one common member. \n"
   ]
  },
  {
   "cell_type": "code",
   "execution_count": null,
   "id": "4b872fe0",
   "metadata": {},
   "outputs": [],
   "source": [
    "#  10.  Write a Python program to generate and print a list of first and last 5 elements where the values are \n",
    "#      square of numbers between 1 and 30. \n"
   ]
  },
  {
   "cell_type": "code",
   "execution_count": null,
   "id": "50d0993c",
   "metadata": {},
   "outputs": [],
   "source": [
    "#  11. Write a Python function that takes a list and returns a new list with unique elements of the first list. \n"
   ]
  },
  {
   "cell_type": "code",
   "execution_count": null,
   "id": "d0b69474",
   "metadata": {},
   "outputs": [],
   "source": [
    "#  12. Write a Python program to convert a list of characters into a string. \n"
   ]
  },
  {
   "cell_type": "code",
   "execution_count": null,
   "id": "451b31b9",
   "metadata": {},
   "outputs": [],
   "source": [
    "#  13. Write a Python program to select an item randomly from a list. \n"
   ]
  },
  {
   "cell_type": "code",
   "execution_count": null,
   "id": "dc3c014a",
   "metadata": {},
   "outputs": [],
   "source": [
    "#  14. Write a Python program to find the second smallest number in a list. \n"
   ]
  },
  {
   "cell_type": "code",
   "execution_count": null,
   "id": "50ad370b",
   "metadata": {},
   "outputs": [],
   "source": [
    "#  15. Write a Python program to get unique values from a list \n"
   ]
  },
  {
   "cell_type": "code",
   "execution_count": null,
   "id": "85670c5f",
   "metadata": {},
   "outputs": [],
   "source": [
    "#  16. Write a Python program to check whether a list contains a sub list \n"
   ]
  },
  {
   "cell_type": "code",
   "execution_count": null,
   "id": "360d8b87",
   "metadata": {},
   "outputs": [],
   "source": [
    "#  17. Write a Python program to split a list into different variables. \n"
   ]
  },
  {
   "cell_type": "code",
   "execution_count": null,
   "id": "7b123d4c",
   "metadata": {},
   "outputs": [],
   "source": [
    "#  18. What is tuple? Difference between list and tuple. \n"
   ]
  },
  {
   "cell_type": "code",
   "execution_count": null,
   "id": "2d280b95",
   "metadata": {},
   "outputs": [],
   "source": [
    "#  19. Write a Python program to create a tuple with different data types. \n"
   ]
  },
  {
   "cell_type": "code",
   "execution_count": null,
   "id": "e81f5da1",
   "metadata": {},
   "outputs": [],
   "source": [
    "#  20. Write a Python program to create a tuple with numbers.\n"
   ]
  },
  {
   "cell_type": "code",
   "execution_count": null,
   "id": "1dc75944",
   "metadata": {},
   "outputs": [],
   "source": []
  }
 ],
 "metadata": {
  "kernelspec": {
   "display_name": "Python 3 (ipykernel)",
   "language": "python",
   "name": "python3"
  },
  "language_info": {
   "codemirror_mode": {
    "name": "ipython",
    "version": 3
   },
   "file_extension": ".py",
   "mimetype": "text/x-python",
   "name": "python",
   "nbconvert_exporter": "python",
   "pygments_lexer": "ipython3",
   "version": "3.10.9"
  }
 },
 "nbformat": 4,
 "nbformat_minor": 5
}
