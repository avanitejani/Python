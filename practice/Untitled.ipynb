{
 "cells": [
  {
   "cell_type": "code",
   "execution_count": 3,
   "id": "3ed998b8",
   "metadata": {
    "scrolled": true
   },
   "outputs": [
    {
     "name": "stdout",
     "output_type": "stream",
     "text": [
      "9 x 1 = 9\n",
      "9 x 2 = 18\n",
      "9 x 3 = 27\n",
      "9 x 4 = 36\n",
      "9 x 5 = 45\n",
      "9 x 6 = 54\n",
      "9 x 7 = 63\n",
      "9 x 8 = 72\n",
      "9 x 9 = 81\n",
      "9 x 10 = 90\n"
     ]
    }
   ],
   "source": [
    "for i in range(1,11):\n",
    "         print(9,'x',i,'=',9*i)\n"
   ]
  },
  {
   "cell_type": "code",
   "execution_count": null,
   "id": "fb375247",
   "metadata": {},
   "outputs": [],
   "source": [
    "f= formeted sring\n",
    "i=itreting variyabel\n",
    "\"\",{},[],()= itrabal\n",
    "lopping program=itration\n",
    "\n",
    "\n"
   ]
  },
  {
   "cell_type": "code",
   "execution_count": 1,
   "id": "1988a463",
   "metadata": {},
   "outputs": [
    {
     "name": "stdout",
     "output_type": "stream",
     "text": [
      "Enter Name : hii avani\n",
      "9\n",
      "hii avani\n"
     ]
    }
   ],
   "source": [
    "name=input(\"Enter Name : \")\n",
    "file=open(\"hii.txt\", \"a\")  #file open with append mood\n",
    "print(file.write(name))   \n",
    "file.close()\n",
    "\n",
    "file=open(\"hii.txt\",\"r\")  #file open with read mood\n",
    "print(file.read())"
   ]
  },
  {
   "cell_type": "code",
   "execution_count": null,
   "id": "50026e28",
   "metadata": {},
   "outputs": [],
   "source": [
    " # file=open(\"3.txt\", \"a\")  #file open with append mood\n",
    "    # print(file.write(name))   \n",
    "    # file.close()\n",
    "\n",
    "    file=open(\"Registration.txt\",\"a\")\n",
    "    print(file.write(f\"name: {name.get()}\\ncontect: {contact.get()}\\nemail: {email.get()}\\nGender : {Gender.get()}\\nCity : {selcton1.get()}\\nState : {selcton2.get()}\\n\\n\"))\n",
    "    \n",
    "\n",
    "    file=open(\"Registration.txt\",\"r\")  #file open with read mood\n",
    "    print(file.read())\n",
    "\n",
    "    file.close()"
   ]
  }
 ],
 "metadata": {
  "kernelspec": {
   "display_name": "Python 3 (ipykernel)",
   "language": "python",
   "name": "python3"
  },
  "language_info": {
   "codemirror_mode": {
    "name": "ipython",
    "version": 3
   },
   "file_extension": ".py",
   "mimetype": "text/x-python",
   "name": "python",
   "nbconvert_exporter": "python",
   "pygments_lexer": "ipython3",
   "version": "3.10.9"
  }
 },
 "nbformat": 4,
 "nbformat_minor": 5
}
