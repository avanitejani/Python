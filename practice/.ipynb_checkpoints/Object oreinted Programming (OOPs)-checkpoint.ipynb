{
 "cells": [
  {
   "cell_type": "code",
   "execution_count": null,
   "id": "df6771e1",
   "metadata": {},
   "outputs": [],
   "source": [
    "\n",
    "                                                # 20 may 2023\n"
   ]
  },
  {
   "cell_type": "code",
   "execution_count": 1,
   "id": "56bf91d2",
   "metadata": {},
   "outputs": [
    {
     "ename": "SyntaxError",
     "evalue": "invalid syntax (2207780703.py, line 4)",
     "output_type": "error",
     "traceback": [
      "\u001b[1;36m  Cell \u001b[1;32mIn[1], line 4\u001b[1;36m\u001b[0m\n\u001b[1;33m    class is a blueprint\u001b[0m\n\u001b[1;37m          ^\u001b[0m\n\u001b[1;31mSyntaxError\u001b[0m\u001b[1;31m:\u001b[0m invalid syntax\n"
     ]
    }
   ],
   "source": [
    "# Class\n",
    "# Object\n",
    "\n",
    "class is a blueprint\n",
    "\n",
    "variables---attributes---data members\n",
    "functions---behaviour---methods----member function"
   ]
  },
  {
   "cell_type": "code",
   "execution_count": 2,
   "id": "68d34e86",
   "metadata": {},
   "outputs": [],
   "source": [
    "class student:\n",
    "    def __init__(self):\n",
    "        self.name=\"\"\n",
    "        self.age=0\n",
    "        self.mobile=\"\"\n",
    "        \n",
    "    def getvalue(self):\n",
    "        self.name=input(\"Enter name: \")\n",
    "        self.age=int(input(\"Enter Age: \"))\n",
    "        self.mobile=input(\"enter mobile: \")\n",
    "    \n",
    "    def showdata(self):\n",
    "        \n",
    "        print(f\"name is {self.name} age is {self.age} and mobile is {self.mobile}\")"
   ]
  },
  {
   "cell_type": "code",
   "execution_count": 3,
   "id": "b7b22ae3",
   "metadata": {},
   "outputs": [
    {
     "name": "stdout",
     "output_type": "stream",
     "text": [
      "Enter name: avani\n",
      "Enter Age: 21\n",
      "enter mobile: +919265586214\n",
      "name is avani age is 21 and mobile is +919265586214\n"
     ]
    }
   ],
   "source": [
    "# \\objectname=classname()\n",
    "# attributes---name,age,mobile\n",
    "# methods---getvalue(),showvalue()\n",
    "s1=student()\n",
    "s1.getvalue()\n",
    "s1.showdata()\n",
    "s2=student()"
   ]
  },
  {
   "cell_type": "code",
   "execution_count": 4,
   "id": "96e46334",
   "metadata": {},
   "outputs": [
    {
     "name": "stdout",
     "output_type": "stream",
     "text": [
      "I am A Constructor\n",
      "I am A Normal Function\n",
      "59\n",
      "I am A Normal Function\n",
      "I am A Normal Function\n",
      "I am A Constructor\n"
     ]
    }
   ],
   "source": [
    "class demo:\n",
    "    def fun1(self):\n",
    "        print(\"I am A Normal Function\")\n",
    "        return 59\n",
    "        \n",
    "    def __init__(self):\n",
    "        print(\"I am A Constructor\")\n",
    "        \n",
    "    def __del__(self):\n",
    "        print(\"I am Desturtcor\")\n",
    "        \n",
    "d1=demo()\n",
    "print(d1.fun1())\n",
    "d1.fun1()\n",
    "d1.fun1()\n",
    "d2=demo()"
   ]
  },
  {
   "cell_type": "code",
   "execution_count": 5,
   "id": "44b758ee",
   "metadata": {},
   "outputs": [
    {
     "name": "stdout",
     "output_type": "stream",
     "text": [
      "<class 'int'>\n"
     ]
    }
   ],
   "source": [
    "# a=print(\"wow\")\n",
    "# print(a)\n",
    "a=type(125)\n",
    "print(a)"
   ]
  },
  {
   "cell_type": "code",
   "execution_count": 6,
   "id": "172888a7",
   "metadata": {},
   "outputs": [
    {
     "name": "stdout",
     "output_type": "stream",
     "text": [
      "wow\n"
     ]
    },
    {
     "ename": "NameError",
     "evalue": "name 'a' is not defined",
     "output_type": "error",
     "traceback": [
      "\u001b[1;31m---------------------------------------------------------------------------\u001b[0m",
      "\u001b[1;31mNameError\u001b[0m                                 Traceback (most recent call last)",
      "Cell \u001b[1;32mIn[6], line 4\u001b[0m\n\u001b[0;32m      2\u001b[0m \u001b[38;5;28mprint\u001b[39m(a)\n\u001b[0;32m      3\u001b[0m \u001b[38;5;28;01mdel\u001b[39;00m a\n\u001b[1;32m----> 4\u001b[0m \u001b[38;5;28mprint\u001b[39m(\u001b[43ma\u001b[49m)\n",
      "\u001b[1;31mNameError\u001b[0m: name 'a' is not defined"
     ]
    }
   ],
   "source": [
    "a=\"wow\"\n",
    "print(a)\n",
    "del a\n",
    "print(a)"
   ]
  },
  {
   "cell_type": "code",
   "execution_count": 7,
   "id": "01611e22",
   "metadata": {},
   "outputs": [
    {
     "ename": "TypeError",
     "evalue": "can only concatenate str (not \"int\") to str",
     "output_type": "error",
     "traceback": [
      "\u001b[1;31m---------------------------------------------------------------------------\u001b[0m",
      "\u001b[1;31mTypeError\u001b[0m                                 Traceback (most recent call last)",
      "Cell \u001b[1;32mIn[7], line 2\u001b[0m\n\u001b[0;32m      1\u001b[0m a\u001b[38;5;241m=\u001b[39m\u001b[38;5;124m\"\u001b[39m\u001b[38;5;124mhello\u001b[39m\u001b[38;5;124m\"\u001b[39m\n\u001b[1;32m----> 2\u001b[0m \u001b[38;5;28mprint\u001b[39m(\u001b[43ma\u001b[49m\u001b[38;5;241;43m+\u001b[39;49m\u001b[38;5;241;43m10\u001b[39;49m)\n",
      "\u001b[1;31mTypeError\u001b[0m: can only concatenate str (not \"int\") to str"
     ]
    }
   ],
   "source": [
    "a=\"hello\"\n",
    "print(a+10)"
   ]
  },
  {
   "cell_type": "code",
   "execution_count": null,
   "id": "4bcaa590",
   "metadata": {},
   "outputs": [],
   "source": []
  },
  {
   "cell_type": "code",
   "execution_count": 10,
   "id": "bc104f54",
   "metadata": {},
   "outputs": [
    {
     "name": "stdout",
     "output_type": "stream",
     "text": [
      "Enter number: hii\n",
      "True\n"
     ]
    }
   ],
   "source": [
    "a=bool(input(\"Enter number: \"))\n",
    "print(a)"
   ]
  },
  {
   "cell_type": "code",
   "execution_count": 11,
   "id": "e3e2bec9",
   "metadata": {},
   "outputs": [
    {
     "name": "stdout",
     "output_type": "stream",
     "text": [
      "False\n"
     ]
    }
   ],
   "source": [
    "a=\"\"\n",
    "b=bool(a)\n",
    "print(b)"
   ]
  },
  {
   "cell_type": "code",
   "execution_count": 12,
   "id": "6963814e",
   "metadata": {},
   "outputs": [
    {
     "name": "stdout",
     "output_type": "stream",
     "text": [
      "Enter Number: 80\n",
      "80\n"
     ]
    }
   ],
   "source": [
    "a=input(\"Enter Number: \")\n",
    "print(a)"
   ]
  },
  {
   "cell_type": "code",
   "execution_count": null,
   "id": "03954608",
   "metadata": {},
   "outputs": [],
   "source": [
    "# inheritance\n",
    "# 1)Single Inheritance--\n",
    "# 2)Multilevel Inheritance\n",
    "# 3)Multiple Inheritance\n",
    "# 4)heirarchical Inheritance\n",
    "# 5)Hybrid Inhertiance\n",
    "\n",
    "\n",
    "# Q=53654121232565896512345215874589 12 123 56 12345 45 89"
   ]
  },
  {
   "cell_type": "code",
   "execution_count": 25,
   "id": "b4d6b122",
   "metadata": {},
   "outputs": [],
   "source": [
    "class first:\n",
    "    def __init__(self):\n",
    "        self.a=\"hello\"\n",
    "\n",
    "    def demo(self):\n",
    "        print(f\"value of as is {self.a}\")"
   ]
  },
  {
   "cell_type": "code",
   "execution_count": 26,
   "id": "ecf8f23e",
   "metadata": {},
   "outputs": [],
   "source": [
    "class second(first):\n",
    "    def __init__(self):\n",
    "        self.b=\"great\"\n",
    "        super().__init__()\n",
    "\n",
    "    def data(self):\n",
    "        print(f\"value of as is {self.b}\")"
   ]
  },
  {
   "cell_type": "code",
   "execution_count": 27,
   "id": "e3a21e2c",
   "metadata": {},
   "outputs": [],
   "source": [
    "class third(second):\n",
    "    def __init__(self):\n",
    "        self.c=410\n",
    "        super().__init__()\n",
    "        \n",
    "\n",
    "    def val(self):\n",
    "        print(f\"value of as is {self.c}\")"
   ]
  },
  {
   "cell_type": "code",
   "execution_count": 28,
   "id": "425d5404",
   "metadata": {
    "scrolled": true
   },
   "outputs": [
    {
     "name": "stdout",
     "output_type": "stream",
     "text": [
      "value of as is hello\n",
      "value of as is great\n",
      "value of as is 410\n"
     ]
    }
   ],
   "source": [
    "t1=third()\n",
    "t1.demo()\n",
    "t1.data()\n",
    "t1.val()"
   ]
  },
  {
   "cell_type": "code",
   "execution_count": null,
   "id": "1fc34687",
   "metadata": {},
   "outputs": [],
   "source": []
  },
  {
   "cell_type": "code",
   "execution_count": 34,
   "id": "5883b9ef",
   "metadata": {},
   "outputs": [],
   "source": [
    "class person:\n",
    "    def __init__(self):\n",
    "        self.name=\" \"\n",
    "        self.age=0\n",
    "        self.email=\" \"\n",
    "        self.mobaile=0\n",
    "    \n",
    "    def getperson(self):\n",
    "        self.name=input(\"enter name: \")\n",
    "        self.age=int(input(\"enter age: \"))\n",
    "        self.email=input(\"enter email: \")\n",
    "        self.mobaile=int(input(\"enter mobail no.: \"))\n",
    "        \n",
    "        \n",
    "    def showperson(self):\n",
    "        print(f\"name is {self.name} age is {self.age} email is {self.email}  mobail no. is {self.mobaile}\")"
   ]
  },
  {
   "cell_type": "code",
   "execution_count": 35,
   "id": "b2cc783a",
   "metadata": {},
   "outputs": [],
   "source": [
    "class student(person):\n",
    "    def __init__(self):\n",
    "        super().__init__()\n",
    "        \n",
    "        self.rollno=0\n",
    "        self.subject=\" \"\n",
    "        self.percentage=0\n",
    "        self.course=\" \"\n",
    "    \n",
    "    def getstudent(self):\n",
    "        self.getperson()\n",
    "        self.rollno=int(input(\"enter rollno: \"))\n",
    "        self.subject=input(\"enter subject: \")\n",
    "        self.percentage=int(input(\"enter percentage: \"))\n",
    "        self.course=input(\"enter mobail course.: \")\n",
    "        \n",
    "        \n",
    "    def showstudent(self): \n",
    "        self.showperson()\n",
    "        print(f\"name isrollno is {self.rollno} subject is {self.subject} percentage is {self.percentage}  course is {self.course}\")        "
   ]
  },
  {
   "cell_type": "code",
   "execution_count": 36,
   "id": "adaf02b4",
   "metadata": {},
   "outputs": [],
   "source": [
    "class faculty(person):\n",
    "    def __init__(self):\n",
    "        super().__init__()\n",
    "        \n",
    "        self.fId=0\n",
    "        self.subject=\" \"\n",
    "        self.salary=0\n",
    "        self.course=\" \"\n",
    "    \n",
    "    def getfaculty(self):\n",
    "        self.getperson()\n",
    "        self.fId=int(input(\"enter rollno: \"))\n",
    "        self.subject=input(\"enter subject: \")\n",
    "        self.salary=int(input(\"enter salary: \"))\n",
    "        self.course=input(\"enter mobail course.: \")\n",
    "        \n",
    "    def showfaculty(self):\n",
    "        self.showperson()\n",
    "        print(f\"fId is {self.fId} subject is {self.subject} salary is {self.salary}  course is {self.course}\")                "
   ]
  },
  {
   "cell_type": "code",
   "execution_count": 39,
   "id": "93a451bc",
   "metadata": {
    "scrolled": true
   },
   "outputs": [
    {
     "name": "stdout",
     "output_type": "stream",
     "text": [
      "enter name: avni\n",
      "enter age: 21\n",
      "enter email: avanitejani@gmail.com\n",
      "enter mobail no.: 9265586214\n",
      "enter rollno: 2083\n",
      "enter subject: python\n",
      "enter percentage: 25\n",
      "enter mobail course.: java\n",
      "name is avni age is 21 email is avanitejani@gmail.com  mobail no. is 9265586214\n",
      "name isrollno is 2083 subject is python percentage is 25  course is java\n",
      "enter name: tejani\n",
      "enter age: 21\n",
      "enter email: sesrerert\n",
      "enter mobail no.: 528369\n",
      "enter rollno: 582\n",
      "enter subject: java\n",
      "enter salary: 50000\n",
      "enter mobail course.: python\n",
      "name is tejani age is 21 email is sesrerert  mobail no. is 528369\n",
      "fId is 582 subject is java salary is 50000  course is python\n"
     ]
    }
   ],
   "source": [
    "# s1=student\n",
    "# f1=faculty\n",
    "# s1.getperson()\n",
    "# s1.getstudent()\n",
    "# s1.showperson()\n",
    "# s1.showstudent\n",
    "\n",
    "s1=student()\n",
    "s1.getstudent()\n",
    "s1.showstudent()\n",
    "f1=faculty()\n",
    "f1.getfaculty()\n",
    "f1.showfaculty()"
   ]
  },
  {
   "cell_type": "code",
   "execution_count": null,
   "id": "12d05094",
   "metadata": {},
   "outputs": [],
   "source": []
  },
  {
   "cell_type": "code",
   "execution_count": 1,
   "id": "c920a900",
   "metadata": {},
   "outputs": [
    {
     "ename": "TypeError",
     "evalue": "demo.fun1() takes 1 positional argument but 2 were given",
     "output_type": "error",
     "traceback": [
      "\u001b[1;31m---------------------------------------------------------------------------\u001b[0m",
      "\u001b[1;31mTypeError\u001b[0m                                 Traceback (most recent call last)",
      "Cell \u001b[1;32mIn[1], line 19\u001b[0m\n\u001b[0;32m     16\u001b[0m         \u001b[38;5;28mprint\u001b[39m(\u001b[38;5;124m\"\u001b[39m\u001b[38;5;124m:three parametar\u001b[39m\u001b[38;5;124m\"\u001b[39m)\n\u001b[0;32m     18\u001b[0m d1\u001b[38;5;241m=\u001b[39mdemo()\n\u001b[1;32m---> 19\u001b[0m \u001b[43md1\u001b[49m\u001b[38;5;241;43m.\u001b[39;49m\u001b[43mfun1\u001b[49m\u001b[43m(\u001b[49m\u001b[38;5;241;43m45\u001b[39;49m\u001b[43m)\u001b[49m\n",
      "\u001b[1;31mTypeError\u001b[0m: demo.fun1() takes 1 positional argument but 2 were given"
     ]
    }
   ],
   "source": [
    "# 25 may 2023\n",
    "\n",
    "# polymorphim\n",
    "\n",
    "#function overloding and opretor overlodinf\n",
    "# function overloding\n",
    "\n",
    "class demo:\n",
    "    def fun1(self):\n",
    "        print(\":no parametar\")\n",
    "        \n",
    "    def fun2(self,a):\n",
    "        print(\":two parametar\")\n",
    "    \n",
    "    def fun3(self,a,b):\n",
    "        print(\":three parametar\")\n",
    "        \n",
    "d1=demo()\n",
    "d1.fun1(45)"
   ]
  },
  {
   "cell_type": "code",
   "execution_count": null,
   "id": "d8d070a6",
   "metadata": {},
   "outputs": [],
   "source": [
    "\n",
    "class demo:\n",
    "    def fun1(self):\n",
    "        print(\":no parametar\")\n",
    "        \n",
    "    def fun2(self,a):\n",
    "        print(\":two parametar\")\n",
    "    \n",
    "    def fun3(self,a,b):\n",
    "        print(\":three parametar\")\n",
    "        \n",
    "d1=demo()\n",
    "d1.fun1(45)"
   ]
  },
  {
   "cell_type": "code",
   "execution_count": null,
   "id": "f5f746e6",
   "metadata": {},
   "outputs": [],
   "source": []
  },
  {
   "cell_type": "code",
   "execution_count": 7,
   "id": "54f9b3a3",
   "metadata": {},
   "outputs": [
    {
     "ename": "AttributeError",
     "evalue": "'demo2' object has no attribute 'x'",
     "output_type": "error",
     "traceback": [
      "\u001b[1;31m---------------------------------------------------------------------------\u001b[0m",
      "\u001b[1;31mAttributeError\u001b[0m                            Traceback (most recent call last)",
      "Cell \u001b[1;32mIn[7], line 22\u001b[0m\n\u001b[0;32m     20\u001b[0m d1\u001b[38;5;241m=\u001b[39mdemo()\n\u001b[0;32m     21\u001b[0m d2\u001b[38;5;241m=\u001b[39mdemo2()\n\u001b[1;32m---> 22\u001b[0m \u001b[38;5;28mprint\u001b[39m(d1\u001b[38;5;241m.\u001b[39ma\u001b[38;5;241m+\u001b[39m\u001b[43md2\u001b[49m\u001b[38;5;241;43m.\u001b[39;49m\u001b[43mx\u001b[49m)\n\u001b[0;32m     23\u001b[0m \u001b[38;5;28mprint\u001b[39m(d1\u001b[38;5;241m+\u001b[39md2)\n",
      "\u001b[1;31mAttributeError\u001b[0m: 'demo2' object has no attribute 'x'"
     ]
    }
   ],
   "source": [
    "#opretor over loding\n",
    "\n",
    "class demo:\n",
    "    \n",
    "    def __init__(self):\n",
    "        self.a=48\n",
    "        \n",
    "    def fun1(self):\n",
    "        print(\":no parametar\")\n",
    "        \n",
    "class demo2:\n",
    "    \n",
    "    def __init__(self):\n",
    "        self.a=102\n",
    "        \n",
    "    def fun1(self):\n",
    "        print(\":dep function\")\n",
    "    \n",
    "        \n",
    "d1=demo()\n",
    "d2=demo2()\n",
    "print(d1.a+d2.x)\n",
    "print(d1+d2)"
   ]
  },
  {
   "cell_type": "code",
   "execution_count": 8,
   "id": "c71dcfdf",
   "metadata": {},
   "outputs": [
    {
     "ename": "AttributeError",
     "evalue": "'demo2' object has no attribute 'x'",
     "output_type": "error",
     "traceback": [
      "\u001b[1;31m---------------------------------------------------------------------------\u001b[0m",
      "\u001b[1;31mAttributeError\u001b[0m                            Traceback (most recent call last)",
      "Cell \u001b[1;32mIn[8], line 26\u001b[0m\n\u001b[0;32m     24\u001b[0m d1\u001b[38;5;241m=\u001b[39mdemo()\n\u001b[0;32m     25\u001b[0m d2\u001b[38;5;241m=\u001b[39mdemo2()\n\u001b[1;32m---> 26\u001b[0m \u001b[38;5;28mprint\u001b[39m(d1\u001b[38;5;241m.\u001b[39ma\u001b[38;5;241m+\u001b[39m\u001b[43md2\u001b[49m\u001b[38;5;241;43m.\u001b[39;49m\u001b[43mx\u001b[49m)\n\u001b[0;32m     27\u001b[0m \u001b[38;5;28mprint\u001b[39m(d1\u001b[38;5;241m+\u001b[39md2)\n",
      "\u001b[1;31mAttributeError\u001b[0m: 'demo2' object has no attribute 'x'"
     ]
    }
   ],
   "source": [
    "#opretor over loding\n",
    "\n",
    "class demo:\n",
    "    \n",
    "    def __init__(self):\n",
    "        self.a=48\n",
    "        \n",
    "    def fun1(self):\n",
    "        print(\":no parametar\")\n",
    "        \n",
    "    def __aad__(self,other):\n",
    "        self.a=self.a+other.x\n",
    "        print(self.a)\n",
    "        \n",
    "class demo2:\n",
    "    \n",
    "    def __init__(self):\n",
    "        self.a=102\n",
    "        \n",
    "    def fun1(self):\n",
    "        print(\":dep function\")\n",
    "    \n",
    "        \n",
    "d1=demo()\n",
    "d2=demo2()\n",
    "print(d1.a+d2.x)\n",
    "print(d1+d2)"
   ]
  }
 ],
 "metadata": {
  "kernelspec": {
   "display_name": "Python 3 (ipykernel)",
   "language": "python",
   "name": "python3"
  },
  "language_info": {
   "codemirror_mode": {
    "name": "ipython",
    "version": 3
   },
   "file_extension": ".py",
   "mimetype": "text/x-python",
   "name": "python",
   "nbconvert_exporter": "python",
   "pygments_lexer": "ipython3",
   "version": "3.10.9"
  }
 },
 "nbformat": 4,
 "nbformat_minor": 5
}
