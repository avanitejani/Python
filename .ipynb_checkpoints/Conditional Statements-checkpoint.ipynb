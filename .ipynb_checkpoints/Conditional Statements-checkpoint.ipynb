{
 "cells": [
  {
   "cell_type": "code",
   "execution_count": null,
   "id": "b0767b24",
   "metadata": {},
   "outputs": [],
   "source": [
    "# conditional statments\n",
    "simple if\n",
    "if else\n",
    "if elif elif elif.......else ladder if else\n",
    "nested if else"
   ]
  },
  {
   "cell_type": "code",
   "execution_count": null,
   "id": "a23364bb",
   "metadata": {},
   "outputs": [],
   "source": [
    "# simple if\n",
    "if condition:\n",
    "    thrthrththrthrth\n",
    "    rthhrthrthrthrth\n",
    "    rthrthrthrthrthrt\n",
    "    rthrthrthrthrt\n",
    "    rhhrthrthrthrt\n",
    "    hrthrthrhhrth"
   ]
  },
  {
   "cell_type": "code",
   "execution_count": 1,
   "id": "a8c76692",
   "metadata": {},
   "outputs": [
    {
     "name": "stdout",
     "output_type": "stream",
     "text": [
      "Enter Age: 21\n",
      "Adult\n"
     ]
    }
   ],
   "source": [
    "age=int(input(\"Enter Age: \"))\n",
    "if age>18:\n",
    "    print(\"Adult\")"
   ]
  },
  {
   "cell_type": "code",
   "execution_count": null,
   "id": "b9efa416",
   "metadata": {},
   "outputs": [],
   "source": [
    "# if else:\n",
    "if condition:\n",
    "    body\n",
    "else:\n",
    "    body"
   ]
  },
  {
   "cell_type": "code",
   "execution_count": 2,
   "id": "1a0d465e",
   "metadata": {},
   "outputs": [
    {
     "name": "stdout",
     "output_type": "stream",
     "text": [
      "Enter Age: 21\n",
      "Adult\n"
     ]
    }
   ],
   "source": [
    "age=int(input(\"Enter Age: \"))\n",
    "if age>18:\n",
    "    print(\"Adult\")\n",
    "else:\n",
    "    print(\"Young\")"
   ]
  },
  {
   "cell_type": "code",
   "execution_count": null,
   "id": "afb15993",
   "metadata": {},
   "outputs": [],
   "source": [
    "# ladder if else\n",
    "if condition1:\n",
    "    body\n",
    "elif condition2:\n",
    "    body\n",
    "elif condition3:\n",
    "    body\n"
   ]
  },
  {
   "cell_type": "code",
   "execution_count": 3,
   "id": "d7563a36",
   "metadata": {},
   "outputs": [
    {
     "name": "stdout",
     "output_type": "stream",
     "text": [
      "Enter A Number: 52\n",
      "Positive\n"
     ]
    }
   ],
   "source": [
    "num=int(input(\"Enter A Number: \"))\n",
    "if num>0:\n",
    "    print(\"Positive\")\n",
    "elif num<0:\n",
    "    print(\"negative\")\n",
    "else:\n",
    "    print(\"Zero\")"
   ]
  },
  {
   "cell_type": "code",
   "execution_count": 4,
   "id": "9a70a15a",
   "metadata": {},
   "outputs": [
    {
     "name": "stdout",
     "output_type": "stream",
     "text": [
      "ENter A Number: 36\n",
      "ENter A Number: 35\n",
      "ENter A Number: 45\n",
      "45 is greater\n"
     ]
    }
   ],
   "source": [
    "a=int(input(\"ENter A Number: \"))\n",
    "b=int(input(\"ENter A Number: \"))\n",
    "c=int(input(\"ENter A Number: \"))\n",
    "if a>b:\n",
    "    if a>c:\n",
    "        print(f\"{a} is greater\")\n",
    "    else:\n",
    "        print(f\"{c} is greater\")\n",
    "else:\n",
    "    if b>c:\n",
    "        print(f\"{b} is greater\")\n",
    "    else:\n",
    "        print(f\"{c} is greater\")"
   ]
  },
  {
   "cell_type": "code",
   "execution_count": null,
   "id": "e10f5550",
   "metadata": {},
   "outputs": [],
   "source": []
  }
 ],
 "metadata": {
  "kernelspec": {
   "display_name": "Python 3 (ipykernel)",
   "language": "python",
   "name": "python3"
  },
  "language_info": {
   "codemirror_mode": {
    "name": "ipython",
    "version": 3
   },
   "file_extension": ".py",
   "mimetype": "text/x-python",
   "name": "python",
   "nbconvert_exporter": "python",
   "pygments_lexer": "ipython3",
   "version": "3.10.9"
  }
 },
 "nbformat": 4,
 "nbformat_minor": 5
}
