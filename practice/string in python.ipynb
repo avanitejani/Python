{
 "cells": [
  {
   "cell_type": "code",
   "execution_count": null,
   "id": "a57ec4f4",
   "metadata": {},
   "outputs": [],
   "source": [
    "# # string\n",
    "# string is a collection which is defined in\n",
    "# ' '\n",
    "# \" \"\n",
    "# ''' '''\n",
    "# \"\"\" \"\"\"\n",
    "str1=\"Hello I am LEarning python\"\n",
    "print(str1)"
   ]
  },
  {
   "cell_type": "code",
   "execution_count": null,
   "id": "73da7f4a",
   "metadata": {},
   "outputs": [],
   "source": [
    "# string is immutable \n",
    "# immutable means changes not allowed\n"
   ]
  },
  {
   "cell_type": "code",
   "execution_count": null,
   "id": "49538a4e",
   "metadata": {},
   "outputs": [],
   "source": [
    "str1=\"hello\"\n",
    "str1[1]=\"k\"\n",
    "print(str1[1])"
   ]
  },
  {
   "cell_type": "code",
   "execution_count": null,
   "id": "769e772e",
   "metadata": {},
   "outputs": [],
   "source": []
  }
 ],
 "metadata": {
  "kernelspec": {
   "display_name": "Python 3 (ipykernel)",
   "language": "python",
   "name": "python3"
  },
  "language_info": {
   "codemirror_mode": {
    "name": "ipython",
    "version": 3
   },
   "file_extension": ".py",
   "mimetype": "text/x-python",
   "name": "python",
   "nbconvert_exporter": "python",
   "pygments_lexer": "ipython3",
   "version": "3.10.9"
  }
 },
 "nbformat": 4,
 "nbformat_minor": 5
}
