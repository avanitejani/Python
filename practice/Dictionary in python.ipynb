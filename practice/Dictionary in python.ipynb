{
 "cells": [
  {
   "cell_type": "code",
   "execution_count": null,
   "id": "e18a7483",
   "metadata": {},
   "outputs": [],
   "source": [
    "                                                   \n",
    "                                                          #29-04-2023\n"
   ]
  },
  {
   "cell_type": "code",
   "execution_count": null,
   "id": "bb531436",
   "metadata": {},
   "outputs": [],
   "source": [
    "# dictionary is acollection of elemnts having key and value pair\n",
    "# dictionary is unordered datatype\n",
    "# dictionary is difined in curly braces {}\n"
   ]
  },
  {
   "cell_type": "code",
   "execution_count": null,
   "id": "664341ef",
   "metadata": {},
   "outputs": [],
   "source": [
    "# dict1={key : value, key : value, key : value, key : value,........ }"
   ]
  },
  {
   "cell_type": "code",
   "execution_count": 3,
   "id": "e178d348",
   "metadata": {
    "scrolled": true
   },
   "outputs": [
    {
     "name": "stdout",
     "output_type": "stream",
     "text": [
      "92655\n"
     ]
    }
   ],
   "source": [
    "usr={\"name:\" :\"avani\", \"age\":21, \"email\":\"avanitejani@gmail.com\",\"mobile\":92655}\n",
    "print(usr[\"mobile\"])"
   ]
  },
  {
   "cell_type": "code",
   "execution_count": null,
   "id": "8efc86ff",
   "metadata": {},
   "outputs": [],
   "source": [
    "in value all datatypes is allowed\n",
    "in key only immutable datatypes are allowed"
   ]
  },
  {
   "cell_type": "code",
   "execution_count": 1,
   "id": "15e592c0",
   "metadata": {},
   "outputs": [
    {
     "name": "stdout",
     "output_type": "stream",
     "text": [
      "{45: 69, 453.2: 489.36, True: False, 'string': 'hello', 'list': [45, 6, 9], (4, 5): (4, 5), 'set': {8, 9}, 'dict': {4: 59}}\n"
     ]
    }
   ],
   "source": [
    "dict1={45:69,453.2:489.36,True:False,\"string\":\"hello\",\"list\":[45,6,9],(4,5):(4,5),\"set\":{8,9},\"dict\":{4:59}}\n",
    "print(dict1)"
   ]
  },
  {
   "cell_type": "code",
   "execution_count": 4,
   "id": "75f4cdab",
   "metadata": {},
   "outputs": [
    {
     "name": "stdout",
     "output_type": "stream",
     "text": [
      "{1: 'wow', 2: 'hii', 3: 'hyy'}\n"
     ]
    }
   ],
   "source": [
    "dict1={1:\"hello\",2:\"hii\",3:\"hyy\",1:\"wow\"}\n",
    "print(dict1)"
   ]
  },
  {
   "cell_type": "code",
   "execution_count": null,
   "id": "1732fe7e",
   "metadata": {},
   "outputs": [],
   "source": [
    "dict1={1:\"HEYy\",2:\"wow\",True:\"great\",0:\"some\",False:\"Change\"}\n",
    "print(dict1)"
   ]
  },
  {
   "cell_type": "code",
   "execution_count": null,
   "id": "5e680fff",
   "metadata": {},
   "outputs": [],
   "source": [
    "['clear',\n",
    " 'copy',\n",
    " 'fromkeys',\n",
    " 'get',\n",
    " 'items',\n",
    " 'keys',\n",
    " 'pop',\n",
    " 'popitem',\n",
    " 'setdefault',\n",
    " 'update',\n",
    " 'values']"
   ]
  },
  {
   "cell_type": "code",
   "execution_count": 2,
   "id": "993f2d24",
   "metadata": {},
   "outputs": [
    {
     "data": {
      "text/plain": [
       "dict_keys([1, 29, 43, 58])"
      ]
     },
     "execution_count": 2,
     "metadata": {},
     "output_type": "execute_result"
    }
   ],
   "source": [
    "# dictionary methods\n",
    "\n",
    "# keys()---gives all key in a list\n",
    "dict1={1:45,29:89,43:48,58:963}\n",
    "dict1.keys()"
   ]
  },
  {
   "cell_type": "code",
   "execution_count": 3,
   "id": "1dab1f3f",
   "metadata": {},
   "outputs": [
    {
     "data": {
      "text/plain": [
       "dict_values([45, 89, 48, 963])"
      ]
     },
     "execution_count": 3,
     "metadata": {},
     "output_type": "execute_result"
    }
   ],
   "source": [
    "# values()---gives list of all values\n",
    "dict1={1:45,29:89,43:48,58:963}\n",
    "dict1.values()"
   ]
  },
  {
   "cell_type": "code",
   "execution_count": 4,
   "id": "a5fe71eb",
   "metadata": {},
   "outputs": [
    {
     "data": {
      "text/plain": [
       "dict_items([(1, 45), (29, 89), (43, 48), (58, 963)])"
      ]
     },
     "execution_count": 4,
     "metadata": {},
     "output_type": "execute_result"
    }
   ],
   "source": [
    "# items()--gives list of tuples and one tuple have 2 elements one is key and other is value\n",
    "dict1={1:45,29:89,43:48,58:963}\n",
    "dict1.items()"
   ]
  },
  {
   "cell_type": "code",
   "execution_count": 5,
   "id": "c7f780ff",
   "metadata": {},
   "outputs": [
    {
     "name": "stdout",
     "output_type": "stream",
     "text": [
      "{1: 45, 43: 48, 58: 963}\n"
     ]
    }
   ],
   "source": [
    "# pop()--removes element from given key\n",
    "dict1={1:45,29:89,43:48,58:963}\n",
    "dict1.pop(29)\n",
    "# dict1.pop(458) --gives key error\n",
    "print(dict1)"
   ]
  },
  {
   "cell_type": "code",
   "execution_count": 6,
   "id": "f0aaa6e7",
   "metadata": {},
   "outputs": [
    {
     "name": "stdout",
     "output_type": "stream",
     "text": [
      "{1: 45, 29: 89, 43: 48}\n"
     ]
    }
   ],
   "source": [
    "# popitem()--removes element of last inserted\n",
    "dict1={1:45,29:89,43:48,58:963}\n",
    "dict1.popitem()\n",
    "print(dict1)"
   ]
  },
  {
   "cell_type": "code",
   "execution_count": 7,
   "id": "40f62485",
   "metadata": {},
   "outputs": [
    {
     "name": "stdout",
     "output_type": "stream",
     "text": [
      "ELEMENT NOT NAHI MILA\n",
      "{1: 45, 29: 89, 43: 48, 58: 963}\n"
     ]
    }
   ],
   "source": [
    "dict1={1:45,29:89,43:48,58:963}\n",
    "# print(dict1[458])\n",
    "print(dict1.get(458,\"ELEMENT NOT NAHI MILA\"))\n",
    "print(dict1)"
   ]
  },
  {
   "cell_type": "code",
   "execution_count": 8,
   "id": "3ed5a03f",
   "metadata": {},
   "outputs": [
    {
     "name": "stdout",
     "output_type": "stream",
     "text": [
      "58\n",
      "{1: 45, 29: 89, 43: 48, 58: 963, 458: 58}\n"
     ]
    }
   ],
   "source": [
    "dict1={1:45,29:89,43:48,58:963}\n",
    "# print(dict1[458])\n",
    "print(dict1.setdefault(458,58))\n",
    "print(dict1)"
   ]
  },
  {
   "cell_type": "code",
   "execution_count": 9,
   "id": "0f2b40d6",
   "metadata": {},
   "outputs": [
    {
     "name": "stdout",
     "output_type": "stream",
     "text": [
      "{'w': 'hello', 'e': 'hello', 'q': 'hello', 'f': 'hello', 'r': 'hello', 'b': 'hello', ' ': 'hello', 'k': 'hello', 'j': 'hello', 'h': 'hello'}\n"
     ]
    }
   ],
   "source": [
    "list1=\"weqferb kjhbfker\"\n",
    "value=\"hello\"\n",
    "dict1=dict.fromkeys(list1,value) #converts iterable and values into dictionary\n",
    "print(dict1)"
   ]
  },
  {
   "cell_type": "code",
   "execution_count": 10,
   "id": "85421b96",
   "metadata": {
    "scrolled": true
   },
   "outputs": [
    {
     "name": "stdout",
     "output_type": "stream",
     "text": [
      "{45: 56, 25: 89, 145: 'Hello', 254: 'Wolrd'}\n"
     ]
    }
   ],
   "source": [
    "dict1={45:56,25:89}\n",
    "dict1.update({145:\"Hello\",254:\"Wolrd\"})\n",
    "print(dict1)"
   ]
  },
  {
   "cell_type": "code",
   "execution_count": null,
   "id": "cb9075e3",
   "metadata": {},
   "outputs": [],
   "source": [
    "N = int(input())\n",
    "    l = []\n",
    "    for i in range(N):\n",
    "        s = list(input().split())\n",
    "        if s[0]=='insert':\n",
    "            l.insert(int(s[1]),int(s[2]))\n",
    "        if s[0]=='remove':\n",
    "            l.remove(int(s[1]))\n",
    "        if s[0]=='append':\n",
    "            l.append(int(s[1]))\n",
    "        if s[0]=='sort':\n",
    "            l.sort()\n",
    "        if s[0]=='pop':\n",
    "            l.pop()\n",
    "        if s[0]=='reverse':\n",
    "            l.reverse()     \n",
    "        if s[0]=='print':\n",
    "            print(l)"
   ]
  },
  {
   "cell_type": "code",
   "execution_count": null,
   "id": "f966e890",
   "metadata": {},
   "outputs": [],
   "source": []
  },
  {
   "cell_type": "code",
   "execution_count": 1,
   "id": "35411d65",
   "metadata": {},
   "outputs": [
    {
     "name": "stdout",
     "output_type": "stream",
     "text": [
      "{'Name': ['Ram', 'Pooja', 'Sara'], 'Age': [21, 23, 22], 'Gender': ['Male', 'Female', 'Female']}\n"
     ]
    }
   ],
   "source": [
    "l = [(\"Name\", \"Ram\"), (\"Name\", \"Pooja\"), (\"Name\", \"Sara\"), (\"Age\", 21), (\"Gender\", \"Male\"), (\"Age\", 23), (\"Gender\", \"Female\"), (\"Gender\", \"Female\") , (\"Age\", 22)]\n",
    "dic = {}\n",
    "for x, y in l:\n",
    "    dic.setdefault(x, []).append(y)\n",
    "print (dic)"
   ]
  },
  {
   "cell_type": "code",
   "execution_count": null,
   "id": "0b54780c",
   "metadata": {},
   "outputs": [],
   "source": []
  },
  {
   "cell_type": "code",
   "execution_count": null,
   "id": "7eb31e00",
   "metadata": {},
   "outputs": [],
   "source": []
  },
  {
   "cell_type": "code",
   "execution_count": null,
   "id": "6408aca9",
   "metadata": {},
   "outputs": [],
   "source": [
    "num=int(input(\"how many element enterd in list :\"))\n",
    "\n",
    "list1=[]\n",
    "for i in range(num):\n",
    "    value=int(input(\"Enter Value: \"))\n",
    "    list1.append(value)  #-------- use append method to creat list for user\n",
    "print(list1)\n",
    "\n",
    "print(list1.remove(38))"
   ]
  },
  {
   "cell_type": "code",
   "execution_count": null,
   "id": "bde95a16",
   "metadata": {},
   "outputs": [],
   "source": [
    "num=int(input(\"how many element enterd in list :\"))\n",
    "\n",
    "dict0 = {}\n",
    "\n",
    "for i in range(num):\n",
    "    name = input(\"Enter employee's name: \")\n",
    "    salary = input(\"Enter employee's salary: \")\n",
    "\n",
    "    dict0[name] = salary\n",
    "#  {'Alice': '100', 'Bob': '100', 'Carl': '100'}\n",
    "print(dict0)"
   ]
  },
  {
   "cell_type": "code",
   "execution_count": 25,
   "id": "b68657fa",
   "metadata": {},
   "outputs": [
    {
     "name": "stdout",
     "output_type": "stream",
     "text": [
      "how many element enterd in list :3\n",
      "Enter  keys: a\n",
      "Enter values: a\n",
      "Enter  keys: b\n",
      "Enter values: b\n",
      "Enter  keys: c\n",
      "Enter values: c\n",
      "{'a': 'a', 'b': 'b', 'c': 'c'}\n",
      "Enter A One key :a\n",
      "----> True , ([a]) key already exists in a dictionary\n"
     ]
    }
   ],
   "source": [
    "# Q 34.  Write a Python script to check if a given key already exists in a dictionary. \n",
    "\n",
    "num=int(input(\"how many element enterd in list :\"))\n",
    "dict1 = {}\n",
    "for i in range(num):\n",
    "    name = input(\"Enter  keys: \")\n",
    "    salary = input(\"Enter values: \")\n",
    "\n",
    "    dict1[name] = salary\n",
    "print(dict1)\n",
    "\n",
    "key=input(\"Enter A One key :\")\n",
    "dict1.keys()\n",
    "if key in dict1.keys():  #To check whether any key given by user is in dict1 or not\n",
    "    print(f\"----> True , ([{key}]) key already exists in a dictionary\")\n",
    "else:\n",
    "    print(f\"----> False , ([{key}]) Sorry! We haven't found a key  \")"
   ]
  },
  {
   "cell_type": "code",
   "execution_count": null,
   "id": "d6b631ff",
   "metadata": {},
   "outputs": [],
   "source": [
    "num=int(input(\"how many element enterd in list :\"))\n",
    "dict1 = {}\n",
    "for i in range(num):\n",
    "    name = input(\"Enter  keys: \")\n",
    "    salary = input(\"Enter values: \")\n",
    "\n",
    "    dict1[name] = salary\n",
    "print(dict1)"
   ]
  },
  {
   "cell_type": "code",
   "execution_count": null,
   "id": "55dea41a",
   "metadata": {},
   "outputs": [],
   "source": []
  },
  {
   "cell_type": "code",
   "execution_count": 11,
   "id": "48dc719c",
   "metadata": {},
   "outputs": [
    {
     "name": "stdout",
     "output_type": "stream",
     "text": [
      "how many element enterd in list :a\n"
     ]
    },
    {
     "ename": "ValueError",
     "evalue": "invalid literal for int() with base 10: 'a'",
     "output_type": "error",
     "traceback": [
      "\u001b[1;31m---------------------------------------------------------------------------\u001b[0m",
      "\u001b[1;31mValueError\u001b[0m                                Traceback (most recent call last)",
      "Cell \u001b[1;32mIn[11], line 2\u001b[0m\n\u001b[0;32m      1\u001b[0m \u001b[38;5;66;03m# initializing list \u001b[39;00m\n\u001b[1;32m----> 2\u001b[0m num\u001b[38;5;241m=\u001b[39m\u001b[38;5;28;43mint\u001b[39;49m\u001b[43m(\u001b[49m\u001b[38;5;28;43minput\u001b[39;49m\u001b[43m(\u001b[49m\u001b[38;5;124;43m\"\u001b[39;49m\u001b[38;5;124;43mhow many element enterd in list :\u001b[39;49m\u001b[38;5;124;43m\"\u001b[39;49m\u001b[43m)\u001b[49m\u001b[43m)\u001b[49m\n\u001b[0;32m      4\u001b[0m dict1 \u001b[38;5;241m=\u001b[39m {}\n\u001b[0;32m      5\u001b[0m \u001b[38;5;28;01mfor\u001b[39;00m i \u001b[38;5;129;01min\u001b[39;00m \u001b[38;5;28mrange\u001b[39m(num):\n",
      "\u001b[1;31mValueError\u001b[0m: invalid literal for int() with base 10: 'a'"
     ]
    }
   ],
   "source": [
    "# initializing list \n",
    "num=int(input(\"how many element enterd in list :\"))\n",
    "\n",
    "dict1 = {}\n",
    "for i in range(num):\n",
    "    name = input(\"Enter  keys: \")\n",
    "    salary = input(\"Enter values: \")\n",
    "\n",
    "    dict1[name] = salary\n",
    "print(dict1)\n",
    "\n",
    "\n",
    "dict2 = {}\n",
    "for i in range(num):\n",
    "    name = input(\"Enter  keys: \")\n",
    "    salary = input(\"Enter values: \")\n",
    "\n",
    "    dict2[name] = salary\n",
    "print(dict2)\n",
    "\n",
    "# printing list after removal \n",
    "print (f\"Unique elements of the list : {dict2} \") \n",
    "\n",
    "\n",
    "\n",
    "# *** Write a Python program to returns sum of all divisors of a number \n",
    "# ***. Write a Python program to find the maximum and minimum numbers \n",
    "#     from the specified decimal numbers. \n",
    "\n"
   ]
  },
  {
   "cell_type": "code",
   "execution_count": 24,
   "id": "3a41fe74",
   "metadata": {},
   "outputs": [
    {
     "name": "stdout",
     "output_type": "stream",
     "text": [
      "enter number :10\n",
      "Number %s is in the range 10\n"
     ]
    }
   ],
   "source": [
    "# def test_range(n):\n",
    "n=int(input(\"enter number :\"))\n",
    "if n in range(10,20):\n",
    "    print( f\"Number %s is in the range {n}\")\n",
    "else :\n",
    "    print(\"The number is outside the given range.\")\n"
   ]
  },
  {
   "cell_type": "code",
   "execution_count": null,
   "id": "f6afa7bc",
   "metadata": {},
   "outputs": [],
   "source": []
  },
  {
   "cell_type": "code",
   "execution_count": 1,
   "id": "6bb46761",
   "metadata": {},
   "outputs": [
    {
     "ename": "SyntaxError",
     "evalue": "invalid syntax (740372528.py, line 4)",
     "output_type": "error",
     "traceback": [
      "\u001b[1;36m  Cell \u001b[1;32mIn[1], line 4\u001b[1;36m\u001b[0m\n\u001b[1;33m    append 8\u001b[0m\n\u001b[1;37m           ^\u001b[0m\n\u001b[1;31mSyntaxError\u001b[0m\u001b[1;31m:\u001b[0m invalid syntax\n"
     ]
    }
   ],
   "source": [
    "                   #  practice\n",
    "\n",
    "N=4\n",
    "append 8\n",
    "insert 2 58\n",
    "pop\n",
    "print"
   ]
  },
  {
   "cell_type": "code",
   "execution_count": 2,
   "id": "11394fce",
   "metadata": {},
   "outputs": [
    {
     "ename": "NameError",
     "evalue": "name 'N' is not defined",
     "output_type": "error",
     "traceback": [
      "\u001b[1;31m---------------------------------------------------------------------------\u001b[0m",
      "\u001b[1;31mNameError\u001b[0m                                 Traceback (most recent call last)",
      "Cell \u001b[1;32mIn[2], line 1\u001b[0m\n\u001b[1;32m----> 1\u001b[0m \u001b[38;5;28;01mfor\u001b[39;00m i \u001b[38;5;129;01min\u001b[39;00m \u001b[38;5;28mrange\u001b[39m(\u001b[43mN\u001b[49m):\n\u001b[0;32m      2\u001b[0m     task\u001b[38;5;241m=\u001b[39m\u001b[38;5;28minput\u001b[39m()\n\u001b[0;32m      3\u001b[0m     words\u001b[38;5;241m=\u001b[39mtask\u001b[38;5;241m.\u001b[39msplit(\u001b[38;5;124m\"\u001b[39m\u001b[38;5;124m \u001b[39m\u001b[38;5;124m\"\u001b[39m)\n",
      "\u001b[1;31mNameError\u001b[0m: name 'N' is not defined"
     ]
    }
   ],
   "source": [
    "for i in range(N):\n",
    "    task=input()\n",
    "    words=task.split(\" \")\n",
    "    if words[0]==\"append\":\n",
    "        list1.append(int(words[1]))\n",
    "    elif words[0]==\"print\":\n",
    "        print(list1)\n",
    "    elif words[0]==\"remove\":\n",
    "        list1.remove(int(words[1]))\n",
    "    elif words[0]==\"insert\":\n",
    "        list1.insert(int(words[1]),int(words[2]))\n",
    "    elif words[0]==\"sort\":\n",
    "        list1.sort()\n",
    "    elif words[0]==\"pop\":\n",
    "        list1.pop()\n",
    "    elif words[0]==\"reverse\":\n",
    "        list1.reverse()"
   ]
  },
  {
   "cell_type": "code",
   "execution_count": 3,
   "id": "b301501a",
   "metadata": {},
   "outputs": [
    {
     "name": "stdout",
     "output_type": "stream",
     "text": [
      "5\n"
     ]
    }
   ],
   "source": [
    "list1=[2,3,6,6,5]\n",
    "list1=set(list1)\n",
    "list1=list(list1)\n",
    "list1.sort()\n",
    "print(list1[-2])"
   ]
  },
  {
   "cell_type": "code",
   "execution_count": 4,
   "id": "a0eea420",
   "metadata": {},
   "outputs": [
    {
     "name": "stdout",
     "output_type": "stream",
     "text": [
      "7 27\n",
      "------------.|.------------\n",
      "-----------.|..|.----------\n",
      "---------.|..|..|.---------\n",
      "--------.|..|..|..|.-------\n",
      "------.|..|..|..|..|.------\n",
      "-----.|..|..|..|..|..|.----\n",
      "---.|..|..|..|..|..|..|.---\n"
     ]
    }
   ],
   "source": [
    "n=input()\n",
    "nums=n.split(\" \")\n",
    "for i in range(1,int(nums[0])+1):\n",
    "    if i==(i//2):\n",
    "        print(\"welcome\".center(nums[1],\"-\"))\n",
    "    elif i>(i//2):\n",
    "        str1=\".|.\"*(i)\n",
    "        print(str1.center(int(nums[1]),\"-\"))"
   ]
  },
  {
   "cell_type": "code",
   "execution_count": 5,
   "id": "d1f49ff2",
   "metadata": {},
   "outputs": [
    {
     "name": "stdout",
     "output_type": "stream",
     "text": [
      "Enter Number: 15\n",
      "---------------------.|.---------------------\n",
      "------------------.|..|..|.------------------\n",
      "---------------.|..|..|..|..|.---------------\n",
      "------------.|..|..|..|..|..|..|.------------\n",
      "---------.|..|..|..|..|..|..|..|..|.---------\n",
      "------.|..|..|..|..|..|..|..|..|..|..|.------\n",
      "---.|..|..|..|..|..|..|..|..|..|..|..|..|.---\n",
      "-------------------WELCOME-------------------\n",
      "------------.|..|..|..|..|..|..|.------------\n",
      "--------------.|..|..|..|..|..|.-------------\n",
      "---------------.|..|..|..|..|.---------------\n",
      "-----------------.|..|..|..|.----------------\n",
      "------------------.|..|..|.------------------\n",
      "--------------------.|..|.-------------------\n",
      "---------------------.|.---------------------\n"
     ]
    }
   ],
   "source": [
    "num=int(input(\"Enter Number: \"))\n",
    "for i in range(1,num+1):\n",
    "    if i<=(num//2):\n",
    "        str1=\".|.\"*((i*2)-1)\n",
    "        print(str1.center(num*3,\"-\"))\n",
    "    elif i==((num//2)+1):\n",
    "        str1=\"WELCOME\"\n",
    "        print(str1.center(num*3,\"-\"))\n",
    "    elif i>=((num//2)+2):\n",
    "        str1=\".|.\"*(num-(i-1))\n",
    "        print(str1.center(num*3,\"-\"))\n",
    "    \n",
    "#     9 9//2 4\n"
   ]
  },
  {
   "cell_type": "code",
   "execution_count": null,
   "id": "1c56d608",
   "metadata": {},
   "outputs": [],
   "source": []
  },
  {
   "cell_type": "code",
   "execution_count": null,
   "id": "04df338e",
   "metadata": {},
   "outputs": [],
   "source": []
  },
  {
   "cell_type": "code",
   "execution_count": null,
   "id": "228f0e01",
   "metadata": {},
   "outputs": [],
   "source": [
    "#  42. Write a Python program to print all unique values in a dictionary.\n",
    "# initializing list \n",
    "num=int(input(\"how many element enterd in list :\"))\n",
    "dict1 = {}\n",
    "for i in range(num):\n",
    "    name = input(\"Enter  keys: \")\n",
    "    salary = input(\"Enter values: \")\n",
    "\n",
    "    dict1[name] = salary\n",
    "print(dict1)   #------------------ use append method to creat list for user\n",
    "\n",
    "\n",
    "# remove duplicated from list \n",
    "list2 = []  # ------------------------------- create empty list2\n",
    "for i in list1: \n",
    "    if i not in list2: \n",
    "        list2.append(i)   #------------------ use append method to get unique values from a list\n",
    "\n",
    "# printing list after removal \n",
    "print (f\"Unique elements of the list : {list2} \") "
   ]
  }
 ],
 "metadata": {
  "kernelspec": {
   "display_name": "Python 3 (ipykernel)",
   "language": "python",
   "name": "python3"
  },
  "language_info": {
   "codemirror_mode": {
    "name": "ipython",
    "version": 3
   },
   "file_extension": ".py",
   "mimetype": "text/x-python",
   "name": "python",
   "nbconvert_exporter": "python",
   "pygments_lexer": "ipython3",
   "version": "3.10.9"
  }
 },
 "nbformat": 4,
 "nbformat_minor": 5
}
