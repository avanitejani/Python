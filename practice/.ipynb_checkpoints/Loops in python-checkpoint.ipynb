{
 "cells": [
  {
   "cell_type": "code",
   "execution_count": 1,
   "id": "e0ac223d",
   "metadata": {},
   "outputs": [
    {
     "name": "stdout",
     "output_type": "stream",
     "text": [
      "yes0\n",
      "yes1\n",
      "yes2\n",
      "yes3\n",
      "yes4\n",
      "yes5\n",
      "yes6\n",
      "yes7\n",
      "yes8\n",
      "yes9\n"
     ]
    }
   ],
   "source": [
    "# while loop\n",
    "i=0\n",
    "while i<10:\n",
    "    print(\"yes\" + str(i))\n",
    "    i=i+1\n",
    "    "
   ]
  },
  {
   "cell_type": "code",
   "execution_count": 3,
   "id": "6f1cbb43",
   "metadata": {},
   "outputs": [
    {
     "name": "stdout",
     "output_type": "stream",
     "text": [
      "1\n",
      "2\n",
      "3\n",
      "4\n",
      "5\n",
      "6\n",
      "7\n",
      "8\n",
      "9\n",
      "10\n",
      "11\n",
      "12\n",
      "13\n",
      "14\n",
      "15\n",
      "16\n",
      "17\n",
      "18\n",
      "19\n",
      "20\n",
      "21\n",
      "22\n",
      "23\n",
      "24\n",
      "25\n",
      "26\n",
      "27\n",
      "28\n",
      "29\n",
      "30\n",
      "31\n",
      "32\n",
      "33\n",
      "34\n",
      "35\n",
      "36\n",
      "37\n",
      "38\n",
      "39\n",
      "40\n",
      "41\n",
      "42\n",
      "43\n",
      "44\n",
      "45\n",
      "46\n",
      "47\n",
      "48\n",
      "49\n",
      "50\n"
     ]
    }
   ],
   "source": [
    "i=1\n",
    "while i<=50:\n",
    "    print (i)\n",
    "    i=i+1"
   ]
  },
  {
   "cell_type": "code",
   "execution_count": 13,
   "id": "d9205d58",
   "metadata": {},
   "outputs": [
    {
     "name": "stdout",
     "output_type": "stream",
     "text": [
      "Avani\n",
      "Avani\n",
      "Avani\n",
      "Avani\n",
      "Avani\n"
     ]
    }
   ],
   "source": [
    "i=0\n",
    "while i<5:\n",
    "    print(\"Avani\")\n",
    "    i=i+1"
   ]
  },
  {
   "cell_type": "code",
   "execution_count": 14,
   "id": "4733b83d",
   "metadata": {},
   "outputs": [
    {
     "name": "stdout",
     "output_type": "stream",
     "text": [
      "Grapes\n",
      "Watermelon\n",
      "Apple\n",
      "Mangoes\n",
      "Orenge\n"
     ]
    }
   ],
   "source": [
    "fruits=['Grapes','Watermelon','Apple','Mangoes','Orenge']\n",
    "i=0\n",
    "while i<len(fruits):\n",
    "    print(fruits[i])\n",
    "    i=i+1"
   ]
  },
  {
   "cell_type": "code",
   "execution_count": 15,
   "id": "3a68da30",
   "metadata": {},
   "outputs": [
    {
     "name": "stdout",
     "output_type": "stream",
     "text": [
      "Grapes\n",
      "Watermelon\n",
      "Apple\n",
      "Mangoes\n",
      "Orenge\n"
     ]
    }
   ],
   "source": [
    "fruits=['Grapes','Watermelon','Apple','Mangoes','Orenge']\n",
    "for item in fruits:\n",
    "    print(item)"
   ]
  },
  {
   "cell_type": "code",
   "execution_count": 19,
   "id": "4ed7835d",
   "metadata": {},
   "outputs": [
    {
     "name": "stdout",
     "output_type": "stream",
     "text": [
      "2\n",
      "3\n",
      "4\n",
      "5\n",
      "6\n",
      "7\n"
     ]
    }
   ],
   "source": [
    "for i in range(2,8):\n",
    "    print(i)\n",
    "\n",
    "# for i in range(1,8,2):\n",
    "#     print(i)"
   ]
  },
  {
   "cell_type": "code",
   "execution_count": 22,
   "id": "4bd0347f",
   "metadata": {},
   "outputs": [
    {
     "name": "stdout",
     "output_type": "stream",
     "text": [
      "0\n",
      "1\n",
      "2\n",
      "3\n",
      "4\n",
      "5\n",
      "6\n",
      "7\n",
      "8\n",
      "9\n",
      "this is insid else of for\n"
     ]
    }
   ],
   "source": [
    "for i in range(10):\n",
    "    print(i)\n",
    "else:\n",
    "    print(\"this is insid else of for\")"
   ]
  },
  {
   "cell_type": "code",
   "execution_count": 29,
   "id": "7e89ea26",
   "metadata": {},
   "outputs": [
    {
     "name": "stdout",
     "output_type": "stream",
     "text": [
      "0\n",
      "1\n",
      "2\n",
      "3\n",
      "4\n",
      "5\n"
     ]
    }
   ],
   "source": [
    "for i in range(10):\n",
    "    print(i)\n",
    "    if i == 5:\n",
    "        break\n",
    "    "
   ]
  },
  {
   "cell_type": "code",
   "execution_count": 44,
   "id": "4b1693c2",
   "metadata": {
    "scrolled": true
   },
   "outputs": [
    {
     "name": "stdout",
     "output_type": "stream",
     "text": [
      "0\n",
      "1\n",
      "2\n",
      "3\n",
      "4\n",
      "6\n",
      "7\n",
      "8\n",
      "9\n"
     ]
    }
   ],
   "source": [
    "for i in range(10):\n",
    "    if i == 5:\n",
    "        continue\n",
    "    print(i)"
   ]
  },
  {
   "cell_type": "code",
   "execution_count": 46,
   "id": "be803f9a",
   "metadata": {},
   "outputs": [
    {
     "name": "stdout",
     "output_type": "stream",
     "text": [
      "good morning\n"
     ]
    }
   ],
   "source": [
    "i=4\n",
    "def run (player):\n",
    "    pass\n",
    "def ouch (player):\n",
    "    pass\n",
    "\n",
    "if i>0:\n",
    "    pass\n",
    "    \n",
    "while i>6:\n",
    "    pass\n",
    "\n",
    "print(\"good morning\")"
   ]
  },
  {
   "cell_type": "code",
   "execution_count": 53,
   "id": "7905ccff",
   "metadata": {},
   "outputs": [
    {
     "name": "stdout",
     "output_type": "stream",
     "text": [
      "enter the number6\n",
      "6*1=6\n",
      "6*2=12\n",
      "6*3=18\n",
      "6*4=24\n",
      "6*5=30\n",
      "6*6=36\n",
      "6*7=42\n",
      "6*8=48\n",
      "6*9=54\n",
      "6*10=60\n"
     ]
    }
   ],
   "source": [
    "num =int(input(\"enter the number\"))\n",
    "for i in range(1,11):\n",
    "    #print(str(num)+\"*\"+str(i)+\" =\"+str(i*num))\n",
    "    print(f\"{num}*{i}={num*i}\")\n",
    "    "
   ]
  },
  {
   "cell_type": "code",
   "execution_count": 1,
   "id": "0af6e070",
   "metadata": {},
   "outputs": [
    {
     "name": "stdout",
     "output_type": "stream",
     "text": [
      "hello six\n",
      "hello seven\n"
     ]
    }
   ],
   "source": [
    "l1=[\"one\",\"two\",\"thre\",\"four\",\"five\",\"six\",\"seven\"]\n",
    "\n",
    "for day in l1:\n",
    "    \n",
    "    if day.startswith(\"s\"):\n",
    "        print(\"hello \"+day)"
   ]
  },
  {
   "cell_type": "code",
   "execution_count": 3,
   "id": "00a62a1d",
   "metadata": {},
   "outputs": [
    {
     "name": "stdout",
     "output_type": "stream",
     "text": [
      "enter the number:8\n",
      "This number is not Prime\n"
     ]
    }
   ],
   "source": [
    "# \n",
    "num = int(input(\"enter the number:\"))\n",
    "prime = True\n",
    "for i in range(2,num):\n",
    "    if(num%i == 0):\n",
    "        prime = False\n",
    "        break\n",
    "        \n",
    "if prime:\n",
    "    print(\"This number is Prime\")  \n",
    "else:\n",
    "    print(\"This number is not Prime\")    \n",
    "        "
   ]
  },
  {
   "cell_type": "code",
   "execution_count": 7,
   "id": "e850d31e",
   "metadata": {},
   "outputs": [
    {
     "name": "stdout",
     "output_type": "stream",
     "text": [
      "Enter The Number:10\n",
      "The Factorial Of 10 Number Is 1\n",
      "The Factorial Of 10 Number Is 2\n",
      "The Factorial Of 10 Number Is 6\n",
      "The Factorial Of 10 Number Is 24\n",
      "The Factorial Of 10 Number Is 120\n",
      "The Factorial Of 10 Number Is 720\n",
      "The Factorial Of 10 Number Is 5040\n",
      "The Factorial Of 10 Number Is 40320\n",
      "The Factorial Of 10 Number Is 362880\n",
      "The Factorial Of 10 Number Is 3628800\n"
     ]
    }
   ],
   "source": [
    "#factorial assingment qution\n",
    "#n! = 1*2*3*.....*n\n",
    "#5! = 1+2+3+4+5\n",
    "\n",
    "num = int (input(\"Enter The Number:\"))\n",
    "factorial=1\n",
    "for i in range(1,num+1):\n",
    "    factorial = factorial * i\n",
    "    print (f\"The Factorial Of {num} Number Is {factorial}\")"
   ]
  },
  {
   "cell_type": "code",
   "execution_count": 14,
   "id": "6bad71a0",
   "metadata": {},
   "outputs": [
    {
     "name": "stdout",
     "output_type": "stream",
     "text": [
      " * \n",
      " *  * \n",
      " *  *  * \n",
      " *  *  *  * \n"
     ]
    }
   ],
   "source": [
    "n = 4\n",
    "for i in range(4):\n",
    "    print(\"* \" *(i+1))\n",
    "          "
   ]
  },
  {
   "cell_type": "code",
   "execution_count": 15,
   "id": "7bfdd477",
   "metadata": {},
   "outputs": [
    {
     "name": "stdout",
     "output_type": "stream",
     "text": [
      "   *   \n",
      "  ***  \n",
      " ***** \n"
     ]
    }
   ],
   "source": [
    "n = 4\n",
    "for i in range(3):\n",
    "    #for j in range(n-i-1)\n",
    "        print(\" \" * (n-i-1),end=\"\")\n",
    "        print(\"*\" * (2*i+1),end=\"\")\n",
    "        print(\" \" * (n-i-1))\n",
    "        \n",
    "    \n"
   ]
  },
  {
   "cell_type": "code",
   "execution_count": null,
   "id": "f88cf480",
   "metadata": {},
   "outputs": [],
   "source": []
  },
  {
   "cell_type": "code",
   "execution_count": null,
   "id": "4bd856f9",
   "metadata": {},
   "outputs": [],
   "source": [
    "                                     # date of lecture: 04-04=20223\n",
    "#loops in python\n",
    "#for loop collections\n",
    "    range()\n",
    "    string\n",
    "    list\n",
    "    tuple\n",
    "    set\n",
    "#loop\n",
    "\n",
    "#range ([start],stop,[step])\n",
    "#by defalut start from 0\n",
    "## by deafult step is 1\n"
   ]
  },
  {
   "cell_type": "code",
   "execution_count": 2,
   "id": "d330300a",
   "metadata": {},
   "outputs": [
    {
     "name": "stdout",
     "output_type": "stream",
     "text": [
      "enter a number5\n",
      "5*1=5\n",
      "5*2=10\n",
      "5*3=15\n",
      "5*4=20\n",
      "5*5=25\n",
      "5*6=30\n",
      "5*7=35\n",
      "5*8=40\n",
      "5*9=45\n",
      "5*10=50\n"
     ]
    }
   ],
   "source": [
    "num=int(input(\"enter a number\"))\n",
    "for i in range(1,11):\n",
    "     print(f\"{num}*{i}={num*i}\")"
   ]
  },
  {
   "cell_type": "code",
   "execution_count": 8,
   "id": "fde6dfc5",
   "metadata": {},
   "outputs": [
    {
     "name": "stdout",
     "output_type": "stream",
     "text": [
      "2\n",
      "4\n",
      "6\n",
      "8\n",
      "10\n",
      "12\n",
      "14\n",
      "16\n",
      "18\n",
      "20\n",
      "22\n",
      "24\n"
     ]
    }
   ],
   "source": [
    "#direct even number\n",
    "for i in  range(2, 26,2):\n",
    "    print(i)\n",
    "    "
   ]
  },
  {
   "cell_type": "code",
   "execution_count": 1,
   "id": "f53913c4",
   "metadata": {
    "scrolled": true
   },
   "outputs": [
    {
     "name": "stdout",
     "output_type": "stream",
     "text": [
      "enter number:10\n",
      "1\n",
      "2\n",
      "6\n",
      "24\n",
      "120\n",
      "720\n",
      "5040\n",
      "40320\n",
      "362880\n",
      "3628800\n"
     ]
    }
   ],
   "source": [
    "num=int(input(\"enter number:\"))\n",
    "fact=1\n",
    "for i in range (1,num+1):\n",
    "    fact=fact*i\n",
    "    print(fact)"
   ]
  },
  {
   "cell_type": "code",
   "execution_count": null,
   "id": "07b43bbb",
   "metadata": {},
   "outputs": [],
   "source": [
    "# while loop\n",
    "while condition:\n",
    "    body of the loop"
   ]
  },
  {
   "cell_type": "code",
   "execution_count": 32,
   "id": "a6b563dc",
   "metadata": {},
   "outputs": [
    {
     "name": "stdout",
     "output_type": "stream",
     "text": [
      "enter number:5\n",
      "0\n",
      "1\n",
      "3\n",
      "6\n",
      "10\n",
      "15\n"
     ]
    }
   ],
   "source": [
    "num=int(input(\"enter number:\"))\n",
    "sum=0\n",
    "for i in range (0,num+1):\n",
    "    sum=sum+i\n",
    "    print(sum)"
   ]
  },
  {
   "cell_type": "code",
   "execution_count": null,
   "id": "5cd5bedc",
   "metadata": {},
   "outputs": [],
   "source": [
    "# control statment\n",
    "# break  ----it terminates the loop permannetly\n",
    "# continue\n",
    "# pass"
   ]
  },
  {
   "cell_type": "code",
   "execution_count": null,
   "id": "be80954f",
   "metadata": {},
   "outputs": [],
   "source": [
    "for i in range(1,20):\n",
    "    if i==7:\n",
    "        break \n",
    "    print(i)"
   ]
  },
  {
   "cell_type": "code",
   "execution_count": null,
   "id": "dcb1e168",
   "metadata": {},
   "outputs": [],
   "source": [
    "for i in range(1,20):\n",
    "    if i==7:\n",
    "        continue \n",
    "    print(i)"
   ]
  },
  {
   "cell_type": "code",
   "execution_count": null,
   "id": "af9789fa",
   "metadata": {},
   "outputs": [],
   "source": [
    "i=10\n",
    "if i<5:\n",
    "    pass\n",
    "else:\n",
    "    print(\"hello\")"
   ]
  },
  {
   "cell_type": "code",
   "execution_count": null,
   "id": "7b06bcb5",
   "metadata": {},
   "outputs": [],
   "source": []
  }
 ],
 "metadata": {
  "kernelspec": {
   "display_name": "Python 3 (ipykernel)",
   "language": "python",
   "name": "python3"
  },
  "language_info": {
   "codemirror_mode": {
    "name": "ipython",
    "version": 3
   },
   "file_extension": ".py",
   "mimetype": "text/x-python",
   "name": "python",
   "nbconvert_exporter": "python",
   "pygments_lexer": "ipython3",
   "version": "3.10.9"
  }
 },
 "nbformat": 4,
 "nbformat_minor": 5
}
