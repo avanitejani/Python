{
 "cells": [
  {
   "cell_type": "code",
   "execution_count": null,
   "id": "785824f6",
   "metadata": {},
   "outputs": [],
   "source": [
    "# list\n",
    "# list is a collection of elements of different as well as same datatype\n",
    "# list is mutable ----changes allowed\n",
    "# list is ordered collection\n",
    "# list is defined in []"
   ]
  },
  {
   "cell_type": "code",
   "execution_count": null,
   "id": "713cafb3",
   "metadata": {},
   "outputs": [],
   "source": [
    "list1=[254,56.32,True,\"String\",[45,25,12],(14,15),{1,2,3},{1:\"hello\",2:\"Oput\"}]\n",
    "print(list1)\n",
    "print(list1[3][2])"
   ]
  },
  {
   "cell_type": "code",
   "execution_count": null,
   "id": "8954c866",
   "metadata": {},
   "outputs": [],
   "source": [
    "list1=[14,56,89,74,58,45]\n",
    "list1[3]=\"hello\"\n",
    "print(list1)"
   ]
  },
  {
   "cell_type": "code",
   "execution_count": null,
   "id": "eb2f4e02",
   "metadata": {},
   "outputs": [],
   "source": [
    "str1=\"Fern jkbrtkjb mngbjhrtb fmnb jhvrtbj jhgfbrt\"list is a collection of elements of different as well as same datatype"
   ]
  },
  {
   "cell_type": "code",
   "execution_count": null,
   "id": "f479e408",
   "metadata": {},
   "outputs": [],
   "source": [
    "list1=[1,5,4,87,8,96,5,48,6,21,6,56,74]\n",
    "print(list1[4:9])\n",
    "list1[4:9]=range(100,500,52)\n",
    "print(list1)"
   ]
  }
 ],
 "metadata": {
  "kernelspec": {
   "display_name": "Python 3 (ipykernel)",
   "language": "python",
   "name": "python3"
  },
  "language_info": {
   "codemirror_mode": {
    "name": "ipython",
    "version": 3
   },
   "file_extension": ".py",
   "mimetype": "text/x-python",
   "name": "python",
   "nbconvert_exporter": "python",
   "pygments_lexer": "ipython3",
   "version": "3.10.9"
  }
 },
 "nbformat": 4,
 "nbformat_minor": 5
}
