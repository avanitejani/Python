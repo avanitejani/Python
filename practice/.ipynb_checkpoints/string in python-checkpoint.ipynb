{
 "cells": [
  {
   "cell_type": "code",
   "execution_count": null,
   "id": "a57ec4f4",
   "metadata": {},
   "outputs": [],
   "source": [
    "# # string\n",
    "# string is a collection which is defined in\n",
    "# ' '\n",
    "# \" \"\n",
    "# ''' '''\n",
    "# \"\"\" \"\"\"\n",
    "str1=\"Hello I am LEarning python\"\n",
    "print(str1)"
   ]
  },
  {
   "cell_type": "code",
   "execution_count": null,
   "id": "73da7f4a",
   "metadata": {},
   "outputs": [],
   "source": [
    "# string is immutable \n",
    "# immutable means changes not allowed\n"
   ]
  },
  {
   "cell_type": "code",
   "execution_count": 2,
   "id": "49538a4e",
   "metadata": {},
   "outputs": [
    {
     "ename": "TypeError",
     "evalue": "'str' object does not support item assignment",
     "output_type": "error",
     "traceback": [
      "\u001b[1;31m---------------------------------------------------------------------------\u001b[0m",
      "\u001b[1;31mTypeError\u001b[0m                                 Traceback (most recent call last)",
      "Cell \u001b[1;32mIn[2], line 2\u001b[0m\n\u001b[0;32m      1\u001b[0m str1\u001b[38;5;241m=\u001b[39m\u001b[38;5;124m\"\u001b[39m\u001b[38;5;124mhello\u001b[39m\u001b[38;5;124m\"\u001b[39m\n\u001b[1;32m----> 2\u001b[0m str1[\u001b[38;5;241m1\u001b[39m]\u001b[38;5;241m=\u001b[39m\u001b[38;5;124m\"\u001b[39m\u001b[38;5;124mk\u001b[39m\u001b[38;5;124m\"\u001b[39m\n\u001b[0;32m      3\u001b[0m \u001b[38;5;28mprint\u001b[39m(str1[\u001b[38;5;241m1\u001b[39m])\n",
      "\u001b[1;31mTypeError\u001b[0m: 'str' object does not support item assignment"
     ]
    }
   ],
   "source": [
    "str1=\"hello\"\n",
    "str1[1]=\"k\"\n",
    "print(str1[1])"
   ]
  },
  {
   "cell_type": "code",
   "execution_count": 8,
   "id": "a9e0c6eb",
   "metadata": {},
   "outputs": [
    {
     "name": "stdout",
     "output_type": "stream",
     "text": [
      "hello\n",
      "i am learning python\n",
      "i am learning\n"
     ]
    }
   ],
   "source": [
    "                                                       #08-04-2023\n",
    "#  String \n",
    "str1=\"hello i am learning python\"\n",
    "print(str1[:5])\n",
    "print(str1[6:])\n",
    "print(str1[6:19])"
   ]
  },
  {
   "cell_type": "code",
   "execution_count": 7,
   "id": "fd7b4953",
   "metadata": {},
   "outputs": [
    {
     "data": {
      "text/plain": [
       "['__add__',\n",
       " '__class__',\n",
       " '__contains__',\n",
       " '__delattr__',\n",
       " '__dir__',\n",
       " '__doc__',\n",
       " '__eq__',\n",
       " '__format__',\n",
       " '__ge__',\n",
       " '__getattribute__',\n",
       " '__getitem__',\n",
       " '__getnewargs__',\n",
       " '__gt__',\n",
       " '__hash__',\n",
       " '__init__',\n",
       " '__init_subclass__',\n",
       " '__iter__',\n",
       " '__le__',\n",
       " '__len__',\n",
       " '__lt__',\n",
       " '__mod__',\n",
       " '__mul__',\n",
       " '__ne__',\n",
       " '__new__',\n",
       " '__reduce__',\n",
       " '__reduce_ex__',\n",
       " '__repr__',\n",
       " '__rmod__',\n",
       " '__rmul__',\n",
       " '__setattr__',\n",
       " '__sizeof__',\n",
       " '__str__',\n",
       " '__subclasshook__',\n",
       " 'capitalize',\n",
       " 'casefold',\n",
       " 'center',\n",
       " 'count',\n",
       " 'encode',\n",
       " 'endswith',\n",
       " 'expandtabs',\n",
       " 'find',\n",
       " 'format',\n",
       " 'format_map',\n",
       " 'index',\n",
       " 'isalnum',\n",
       " 'isalpha',\n",
       " 'isascii',\n",
       " 'isdecimal',\n",
       " 'isdigit',\n",
       " 'isidentifier',\n",
       " 'islower',\n",
       " 'isnumeric',\n",
       " 'isprintable',\n",
       " 'isspace',\n",
       " 'istitle',\n",
       " 'isupper',\n",
       " 'join',\n",
       " 'ljust',\n",
       " 'lower',\n",
       " 'lstrip',\n",
       " 'maketrans',\n",
       " 'partition',\n",
       " 'removeprefix',\n",
       " 'removesuffix',\n",
       " 'replace',\n",
       " 'rfind',\n",
       " 'rindex',\n",
       " 'rjust',\n",
       " 'rpartition',\n",
       " 'rsplit',\n",
       " 'rstrip',\n",
       " 'split',\n",
       " 'splitlines',\n",
       " 'startswith',\n",
       " 'strip',\n",
       " 'swapcase',\n",
       " 'title',\n",
       " 'translate',\n",
       " 'upper',\n",
       " 'zfill']"
      ]
     },
     "execution_count": 7,
     "metadata": {},
     "output_type": "execute_result"
    }
   ],
   "source": [
    "# string methods\n",
    "str1=\"hello\"\n",
    "dir(str1)"
   ]
  },
  {
   "cell_type": "code",
   "execution_count": 6,
   "id": "5552a122",
   "metadata": {},
   "outputs": [
    {
     "name": "stdout",
     "output_type": "stream",
     "text": [
      "Hello i am learning hjkdhjdh python\n"
     ]
    }
   ],
   "source": [
    "# capitalize() ---capital first letter and smalls other letters\n",
    "str1=\"hello i am learning HJKDHJDH python\"\n",
    "str2=str1.capitalize()\n",
    "print(str1.capitalize())"
   ]
  },
  {
   "cell_type": "code",
   "execution_count": 4,
   "id": "870fdbc2",
   "metadata": {},
   "outputs": [
    {
     "name": "stdout",
     "output_type": "stream",
     "text": [
      "Hello I Am Learning Hjkdhjdh Python\n"
     ]
    }
   ],
   "source": [
    "# title()--first letter of every word in capital and\n",
    "# others letter of word in small\n",
    "str1=\"hello i am learning HJKDHJDH python\"\n",
    "print(str1.title())"
   ]
  },
  {
   "cell_type": "code",
   "execution_count": 5,
   "id": "e174d3fa",
   "metadata": {},
   "outputs": [
    {
     "name": "stdout",
     "output_type": "stream",
     "text": [
      "Enter Fullname: avani tejani\n",
      "Avani Tejani\n"
     ]
    }
   ],
   "source": [
    "str1=input(\"Enter Fullname: \")\n",
    "print(str1.title())\n"
   ]
  },
  {
   "cell_type": "code",
   "execution_count": 3,
   "id": "40605a43",
   "metadata": {},
   "outputs": [
    {
     "name": "stdout",
     "output_type": "stream",
     "text": [
      "erhnguj hbjkfebdk jbgvjkb nbhj -ä -äkedb cjhvrbfjhb ß  ggefnjsf\n"
     ]
    }
   ],
   "source": [
    "# lower()---changes whole string into lower case\n",
    "str1=\"erhnguj HBJKFEBDK jbgvjkb NBHJ -Ä -ÄKEDB cjhvrbfjhb ß  ggeFNJSF\"\n",
    "print(str1.lower())"
   ]
  },
  {
   "cell_type": "code",
   "execution_count": 2,
   "id": "a5dad62b",
   "metadata": {},
   "outputs": [
    {
     "name": "stdout",
     "output_type": "stream",
     "text": [
      "erhnguj hbjkfebdk jbgvjkb nbhjke -ä -ädb cjhvrbfjhb ss  ggefnjsf\n"
     ]
    }
   ],
   "source": [
    "# casefold()--changes whole string into lower case and its is powerful than lower\n",
    "str1=\"erhnguj HBJKFEBDK jbgvjkb NBHJKE -Ä -ÄDB cjhvrbfjhb ß  ggeFNJSF\"\n",
    "print(str1.casefold())"
   ]
  },
  {
   "cell_type": "code",
   "execution_count": 1,
   "id": "238b18bc",
   "metadata": {},
   "outputs": [
    {
     "name": "stdout",
     "output_type": "stream",
     "text": [
      "                      dhgfk                       \n",
      "**********************dhgfk***********************\n"
     ]
    }
   ],
   "source": [
    "# center(lenght,[character])--it will put the string in center of the\n",
    "# length mentioned and fill the balnk space with space and if we want to fill\n",
    "# other characters then we pass second parameter\n",
    "str1=\"dhgfk\"\n",
    "print(str1.center(50))\n",
    "print(str1.center(50,\"*\"))"
   ]
  },
  {
   "cell_type": "code",
   "execution_count": 13,
   "id": "769e772e",
   "metadata": {
    "scrolled": true
   },
   "outputs": [
    {
     "name": "stdout",
     "output_type": "stream",
     "text": [
      "Enter a number:5\n",
      "    *     \n",
      "   * *    \n",
      "  * * *   \n",
      " * * * *  \n",
      "* * * * * \n"
     ]
    }
   ],
   "source": [
    "n=int(input(\"Enter a number:\"))\n",
    "str1=\"\"#no reqvird\n",
    "for i in range(1,n+1):\n",
    "    str1=\"* \"*i\n",
    "    print(str1.center(n*2))\n"
   ]
  },
  {
   "cell_type": "code",
   "execution_count": 9,
   "id": "e1295d63",
   "metadata": {},
   "outputs": [
    {
     "name": "stdout",
     "output_type": "stream",
     "text": [
      "WER nerjgehrgj************************************\n"
     ]
    }
   ],
   "source": [
    "# ljust(length,[character]) --it will put the string in left of the\n",
    "# length mentioned and fill the balnk space with space and if we want to fill\n",
    "# other characters then we pass second parameter\n",
    "str1=\"WER nerjgehrgj\"\n",
    "print(str1.ljust(50,\"*\"))"
   ]
  },
  {
   "cell_type": "code",
   "execution_count": 10,
   "id": "f96aa485",
   "metadata": {},
   "outputs": [
    {
     "name": "stdout",
     "output_type": "stream",
     "text": [
      "************************************WER nerjgehrgj\n"
     ]
    }
   ],
   "source": [
    "# rjust(length,[character]) --it will put the string in right of the\n",
    "# length mentioned and fill the balnk space with space and if we want to fill\n",
    "# other characters then we pass second parameter\n",
    "str1=\"WER nerjgehrgj\"\n",
    "print(str1.rjust(50,\"*\"))"
   ]
  },
  {
   "cell_type": "code",
   "execution_count": 14,
   "id": "bcb6d6de",
   "metadata": {},
   "outputs": [
    {
     "name": "stdout",
     "output_type": "stream",
     "text": [
      "Enter a number:5\n",
      "        * \n",
      "      * * \n",
      "    * * * \n",
      "  * * * * \n",
      "* * * * * \n"
     ]
    }
   ],
   "source": [
    "n=int(input(\"Enter a number:\"))\n",
    "str1=\"\"#no reqvird\n",
    "for i in range(1,n+1):\n",
    "    str1=\"* \"*i\n",
    "    print(str1.rjust(n*2))"
   ]
  },
  {
   "cell_type": "code",
   "execution_count": null,
   "id": "a2cce8b7",
   "metadata": {},
   "outputs": [],
   "source": [
    "# expandtabs(lenght)--set the space inside the tabs\n",
    "str1=\"er\\tgerl\\tk mnjkg\\tb bkjtbk\".expandtabs(50)\n",
    "print(str1)"
   ]
  },
  {
   "cell_type": "code",
   "execution_count": null,
   "id": "5f9b3634",
   "metadata": {},
   "outputs": [],
   "source": [
    "# endswith(\"substring\",[start,stop])--it checks whether the string endswith the given substring or not\n",
    "str1=\"hello i am very very stron person what you believe\"\n",
    "print(str1.endswith(\"you believe\"))\n",
    "print(str1.endswith(\"stron\",15,26))"
   ]
  },
  {
   "cell_type": "code",
   "execution_count": 20,
   "id": "dc95b7f1",
   "metadata": {},
   "outputs": [
    {
     "data": {
      "text/plain": [
       "0"
      ]
     },
     "execution_count": 20,
     "metadata": {},
     "output_type": "execute_result"
    }
   ],
   "source": [
    "# count(\"substring\",[start,stop])--gives the occurence\n",
    "str1=\"hello i am very well in very food in learning and learn new language well\"\n",
    "str1.count(\"well\")\n",
    "str1.count(\"well\",25)\n",
    "str1.count(\"well\",25,32)"
   ]
  },
  {
   "cell_type": "code",
   "execution_count": 3,
   "id": "83438617",
   "metadata": {},
   "outputs": [
    {
     "name": "stdout",
     "output_type": "stream",
     "text": [
      "1 \n",
      "1 2 \n",
      "1 2 3 \n",
      "1 2 3 4 \n",
      "1 2 3 4 5 \n"
     ]
    }
   ],
   "source": [
    "# pattern 1\n",
    "for i in range(0, 5):\n",
    "    num = 1\n",
    "    for j in range(0, i+1):\n",
    "        print(num, end=\" \")\n",
    "        num = num + 1\n",
    "    print()"
   ]
  },
  {
   "cell_type": "code",
   "execution_count": 1,
   "id": "6d3ceadc",
   "metadata": {},
   "outputs": [
    {
     "name": "stdout",
     "output_type": "stream",
     "text": [
      "A \n",
      "B B \n",
      "C C C \n",
      "D D D D \n",
      "E E E E E \n"
     ]
    }
   ],
   "source": [
    "# pattern 2\n",
    "value = 65\n",
    "for i in range(0, 5):\n",
    "    for j in range(0, i+1):\n",
    "        ch = chr(value)\n",
    "        print(ch, end=\" \")\n",
    "    value = value + 1\n",
    "    print()\n",
    "    "
   ]
  },
  {
   "cell_type": "code",
   "execution_count": 4,
   "id": "6c0fc44f",
   "metadata": {},
   "outputs": [
    {
     "name": "stdout",
     "output_type": "stream",
     "text": [
      "Enter a number:5\n",
      "*         \n",
      "* *       \n",
      "* * *     \n",
      "* * * *   \n",
      "* * * * * \n"
     ]
    }
   ],
   "source": [
    "# pattern 3\n",
    "n=int(input(\"Enter a number:\"))\n",
    "str1=\"\"#no reqvird\n",
    "for i in range(1,n+1):\n",
    "    str1=\"* \"*i\n",
    "    print(str1.ljust(n*2))"
   ]
  },
  {
   "cell_type": "code",
   "execution_count": 7,
   "id": "f153ee31",
   "metadata": {},
   "outputs": [
    {
     "name": "stdout",
     "output_type": "stream",
     "text": [
      "Enter a number:6\n",
      " \n",
      "1  \n",
      "2 2  \n",
      "3 3 3  \n",
      "4 4 4 4  \n",
      "5 5 5 5 5  \n"
     ]
    }
   ],
   "source": [
    "# pattern 4\n",
    "row=int(input(\"Enter a number:\"))\n",
    "for num in range(row):\n",
    "    for i in range(num):\n",
    "        print(num, end=\" \") # print number\n",
    "# line after each row to display pattern correctly\n",
    "        print(\" \")"
   ]
  },
  {
   "cell_type": "code",
   "execution_count": null,
   "id": "bf1960f6",
   "metadata": {},
   "outputs": [],
   "source": []
  },
  {
   "cell_type": "code",
   "execution_count": 8,
   "id": "f27150fd",
   "metadata": {},
   "outputs": [
    {
     "name": "stdout",
     "output_type": "stream",
     "text": [
      "Enter a number:5\n",
      "        * \n",
      "      * * \n",
      "    * * * \n",
      "  * * * * \n",
      "* * * * * \n"
     ]
    }
   ],
   "source": [
    "# pattern 6\n",
    "n=int(input(\"Enter a number:\"))\n",
    "str1=\"\"#no reqvird\n",
    "for i in range(1,n+1):\n",
    "    str1=\"* \"*i\n",
    "    print(str1.rjust(n*2))"
   ]
  },
  {
   "cell_type": "code",
   "execution_count": 3,
   "id": "d6036eae",
   "metadata": {},
   "outputs": [
    {
     "name": "stdout",
     "output_type": "stream",
     "text": [
      "8\n",
      "-1\n"
     ]
    }
   ],
   "source": [
    "                                                    #11-04-2023\n",
    "\n",
    "#find(suvstring)-- return the index position of substring\n",
    "str1=\"Hello i am good\"\n",
    "print(str1.find(\"am\"))\n",
    "print(str1.find(\"very\"))"
   ]
  },
  {
   "cell_type": "code",
   "execution_count": 2,
   "id": "834db24d",
   "metadata": {},
   "outputs": [
    {
     "name": "stdout",
     "output_type": "stream",
     "text": [
      "8\n"
     ]
    },
    {
     "ename": "ValueError",
     "evalue": "substring not found",
     "output_type": "error",
     "traceback": [
      "\u001b[1;31m---------------------------------------------------------------------------\u001b[0m",
      "\u001b[1;31mValueError\u001b[0m                                Traceback (most recent call last)",
      "Cell \u001b[1;32mIn[2], line 4\u001b[0m\n\u001b[0;32m      2\u001b[0m str1\u001b[38;5;241m=\u001b[39m\u001b[38;5;124m\"\u001b[39m\u001b[38;5;124mHello i am good\u001b[39m\u001b[38;5;124m\"\u001b[39m\n\u001b[0;32m      3\u001b[0m \u001b[38;5;28mprint\u001b[39m(str1\u001b[38;5;241m.\u001b[39mindex(\u001b[38;5;124m\"\u001b[39m\u001b[38;5;124mam\u001b[39m\u001b[38;5;124m\"\u001b[39m))\n\u001b[1;32m----> 4\u001b[0m \u001b[38;5;28mprint\u001b[39m(\u001b[43mstr1\u001b[49m\u001b[38;5;241;43m.\u001b[39;49m\u001b[43mindex\u001b[49m\u001b[43m(\u001b[49m\u001b[38;5;124;43m\"\u001b[39;49m\u001b[38;5;124;43mvery\u001b[39;49m\u001b[38;5;124;43m\"\u001b[39;49m\u001b[43m)\u001b[49m)\n",
      "\u001b[1;31mValueError\u001b[0m: substring not found"
     ]
    }
   ],
   "source": [
    "\n",
    "#index(suvstring)-- return the index position substring\n",
    "str1=\"Hello i am good\"\n",
    "print(str1.index(\"am\"))\n",
    "print(str1.index(\"very\")) #return vlueerror when substring not in staring"
   ]
  },
  {
   "cell_type": "code",
   "execution_count": 3,
   "id": "2ea1ddf0",
   "metadata": {},
   "outputs": [
    {
     "name": "stdout",
     "output_type": "stream",
     "text": [
      "                    python programing                    \n",
      "python programing                    \n",
      "                    python programing\n",
      "python programing\n"
     ]
    }
   ],
   "source": [
    "str1=\"                    python programing                    \"\n",
    "print(str1)\n",
    "print(str1.lstrip()) #removes left whitespaces\n",
    "print(str1.rstrip()) #removes right whitespaces\n",
    "print(str1.strip()) #removes left and right whitespaces\n"
   ]
  },
  {
   "cell_type": "code",
   "execution_count": 9,
   "id": "d974b924",
   "metadata": {},
   "outputs": [
    {
     "name": "stdout",
     "output_type": "stream",
     "text": [
      "('Hello i ', 'am', ' learning python')\n",
      "('', 'Hello', ' i am learning python')\n",
      "('Hello i am learning ', 'python', '')\n",
      "('Hello i am learning python', '', '')\n"
     ]
    }
   ],
   "source": [
    "# partition (substing)\n",
    "# string 3 parts 1st left of the substring\n",
    "# 2nd parts substring itself\n",
    "# 3rd parts right of the substring\n",
    "\n",
    "str1=\"Hello i am learning python\"\n",
    "print(str1.partition(\"am\"))\n",
    "print(str1.partition(\"Hello\"))\n",
    "print(str1.partition(\"python\"))\n",
    "print(str1.partition(\"very\"))\n"
   ]
  },
  {
   "cell_type": "code",
   "execution_count": 11,
   "id": "01e8b150",
   "metadata": {},
   "outputs": [
    {
     "name": "stdout",
     "output_type": "stream",
     "text": [
      "hello ***** world ***** ok ***** done ***** woew\n"
     ]
    }
   ],
   "source": [
    "# join\n",
    "str1=\"hello thi is good\"\n",
    "list1=[\"hello\",\"world\",\"ok\",\"done\",\"woew\"]\n",
    "print(\" ***** \".join(list1))"
   ]
  },
  {
   "cell_type": "code",
   "execution_count": 14,
   "id": "30a083c6",
   "metadata": {},
   "outputs": [
    {
     "name": "stdout",
     "output_type": "stream",
     "text": [
      "hello world ok done wow\n"
     ]
    }
   ],
   "source": [
    "str1=\"hello thi is good\"\n",
    "list1=[\"hello\",\"world\",\"ok\",\"done\",\"wow\"]\n",
    "print(\" \".join(list1))"
   ]
  },
  {
   "cell_type": "code",
   "execution_count": 4,
   "id": "b91ece5d",
   "metadata": {},
   "outputs": [
    {
     "name": "stdout",
     "output_type": "stream",
     "text": [
      "hello thi is bed\n"
     ]
    }
   ],
   "source": [
    "str1=\"hello thi is good\"\n",
    "print(str1.replace(\"good\",\"bed\"))"
   ]
  },
  {
   "cell_type": "code",
   "execution_count": 6,
   "id": "16bcd931",
   "metadata": {},
   "outputs": [
    {
     "name": "stdout",
     "output_type": "stream",
     "text": [
      "True\n"
     ]
    }
   ],
   "source": [
    "str1=\"hellothiisgood\"\n",
    "print(str1.isalnum())#without space true "
   ]
  },
  {
   "cell_type": "code",
   "execution_count": 7,
   "id": "10e77296",
   "metadata": {},
   "outputs": [
    {
     "name": "stdout",
     "output_type": "stream",
     "text": [
      "True\n"
     ]
    }
   ],
   "source": [
    "str1=\"hellothiisgood\"\n",
    "print(str1.isalpha())"
   ]
  },
  {
   "cell_type": "code",
   "execution_count": 11,
   "id": "c9ace404",
   "metadata": {
    "scrolled": true
   },
   "outputs": [
    {
     "name": "stdout",
     "output_type": "stream",
     "text": [
      "False\n"
     ]
    }
   ],
   "source": [
    "str1=\"hellothiisg  € ood\"  #€ euro is not ascci value\n",
    "print(str1.isascii())"
   ]
  },
  {
   "cell_type": "code",
   "execution_count": null,
   "id": "4860f451",
   "metadata": {},
   "outputs": [],
   "source": [
    "str1=\"hellothiisg\"  #variyable na name lkhvani rite true aave\n",
    "print(str1.isidentifire())"
   ]
  },
  {
   "cell_type": "code",
   "execution_count": 16,
   "id": "7dfd9402",
   "metadata": {},
   "outputs": [
    {
     "name": "stdout",
     "output_type": "stream",
     "text": [
      "False\n"
     ]
    }
   ],
   "source": [
    "str1=\"hellotHisg\" # all small lettre are true ,ANEY one CCAPITAL letter are false\n",
    "print(str1.islower())\n"
   ]
  },
  {
   "cell_type": "code",
   "execution_count": 17,
   "id": "d17f6d6b",
   "metadata": {},
   "outputs": [
    {
     "name": "stdout",
     "output_type": "stream",
     "text": [
      "erger\\eve\n",
      "True\n"
     ]
    }
   ],
   "source": [
    "str1=\"erger\\eve\"\n",
    "print(str1)\n",
    "print(str1.isprintable())"
   ]
  },
  {
   "cell_type": "code",
   "execution_count": 19,
   "id": "a5a8faf8",
   "metadata": {},
   "outputs": [
    {
     "data": {
      "text/plain": [
       "False"
      ]
     },
     "execution_count": 19,
     "metadata": {},
     "output_type": "execute_result"
    }
   ],
   "source": [
    "str1=\"True is Ture \"#True Is Ture ------>True  #True is TurFe------>False\n",
    "# print(str1.isspace()) str1=\"\")\n",
    "str1.istitle()"
   ]
  },
  {
   "cell_type": "code",
   "execution_count": 18,
   "id": "b80caad8",
   "metadata": {
    "scrolled": true
   },
   "outputs": [
    {
     "name": "stdout",
     "output_type": "stream",
     "text": [
      "enter stringavani tejani\n",
      "inajet inava\n"
     ]
    }
   ],
   "source": [
    "str1=input(\"enter string\")\n",
    "print(''.join(reversed(str1)))"
   ]
  },
  {
   "cell_type": "code",
   "execution_count": 25,
   "id": "0bf9a45a",
   "metadata": {},
   "outputs": [
    {
     "name": "stdout",
     "output_type": "stream",
     "text": [
      "enter string :opiu\n",
      "uipo\n"
     ]
    }
   ],
   "source": [
    "str1=input(\"enter string :\")\n",
    "if len(str1)%4 == 0:\n",
    "    print(''.join(reversed(str1)))\n",
    "else:    \n",
    "    print(\"str1\")\n",
    "    "
   ]
  },
  {
   "cell_type": "code",
   "execution_count": null,
   "id": "54bc71a8",
   "metadata": {},
   "outputs": [],
   "source": [
    "str1 = input(\"Enter String :\")  # The user will provide a string\n",
    "if len(str1) % 4 == 0: #The length of the string should be greater than or equal to 4\n",
    "    print(''.join(reversed(str1)))  # is True after string in revers\n",
    "else:\n",
    "    print(str1)"
   ]
  }
 ],
 "metadata": {
  "kernelspec": {
   "display_name": "Python 3 (ipykernel)",
   "language": "python",
   "name": "python3"
  },
  "language_info": {
   "codemirror_mode": {
    "name": "ipython",
    "version": 3
   },
   "file_extension": ".py",
   "mimetype": "text/x-python",
   "name": "python",
   "nbconvert_exporter": "python",
   "pygments_lexer": "ipython3",
   "version": "3.10.9"
  }
 },
 "nbformat": 4,
 "nbformat_minor": 5
}
