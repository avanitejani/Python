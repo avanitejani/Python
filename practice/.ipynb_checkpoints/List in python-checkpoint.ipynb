{
 "cells": [
  {
   "cell_type": "code",
   "execution_count": null,
   "id": "785824f6",
   "metadata": {},
   "outputs": [],
   "source": [
    "# list\n",
    "# list is a collection of elements of different as well as same datatype\n",
    "# list is mutable ----changes allowed\n",
    "# list is ordered collection\n",
    "# list is defined in []"
   ]
  },
  {
   "cell_type": "code",
   "execution_count": null,
   "id": "713cafb3",
   "metadata": {},
   "outputs": [],
   "source": [
    "list1=[254,56.32,True,\"String\",[45,25,12],(14,15),{1,2,3},{1:\"hello\",2:\"Oput\"}]\n",
    "print(list1)\n",
    "print(list1[3][2])"
   ]
  },
  {
   "cell_type": "code",
   "execution_count": null,
   "id": "8954c866",
   "metadata": {},
   "outputs": [],
   "source": [
    "list1=[14,56,89,74,58,45]\n",
    "list1[3]=\"hello\"\n",
    "print(list1)"
   ]
  },
  {
   "cell_type": "code",
   "execution_count": null,
   "id": "eb2f4e02",
   "metadata": {},
   "outputs": [],
   "source": [
    "str1=\"Fern jkbrtkjb mngbjhrtb fmnb jhvrtbj jhgfbrt\"list is a collection of elements of different as well as same datatype"
   ]
  },
  {
   "cell_type": "code",
   "execution_count": null,
   "id": "f479e408",
   "metadata": {},
   "outputs": [],
   "source": [
    "list1=[1,5,4,87,8,96,5,48,6,21,6,56,74]\n",
    "print(list1[4:9])\n",
    "list1[4:9]=range(100,500,52)\n",
    "print(list1)"
   ]
  },
  {
   "cell_type": "code",
   "execution_count": null,
   "id": "44ce81e0",
   "metadata": {},
   "outputs": [],
   "source": [
    "# list functions\n",
    "# functionname(listname)\n",
    "len() ---gives lenght of list\n",
    "min() ---gives minimum value from list\n",
    "max() ---gives maximum value from list\n",
    "list() ---chnages other iterable into list\n",
    "\n",
    "iterable---collection\n",
    "\n",
    "range()\n",
    "string\n",
    "list\n",
    "tuple\n",
    "set \n",
    "dictionary"
   ]
  },
  {
   "cell_type": "code",
   "execution_count": 1,
   "id": "b9ee15f9",
   "metadata": {},
   "outputs": [
    {
     "name": "stdout",
     "output_type": "stream",
     "text": [
      "Lenght of list is 10\n"
     ]
    }
   ],
   "source": [
    "# len()\n",
    "list1=[45,89,65,21,45,78,96,32,56,96]\n",
    "x=len(list1)\n",
    "print(f\"Lenght of list is {x}\")"
   ]
  },
  {
   "cell_type": "code",
   "execution_count": 2,
   "id": "77c68d9f",
   "metadata": {},
   "outputs": [
    {
     "data": {
      "text/plain": [
       "10"
      ]
     },
     "execution_count": 2,
     "metadata": {},
     "output_type": "execute_result"
    }
   ],
   "source": [
    "#len()\n",
    "list1=[45,89,65,21,45,78,96,32,56,96]\n",
    "len(list1)"
   ]
  },
  {
   "cell_type": "code",
   "execution_count": 3,
   "id": "76c3f4e4",
   "metadata": {},
   "outputs": [
    {
     "data": {
      "text/plain": [
       "34"
      ]
     },
     "execution_count": 3,
     "metadata": {},
     "output_type": "execute_result"
    }
   ],
   "source": [
    "#min\n",
    "list1=[45,89,34,67,89,96]    #baisi of maths rule\n",
    "min(list1)"
   ]
  },
  {
   "cell_type": "code",
   "execution_count": 5,
   "id": "b56a4d87",
   "metadata": {},
   "outputs": [
    {
     "data": {
      "text/plain": [
       "'apple'"
      ]
     },
     "execution_count": 5,
     "metadata": {},
     "output_type": "execute_result"
    }
   ],
   "source": [
    "list1=[\"apple\",\"banana\",\"mango\"]\n",
    "min(list1)"
   ]
  },
  {
   "cell_type": "code",
   "execution_count": 3,
   "id": "08acc8c1",
   "metadata": {},
   "outputs": [
    {
     "ename": "TypeError",
     "evalue": "'<' not supported between instances of 'str' and 'int'",
     "output_type": "error",
     "traceback": [
      "\u001b[1;31m---------------------------------------------------------------------------\u001b[0m",
      "\u001b[1;31mTypeError\u001b[0m                                 Traceback (most recent call last)",
      "Cell \u001b[1;32mIn[3], line 2\u001b[0m\n\u001b[0;32m      1\u001b[0m list1\u001b[38;5;241m=\u001b[39m[\u001b[38;5;241m45\u001b[39m,\u001b[38;5;241m36\u001b[39m,\u001b[38;5;241m56\u001b[39m,\u001b[38;5;124m\"\u001b[39m\u001b[38;5;124mhello\u001b[39m\u001b[38;5;124m\"\u001b[39m,\u001b[38;5;241m45\u001b[39m,\u001b[38;5;124m\"\u001b[39m\u001b[38;5;124mdemo\u001b[39m\u001b[38;5;124m\"\u001b[39m,\u001b[38;5;124m\"\u001b[39m\u001b[38;5;124mGREAT HERITAGe\u001b[39m\u001b[38;5;124m\"\u001b[39m]\n\u001b[1;32m----> 2\u001b[0m \u001b[38;5;28;43mmin\u001b[39;49m\u001b[43m(\u001b[49m\u001b[43mlist1\u001b[49m\u001b[43m)\u001b[49m\n",
      "\u001b[1;31mTypeError\u001b[0m: '<' not supported between instances of 'str' and 'int'"
     ]
    }
   ],
   "source": [
    "list1=[45,36,56,\"hello\",45,\"demo\",\"GREAT HERITAGe\"]    # TypeError\n",
    "min(list1)"
   ]
  },
  {
   "cell_type": "code",
   "execution_count": 4,
   "id": "cb608a51",
   "metadata": {},
   "outputs": [
    {
     "data": {
      "text/plain": [
       "96"
      ]
     },
     "execution_count": 4,
     "metadata": {},
     "output_type": "execute_result"
    }
   ],
   "source": [
    "#max\n",
    "list1=[45,89,34,67,89,96]  #basis of ascii value\n",
    "max(list1)"
   ]
  },
  {
   "cell_type": "code",
   "execution_count": 6,
   "id": "bbd5b69a",
   "metadata": {},
   "outputs": [
    {
     "data": {
      "text/plain": [
       "'mango'"
      ]
     },
     "execution_count": 6,
     "metadata": {},
     "output_type": "execute_result"
    }
   ],
   "source": [
    "list1=[\"apple\",\"banana\",\"mango\"]   #basis of ascii value\n",
    "max(list1)"
   ]
  },
  {
   "cell_type": "code",
   "execution_count": 7,
   "id": "ea14753d",
   "metadata": {
    "scrolled": true
   },
   "outputs": [
    {
     "ename": "TypeError",
     "evalue": "'>' not supported between instances of 'str' and 'int'",
     "output_type": "error",
     "traceback": [
      "\u001b[1;31m---------------------------------------------------------------------------\u001b[0m",
      "\u001b[1;31mTypeError\u001b[0m                                 Traceback (most recent call last)",
      "Cell \u001b[1;32mIn[7], line 2\u001b[0m\n\u001b[0;32m      1\u001b[0m list1\u001b[38;5;241m=\u001b[39m[\u001b[38;5;241m45\u001b[39m,\u001b[38;5;241m36\u001b[39m,\u001b[38;5;241m56\u001b[39m,\u001b[38;5;124m\"\u001b[39m\u001b[38;5;124mhello\u001b[39m\u001b[38;5;124m\"\u001b[39m,\u001b[38;5;241m45\u001b[39m,\u001b[38;5;124m\"\u001b[39m\u001b[38;5;124mdemo\u001b[39m\u001b[38;5;124m\"\u001b[39m,\u001b[38;5;124m\"\u001b[39m\u001b[38;5;124mGREAT HERITAGe\u001b[39m\u001b[38;5;124m\"\u001b[39m]\n\u001b[1;32m----> 2\u001b[0m \u001b[38;5;28;43mmax\u001b[39;49m\u001b[43m(\u001b[49m\u001b[43mlist1\u001b[49m\u001b[43m)\u001b[49m\n",
      "\u001b[1;31mTypeError\u001b[0m: '>' not supported between instances of 'str' and 'int'"
     ]
    }
   ],
   "source": [
    "list1=[45,36,56,\"hello\",45,\"demo\",\"GREAT HERITAGe\"]  # TypeError\n",
    "max(list1)"
   ]
  },
  {
   "cell_type": "code",
   "execution_count": null,
   "id": "ceeaa28b",
   "metadata": {},
   "outputs": [],
   "source": []
  },
  {
   "cell_type": "code",
   "execution_count": 8,
   "id": "e99045cb",
   "metadata": {},
   "outputs": [
    {
     "data": {
      "text/plain": [
       "[45, 23, 'hello', 'wow']"
      ]
     },
     "execution_count": 8,
     "metadata": {},
     "output_type": "execute_result"
    }
   ],
   "source": [
    "list((45,23,\"hello\",\"wow\"))"
   ]
  },
  {
   "cell_type": "code",
   "execution_count": null,
   "id": "4258659d",
   "metadata": {},
   "outputs": [],
   "source": []
  },
  {
   "cell_type": "code",
   "execution_count": null,
   "id": "70134bc9",
   "metadata": {},
   "outputs": [],
   "source": [
    "#list methods\n",
    "listname.methodname(perameters)"
   ]
  },
  {
   "cell_type": "code",
   "execution_count": null,
   "id": "ab13540b",
   "metadata": {},
   "outputs": [],
   "source": [
    "list methods\n",
    "append()\n",
    "extend()\n",
    "insert()\n",
    "pop()\n",
    "remove()\n",
    "index()\n",
    "count()\n",
    "sort()\n",
    "clear()\n",
    "copy()\n",
    "reverse()"
   ]
  },
  {
   "cell_type": "code",
   "execution_count": 8,
   "id": "575316de",
   "metadata": {},
   "outputs": [
    {
     "name": "stdout",
     "output_type": "stream",
     "text": [
      "[45, 69, 87, 43, 56, [45, 68, 78]]\n"
     ]
    }
   ],
   "source": [
    "#append (element)  --add element at last of list\n",
    "list1=[45,69,87,43,56]\n",
    "list1.append([45,68,78])\n",
    "print(list1)"
   ]
  },
  {
   "cell_type": "code",
   "execution_count": 10,
   "id": "e91f3bd1",
   "metadata": {},
   "outputs": [
    {
     "name": "stdout",
     "output_type": "stream",
     "text": [
      "[45, 69, 87, 43, 56, 45, 68, 78]\n"
     ]
    }
   ],
   "source": [
    "#extend (iterable)  ---add iterable at last of list as an individual element\n",
    "list1=[45,69,87,43,56]\n",
    "list1.extend([45,68,78])\n",
    "print(list1)"
   ]
  },
  {
   "cell_type": "code",
   "execution_count": 11,
   "id": "653d6167",
   "metadata": {},
   "outputs": [
    {
     "name": "stdout",
     "output_type": "stream",
     "text": [
      "[45, 69, 87, 'hello', 43, 56]\n"
     ]
    }
   ],
   "source": [
    "# insert(index,element)--add element at particular index\n",
    "list1=[45,69,87,43,56]\n",
    "list1.insert(3,\"hello\")\n",
    "print(list1)"
   ]
  },
  {
   "cell_type": "code",
   "execution_count": 10,
   "id": "8f82fd2a",
   "metadata": {},
   "outputs": [
    {
     "name": "stdout",
     "output_type": "stream",
     "text": [
      "how many element enterd in list :7\n",
      "Enter Value: hello\n",
      "Enter Value: avani\n",
      "Enter Value: tejani\n",
      "Enter Value: 12345\n",
      "Enter Value: 09876\n",
      "Enter Value: 1m\n",
      "Enter Value: ~!@#$%^&*\n",
      "['hello', 'avani', 'tejani', '12345', '09876', '1m', '~!@#$%^&*']\n"
     ]
    }
   ],
   "source": [
    "#append (element)\n",
    "num=int(input(\"how many element enterd in list :\"))\n",
    "#num=int(input(\"Enter number: \"))\n",
    "list1=[]\n",
    "for i in range(num):\n",
    "    value=input(\"Enter Value: \")\n",
    "    list1.append(value)\n",
    "    \n",
    "print(list1)"
   ]
  },
  {
   "cell_type": "code",
   "execution_count": 15,
   "id": "84d87359",
   "metadata": {
    "scrolled": true
   },
   "outputs": [
    {
     "name": "stdout",
     "output_type": "stream",
     "text": [
      "[23, 5, 67, 345, 69, 45, 546, 85]\n"
     ]
    }
   ],
   "source": [
    "#pop ([index]) ---removes element from particular index if index is not given then it removes last element\n",
    "\n",
    "list1=[23,5,67,345,69,45,546,85,63]\n",
    "list1.pop(3)\n",
    "print(list1)\n",
    "\n",
    "# list1.pop()\n",
    "# print(list1)\n",
    "\n",
    "# list1.pop(524)\n",
    "# print(list1)"
   ]
  },
  {
   "cell_type": "code",
   "execution_count": 13,
   "id": "b1b51b5a",
   "metadata": {},
   "outputs": [
    {
     "name": "stdout",
     "output_type": "stream",
     "text": [
      "[36, 58, 96, 45, 12, 36, 54, 56, 89, 89, 865, 86]\n"
     ]
    }
   ],
   "source": [
    "# remove(element)----removes first occurence of element in list\n",
    "\n",
    "list1=[45,36,58,96,45,12,36,54,56,89,89,865,86]\n",
    "list1.remove(45)\n",
    "print(list1)\n",
    "\n",
    "# list1.remove(4558) --# ValueError \n",
    "# print(list1)"
   ]
  },
  {
   "cell_type": "code",
   "execution_count": null,
   "id": "edf8f955",
   "metadata": {},
   "outputs": [],
   "source": []
  }
 ],
 "metadata": {
  "kernelspec": {
   "display_name": "Python 3 (ipykernel)",
   "language": "python",
   "name": "python3"
  },
  "language_info": {
   "codemirror_mode": {
    "name": "ipython",
    "version": 3
   },
   "file_extension": ".py",
   "mimetype": "text/x-python",
   "name": "python",
   "nbconvert_exporter": "python",
   "pygments_lexer": "ipython3",
   "version": "3.10.9"
  }
 },
 "nbformat": 4,
 "nbformat_minor": 5
}
