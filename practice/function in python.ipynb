{
 "cells": [
  {
   "cell_type": "code",
   "execution_count": null,
   "id": "c5c17b64",
   "metadata": {},
   "outputs": [],
   "source": [
    "                                                 #  6th may 2023\n",
    "\n",
    "def Palindrome(a):\n",
    "    if a==r\n",
    "    "
   ]
  },
  {
   "cell_type": "code",
   "execution_count": null,
   "id": "67b9c9c3",
   "metadata": {},
   "outputs": [],
   "source": [
    "# DRY--don't repeat yourself\n",
    "\n",
    "def functionname([parameters]):\n",
    "    gferg\n",
    "    ergerg\n",
    "    ergerg\n",
    "    body of the function\n",
    "    [return value]\n",
    "\n",
    "\n",
    "# identifier rule"
   ]
  },
  {
   "cell_type": "code",
   "execution_count": 6,
   "id": "cbd43c89",
   "metadata": {},
   "outputs": [],
   "source": [
    "def demo():\n",
    "    print(\"Hello This is abasic function\")"
   ]
  },
  {
   "cell_type": "code",
   "execution_count": 7,
   "id": "9e03e685",
   "metadata": {},
   "outputs": [
    {
     "name": "stdout",
     "output_type": "stream",
     "text": [
      "Hello This is abasic function\n",
      "Hello This is abasic function\n"
     ]
    }
   ],
   "source": [
    "demo()\n",
    "demo()"
   ]
  },
  {
   "cell_type": "code",
   "execution_count": 10,
   "id": "0272dbf7",
   "metadata": {},
   "outputs": [],
   "source": [
    "def demo2(a,b,c):\n",
    "    print(a,b,c)"
   ]
  },
  {
   "cell_type": "code",
   "execution_count": 12,
   "id": "33029599",
   "metadata": {},
   "outputs": [
    {
     "name": "stdout",
     "output_type": "stream",
     "text": [
      "89 45 78\n"
     ]
    },
    {
     "ename": "TypeError",
     "evalue": "demo2() missing 2 required positional arguments: 'b' and 'c'",
     "output_type": "error",
     "traceback": [
      "\u001b[1;31m---------------------------------------------------------------------------\u001b[0m",
      "\u001b[1;31mTypeError\u001b[0m                                 Traceback (most recent call last)",
      "Cell \u001b[1;32mIn[12], line 2\u001b[0m\n\u001b[0;32m      1\u001b[0m demo2(\u001b[38;5;241m89\u001b[39m,\u001b[38;5;241m45\u001b[39m,\u001b[38;5;241m78\u001b[39m)\n\u001b[1;32m----> 2\u001b[0m \u001b[43mdemo2\u001b[49m\u001b[43m(\u001b[49m\u001b[38;5;241;43m89\u001b[39;49m\u001b[43m)\u001b[49m\n",
      "\u001b[1;31mTypeError\u001b[0m: demo2() missing 2 required positional arguments: 'b' and 'c'"
     ]
    }
   ],
   "source": [
    "demo2(89,45,78)\n",
    "demo2(89)\n",
    "# demo2(\"jferijgrthbn\")"
   ]
  },
  {
   "cell_type": "code",
   "execution_count": 6,
   "id": "5804110f",
   "metadata": {},
   "outputs": [
    {
     "name": "stdout",
     "output_type": "stream",
     "text": [
      "hello [45, 89] {89, 25}\n"
     ]
    }
   ],
   "source": [
    "demo2(\"hello\",[45,89],{89,25})"
   ]
  },
  {
   "cell_type": "code",
   "execution_count": 8,
   "id": "7f85d17a",
   "metadata": {},
   "outputs": [
    {
     "name": "stdout",
     "output_type": "stream",
     "text": [
      " enter number  :8\n",
      "1\n",
      "2\n",
      "4\n"
     ]
    }
   ],
   "source": [
    "n=int(input(\" enter number  :\"))\n",
    "for i in range(1,n):\n",
    "    if n % i == 0:\n",
    "        print(i)"
   ]
  },
  {
   "cell_type": "code",
   "execution_count": 13,
   "id": "5937dda0",
   "metadata": {},
   "outputs": [],
   "source": [
    "def great(a):\n",
    "    return a**3"
   ]
  },
  {
   "cell_type": "code",
   "execution_count": 9,
   "id": "c2e04c02",
   "metadata": {},
   "outputs": [
    {
     "name": "stdout",
     "output_type": "stream",
     "text": [
      "8\n"
     ]
    }
   ],
   "source": [
    "z=great(2)\n",
    "print(z)"
   ]
  },
  {
   "cell_type": "code",
   "execution_count": 16,
   "id": "0aaf0e34",
   "metadata": {},
   "outputs": [],
   "source": [
    "def check():\n",
    "    print(\"1\")\n",
    "    print(\"2\")    \n",
    "    print(\"3\") \n",
    "    \n",
    "    print(\"4\")    \n",
    "    print(\"5\")  \n",
    "    return \"hello\""
   ]
  },
  {
   "cell_type": "code",
   "execution_count": 17,
   "id": "c77d0377",
   "metadata": {},
   "outputs": [
    {
     "name": "stdout",
     "output_type": "stream",
     "text": [
      "1\n",
      "2\n",
      "3\n",
      "4\n",
      "5\n"
     ]
    },
    {
     "data": {
      "text/plain": [
       "'hello'"
      ]
     },
     "execution_count": 17,
     "metadata": {},
     "output_type": "execute_result"
    }
   ],
   "source": [
    "check()"
   ]
  },
  {
   "cell_type": "code",
   "execution_count": null,
   "id": "37f99907",
   "metadata": {},
   "outputs": [],
   "source": [
    "# types of parameters\n",
    "check(\"hwgfh\")"
   ]
  },
  {
   "cell_type": "code",
   "execution_count": 14,
   "id": "85b6071d",
   "metadata": {},
   "outputs": [],
   "source": []
  },
  {
   "cell_type": "code",
   "execution_count": 16,
   "id": "9be0a804",
   "metadata": {},
   "outputs": [
    {
     "name": "stdout",
     "output_type": "stream",
     "text": [
      "Enter A stringwow\n",
      "plindrome\n"
     ]
    }
   ],
   "source": [
    "def fun1(a):\n",
    "    \n",
    "    if a==a[::-1]:\n",
    "        return \"plindrome\"\n",
    "    else:\n",
    "        return \"Not palindrome\""
   ]
  },
  {
   "cell_type": "code",
   "execution_count": null,
   "id": "d9958d7a",
   "metadata": {},
   "outputs": [],
   "source": [
    "var=input(\"Enter A string\")\n",
    "ans=fun1(var)\n",
    "print(ans)"
   ]
  },
  {
   "cell_type": "code",
   "execution_count": 17,
   "id": "4f1fdc11",
   "metadata": {},
   "outputs": [
    {
     "name": "stdout",
     "output_type": "stream",
     "text": [
      "Enter A stringwow!\n",
      "Not palindrome\n"
     ]
    }
   ],
   "source": [
    "def fun1(a):\n",
    "    \n",
    "    if a==a[::-1]:\n",
    "        return \"plindrome\"\n",
    "    else:\n",
    "        return \"Not palindrome\"\n",
    "    \n",
    "var=input(\"Enter A string\")\n",
    "ans=fun1(var)\n",
    "print(ans)"
   ]
  },
  {
   "cell_type": "code",
   "execution_count": 21,
   "id": "a095573c",
   "metadata": {
    "scrolled": true
   },
   "outputs": [
    {
     "name": "stdout",
     "output_type": "stream",
     "text": [
      "Not palindrome\n",
      "plindrome\n"
     ]
    }
   ],
   "source": [
    "print(fun1(\"regerg\"))\n",
    "\n",
    "print(fun1(\"mam\"))"
   ]
  },
  {
   "cell_type": "code",
   "execution_count": 21,
   "id": "b22fb975",
   "metadata": {},
   "outputs": [
    {
     "name": "stdout",
     "output_type": "stream",
     "text": [
      "enter srting :avni\n",
      "No\n"
     ]
    }
   ],
   "source": [
    "# function which return reverse of a string\n",
    " \n",
    "def isPalindrome(s):\n",
    "    return s == s[::-1]\n",
    " \n",
    " \n",
    "# Driver code\n",
    "s = input(\"enter srting :\")\n",
    "ans = isPalindrome(s)\n",
    " \n",
    "if ans:\n",
    "    print(\"Yes \")\n",
    "else:\n",
    "    print(\"No\")"
   ]
  },
  {
   "cell_type": "code",
   "execution_count": null,
   "id": "f766da6b",
   "metadata": {},
   "outputs": [],
   "source": [
    "8 ----1 2 4 \n",
    "24--1 2 3 4 6 8 12\n",
    "248"
   ]
  },
  {
   "cell_type": "code",
   "execution_count": null,
   "id": "7e2c6ab1",
   "metadata": {},
   "outputs": [],
   "source": []
  },
  {
   "cell_type": "code",
   "execution_count": null,
   "id": "21509b5d",
   "metadata": {},
   "outputs": [],
   "source": [
    "                                                    #  9th may 2023\n",
    "\n",
    "# tYPES OF ARGUMENT\n",
    "# 1)POSITIONAL ARGUMENT\n",
    "# 2)KEYWORD ARGUMENT\n",
    "# 3)DEFAULT ARGUMENT\n",
    "# 4)ARBITRARY KEYWORD ARGUMENT\n",
    "# 5)ARBITRARY POSITIONAL ARGUMENT"
   ]
  },
  {
   "cell_type": "code",
   "execution_count": 23,
   "id": "f219a51b",
   "metadata": {},
   "outputs": [
    {
     "name": "stdout",
     "output_type": "stream",
     "text": [
      "Value of m is hello and value of p is 89.36\n"
     ]
    }
   ],
   "source": [
    "# positional argument\n",
    "def demo(m,p):\n",
    "    print(f\"Value of m is {m} and value of p is {p}\")\n",
    "    \n",
    "    \n",
    "demo(\"hello\",89.36)"
   ]
  },
  {
   "cell_type": "code",
   "execution_count": 24,
   "id": "0d378a88",
   "metadata": {
    "scrolled": true
   },
   "outputs": [
    {
     "name": "stdout",
     "output_type": "stream",
     "text": [
      "Value of m is89 and value of p is 36 wow  58.36\n"
     ]
    }
   ],
   "source": [
    "# keyword argument\n",
    "def demo(m,p,x,z):\n",
    "    print(f\"Value of m is{m} and value of p is {p} {x}  {z}\")\n",
    "    \n",
    "demo(89,36,z=58.36,x=\"wow\")\n"
   ]
  },
  {
   "cell_type": "code",
   "execution_count": 3,
   "id": "3936f66b",
   "metadata": {},
   "outputs": [
    {
     "name": "stdout",
     "output_type": "stream",
     "text": [
      "value m40  p50  xhii  z60\n"
     ]
    }
   ],
   "source": [
    "def demo (m,p,x,z):\n",
    "    print(f\"value m{m}  p{p}  x{x}  z{z}\")\n",
    "demo(40,50,z=60,x=\"hii\")"
   ]
  },
  {
   "cell_type": "code",
   "execution_count": 9,
   "id": "36d1099f",
   "metadata": {},
   "outputs": [],
   "source": [
    "#4. arbitrary keyword argument\n",
    "def depth(w,k,*d):\n",
    "    print(k,w,d[2])\n",
    "    print(k,w,d)    "
   ]
  },
  {
   "cell_type": "code",
   "execution_count": 10,
   "id": "74f604be",
   "metadata": {
    "scrolled": true
   },
   "outputs": [
    {
     "name": "stdout",
     "output_type": "stream",
     "text": [
      "50 10 20\n",
      "50 10 (60, 30, 20, 10)\n"
     ]
    }
   ],
   "source": [
    "depth(10,50,60,30,20,10)"
   ]
  },
  {
   "cell_type": "code",
   "execution_count": 25,
   "id": "9ca37a45",
   "metadata": {},
   "outputs": [
    {
     "name": "stdout",
     "output_type": "stream",
     "text": [
      "Good morning Mr. wrtg\n"
     ]
    }
   ],
   "source": [
    "# deafult argument\n",
    "def greeting(name=\"wrtg\"):\n",
    "    print(f\"Good morning Mr. {name}\")\n",
    "\n",
    "greeting()\n"
   ]
  },
  {
   "cell_type": "code",
   "execution_count": 26,
   "id": "476cb81d",
   "metadata": {},
   "outputs": [
    {
     "name": "stdout",
     "output_type": "stream",
     "text": [
      "78 96 45\n"
     ]
    }
   ],
   "source": [
    "# arbitrary positional argument --- * values Tuple format\n",
    "def depth(w,k,*d):\n",
    "    print(w,k,d[2])\n",
    "    \n",
    "depth(78,96,54,87,45,69)"
   ]
  },
  {
   "cell_type": "code",
   "execution_count": 27,
   "id": "1c61b36e",
   "metadata": {},
   "outputs": [
    {
     "name": "stdout",
     "output_type": "stream",
     "text": [
      "87.24 {'t': 'hello', 'z': 'happy', 'i': 'Python'}\n"
     ]
    }
   ],
   "source": [
    "# arbitrary keyword argument  **   dictionary\n",
    "def volley(m,**t):\n",
    "    print(m,t)\n",
    "    \n",
    "volley(t=\"hello\",m=87.24,z=\"happy\",i=\"Python\")"
   ]
  },
  {
   "cell_type": "code",
   "execution_count": null,
   "id": "476e008d",
   "metadata": {},
   "outputs": [],
   "source": [
    "modules---collection of function or variable in a file\n",
    "package---collection of modules __int__.py ---library\n",
    "library ---collection of package"
   ]
  },
  {
   "cell_type": "code",
   "execution_count": 1,
   "id": "d5b53c8b",
   "metadata": {},
   "outputs": [
    {
     "ename": "SyntaxError",
     "evalue": "invalid syntax (3930310769.py, line 43)",
     "output_type": "error",
     "traceback": [
      "\u001b[1;36m  Cell \u001b[1;32mIn[1], line 43\u001b[1;36m\u001b[0m\n\u001b[1;33m    print(total_amount += amount )\u001b[0m\n\u001b[1;37m                       ^\u001b[0m\n\u001b[1;31mSyntaxError\u001b[0m\u001b[1;31m:\u001b[0m invalid syntax\n"
     ]
    }
   ],
   "source": [
    "print(\"1.pizza    price = 150rs/pcs\\n\")\n",
    "print(\"2.burger   price = 70rs/pcs\\n\")\n",
    "print(\"3.dosa     price = 100rs/pcs\\n\")\n",
    "print(\"4.idli     price = 50rs/pcs\\n\")\n",
    "print(\"4.cake     price = 150rs/pcs\\n\")\n",
    "    \n",
    "\n",
    "print=int(input(\"enter your choice  :\"))\n",
    "choise = 0\n",
    "quantity = 0\n",
    "\n",
    "if (choise == 1):\n",
    "    print(\"you have selected pizza \\n\")\n",
    "    \n",
    "\n",
    "elif (choise == 2):\n",
    "    print(\"you have selected burger \\n\")\n",
    "elif (choise == 3):\n",
    "    print(\"you have selected dosa \\n\")\n",
    "elif (choise == 4):\n",
    "    print(\"you have selected burger \\n\")\n",
    "elif (choise == 5):\n",
    "    print(\"you have selected idli \\n\")\n",
    "\n",
    "print=int(input(\"enter Quantity: \\n\"))    \n",
    "\n",
    "if (choise == 1):\n",
    "    amount = quantity * 150\n",
    "    \n",
    "elif (choise == 2):\n",
    "    amount = quantity * 70\n",
    "\n",
    "elif (choise == 3):\n",
    "    amount = quantity * 100\n",
    "\n",
    "elif (choise == 4):\n",
    "    amount = quantity * 50\n",
    "\n",
    "elif (choise == 5):\n",
    "    amount = quantity * 150\n",
    "\n",
    "\n",
    "# print(total_amount += amount )\n",
    "# print(f\"amount =  {amount}\")\n",
    "# print(f\"total_amount =  {total_amount}\")\n",
    "# print=input(\" do you want to plce more oders? y or n :\")    \n",
    "    \n",
    "\n",
    "    \n",
    "# if (option == 'y'):\n",
    "#     print(\"start\")\n",
    "# else:\n",
    "#     print(f\"total bill is {total_amount}\")\n",
    "#     print(\"visit again \")\n",
    "\n",
    "\n",
    "# Q 63. Write a Python program to returns sum of all divisors of a number\n",
    "\n",
    "def function(num): #pass to peramter in function\n",
    "    list1=[1]\n",
    "    for i in range(2,num):  #use for loop in range a start 2 num\n",
    "        if(num % i)==0:  #number divided of i and equal equal 0\n",
    "            list1.append(i)  #list1 append in i \n",
    "    return sum(list1)  #retrun sum of list1\n",
    "    \n",
    "num=int(input(\"Enter number : \"))\n",
    "function(num)\n",
    "\n",
    "\n"
   ]
  },
  {
   "cell_type": "code",
   "execution_count": 1,
   "id": "6e054d18",
   "metadata": {},
   "outputs": [
    {
     "name": "stdout",
     "output_type": "stream",
     "text": [
      "Enter number : 8\n"
     ]
    },
    {
     "data": {
      "text/plain": [
       "7"
      ]
     },
     "execution_count": 1,
     "metadata": {},
     "output_type": "execute_result"
    }
   ],
   "source": [
    "\n",
    "# Q 63. Write a Python program to returns sum of all divisors of a number\n",
    "\n",
    "def function(num): #pass to peramter in function\n",
    "    list1=[1]\n",
    "    for i in range(2,num):  #use for loop in range a start 2 num\n",
    "        if(num % i)==0:  #number divided of i and equal equal 0\n",
    "            list1.append(i)  #list1 append in i \n",
    "    return sum(list1)  #retrun sum of list1\n",
    "    \n",
    "num=int(input(\"Enter number : \"))\n",
    "function(num)"
   ]
  },
  {
   "cell_type": "code",
   "execution_count": null,
   "id": "c9d8a231",
   "metadata": {},
   "outputs": [],
   "source": [
    "os\n",
    "sys\n",
    "datetime"
   ]
  },
  {
   "cell_type": "code",
   "execution_count": null,
   "id": "ff42b6d9",
   "metadata": {},
   "outputs": [],
   "source": []
  },
  {
   "cell_type": "code",
   "execution_count": null,
   "id": "6a37ab6e",
   "metadata": {},
   "outputs": [],
   "source": [
    "# while True:\n",
    "#     print(\"Wellcome To school \")\n",
    "#     item='''\\n      \n",
    "#     press 1 for Counsellor\n",
    "#     press 2 for Faculty\n",
    "#     press 3 for Student\n",
    "\n",
    "#     '''               # user choice\n",
    "#     print(item)   # display  role\n",
    "#     s_role=int(input(\"Enter Your Role : \")) #input role\n",
    "#     if s_role == 1:   #user select 1 role to Counsellor\n",
    "#         print(\"Fruit Market manger\")      \n",
    "#         choice='''\n",
    "#         1. Add Student\n",
    "#         2. Remove Student\n",
    "#         3.view All Student\n",
    "#         3.view Specific Student\n",
    "#         '''\n",
    "        \n",
    "# print=int(input(\"Enter a choice by consellor : :\"))"
   ]
  }
 ],
 "metadata": {
  "kernelspec": {
   "display_name": "Python 3 (ipykernel)",
   "language": "python",
   "name": "python3"
  },
  "language_info": {
   "codemirror_mode": {
    "name": "ipython",
    "version": 3
   },
   "file_extension": ".py",
   "mimetype": "text/x-python",
   "name": "python",
   "nbconvert_exporter": "python",
   "pygments_lexer": "ipython3",
   "version": "3.10.9"
  }
 },
 "nbformat": 4,
 "nbformat_minor": 5
}
